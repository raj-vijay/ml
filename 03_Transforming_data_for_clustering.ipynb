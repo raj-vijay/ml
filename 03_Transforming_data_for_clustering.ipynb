{
  "nbformat": 4,
  "nbformat_minor": 0,
  "metadata": {
    "colab": {
      "name": "03. Transforming data for clustering.ipynb",
      "provenance": [],
      "collapsed_sections": [],
      "include_colab_link": true
    },
    "kernelspec": {
      "name": "python3",
      "display_name": "Python 3"
    }
  },
  "cells": [
    {
      "cell_type": "markdown",
      "metadata": {
        "id": "view-in-github",
        "colab_type": "text"
      },
      "source": [
        "<a href=\"https://colab.research.google.com/github/raj-vijay/ml/blob/master/03_Transforming_data_for_clustering.ipynb\" target=\"_parent\"><img src=\"https://colab.research.google.com/assets/colab-badge.svg\" alt=\"Open In Colab\"/></a>"
      ]
    },
    {
      "cell_type": "markdown",
      "metadata": {
        "id": "8BHdIKOLY9T2",
        "colab_type": "text"
      },
      "source": [
        "**Data Transformation for Clustering**"
      ]
    },
    {
      "cell_type": "markdown",
      "metadata": {
        "id": "O_5TvC9AX6Mx",
        "colab_type": "text"
      },
      "source": [
        "The fish measurement dataset was sourced from the Journal of Statistics Education. \n",
        "\n",
        "http://jse.amstat.org/jse_data_archive.htm"
      ]
    },
    {
      "cell_type": "markdown",
      "metadata": {
        "id": "UYJqGxWQYI60",
        "colab_type": "text"
      },
      "source": [
        "**The Fish Dataset**\n",
        "\n",
        "159 fishes of 7 species are caught and measured. Altogether there are\n",
        "8 variables.  All the fishes are caught from the same lake\n",
        "(Laengelmavesi) near Tampere in Finland.\n",
        "\n",
        "\n",
        "\n",
        "**VARIABLE DESCRIPTIONS**\n",
        "\n",
        "1  Obs:       Observation number ranges from 1 to 159\n",
        "\n",
        "2  Species   (Numeric)\n",
        "\n",
        "        Code Finnish  Swedish    English        Latin      \n",
        "         1   Lahna    Braxen     Bream          Abramis brama\n",
        "         2   Siika    Iiden      Whitewish      Leusiscus idus\n",
        "         3   Saerki   Moerten    Roach          Leuciscus rutilus\n",
        "         4   Parkki   Bjoerknan  ?              Abramis bjrkna\n",
        "         5   Norssi   Norssen    Smelt          Osmerus eperlanus\n",
        "         6   Hauki    Jaedda     Pike           Esox lucius\n",
        "         7   Ahven    Abborre    Perch          Perca fluviatilis\n",
        "\n",
        "3  Weight:      Weight of the fish (in grams)\n",
        "\n",
        "4  Length1:     Length from the nose to the beginning of the tail (in cm)\n",
        "\n",
        "5  Length2:     Length from the nose to the notch of the tail (in cm)\n",
        "\n",
        "6  Length3:     Length from the nose to the end of the tail (in cm)\n",
        "\n",
        "7  Height%:     Maximal height as % of Length3\n",
        "\n",
        "8  Width%:      Maximal width as % of Length3\n",
        "\n",
        "9  Sex:         1 = male 0 = female\n",
        "\n",
        "\n",
        "\n",
        "          ___/////___                  _\n",
        "         /           \\    ___          |\n",
        "       /\\             \\_ /  /          H\n",
        "     <   )            __)  \\           |\n",
        "       \\/_\\\\_________/   \\__\\          _\n",
        "\n",
        "     |------- L1 -------|\n",
        "     |------- L2 ----------|\n",
        "     |------- L3 ------------|\n"
      ]
    },
    {
      "cell_type": "markdown",
      "metadata": {
        "id": "mpzuW6-UZF5N",
        "colab_type": "text"
      },
      "source": [
        "The measurements, such as weight in grams, length in centimeters, and the percentage ratio of height to length, have very different scales. In order to cluster this data effectively, we need to standardize these features first. \n",
        "\n",
        "Here, we build a pipeline to standardize and cluster the data."
      ]
    },
    {
      "cell_type": "code",
      "metadata": {
        "id": "4I6QAklhO7VA",
        "colab_type": "code",
        "outputId": "728c34f8-54c1-488c-cc58-3597bf26b3b9",
        "colab": {
          "base_uri": "https://localhost:8080/",
          "height": 204
        }
      },
      "source": [
        "# Download the seeds data using wget (Linux)\n",
        "!wget http://jse.amstat.org/datasets/fishcatch.dat.txt"
      ],
      "execution_count": 0,
      "outputs": [
        {
          "output_type": "stream",
          "text": [
            "--2020-01-01 17:59:55--  http://jse.amstat.org/datasets/fishcatch.dat.txt\n",
            "Resolving jse.amstat.org (jse.amstat.org)... 107.180.48.28\n",
            "Connecting to jse.amstat.org (jse.amstat.org)|107.180.48.28|:80... connected.\n",
            "HTTP request sent, awaiting response... 200 OK\n",
            "Length: 10740 (10K) [text/plain]\n",
            "Saving to: ‘fishcatch.dat.txt.4’\n",
            "\n",
            "\rfishcatch.dat.txt.4   0%[                    ]       0  --.-KB/s               \rfishcatch.dat.txt.4 100%[===================>]  10.49K  --.-KB/s    in 0s      \n",
            "\n",
            "2020-01-01 17:59:55 (149 MB/s) - ‘fishcatch.dat.txt.4’ saved [10740/10740]\n",
            "\n"
          ],
          "name": "stdout"
        }
      ]
    },
    {
      "cell_type": "markdown",
      "metadata": {
        "id": "bD6WVCu_Xvi_",
        "colab_type": "text"
      },
      "source": [
        "Import NumPy and Pandas"
      ]
    },
    {
      "cell_type": "code",
      "metadata": {
        "id": "45Uj9c-RTKGP",
        "colab_type": "code",
        "colab": {}
      },
      "source": [
        "import numpy as np\n",
        "import pandas as pd"
      ],
      "execution_count": 0,
      "outputs": []
    },
    {
      "cell_type": "markdown",
      "metadata": {
        "id": "4KyBhAJ2YYQu",
        "colab_type": "text"
      },
      "source": [
        "Load the dataset to an array 'samples' containing the measurements (such as area, perimeter, length, and several others) of samples of grain."
      ]
    },
    {
      "cell_type": "code",
      "metadata": {
        "id": "W6Jv5M_OTGH2",
        "colab_type": "code",
        "colab": {}
      },
      "source": [
        "data = np.genfromtxt('fishcatch.dat.txt')"
      ],
      "execution_count": 0,
      "outputs": []
    },
    {
      "cell_type": "code",
      "metadata": {
        "id": "p6RDUSOaTTIv",
        "colab_type": "code",
        "outputId": "81027e8c-d093-4453-bb16-a8f81a9a99fd",
        "colab": {
          "base_uri": "https://localhost:8080/",
          "height": 1000
        }
      },
      "source": [
        "# Test the dataload for the seeds dataset\n",
        "samples = data[:,2:-2][~np.isnan(data).any(axis=1)]\n",
        "samples"
      ],
      "execution_count": 0,
      "outputs": [
        {
          "output_type": "execute_result",
          "data": {
            "text/plain": [
              "array([[ 600. ,   29.4,   32. ,   37.2,   40.2],\n",
              "       [ 700. ,   30.4,   33. ,   38.3,   38.8],\n",
              "       [ 575. ,   31.3,   34. ,   39.5,   38.3],\n",
              "       [ 725. ,   31.8,   35. ,   40.9,   40. ],\n",
              "       [1000. ,   33.5,   37. ,   42.6,   44.5],\n",
              "       [ 920. ,   35. ,   38.5,   44.1,   40.9],\n",
              "       [ 925. ,   36.2,   39.5,   45.3,   41.4],\n",
              "       [ 975. ,   37.4,   41. ,   45.9,   40.6],\n",
              "       [ 800. ,   33.7,   36.4,   39.6,   29.7],\n",
              "       [ 110. ,   19.1,   20.8,   23.1,   26.7],\n",
              "       [ 120. ,   19.4,   21. ,   23.7,   25.8],\n",
              "       [ 150. ,   20.4,   22. ,   24.7,   23.5],\n",
              "       [ 145. ,   20.5,   22. ,   24.3,   27.3],\n",
              "       [ 160. ,   20.5,   22.5,   25.3,   27.8],\n",
              "       [ 160. ,   21.1,   22.5,   25. ,   25.6],\n",
              "       [ 200. ,   22.1,   23.5,   26.8,   27.6],\n",
              "       [ 272. ,   25. ,   27. ,   30.6,   28. ],\n",
              "       [  60. ,   14.3,   15.5,   17.4,   37.8],\n",
              "       [  90. ,   16.3,   17.7,   19.8,   37.4],\n",
              "       [ 120. ,   17.5,   19. ,   21.3,   39.4],\n",
              "       [ 170. ,   19. ,   20.7,   23.2,   40.5],\n",
              "       [ 145. ,   19.8,   21.5,   24.1,   40.4],\n",
              "       [ 273. ,   23. ,   25. ,   28. ,   39.6],\n",
              "       [ 300. ,   24. ,   26. ,   29. ,   39.2],\n",
              "       [   6.7,    9.3,    9.8,   10.8,   16.1],\n",
              "       [   7.5,   10. ,   10.5,   11.6,   17. ],\n",
              "       [   7. ,   10.1,   10.6,   11.6,   14.9],\n",
              "       [   9.7,   10.4,   11. ,   12. ,   18.3],\n",
              "       [   9.8,   10.7,   11.2,   12.4,   16.8],\n",
              "       [   8.7,   10.8,   11.3,   12.6,   15.7],\n",
              "       [  10. ,   11.3,   11.8,   13.1,   16.9],\n",
              "       [   9.9,   11.3,   11.8,   13.1,   16.9],\n",
              "       [   9.8,   11.4,   12. ,   13.2,   16.7],\n",
              "       [  12.2,   11.5,   12.2,   13.4,   15.6],\n",
              "       [  13.4,   11.7,   12.4,   13.5,   18. ],\n",
              "       [  12.2,   12.1,   13. ,   13.8,   16.5],\n",
              "       [  19.7,   13.2,   14.3,   15.2,   18.9],\n",
              "       [  19.9,   13.8,   15. ,   16.2,   18.1],\n",
              "       [ 300. ,   31.7,   34. ,   37.8,   15.1],\n",
              "       [ 345. ,   36. ,   38.5,   41. ,   15.6],\n",
              "       [ 567. ,   43.2,   46. ,   48.7,   16. ],\n",
              "       [ 770. ,   44.8,   48. ,   51.2,   15. ],\n",
              "       [1550. ,   56. ,   60. ,   64. ,   15. ],\n",
              "       [1650. ,   59. ,   63.4,   68. ,   15.9],\n",
              "       [ 125. ,   19. ,   21. ,   22.5,   25.3],\n",
              "       [ 130. ,   19.3,   21.3,   22.8,   28. ],\n",
              "       [ 120. ,   20. ,   22. ,   23.5,   26. ],\n",
              "       [ 110. ,   20. ,   22. ,   23.5,   23.5],\n",
              "       [ 130. ,   20.5,   22.5,   24. ,   24.4],\n",
              "       [ 150. ,   20.5,   22.5,   24. ,   28.3],\n",
              "       [ 180. ,   23. ,   25. ,   26.5,   24.3],\n",
              "       [ 300. ,   25.2,   27.3,   28.7,   29. ],\n",
              "       [ 260. ,   25.4,   27.5,   28.9,   24.8],\n",
              "       [ 250. ,   25.4,   27.5,   28.9,   25.2],\n",
              "       [ 300. ,   26.9,   28.7,   30.1,   25.2],\n",
              "       [ 320. ,   27.8,   30. ,   31.6,   24.1],\n",
              "       [ 840. ,   32.5,   35. ,   37.3,   30.8],\n",
              "       [ 685. ,   34. ,   36.5,   39. ,   27.9],\n",
              "       [ 700. ,   34. ,   36. ,   38.3,   27.7],\n",
              "       [ 700. ,   34.5,   37. ,   39.4,   27.5],\n",
              "       [ 690. ,   34.6,   37. ,   39.3,   26.9],\n",
              "       [ 900. ,   36.5,   39. ,   41.4,   26.9],\n",
              "       [ 850. ,   36.9,   40. ,   42.3,   28.2],\n",
              "       [ 900. ,   37. ,   40. ,   42.5,   27.6],\n",
              "       [1015. ,   37. ,   40. ,   42.4,   29.2],\n",
              "       [ 820. ,   37.1,   40. ,   42.5,   26.2],\n",
              "       [1100. ,   39. ,   42. ,   44.6,   28.7],\n",
              "       [1000. ,   39.8,   43. ,   45.2,   26.4],\n",
              "       [1100. ,   40.1,   43. ,   45.5,   27.5],\n",
              "       [1000. ,   40.2,   43.5,   46. ,   27.4],\n",
              "       [1000. ,   41.1,   44. ,   46.6,   26.8]])"
            ]
          },
          "metadata": {
            "tags": []
          },
          "execution_count": 55
        }
      ]
    },
    {
      "cell_type": "code",
      "metadata": {
        "id": "1taN1JZcVbGn",
        "colab_type": "code",
        "outputId": "585f5b48-448d-4a5d-ee83-ecbf460d3560",
        "colab": {
          "base_uri": "https://localhost:8080/",
          "height": 187
        }
      },
      "source": [
        "labels = data[:,1]\n",
        "labels"
      ],
      "execution_count": 0,
      "outputs": [
        {
          "output_type": "execute_result",
          "data": {
            "text/plain": [
              "array([1., 1., 1., 1., 1., 1., 1., 1., 1., 1., 1., 1., 1., 1., 1., 1., 1.,\n",
              "       1., 1., 1., 1., 1., 1., 1., 1., 1., 1., 1., 1., 1., 1., 1., 1., 1.,\n",
              "       1., 2., 2., 2., 2., 2., 2., 3., 3., 3., 3., 3., 3., 3., 3., 3., 3.,\n",
              "       3., 3., 3., 3., 3., 3., 3., 3., 3., 3., 4., 4., 4., 4., 4., 4., 4.,\n",
              "       4., 4., 4., 4., 5., 5., 5., 5., 5., 5., 5., 5., 5., 5., 5., 5., 5.,\n",
              "       5., 6., 6., 6., 6., 6., 6., 6., 6., 6., 6., 6., 6., 6., 6., 6., 6.,\n",
              "       6., 7., 7., 7., 7., 7., 7., 7., 7., 7., 7., 7., 7., 7., 7., 7., 7.,\n",
              "       7., 7., 7., 7., 7., 7., 7., 7., 7., 7., 7., 7., 7., 7., 7., 7., 7.,\n",
              "       7., 7., 7., 7., 7., 7., 7., 7., 7., 7., 7., 7., 7., 7., 7., 7., 7.,\n",
              "       7., 7., 7., 7., 7., 7.])"
            ]
          },
          "metadata": {
            "tags": []
          },
          "execution_count": 60
        }
      ]
    },
    {
      "cell_type": "code",
      "metadata": {
        "id": "-seDMcFhVdbG",
        "colab_type": "code",
        "colab": {}
      },
      "source": [
        "np.species = np.where(labels==1, 'Bream', np.where(labels==2, 'Whitewish', np.where(labels==3, 'Roach', \n",
        "                      np.where(labels==4, 'Abramis', np.where(labels==5, 'Smelt', np.where(labels==6, 'Pike', np.where(labels==7, 'Abborre', labels)))))))\n",
        "\n",
        "np.species"
      ],
      "execution_count": 0,
      "outputs": []
    },
    {
      "cell_type": "markdown",
      "metadata": {
        "id": "PTJyiMYuY3s5",
        "colab_type": "text"
      },
      "source": [
        "Import the StandardScaler from sklearn.preprocessing, make_pipeline from sklearn.pipeline and KMeans function from sklearn.cluster"
      ]
    },
    {
      "cell_type": "code",
      "metadata": {
        "id": "12LuNV1RXWXe",
        "colab_type": "code",
        "colab": {}
      },
      "source": [
        "# Perform the necessary imports\n",
        "from sklearn.pipeline import make_pipeline\n",
        "from sklearn.preprocessing import StandardScaler\n",
        "from sklearn.cluster import KMeans"
      ],
      "execution_count": 0,
      "outputs": []
    },
    {
      "cell_type": "code",
      "metadata": {
        "id": "DvKu23S41WL4",
        "colab_type": "code",
        "colab": {}
      },
      "source": [
        "# Create scaler: scaler\n",
        "scaler = StandardScaler()"
      ],
      "execution_count": 0,
      "outputs": []
    },
    {
      "cell_type": "code",
      "metadata": {
        "id": "vDhLUvoB1ans",
        "colab_type": "code",
        "colab": {}
      },
      "source": [
        "# Create KMeans instance: kmeans\n",
        "kmeans = KMeans(n_clusters = 4)"
      ],
      "execution_count": 0,
      "outputs": []
    },
    {
      "cell_type": "code",
      "metadata": {
        "id": "V-LJP-Wu1c-Y",
        "colab_type": "code",
        "colab": {}
      },
      "source": [
        "# Create pipeline: pipeline\n",
        "pipeline = make_pipeline(scaler, kmeans)"
      ],
      "execution_count": 0,
      "outputs": []
    },
    {
      "cell_type": "markdown",
      "metadata": {
        "id": "HplH5LOB4OgU",
        "colab_type": "text"
      },
      "source": [
        "**Clustering the fish data**\n",
        "\n",
        "Use standardization and clustering pipelines from the previous exercise to cluster the fish by their measurements, and then create a cross-tabulation to compare the cluster labels with the fish species."
      ]
    },
    {
      "cell_type": "code",
      "metadata": {
        "id": "o8CaQjut4Z0k",
        "colab_type": "code",
        "outputId": "10ac8e93-24c0-432a-c294-db333b3c61ec",
        "colab": {
          "base_uri": "https://localhost:8080/",
          "height": 170
        }
      },
      "source": [
        "# Fit the pipeline to samples\n",
        "pipeline.fit(samples)"
      ],
      "execution_count": 0,
      "outputs": [
        {
          "output_type": "execute_result",
          "data": {
            "text/plain": [
              "Pipeline(memory=None,\n",
              "         steps=[('standardscaler',\n",
              "                 StandardScaler(copy=True, with_mean=True, with_std=True)),\n",
              "                ('kmeans',\n",
              "                 KMeans(algorithm='auto', copy_x=True, init='k-means++',\n",
              "                        max_iter=300, n_clusters=4, n_init=10, n_jobs=None,\n",
              "                        precompute_distances='auto', random_state=None,\n",
              "                        tol=0.0001, verbose=0))],\n",
              "         verbose=False)"
            ]
          },
          "metadata": {
            "tags": []
          },
          "execution_count": 37
        }
      ]
    },
    {
      "cell_type": "code",
      "metadata": {
        "id": "hEx9pYFA4Htl",
        "colab_type": "code",
        "colab": {}
      },
      "source": [
        "# Calculate the cluster labels: labels\n",
        "labels = pipeline.predict(samples)"
      ],
      "execution_count": 0,
      "outputs": []
    },
    {
      "cell_type": "code",
      "metadata": {
        "id": "Wz4bsBxQUkjH",
        "colab_type": "code",
        "colab": {}
      },
      "source": [
        "# Create a DataFrame with labels and species as columns: df\n",
        "df = pd.DataFrame({'labels': labels, 'species': np.species})"
      ],
      "execution_count": 0,
      "outputs": []
    },
    {
      "cell_type": "code",
      "metadata": {
        "id": "3Ab4DgLJYMa-",
        "colab_type": "code",
        "colab": {}
      },
      "source": [
        "# Create crosstab: ct\n",
        "ct = pd.crosstab(df['labels'], df['species'])"
      ],
      "execution_count": 0,
      "outputs": []
    },
    {
      "cell_type": "code",
      "metadata": {
        "id": "QggHlQcUYOok",
        "colab_type": "code",
        "outputId": "aa0a7afc-3733-4ff5-eced-997219fc8009",
        "colab": {
          "base_uri": "https://localhost:8080/",
          "height": 170
        }
      },
      "source": [
        "# Display ct\n",
        "print(ct)"
      ],
      "execution_count": 0,
      "outputs": [
        {
          "output_type": "stream",
          "text": [
            "species  Abborre  Abramis  Bream  Pike  Roach  Smelt  Whitewish\n",
            "labels                                                         \n",
            "1.0            0        0     35     0      0      0          0\n",
            "2.0            0        0      0     0      0      0          6\n",
            "3.0            0        0      0     0     20      0          0\n",
            "4.0            0       11      0     0      0      0          0\n",
            "5.0            0        0      0     0      0     14          0\n",
            "6.0            0        0      0    17      0      0          0\n",
            "7.0           56        0      0     0      0      0          0\n"
          ],
          "name": "stdout"
        }
      ]
    }
  ]
}