{
  "nbformat": 4,
  "nbformat_minor": 0,
  "metadata": {
    "colab": {
      "name": "Q3. Mind The Sharks.ipynb",
      "provenance": [],
      "include_colab_link": true
    },
    "kernelspec": {
      "name": "python3",
      "display_name": "Python 3"
    }
  },
  "cells": [
    {
      "cell_type": "markdown",
      "metadata": {
        "id": "view-in-github",
        "colab_type": "text"
      },
      "source": [
        "<a href=\"https://colab.research.google.com/github/raj-vijay/ml/blob/master/Q3_Mind_The_Sharks.ipynb\" target=\"_parent\"><img src=\"https://colab.research.google.com/assets/colab-badge.svg\" alt=\"Open In Colab\"/></a>"
      ]
    },
    {
      "cell_type": "markdown",
      "metadata": {
        "id": "R3JIXufBF9pL",
        "colab_type": "text"
      },
      "source": [
        "**Question 3 - Numerical Analysis Exercises Pandas – Shark Attack Dataset**\n",
        "\n",
        "For each of the following questions you will use a dataset containing information on global shark attacks called attacks.csv.\n",
        "\n",
        "Attribute Information:\n",
        "\n",
        "The attributes recorded in the dataset are as follows:\n",
        "0. Case Number\n",
        "1. Date\n",
        "2. Year\n",
        "3. Type\n",
        "4. Country\n",
        "5. Area\n",
        "6. Location\n",
        "7. Activity\n",
        "8. Name\n",
        "9. Sex\n",
        "10. Age\n",
        "11. Injury\n",
        "12. Fatal\n",
        "13. Time\n",
        "14. Species\n",
        "15. Investigator or Source\n",
        "\n",
        "You will notice in the dataset that some entries in the fatality column are recorded as UNKNOWN, n, F, etc. We ignore these entries and only consider entries that are uppercase ‘Y’ or ‘N’.\n",
        "\n",
        "Open this file using Pandas read_csv() function. The data file is stored in a different encoding format so you can use the following line to read the data into a dataframe."
      ]
    },
    {
      "cell_type": "code",
      "metadata": {
        "id": "I4v1GydsGW0s",
        "colab_type": "code",
        "colab": {}
      },
      "source": [
        "from google.colab import drive\n",
        "drive.mount('/content/drive')"
      ],
      "execution_count": 0,
      "outputs": []
    },
    {
      "cell_type": "code",
      "metadata": {
        "id": "RUlJ-PnCGJPz",
        "colab_type": "code",
        "colab": {}
      },
      "source": [
        "import pandas as pd\n",
        "sharks_df = pd.read_csv('/content/drive/My Drive/00.Data/attacks.csv', encoding = \"ISO-8859-1\")\n",
        "\n",
        "#Test loading of data to dataframe\n",
        "# print(sharks_df)\n"
      ],
      "execution_count": 0,
      "outputs": []
    },
    {
      "cell_type": "markdown",
      "metadata": {
        "id": "Oo5ANRxrG2kE",
        "colab_type": "text"
      },
      "source": [
        "(i)\n",
        "What location globally has the highest number of shark attacks?"
      ]
    },
    {
      "cell_type": "code",
      "metadata": {
        "id": "wI6_CQScG67r",
        "colab_type": "code",
        "outputId": "84813e0a-21fc-41c0-cab1-9b361a840b62",
        "colab": {
          "base_uri": "https://localhost:8080/",
          "height": 34
        }
      },
      "source": [
        "# Solution 1\n",
        "\n",
        "print(sharks_df.Location.mode()[0], \"has the highest number of shark attacks globally.\")\n"
      ],
      "execution_count": 0,
      "outputs": [
        {
          "output_type": "stream",
          "text": [
            "New Smyrna Beach, Volusia County has the highest number of shark attacks globally.\n"
          ],
          "name": "stdout"
        }
      ]
    },
    {
      "cell_type": "markdown",
      "metadata": {
        "id": "vsS9IJhZHBoi",
        "colab_type": "text"
      },
      "source": [
        "(ii)\n",
        "Read the shark attack dataset into a Pandas Dataframe.\n",
        "Determine the six countries that have experienced the highest number of shark attacks."
      ]
    },
    {
      "cell_type": "code",
      "metadata": {
        "id": "4u3hOurzHI9a",
        "colab_type": "code",
        "outputId": "b84ee1c3-52f8-4428-eb6b-b38c6761df49",
        "colab": {
          "base_uri": "https://localhost:8080/",
          "height": 170
        }
      },
      "source": [
        "# Solution 2\n",
        "\n",
        "print(\"\\nThe top countries six countries that have experienced the highest number of shark attacks are as below.\\n\")\n",
        "print(sharks_df.Country.value_counts().head(6).to_string())\n"
      ],
      "execution_count": 0,
      "outputs": [
        {
          "output_type": "stream",
          "text": [
            "\n",
            "The top countries six countries that have experienced the highest number of shark attacks are as below.\n",
            "\n",
            "USA                 2160\n",
            "AUSTRALIA           1303\n",
            "SOUTH AFRICA         571\n",
            "PAPUA NEW GUINEA     133\n",
            "NEW ZEALAND          126\n",
            "BRAZIL               103\n"
          ],
          "name": "stdout"
        }
      ]
    },
    {
      "cell_type": "markdown",
      "metadata": {
        "id": "45SAQQgoHSnE",
        "colab_type": "text"
      },
      "source": [
        "(iii)\n",
        "Modify your code to print out the six countries that have experienced the highest number of fatal shark attacks."
      ]
    },
    {
      "cell_type": "code",
      "metadata": {
        "id": "JUAPWbzxHgTT",
        "colab_type": "code",
        "outputId": "5a71a518-c51a-4c6d-8dba-1cd2f7bdd7e0",
        "colab": {
          "base_uri": "https://localhost:8080/",
          "height": 170
        }
      },
      "source": [
        "# Solution 3\n",
        "\n",
        "print(\"\\nThe top countries six countries that have experienced the highest fatal shark attacks are as below.\\n\")\n",
        "print(sharks_df[sharks_df['Fatal'] == 'Y'].Country.value_counts().head(6).to_string())  \n"
      ],
      "execution_count": 0,
      "outputs": [
        {
          "output_type": "stream",
          "text": [
            "\n",
            "The top countries six countries that have experienced the highest fatal shark attacks are as below.\n",
            "\n",
            "AUSTRALIA           342\n",
            "USA                 250\n",
            "SOUTH AFRICA        137\n",
            "PAPUA NEW GUINEA     56\n",
            "MEXICO               44\n",
            "BRAZIL               40\n"
          ],
          "name": "stdout"
        }
      ]
    },
    {
      "cell_type": "markdown",
      "metadata": {
        "id": "BuV4EDnOH9nL",
        "colab_type": "text"
      },
      "source": [
        "(iv)\n",
        "Based on the data in the Activity column are you more likely to be attacked by a shark if you are “Surfing” or “Scuba Diving”."
      ]
    },
    {
      "cell_type": "code",
      "metadata": {
        "id": "0dYha2GEIFsi",
        "colab_type": "code",
        "outputId": "97c96b88-f31b-4f73-cd89-fbf30de7449b",
        "colab": {
          "base_uri": "https://localhost:8080/",
          "height": 51
        }
      },
      "source": [
        "# Solution 4\n",
        "\n",
        "# Test string search vs. value matching for the sharks data set\n",
        "# surf = sharks_df[sharks_df['Activity'] == 'Surfing'].Activity.count()\n",
        "# print(surf)\n",
        "\n",
        "surf = sharks_df[sharks_df['Activity'].str.contains(\"surfing\", case = False) == True].Activity.count()\n",
        "# print(surf)\n",
        "\n",
        "dive = sharks_df[sharks_df['Activity'].str.contains(\"scuba\", case = False) == True].Activity.count()\n",
        "print(\"\\nThe likelyhood of being attached by a shark is higher if you are\", \"Scuba Diving.\" if dive > surf else \"Surfing.\")\n"
      ],
      "execution_count": 0,
      "outputs": [
        {
          "output_type": "stream",
          "text": [
            "\n",
            "The likelyhood of being attached by a shark is higher if you are Surfing.\n"
          ],
          "name": "stdout"
        }
      ]
    },
    {
      "cell_type": "markdown",
      "metadata": {
        "id": "NftWMuMvIN7C",
        "colab_type": "text"
      },
      "source": [
        "(v)\n",
        "Determine from the dataset what percentage of all recorded shark attacks were fatal."
      ]
    },
    {
      "cell_type": "code",
      "metadata": {
        "id": "Jfb3u6cFITG0",
        "colab_type": "code",
        "outputId": "d3139c59-0f27-4192-9ab0-803294e7226f",
        "colab": {
          "base_uri": "https://localhost:8080/",
          "height": 51
        }
      },
      "source": [
        "# Solution 5\n",
        "\n",
        "print(\"\\nThe percentages of all recorded shark attacks were fatal is\", round((sharks_df[sharks_df['Fatal'] == 'Y'].Fatal.count())/sharks_df.Fatal.count()*100,2))\n"
      ],
      "execution_count": 0,
      "outputs": [
        {
          "output_type": "stream",
          "text": [
            "\n",
            "The percentages of all recorded shark attacks were fatal is 25.82\n"
          ],
          "name": "stdout"
        }
      ]
    },
    {
      "cell_type": "markdown",
      "metadata": {
        "id": "8QR2czqtIbSC",
        "colab_type": "text"
      },
      "source": [
        "(vi)\n",
        "For each individual country, print out the percentage of fatal shark attacks (number of fatal shark attacks expressed as a percentage of the total number of shark attacks). Some countries have recorded 0 fatal and non-fatal attacks. Your code should only consider countries where the number of non-fatal and fatal attacks are greater than 0."
      ]
    },
    {
      "cell_type": "code",
      "metadata": {
        "id": "RgXWxEzXIhwz",
        "colab_type": "code",
        "outputId": "947a8f54-46dc-47f4-b046-b0bad5d9c7bb",
        "colab": {
          "base_uri": "https://localhost:8080/",
          "height": 1000
        }
      },
      "source": [
        "# Solution 6\n",
        "\n",
        "fatal_sdf = sharks_df[sharks_df['Fatal'] != ' ']\n",
        "fatal_cn_sdf = round(fatal_sdf[fatal_sdf['Fatal'] == 'Y'].Country.value_counts()/fatal_sdf.Country.value_counts()*100,2).fillna(0.0).to_string()\n",
        "print(\"\\n\\nBelow are the fatal shark attacks expressed as a percentage of total shark attacks, by country:\\n\")\n",
        "print(fatal_cn_sdf)"
      ],
      "execution_count": 0,
      "outputs": [
        {
          "output_type": "stream",
          "text": [
            "\n",
            "\n",
            "Below are the fatal shark attacks expressed as a percentage of total shark attacks, by country:\n",
            "\n",
            " PHILIPPINES                             100.00\n",
            " TONGA                                    66.67\n",
            "ADMIRALTY ISLANDS                          0.00\n",
            "ALGERIA                                  100.00\n",
            "AMERICAN SAMOA                           100.00\n",
            "ANDAMAN / NICOBAR ISLANDAS               100.00\n",
            "ANGOLA                                     0.00\n",
            "ANTIGUA                                    0.00\n",
            "ARGENTINA                                  0.00\n",
            "ARUBA                                    100.00\n",
            "ASIA?                                      0.00\n",
            "ATLANTIC OCEAN                            43.75\n",
            "AUSTRALIA                                 26.25\n",
            "AZORES                                     0.00\n",
            "BAHAMAS                                   11.88\n",
            "BAHREIN                                  100.00\n",
            "BANGLADESH                               100.00\n",
            "BARBADOS                                  66.67\n",
            "BAY OF BENGAL                            100.00\n",
            "BELIZE                                    66.67\n",
            "BERMUDA                                   18.75\n",
            "BRAZIL                                    38.83\n",
            "BRITISH ISLES                              0.00\n",
            "BRITISH NEW GUINEA                         0.00\n",
            "BRITISH VIRGIN ISLANDS                   100.00\n",
            "BRITISH WEST INDIES                        0.00\n",
            "BURMA                                     75.00\n",
            "Between PORTUGAL & INDIA                 100.00\n",
            "CANADA                                    20.00\n",
            "CAPE VERDE                                66.67\n",
            "CARIBBEAN SEA                             62.50\n",
            "CAYMAN ISLANDS                             0.00\n",
            "CENTRAL PACIFIC                           50.00\n",
            "CEYLON (SRI LANKA)                       100.00\n",
            "CHILE                                     50.00\n",
            "CHINA                                     50.00\n",
            "COLUMBIA                                  22.22\n",
            "COOK ISLANDS                             100.00\n",
            "COSTA RICA                                66.67\n",
            "CRETE                                     50.00\n",
            "CROATIA                                   52.94\n",
            "CUBA                                      57.14\n",
            "CURACAO                                    0.00\n",
            "CYPRUS                                   100.00\n",
            "Coast of AFRICA                          100.00\n",
            "DIEGO GARCIA                             100.00\n",
            "DJIBOUTI                                 100.00\n",
            "DOMINICAN REPUBLIC                        57.14\n",
            "ECUADOR                                    0.00\n",
            "EGYPT                                     35.14\n",
            "EGYPT                                      0.00\n",
            "EGYPT / ISRAEL                             0.00\n",
            "EL SALVADOR                               50.00\n",
            "ENGLAND                                   15.00\n",
            "EQUATORIAL GUINEA / CAMEROON             100.00\n",
            "England                                    0.00\n",
            "FALKLAND ISLANDS                           0.00\n",
            "FEDERATED STATES OF MICRONESIA             0.00\n",
            "FIJI                                      35.48\n",
            "FRANCE                                    23.08\n",
            "FRENCH POLYNESIA                           9.09\n",
            "Fiji                                      66.67\n",
            "GABON                                    100.00\n",
            "GEORGIA                                    0.00\n",
            "GHANA                                    100.00\n",
            "GRAND CAYMAN                               0.00\n",
            "GREECE                                    60.00\n",
            "GREENLAND                                100.00\n",
            "GRENADA                                   75.00\n",
            "GUAM                                      50.00\n",
            "GUATEMALA                                100.00\n",
            "GUINEA                                   100.00\n",
            "GULF OF ADEN                             100.00\n",
            "GUYANA                                     0.00\n",
            "HAITI                                     33.33\n",
            "HONDURAS                                  66.67\n",
            "HONG KONG                                 70.83\n",
            "ICELAND                                    0.00\n",
            "INDIA                                     50.00\n",
            "INDIAN OCEAN                              71.43\n",
            "INDIAN OCEAN?                            100.00\n",
            "INDONESIA                                 66.67\n",
            "IRAN                                      44.83\n",
            "IRAN / IRAQ                                0.00\n",
            "IRAQ                                      25.00\n",
            "IRELAND                                  100.00\n",
            "ISRAEL                                     0.00\n",
            "ITALY                                     25.35\n",
            "ITALY / CROATIA                            0.00\n",
            "JAMAICA                                   56.00\n",
            "JAPAN                                     42.42\n",
            "JAVA                                     100.00\n",
            "JOHNSTON ISLAND                            0.00\n",
            "KENYA                                     60.00\n",
            "KIRIBATI                                  66.67\n",
            "KOREA                                    100.00\n",
            "KUWAIT                                     0.00\n",
            "LEBANON                                   66.67\n",
            "LIBERIA                                  100.00\n",
            "LIBYA                                     40.00\n",
            "MADAGASCAR                                57.14\n",
            "MALAYSIA                                  25.00\n",
            "MALDIVE ISLANDS                          100.00\n",
            "MALTA                                     60.00\n",
            "MARSHALL ISLANDS                          15.38\n",
            "MARTINIQUE                                 0.00\n",
            "MAURITIUS                                 28.57\n",
            "MAYOTTE                                  100.00\n",
            "MEDITERRANEAN SEA                         50.00\n",
            "MEXICO                                    51.76\n",
            "MEXICO                                     0.00\n",
            "MICRONESIA                                 0.00\n",
            "MID ATLANTIC OCEAN                        40.00\n",
            "MID-PACIFC OCEAN                           0.00\n",
            "MONACO                                   100.00\n",
            "MONTENEGRO                                66.67\n",
            "MOZAMBIQUE                                44.44\n",
            "NAMIBIA                                   50.00\n",
            "NETHERLANDS ANTILLES                       0.00\n",
            "NEVIS                                    100.00\n",
            "NEW BRITAIN                               66.67\n",
            "NEW CALEDONIA                             37.25\n",
            "NEW GUINEA                                60.00\n",
            "NEW ZEALAND                               22.22\n",
            "NICARAGUA                                 83.33\n",
            "NICARAGUA                                  0.00\n",
            "NIGERIA                                   75.00\n",
            "NORTH ATLANTIC OCEAN                       0.00\n",
            "NORTH ATLANTIC OCEAN                       0.00\n",
            "NORTH PACIFIC OCEAN                       28.57\n",
            "NORTH SEA                                  0.00\n",
            "NORTHERN ARABIAN SEA                       0.00\n",
            "NORTHERN MARIANA ISLANDS                   0.00\n",
            "NORWAY                                     0.00\n",
            "OCEAN                                      0.00\n",
            "OKINAWA                                   66.67\n",
            "PACIFIC OCEAN                             47.06\n",
            "PACIFIC OCEAN                              0.00\n",
            "PALAU                                      0.00\n",
            "PALESTINIAN TERRITORIES                    0.00\n",
            "PANAMA                                    59.38\n",
            "PAPUA NEW GUINEA                          42.11\n",
            "PARAGUAY                                 100.00\n",
            "PERSIAN GULF                              25.00\n",
            "PHILIPPINES                               62.71\n",
            "PORTUGAL                                  66.67\n",
            "PUERTO RICO                                0.00\n",
            "RED SEA                                    0.00\n",
            "RED SEA / INDIAN OCEAN                   100.00\n",
            "RED SEA?                                   0.00\n",
            "REUNION                                   49.15\n",
            "RUSSIA                                     0.00\n",
            "SAMOA                                     14.29\n",
            "SAN DOMINGO                              100.00\n",
            "SAUDI ARABIA                              20.00\n",
            "SCOTLAND                                   0.00\n",
            "SENEGAL                                   36.36\n",
            "SEYCHELLES                                71.43\n",
            "SIERRA LEONE                              50.00\n",
            "SIERRA LEONE?                            100.00\n",
            "SINGAPORE                                 66.67\n",
            "SLOVENIA                                   0.00\n",
            "SOLOMON ISLANDS                           41.38\n",
            "SOLOMON ISLANDS / VANUATU                100.00\n",
            "SOMALIA                                   83.33\n",
            "SOUTH AFRICA                              23.99\n",
            "SOUTH ATLANTIC OCEAN                      33.33\n",
            "SOUTH CHINA SEA                            0.00\n",
            "SOUTH KOREA                               75.00\n",
            "SOUTH PACIFIC OCEAN                      100.00\n",
            "SOUTHWEST PACIFIC OCEAN                   50.00\n",
            "SPAIN                                     22.50\n",
            "SRI LANKA                                 21.43\n",
            "ST HELENA, British overseas territory      0.00\n",
            "ST. MAARTIN                                0.00\n",
            "ST. MARTIN                                 0.00\n",
            "SUDAN                                     25.00\n",
            "SUDAN?                                     0.00\n",
            "SWEDEN                                     0.00\n",
            "SYRIA                                    100.00\n",
            "Seychelles                               100.00\n",
            "Sierra Leone                             100.00\n",
            "TAIWAN                                    33.33\n",
            "TANZANIA                                  75.00\n",
            "TASMAN SEA                                 0.00\n",
            "THAILAND                                  50.00\n",
            "THE BALKANS                              100.00\n",
            "TONGA                                     26.67\n",
            "TRINIDAD & TOBAGO                         33.33\n",
            "TUNISIA                                   33.33\n",
            "TURKEY                                    25.00\n",
            "TURKS & CAICOS                            40.00\n",
            "TUVALU                                   100.00\n",
            "UNITED ARAB EMIRATES                       0.00\n",
            "UNITED ARAB EMIRATES (UAE)                 0.00\n",
            "UNITED KINGDOM                            18.18\n",
            "URUGUAY                                   33.33\n",
            "USA                                       11.57\n",
            "VANUATU                                   64.29\n",
            "VENEZUELA                                 45.45\n",
            "VIETNAM                                    7.14\n",
            "WESTERN SAMOA                            100.00\n",
            "YEMEN                                    100.00\n",
            "YEMEN                                     71.43\n"
          ],
          "name": "stdout"
        }
      ]
    },
    {
      "cell_type": "markdown",
      "metadata": {
        "id": "jBPVgJiPHvRM",
        "colab_type": "text"
      },
      "source": [
        ""
      ]
    }
  ]
}