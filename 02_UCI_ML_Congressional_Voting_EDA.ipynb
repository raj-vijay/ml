{
  "nbformat": 4,
  "nbformat_minor": 0,
  "metadata": {
    "colab": {
      "name": "02. UCI ML Congressional Voting EDA.ipynb",
      "provenance": [],
      "include_colab_link": true
    },
    "kernelspec": {
      "name": "python3",
      "display_name": "Python 3"
    }
  },
  
  "cells": [
    {
      "cell_type": "markdown",
      "metadata": {
        "id": "view-in-github",
        "colab_type": "text"
      },
      "source": [
        "<a href=\"https://colab.research.google.com/github/raj-vijay/ml/blob/master/02_UCI_ML_Congressional_Voting_EDA.ipynb\" target=\"_parent\"><img src=\"https://colab.research.google.com/assets/colab-badge.svg\" alt=\"Open In Colab\"/></a>"
      ]
    },
    {
      "cell_type": "markdown",
      "metadata": {
        "id": "YYLUemer2U60",
        "colab_type": "text"
      },
      "source": [
        "\n",
        "**Congressional Voting Records Dataset**\n",
        "\n",
        "The dataset is obtained from the UC Irvine (UCI) Machine Learning Repository and consists of votes made by US House of Representatives Congressmen. The goal here is to predict the party affiliation ('Democrat' or 'Republican') of members based on how they voted on certain key issues.\n",
        "\n",
        "https://archive.ics.uci.edu/ml/datasets/Congressional+Voting+Records"
      ]
    },
    {
      "cell_type": "code",
      "metadata": {
        "id": "sdTH40YN7xH2",
        "colab_type": "code",
        "colab": {}
      },
      "source": [
        "import pandas as pd\n",
        "import numpy as np\n",
        "import seaborn as sns\n",
        "import matplotlib.pyplot as plt"
      ],
      "execution_count": 0,
      "outputs": []
    },
    {
      "cell_type": "code",
      "metadata": {
        "id": "mU7CgfD90raB",
        "colab_type": "code",
        "outputId": "a3353296-9b2c-45d2-f82f-bb2f9b9a22fd",
        "colab": {
          "base_uri": "https://localhost:8080/",
          "height": 255
        }
      },
      "source": [
        "df = pd.read_csv('https://archive.ics.uci.edu/ml/machine-learning-databases/voting-records/house-votes-84.data', sep = ',',\n",
        "                 names = ['party',\t'infants', 'water',\t'budget',\t'physician', 'salvador', 'religious', 'satellite', 'aid', 'missile', 'immigration', 'synfuels', 'education', 'superfund', 'crime', 'duty_free_exports', 'eaa_rsa'])\n",
        "\n",
        "print(df)"
      ],
      "execution_count": 0,
      "outputs": [
        {
          "output_type": "stream",
          "text": [
            "          party infants water budget  ... superfund crime duty_free_exports eaa_rsa\n",
            "0    republican       n     y      n  ...         y     y                 n       y\n",
            "1    republican       n     y      n  ...         y     y                 n       ?\n",
            "2      democrat       ?     y      y  ...         y     y                 n       n\n",
            "3      democrat       n     y      y  ...         y     n                 n       y\n",
            "4      democrat       y     y      y  ...         y     y                 y       y\n",
            "..          ...     ...   ...    ...  ...       ...   ...               ...     ...\n",
            "430  republican       n     n      y  ...         y     y                 n       y\n",
            "431    democrat       n     n      y  ...         n     n                 n       y\n",
            "432  republican       n     ?      n  ...         y     y                 n       y\n",
            "433  republican       n     n      n  ...         y     y                 n       y\n",
            "434  republican       n     y      n  ...         y     y                 ?       n\n",
            "\n",
            "[435 rows x 17 columns]\n"
          ],
          "name": "stdout"
        }
      ]
    },
    {
      "cell_type": "markdown",
      "metadata": {
        "id": "a1z0vKVN5aRy",
        "colab_type": "text"
      },
      "source": [
        "This dataset needs so pre-processing before it can be used for Machine Learning."
      ]
    },
    {
      "cell_type": "markdown",
      "metadata": {
        "id": "JwO43Ew37PFR",
        "colab_type": "text"
      },
      "source": [
        "Now, the '?' values need to be converted to NaNs. Once this is done, then the rows containing NaNs needs to be dropped from the DataFrame."
      ]
    },
    {
      "cell_type": "code",
      "metadata": {
        "id": "51qFOY477pEv",
        "colab_type": "code",
        "outputId": "f385556e-16ca-419f-8e27-202f611968b9",
        "colab": {
          "base_uri": "https://localhost:8080/",
          "height": 255
        }
      },
      "source": [
        "# Convert '?' to NaN\n",
        "df[df == '?'] = np.NaN\n",
        "df[df == 'y'] = np.ones(df.shape)\n",
        "df[df == 'n'] = np.zeros(df.shape)\n",
        "print(df)"
      ],
      "execution_count": 0,
      "outputs": [
        {
          "output_type": "stream",
          "text": [
            "          party infants water budget  ... superfund crime duty_free_exports eaa_rsa\n",
            "0    republican       0     1      0  ...         1     1                 0       1\n",
            "1    republican       0     1      0  ...         1     1                 0     NaN\n",
            "2      democrat     NaN     1      1  ...         1     1                 0       0\n",
            "3      democrat       0     1      1  ...         1     0                 0       1\n",
            "4      democrat       1     1      1  ...         1     1                 1       1\n",
            "..          ...     ...   ...    ...  ...       ...   ...               ...     ...\n",
            "430  republican       0     0      1  ...         1     1                 0       1\n",
            "431    democrat       0     0      1  ...         0     0                 0       1\n",
            "432  republican       0   NaN      0  ...         1     1                 0       1\n",
            "433  republican       0     0      0  ...         1     1                 0       1\n",
            "434  republican       0     1      0  ...         1     1               NaN       0\n",
            "\n",
            "[435 rows x 17 columns]\n"
          ],
          "name": "stdout"
        }
      ]
    },
    {
      "cell_type": "code",
      "metadata": {
        "id": "DnCH1VFO76O2",
        "colab_type": "code",
        "outputId": "dba489c5-6666-484b-84b6-7aa16171110b",
        "colab": {
          "base_uri": "https://localhost:8080/",
          "height": 340
        }
      },
      "source": [
        "# Print the number of NaNs\n",
        "print(df.isnull().sum())\n",
        "\n",
        "# Print shape of original DataFrame\n",
        "print(\"Shape of Original DataFrame: {}\".format(df.shape))\n",
        "\n",
        "# Drop missing values and print shape of new DataFrame\n",
        "# df = df.dropna()\n",
        "\n",
        "# Print shape of new DataFrame\n",
        "# print(\"Shape of DataFrame After Dropping All Rows with Missing Values: {}\".format(df.shape))"
      ],
      "execution_count": 0,
      "outputs": [
        {
          "output_type": "stream",
          "text": [
            "party                  0\n",
            "infants               12\n",
            "water                 48\n",
            "budget                11\n",
            "physician             11\n",
            "salvador              15\n",
            "religious             11\n",
            "satellite             14\n",
            "aid                   15\n",
            "missile               22\n",
            "immigration            7\n",
            "synfuels              21\n",
            "education             31\n",
            "superfund             25\n",
            "crime                 17\n",
            "duty_free_exports     28\n",
            "eaa_rsa              104\n",
            "dtype: int64\n",
            "Shape of Original DataFrame: (435, 17)\n"
          ],
          "name": "stdout"
        }
      ]
    },
    {
      "cell_type": "code",
      "metadata": {
        "id": "GKFu3htU3Iui",
        "colab_type": "code",
        "outputId": "4ddb5003-de66-4796-feb0-c65908000b37",
        "colab": {
          "base_uri": "https://localhost:8080/",
          "height": 224
        }
      },
      "source": [
        "df.head()"
      ],
      "execution_count": 0,
      "outputs": [
        {
          "output_type": "execute_result",
          "data": {
            "text/html": [
              "<div>\n",
              "<style scoped>\n",
              "    .dataframe tbody tr th:only-of-type {\n",
              "        vertical-align: middle;\n",
              "    }\n",
              "\n",
              "    .dataframe tbody tr th {\n",
              "        vertical-align: top;\n",
              "    }\n",
              "\n",
              "    .dataframe thead th {\n",
              "        text-align: right;\n",
              "    }\n",
              "</style>\n",
              "<table border=\"1\" class=\"dataframe\">\n",
              "  <thead>\n",
              "    <tr style=\"text-align: right;\">\n",
              "      <th></th>\n",
              "      <th>party</th>\n",
              "      <th>infants</th>\n",
              "      <th>water</th>\n",
              "      <th>budget</th>\n",
              "      <th>physician</th>\n",
              "      <th>salvador</th>\n",
              "      <th>religious</th>\n",
              "      <th>satellite</th>\n",
              "      <th>aid</th>\n",
              "      <th>missile</th>\n",
              "      <th>immigration</th>\n",
              "      <th>synfuels</th>\n",
              "      <th>education</th>\n",
              "      <th>superfund</th>\n",
              "      <th>crime</th>\n",
              "      <th>duty_free_exports</th>\n",
              "      <th>eaa_rsa</th>\n",
              "    </tr>\n",
              "  </thead>\n",
              "  <tbody>\n",
              "    <tr>\n",
              "      <th>0</th>\n",
              "      <td>republican</td>\n",
              "      <td>0</td>\n",
              "      <td>1</td>\n",
              "      <td>0</td>\n",
              "      <td>1</td>\n",
              "      <td>1</td>\n",
              "      <td>1</td>\n",
              "      <td>0</td>\n",
              "      <td>0</td>\n",
              "      <td>0</td>\n",
              "      <td>1</td>\n",
              "      <td>NaN</td>\n",
              "      <td>1</td>\n",
              "      <td>1</td>\n",
              "      <td>1</td>\n",
              "      <td>0</td>\n",
              "      <td>1</td>\n",
              "    </tr>\n",
              "    <tr>\n",
              "      <th>1</th>\n",
              "      <td>republican</td>\n",
              "      <td>0</td>\n",
              "      <td>1</td>\n",
              "      <td>0</td>\n",
              "      <td>1</td>\n",
              "      <td>1</td>\n",
              "      <td>1</td>\n",
              "      <td>0</td>\n",
              "      <td>0</td>\n",
              "      <td>0</td>\n",
              "      <td>0</td>\n",
              "      <td>0</td>\n",
              "      <td>1</td>\n",
              "      <td>1</td>\n",
              "      <td>1</td>\n",
              "      <td>0</td>\n",
              "      <td>NaN</td>\n",
              "    </tr>\n",
              "    <tr>\n",
              "      <th>2</th>\n",
              "      <td>democrat</td>\n",
              "      <td>NaN</td>\n",
              "      <td>1</td>\n",
              "      <td>1</td>\n",
              "      <td>NaN</td>\n",
              "      <td>1</td>\n",
              "      <td>1</td>\n",
              "      <td>0</td>\n",
              "      <td>0</td>\n",
              "      <td>0</td>\n",
              "      <td>0</td>\n",
              "      <td>1</td>\n",
              "      <td>0</td>\n",
              "      <td>1</td>\n",
              "      <td>1</td>\n",
              "      <td>0</td>\n",
              "      <td>0</td>\n",
              "    </tr>\n",
              "    <tr>\n",
              "      <th>3</th>\n",
              "      <td>democrat</td>\n",
              "      <td>0</td>\n",
              "      <td>1</td>\n",
              "      <td>1</td>\n",
              "      <td>0</td>\n",
              "      <td>NaN</td>\n",
              "      <td>1</td>\n",
              "      <td>0</td>\n",
              "      <td>0</td>\n",
              "      <td>0</td>\n",
              "      <td>0</td>\n",
              "      <td>1</td>\n",
              "      <td>0</td>\n",
              "      <td>1</td>\n",
              "      <td>0</td>\n",
              "      <td>0</td>\n",
              "      <td>1</td>\n",
              "    </tr>\n",
              "    <tr>\n",
              "      <th>4</th>\n",
              "      <td>democrat</td>\n",
              "      <td>1</td>\n",
              "      <td>1</td>\n",
              "      <td>1</td>\n",
              "      <td>0</td>\n",
              "      <td>1</td>\n",
              "      <td>1</td>\n",
              "      <td>0</td>\n",
              "      <td>0</td>\n",
              "      <td>0</td>\n",
              "      <td>0</td>\n",
              "      <td>1</td>\n",
              "      <td>NaN</td>\n",
              "      <td>1</td>\n",
              "      <td>1</td>\n",
              "      <td>1</td>\n",
              "      <td>1</td>\n",
              "    </tr>\n",
              "  </tbody>\n",
              "</table>\n",
              "</div>"
            ],
            "text/plain": [
              "        party infants water budget  ... superfund crime duty_free_exports eaa_rsa\n",
              "0  republican       0     1      0  ...         1     1                 0       1\n",
              "1  republican       0     1      0  ...         1     1                 0     NaN\n",
              "2    democrat     NaN     1      1  ...         1     1                 0       0\n",
              "3    democrat       0     1      1  ...         1     0                 0       1\n",
              "4    democrat       1     1      1  ...         1     1                 1       1\n",
              "\n",
              "[5 rows x 17 columns]"
            ]
          },
          "metadata": {
            "tags": []
          },
          "execution_count": 92
        }
      ]
    },
    {
      "cell_type": "code",
      "metadata": {
        "id": "kOlmdjU_3Qhp",
        "colab_type": "code",
        "outputId": "70893510-1861-497a-ad8b-c041d726bd76",
        "colab": {
          "base_uri": "https://localhost:8080/",
          "height": 193
        }
      },
      "source": [
        "df.describe()"
      ],
      "execution_count": 0,
      "outputs": [
        {
          "output_type": "execute_result",
          "data": {
            "text/html": [
              "<div>\n",
              "<style scoped>\n",
              "    .dataframe tbody tr th:only-of-type {\n",
              "        vertical-align: middle;\n",
              "    }\n",
              "\n",
              "    .dataframe tbody tr th {\n",
              "        vertical-align: top;\n",
              "    }\n",
              "\n",
              "    .dataframe thead th {\n",
              "        text-align: right;\n",
              "    }\n",
              "</style>\n",
              "<table border=\"1\" class=\"dataframe\">\n",
              "  <thead>\n",
              "    <tr style=\"text-align: right;\">\n",
              "      <th></th>\n",
              "      <th>party</th>\n",
              "      <th>infants</th>\n",
              "      <th>water</th>\n",
              "      <th>budget</th>\n",
              "      <th>physician</th>\n",
              "      <th>salvador</th>\n",
              "      <th>religious</th>\n",
              "      <th>satellite</th>\n",
              "      <th>aid</th>\n",
              "      <th>missile</th>\n",
              "      <th>immigration</th>\n",
              "      <th>synfuels</th>\n",
              "      <th>education</th>\n",
              "      <th>superfund</th>\n",
              "      <th>crime</th>\n",
              "      <th>duty_free_exports</th>\n",
              "      <th>eaa_rsa</th>\n",
              "    </tr>\n",
              "  </thead>\n",
              "  <tbody>\n",
              "    <tr>\n",
              "      <th>count</th>\n",
              "      <td>435</td>\n",
              "      <td>423.0</td>\n",
              "      <td>387.0</td>\n",
              "      <td>424.0</td>\n",
              "      <td>424.0</td>\n",
              "      <td>420.0</td>\n",
              "      <td>424.0</td>\n",
              "      <td>421.0</td>\n",
              "      <td>420.0</td>\n",
              "      <td>413.0</td>\n",
              "      <td>428.0</td>\n",
              "      <td>414.0</td>\n",
              "      <td>404.0</td>\n",
              "      <td>410.0</td>\n",
              "      <td>418.0</td>\n",
              "      <td>407.0</td>\n",
              "      <td>331.0</td>\n",
              "    </tr>\n",
              "    <tr>\n",
              "      <th>unique</th>\n",
              "      <td>2</td>\n",
              "      <td>2.0</td>\n",
              "      <td>2.0</td>\n",
              "      <td>2.0</td>\n",
              "      <td>2.0</td>\n",
              "      <td>2.0</td>\n",
              "      <td>2.0</td>\n",
              "      <td>2.0</td>\n",
              "      <td>2.0</td>\n",
              "      <td>2.0</td>\n",
              "      <td>2.0</td>\n",
              "      <td>2.0</td>\n",
              "      <td>2.0</td>\n",
              "      <td>2.0</td>\n",
              "      <td>2.0</td>\n",
              "      <td>2.0</td>\n",
              "      <td>2.0</td>\n",
              "    </tr>\n",
              "    <tr>\n",
              "      <th>top</th>\n",
              "      <td>democrat</td>\n",
              "      <td>0.0</td>\n",
              "      <td>1.0</td>\n",
              "      <td>1.0</td>\n",
              "      <td>0.0</td>\n",
              "      <td>1.0</td>\n",
              "      <td>1.0</td>\n",
              "      <td>1.0</td>\n",
              "      <td>1.0</td>\n",
              "      <td>1.0</td>\n",
              "      <td>1.0</td>\n",
              "      <td>0.0</td>\n",
              "      <td>0.0</td>\n",
              "      <td>1.0</td>\n",
              "      <td>1.0</td>\n",
              "      <td>0.0</td>\n",
              "      <td>1.0</td>\n",
              "    </tr>\n",
              "    <tr>\n",
              "      <th>freq</th>\n",
              "      <td>267</td>\n",
              "      <td>236.0</td>\n",
              "      <td>195.0</td>\n",
              "      <td>253.0</td>\n",
              "      <td>247.0</td>\n",
              "      <td>212.0</td>\n",
              "      <td>272.0</td>\n",
              "      <td>239.0</td>\n",
              "      <td>242.0</td>\n",
              "      <td>207.0</td>\n",
              "      <td>216.0</td>\n",
              "      <td>264.0</td>\n",
              "      <td>233.0</td>\n",
              "      <td>209.0</td>\n",
              "      <td>248.0</td>\n",
              "      <td>233.0</td>\n",
              "      <td>269.0</td>\n",
              "    </tr>\n",
              "  </tbody>\n",
              "</table>\n",
              "</div>"
            ],
            "text/plain": [
              "           party  infants  water  ...  crime  duty_free_exports  eaa_rsa\n",
              "count        435    423.0  387.0  ...  418.0              407.0    331.0\n",
              "unique         2      2.0    2.0  ...    2.0                2.0      2.0\n",
              "top     democrat      0.0    1.0  ...    1.0                0.0      1.0\n",
              "freq         267    236.0  195.0  ...  248.0              233.0    269.0\n",
              "\n",
              "[4 rows x 17 columns]"
            ]
          },
          "metadata": {
            "tags": []
          },
          "execution_count": 93
        }
      ]
    },
    {
      "cell_type": "code",
      "metadata": {
        "id": "-P4gEwhv3YzB",
        "colab_type": "code",
        "outputId": "8ccafa0b-e92f-4df6-b954-c10a83afafaa",
        "colab": {
          "base_uri": "https://localhost:8080/",
          "height": 391
        }
      },
      "source": [
        "df.info()"
      ],
      "execution_count": 0,
      "outputs": [
        {
          "output_type": "stream",
          "text": [
            "<class 'pandas.core.frame.DataFrame'>\n",
            "RangeIndex: 435 entries, 0 to 434\n",
            "Data columns (total 17 columns):\n",
            "party                435 non-null object\n",
            "infants              423 non-null object\n",
            "water                387 non-null object\n",
            "budget               424 non-null object\n",
            "physician            424 non-null object\n",
            "salvador             420 non-null object\n",
            "religious            424 non-null object\n",
            "satellite            421 non-null object\n",
            "aid                  420 non-null object\n",
            "missile              413 non-null object\n",
            "immigration          428 non-null object\n",
            "synfuels             414 non-null object\n",
            "education            404 non-null object\n",
            "superfund            410 non-null object\n",
            "crime                418 non-null object\n",
            "duty_free_exports    407 non-null object\n",
            "eaa_rsa              331 non-null object\n",
            "dtypes: object(17)\n",
            "memory usage: 57.9+ KB\n"
          ],
          "name": "stdout"
        }
      ]
    },
    {
      "cell_type": "markdown",
      "metadata": {
        "id": "A55mpeD1ByKS",
        "colab_type": "text"
      },
      "source": [
        "**Visual Exploratory Data Analysis**\n",
        "\n"
      ]
    },
    {
      "cell_type": "markdown",
      "metadata": {
        "id": "EANQhhh4FcUi",
        "colab_type": "text"
      },
      "source": [
        "1. Voting patterns of the education bill."
      ]
    },
    {
      "cell_type": "code",
      "metadata": {
        "id": "FSj7w20DBlcd",
        "colab_type": "code",
        "outputId": "a07bf13e-12f4-429c-aa39-1423e176cd5f",
        "colab": {
          "base_uri": "https://localhost:8080/",
          "height": 279
        }
      },
      "source": [
        "plt.figure()\n",
        "sns.countplot(x='education', hue='party', data=df, palette='RdBu')\n",
        "plt.xticks([0,1], ['No', 'Yes'])\n",
        "plt.show()"
      ],
      "execution_count": 0,
      "outputs": [
        {
          "output_type": "display_data",
          "data": {
            "image/png": "[encoded data removed]",
            "text/plain": [
              "<Figure size 432x288 with 1 Axes>"
            ]
          },
          "metadata": {
            "tags": []
          }
        }
      ]
    },
    {
      "cell_type": "markdown",
      "metadata": {
        "id": "2phO93e8Fh2K",
        "colab_type": "text"
      },
      "source": [
        "2. Voting patterns of the satellite bill."
      ]
    },
    {
      "cell_type": "code",
      "metadata": {
        "id": "ZmiVT3RTFsav",
        "colab_type": "code",
        "outputId": "a25565bb-5c2c-4ab9-b7af-e47c81b01dcf",
        "colab": {
          "base_uri": "https://localhost:8080/",
          "height": 279
        }
      },
      "source": [
        "plt.figure()\n",
        "sns.countplot(x='satellite', hue='party', data=df, palette='RdBu')\n",
        "plt.xticks([0,1], ['No', 'Yes'])\n",
        "plt.show()"
      ],
      "execution_count": 0,
      "outputs": [
        {
          "output_type": "display_data",
          "data": {
            "image/png": "[encoded data removed]",
            "text/plain": [
              "<Figure size 432x288 with 1 Axes>"
            ]
          },
          "metadata": {
            "tags": []
          }
        }
      ]
    },
    {
      "cell_type": "markdown",
      "metadata": {
        "id": "tMjsFcTSFv_p",
        "colab_type": "text"
      },
      "source": [
        "3. Voting patterns of the missile bill."
      ]
    },
    {
      "cell_type": "code",
      "metadata": {
        "id": "4qKvoVVvF1fh",
        "colab_type": "code",
        "outputId": "09ca0694-9f24-4e17-b9ff-596156ccc3a9",
        "colab": {
          "base_uri": "https://localhost:8080/",
          "height": 279
        }
      },
      "source": [
        "plt.figure()\n",
        "sns.countplot(x='missile', hue='party', data=df, palette='RdBu')\n",
        "plt.xticks([0,1], ['No', 'Yes'])\n",
        "plt.show()"
      ],
      "execution_count": 0,
      "outputs": [
        {
          "output_type": "display_data",
          "data": {
            "image/png": "[encoded data removed]",
            "text/plain": [
              "<Figure size 432x288 with 1 Axes>"
            ]
          },
          "metadata": {
            "tags": []
          }
        }
      ]
    }
  ]
}
