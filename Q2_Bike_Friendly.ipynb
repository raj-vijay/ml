{
  "nbformat": 4,
  "nbformat_minor": 0,
  "metadata": {
    "colab": {
      "name": "Q2. Bike Friendly.ipynb",
      "provenance": [],
      "collapsed_sections": [],
      "include_colab_link": true
    },
    "kernelspec": {
      "name": "python3",
      "display_name": "Python 3"
    }
  },
  "cells": [
    {
      "cell_type": "markdown",
      "metadata": {
        "id": "view-in-github",
        "colab_type": "text"
      },
      "source": [
        "<a href=\"https://colab.research.google.com/github/raj-vijay/ml/blob/master/Q2_Bike_Friendly.ipynb\" target=\"_parent\"><img src=\"https://colab.research.google.com/assets/colab-badge.svg\" alt=\"Open In Colab\"/></a>"
      ]
    },
    {
      "cell_type": "markdown",
      "metadata": {
        "id": "xBCcgXxLMA-i",
        "colab_type": "text"
      },
      "source": [
        "**Question 2 - Numerical Analysis Exercises using NumPy Bike Dataset:**\n",
        "\n",
        "For each of the following questions you will use the bike rental dataset called bike.csv. Where possible use NumPy to answer the questions below.\n",
        "\n",
        "The following are the details of the various fields in this dataset.\n",
        "0. instant: record index\n",
        "1. season : season (1:springer, 2:summer, 3:fall, 4:winter)\n",
        "2. yr : year (0: 2011, 1:2012)\n",
        "3. mnth : month ( 1 to 12)\n",
        "4. hr : hour (0 to 23)\n",
        "5. holiday : weather day is holiday or not (extracted from [Web Link])\n",
        "6. weekday : day of the week\n",
        "7. workingday : if day is neither weekend nor holiday is 1, otherwise is 0.\n",
        "8. + weathersit :\n",
        "> i. 1: Clear, Few clouds, Partly cloudy, Partly cloudy\n",
        "> ii. 2: Mist + Cloudy, Mist + Broken clouds, Mist + Few clouds, Mist\n",
        "> iii. 3: Light Snow, Light Rain + Thunderstorm + Scattered clouds, Light Rain + Scattered clouds\n",
        "> iv. 4: Heavy Rain + Ice Pallets + Thunderstorm + Mist, Snow + Fog\n",
        "\n",
        "9. temp : Normalized temperature in Celsius. The values are divided to 41 (max)\n",
        "10. atemp: Normalized feeling temperature in Celsius. The values are divided to 50 (max)\n",
        "11. hum: Normalized humidity. The values are divided to 100 (max)\n",
        "12. windspeed: Normalized wind speed. The values are divided to 67 (max)\n",
        "13. casual: count of casual users\n",
        "14. registered: count of registered users\n",
        "15. cnt: count of total rental bikes including both casual and registered"
      ]
    },
    {
      "cell_type": "code",
      "metadata": {
        "id": "maEgY6LgNCjx",
        "colab_type": "code",
        "colab": {}
      },
      "source": [
        "from google.colab import drive\n",
        "drive.mount('/content/drive')"
      ],
      "execution_count": 0,
      "outputs": []
    },
    {
      "cell_type": "code",
      "metadata": {
        "id": "AFGcO7TQNNBK",
        "colab_type": "code",
        "colab": {}
      },
      "source": [
        "\n",
        "import numpy as np\n",
        "import matplotlib.pyplot as plt\n",
        "\n",
        "\n",
        "bike_array = np.loadtxt('/content/drive/My Drive/00.Data/bike.csv', delimiter = ',')\n",
        "# Test bke dataset\n",
        "# print(bike_array)"
      ],
      "execution_count": 0,
      "outputs": []
    },
    {
      "cell_type": "markdown",
      "metadata": {
        "id": "DhVxpKaJNhAJ",
        "colab_type": "text"
      },
      "source": [
        "(i)\n",
        "Calculate the average temperature value (column index 9) for the entire dataset. Note the temperature values in this column have been already normalized by dividing by 41."
      ]
    },
    {
      "cell_type": "code",
      "metadata": {
        "id": "8CmY-BU1NssS",
        "colab_type": "code",
        "outputId": "97314bfc-fb6f-4155-a5f9-12ea70a1770c",
        "colab": {
          "base_uri": "https://localhost:8080/",
          "height": 34
        }
      },
      "source": [
        "# Solution to question 1\n",
        "\n",
        "print(\"The average temperature value for Normalized temperature in Celsius is\", round(np.mean(bike_array[:,9]),2)*41)"
      ],
      "execution_count": 0,
      "outputs": [
        {
          "output_type": "stream",
          "text": [
            "The average temperature value for Normalized temperature in Celsius is 20.5\n"
          ],
          "name": "stdout"
        }
      ]
    },
    {
      "cell_type": "markdown",
      "metadata": {
        "id": "2wgL9f4dNzZM",
        "colab_type": "text"
      },
      "source": [
        "(ii)\n",
        "Print out the average number of casual users for all days classified as holidays as well as the average for all days classified as non-holidays. (Note holidays =1 and non-holidays = 0). Holidays attribute is stored at index 5."
      ]
    },
    {
      "cell_type": "code",
      "metadata": {
        "id": "MJFJVKvUN3Xi",
        "colab_type": "code",
        "outputId": "96bf1020-a479-433a-d9ef-e5d902e3101a",
        "colab": {
          "base_uri": "https://localhost:8080/",
          "height": 51
        }
      },
      "source": [
        "# Solution to question 2\n",
        "\n",
        "holiday_data = bike_array[:, 5] == 1\n",
        "print(\"Average number of casual users during holidays is\",round(np.mean(bike_array[holiday_data, 13]),2))\n",
        "\n",
        "non_holiday_data = bike_array[:,5] == 0\n",
        "print(\"Average number of casual users during non-holidays is\",round(np.mean(bike_array[non_holiday_data, 13]),2))"
      ],
      "execution_count": 0,
      "outputs": [
        {
          "output_type": "stream",
          "text": [
            "Average number of casual users during holidays is 44.72\n",
            "Average number of casual users during non-holidays is 35.41\n"
          ],
          "name": "stdout"
        }
      ]
    },
    {
      "cell_type": "markdown",
      "metadata": {
        "id": "55G3VTVdOAax",
        "colab_type": "text"
      },
      "source": [
        "(iii)\n",
        "Write NumPy code that will print out the total number of casual users for each month of the year. You would expect to see an increase in the number of casual users over the summer months and a decline for the winter months."
      ]
    },
    {
      "cell_type": "code",
      "metadata": {
        "id": "ZrA9_-SbOGDx",
        "colab_type": "code",
        "outputId": "125406fd-11f5-4fe9-af75-2cd56cc42153",
        "colab": {
          "base_uri": "https://localhost:8080/",
          "height": 295
        }
      },
      "source": [
        "# Solution to question 3\n",
        "\n",
        "\n",
        "#result = np.zeros((0,3), dtype = int)\n",
        "#for i in (np.unique(bike_array[:,2].astype(int))):\n",
        "#    if i == 0:\n",
        "#        year = 2011\n",
        "#    else:\n",
        "#        year = 2012\n",
        "#    for m in (np.unique(bike_array[:,3].astype(int))):\n",
        "#        month_array = (bike_array[:,3] == m) & (bike_array[:,2] == i)\n",
        "#        users = np.sum(bike_array[month_array, 13].astype(int))\n",
        "#        result = np.insert(result, 0, np.array((year, m, users)), 0)\n",
        "#print(result)\n",
        "\n",
        "\n",
        "result = []\n",
        "for m in (np.unique(bike_array[:,3].astype(int))):\n",
        "    users = np.sum((bike_array[bike_array[:,3] == m])[:, 13])\n",
        "    result = np.insert(result, 0, users, 0)\n",
        "\n",
        "plot = [i for i, _ in enumerate(result)]\n",
        "\n",
        "plt.bar(plot, result, color='green')\n",
        "plt.xlabel(\"Months\")\n",
        "plt.ylabel(\"No. of Users\")\n",
        "plt.title(\"Casual users by month\")\n",
        "plt.show()"
      ],
      "execution_count": 0,
      "outputs": [
        {
          "output_type": "display_data",
          "data": {
            "image/png": "[encoded data removed]",
            "text/plain": [
              "<Figure size 432x288 with 1 Axes>"
            ]
          },
          "metadata": {
            "tags": []
          }
        }
      ]
    },
    {
      "cell_type": "markdown",
      "metadata": {
        "id": "Q3fquyHoOh5C",
        "colab_type": "text"
      },
      "source": [
        "(iv)\n",
        "We will now look at the relationship between temperature and the number of users (column index 15). Your code should work out the average number of users for the following temperature ranges.\n",
        "\n",
        "• 1, 6\n",
        "\n",
        "• 6, 10\n",
        "\n",
        "• 10, 15\n",
        "\n",
        "• 15, 20\n",
        "\n",
        "• 20, 25\n",
        "\n",
        "• 25, 30\n",
        "\n",
        "• 30, 35\n",
        "\n",
        "• 35, 40\n",
        "\n",
        "Remember the temperature values specified in the file have been normalised by dividing by 41."
      ]
    },
    {
      "cell_type": "code",
      "metadata": {
        "id": "WhvM7ZJHO6fr",
        "colab_type": "code",
        "outputId": "b17f0adf-927f-4d17-9ce3-310c2ecc1094",
        "colab": {
          "base_uri": "https://localhost:8080/",
          "height": 153
        }
      },
      "source": [
        "# Solution to question 4\n",
        "\n",
        "for i in range(0,8):\n",
        "    temp_array = ((bike_array[:,9]*41) > (i*5 if i*5 > 9 else (i*5)+1)) & ((bike_array[:,9]*41) < ((i+1)*5 if ((i+1)*5) !=5 else 6))\n",
        "    mean_users = np.mean(bike_array[temp_array, 15].astype(int))\n",
        "    print(\"Average users at\", (i*5 if i*5 > 9 else (i*5)+1), \"-\", (i+1)*5 if ((i+1)*5) !=5 else 6, \"°C :\", round(mean_users,2))\n",
        "\n",
        "\n"
      ],
      "execution_count": 0,
      "outputs": [
        {
          "output_type": "stream",
          "text": [
            "Average users at 1 - 6 °C : 51.85\n",
            "Average users at 6 - 10 °C : 73.67\n",
            "Average users at 10 - 15 °C : 123.72\n",
            "Average users at 15 - 20 °C : 168.44\n",
            "Average users at 20 - 25 °C : 209.51\n",
            "Average users at 25 - 30 °C : 234.74\n",
            "Average users at 30 - 35 °C : 330.33\n",
            "Average users at 35 - 40 °C : 317.92\n"
          ],
          "name": "stdout"
        }
      ]
    }
  ]
}