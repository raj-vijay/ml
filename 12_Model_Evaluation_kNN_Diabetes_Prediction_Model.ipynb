{
  "nbformat": 4,
  "nbformat_minor": 0,
  "metadata": {
    "colab": {
      "name": "12. Model Evaluation - kNN Diabetes Prediction Model.ipynb",
      "provenance": [],
      "collapsed_sections": [],
      "include_colab_link": true
    },
    "kernelspec": {
      "name": "python3",
      "display_name": "Python 3"
    }
  },
  "cells": [
    {
      "cell_type": "markdown",
      "metadata": {
        "id": "view-in-github",
        "colab_type": "text"
      },
      "source": [
        "<a href=\"https://colab.research.google.com/github/raj-vijay/ml/blob/master/12_Model_Evaluation_kNN_Diabetes_Prediction_Model.ipynb\" target=\"_parent\"><img src=\"https://colab.research.google.com/assets/colab-badge.svg\" alt=\"Open In Colab\"/></a>"
      ]
    },
    {
      "cell_type": "markdown",
      "metadata": {
        "id": "5-uBah4Qn5t8",
        "colab_type": "text"
      },
      "source": [
        "**Model Evaluation Metrics**"
      ]
    },
    {
      "cell_type": "markdown",
      "metadata": {
        "id": "3Imo_W3R1CIL",
        "colab_type": "text"
      },
      "source": [
        "Here, we fit ridge regression models over a range of different alphas, and plot cross-validated R2 scores for each. The R2 scores along with the standard error for each alpha is plotted."
      ]
    },
    {
      "cell_type": "markdown",
      "metadata": {
        "id": "iKsvce7ZDqE8",
        "colab_type": "text"
      },
      "source": [
        "**Classification Accuracy** \n",
        "\n",
        "Classification Accuracy is the ratio of number of correct predictions to the total number of instances subjected to the machine learning algorithm.\n",
        "\n",
        "Accuracy as a metric for model evaluation works well when the distribution of samples belonging to each class is even.\n",
        "\n",
        "In real world applications, accuracy as the lone model performance metric becomes a real problem, when the risk or cost of misclassification of the minor class samples are very high.\n",
        "\n",
        "A 99% accuracy can be excellent, good, mediocre, poor or terrible depending upon the problem."
      ]
    },
    {
      "cell_type": "markdown",
      "metadata": {
        "id": "T9RpRPsbGZpg",
        "colab_type": "text"
      },
      "source": [
        "**Confusion Matrix**\n",
        "\n",
        "A confusion matrix is a tool to determine the performance of classifier. \n",
        "\n",
        "A confusion matrix, also known as an error matrix, is a matrix that allows visualization of the performance of a supervised learning  algorithm. In unsupervised learning it is usually called a matching matrix. \n",
        "\n",
        "Each row of the matrix represents the instances in a predicted class while each column represents the instances in an actual class. The matrix help determine if the machine learning model, or a binary classifier, is confusing two classes as it carries out the predictions."
      ]
    },
    {
      "cell_type": "markdown",
      "metadata": {
        "id": "CYq3sF5qHUbW",
        "colab_type": "text"
      },
      "source": [
        "![alt text](https://scikit-learn.org/stable/_images/sphx_glr_plot_confusion_matrix_001.png)"
      ]
    },
    {
      "cell_type": "markdown",
      "metadata": {
        "id": "I_uXsmZreW4_",
        "colab_type": "text"
      },
      "source": [
        "**Definition of the Terms**\n",
        "\n",
        "• **Positive (P)** : Observation is positive.\n",
        "\n",
        "• **Negative (N)** : Observation is not positive.\n",
        "\n",
        "• **True Positive (TP)** : Observation is positive, and is predicted to be positive.\n",
        "\n",
        "• **False Negative (FN)** : Observation is positive, but is predicted negative.\n",
        "\n",
        "• **True Negative (TN)** : Observation is negative, and is predicted to be negative.\n",
        "\n",
        "• **False Positive (FP)** : Observation is negative, but is predicted positive."
      ]
    },
    {
      "cell_type": "markdown",
      "metadata": {
        "id": "73O3CALtfaWN",
        "colab_type": "text"
      },
      "source": [
        "**Recall**\n",
        "\n",
        "Recall is defined as the ratio of the total number of correctly classified positive instances divide to the total number of positive instances. \n",
        "\n",
        "High Recall indicates the class is correctly recognized (small number of FN).\n",
        "\n",
        "Recall = True Positives / (True Postives + False Negatives)\n"
      ]
    },
    {
      "cell_type": "markdown",
      "metadata": {
        "id": "Ljndps5Ef_SE",
        "colab_type": "text"
      },
      "source": [
        "**Precision**\n",
        "\n",
        "Precision is defined as the ratio of the total number of correctly classified positive instances over the total number of predicted positive instances. \n",
        "\n",
        "High Precision indicates an instance is labeled as positive is indeed positive (small number of FP).\n",
        "\n",
        "Precision = True Postives / (True Postives + False Postives)\n"
      ]
    },
    {
      "cell_type": "markdown",
      "metadata": {
        "id": "WLMhUi4FDM5Q",
        "colab_type": "text"
      },
      "source": [
        "**Pima Indians Diabetes Database**\n",
        "\n",
        "Pima Indians Diabetes dataset is originally from the National Institute of Diabetes and Digestive and Kidney Diseases. \n",
        "\n",
        "The objective of the dataset is to diagnostically predict whether or not a patient has diabetes, based on certain diagnostic measurements included in the dataset. Several constraints were placed on the selection of these instances from a larger database. \n",
        "\n",
        "In particular, all patients here are females at least 21 years old of Pima Indian heritage.\n",
        "\n",
        "The dataset is imported from Kaggle.\n",
        "\n",
        "https://www.kaggle.com/uciml/pima-indians-diabetes-database"
      ]
    },
    {
      "cell_type": "markdown",
      "metadata": {
        "id": "yPCdjYjZkJ3-",
        "colab_type": "text"
      },
      "source": [
        "Installing Kaggle Package to access the Gapminder dataset from Kaggle."
      ]
    },
    {
      "cell_type": "code",
      "metadata": {
        "id": "My0q36n1jKX1",
        "colab_type": "code",
        "outputId": "6152318c-760c-4d99-cff0-6d9f6503be31",
        "colab": {
          "base_uri": "https://localhost:8080/",
          "height": 224
        }
      },
      "source": [
        "!pip install kaggle"
      ],
      "execution_count": 26,
      "outputs": [
        {
          "output_type": "stream",
          "text": [
            "Requirement already satisfied: kaggle in /usr/local/lib/python3.6/dist-packages (1.5.6)\n",
            "Requirement already satisfied: urllib3<1.25,>=1.21.1 in /usr/local/lib/python3.6/dist-packages (from kaggle) (1.24.3)\n",
            "Requirement already satisfied: six>=1.10 in /usr/local/lib/python3.6/dist-packages (from kaggle) (1.12.0)\n",
            "Requirement already satisfied: python-dateutil in /usr/local/lib/python3.6/dist-packages (from kaggle) (2.6.1)\n",
            "Requirement already satisfied: certifi in /usr/local/lib/python3.6/dist-packages (from kaggle) (2019.9.11)\n",
            "Requirement already satisfied: tqdm in /usr/local/lib/python3.6/dist-packages (from kaggle) (4.28.1)\n",
            "Requirement already satisfied: python-slugify in /usr/local/lib/python3.6/dist-packages (from kaggle) (4.0.0)\n",
            "Requirement already satisfied: requests in /usr/local/lib/python3.6/dist-packages (from kaggle) (2.21.0)\n",
            "Requirement already satisfied: text-unidecode>=1.3 in /usr/local/lib/python3.6/dist-packages (from python-slugify->kaggle) (1.3)\n",
            "Requirement already satisfied: chardet<3.1.0,>=3.0.2 in /usr/local/lib/python3.6/dist-packages (from requests->kaggle) (3.0.4)\n",
            "Requirement already satisfied: idna<2.9,>=2.5 in /usr/local/lib/python3.6/dist-packages (from requests->kaggle) (2.8)\n"
          ],
          "name": "stdout"
        }
      ]
    },
    {
      "cell_type": "markdown",
      "metadata": {
        "id": "9EwkJ2BKkXO-",
        "colab_type": "text"
      },
      "source": [
        "Make .kaggle directory under root to import the Kaggle Authentication JSON."
      ]
    },
    {
      "cell_type": "code",
      "metadata": {
        "id": "rWBE01UBjdk3",
        "colab_type": "code",
        "outputId": "0bea9b5d-964e-420e-8c40-26e7f4de478d",
        "colab": {
          "base_uri": "https://localhost:8080/",
          "height": 34
        }
      },
      "source": [
        "!mkdir ~/.kaggle"
      ],
      "execution_count": 27,
      "outputs": [
        {
          "output_type": "stream",
          "text": [
            "mkdir: cannot create directory ‘/root/.kaggle’: File exists\n"
          ],
          "name": "stdout"
        }
      ]
    },
    {
      "cell_type": "markdown",
      "metadata": {
        "id": "p33pxUc9k6YF",
        "colab_type": "text"
      },
      "source": [
        "Change file path to root/.kaggle/kaggle.json"
      ]
    },
    {
      "cell_type": "code",
      "metadata": {
        "id": "QSxHC0E1jfTl",
        "colab_type": "code",
        "colab": {}
      },
      "source": [
        "!cp /content/kaggle.json ~/.kaggle/kaggle.json"
      ],
      "execution_count": 0,
      "outputs": []
    },
    {
      "cell_type": "markdown",
      "metadata": {
        "id": "YC5_bG3Gkxfl",
        "colab_type": "text"
      },
      "source": [
        "Protect Kaggle JSON file for security reasons\n",
        "\n",
        "Chmod 600 (chmod a+rwx,u-x,g-rwx,o-rwx) sets permissions so that, (U)ser / owner can read, can write and can't execute. (G)roup can't read, can't write and can't execute. (O)thers can't read, can't write and can't execute."
      ]
    },
    {
      "cell_type": "code",
      "metadata": {
        "id": "BqOCtvB3j4Iu",
        "colab_type": "code",
        "colab": {}
      },
      "source": [
        "!chmod 600 /root/.kaggle/kaggle.json"
      ],
      "execution_count": 0,
      "outputs": []
    },
    {
      "cell_type": "markdown",
      "metadata": {
        "id": "Mkokc4SpmVLS",
        "colab_type": "text"
      },
      "source": [
        "Import the Gapminder dataset"
      ]
    },
    {
      "cell_type": "code",
      "metadata": {
        "id": "aKg2TKatjx6W",
        "colab_type": "code",
        "outputId": "38cacb46-8f11-47da-a99b-da6c00c3350b",
        "colab": {
          "base_uri": "https://localhost:8080/",
          "height": 54
        }
      },
      "source": [
        "!kaggle datasets download -d uciml/pima-indians-diabetes-database"
      ],
      "execution_count": 30,
      "outputs": [
        {
          "output_type": "stream",
          "text": [
            "pima-indians-diabetes-database.zip: Skipping, found more recently modified local copy (use --force to force download)\n"
          ],
          "name": "stdout"
        }
      ]
    },
    {
      "cell_type": "code",
      "metadata": {
        "id": "gmW3ARwmsEEi",
        "colab_type": "code",
        "outputId": "6642c755-fae5-4155-f115-da4585eea981",
        "colab": {
          "base_uri": "https://localhost:8080/",
          "height": 255
        }
      },
      "source": [
        "# Import numpy and pandas\n",
        "import numpy as np\n",
        "import pandas as pd\n",
        "\n",
        "# Read the Gapminder file into a DataFrame: df\n",
        "df = pd.read_csv('pima-indians-diabetes-database.zip', compression='zip', header=0, sep=',', quotechar='\"')\n",
        "print(df)"
      ],
      "execution_count": 31,
      "outputs": [
        {
          "output_type": "stream",
          "text": [
            "     Pregnancies  Glucose  ...  Age  Outcome\n",
            "0              6      148  ...   50        1\n",
            "1              1       85  ...   31        0\n",
            "2              8      183  ...   32        1\n",
            "3              1       89  ...   21        0\n",
            "4              0      137  ...   33        1\n",
            "..           ...      ...  ...  ...      ...\n",
            "763           10      101  ...   63        0\n",
            "764            2      122  ...   27        0\n",
            "765            5      121  ...   30        0\n",
            "766            1      126  ...   47        1\n",
            "767            1       93  ...   23        0\n",
            "\n",
            "[768 rows x 9 columns]\n"
          ],
          "name": "stdout"
        }
      ]
    },
    {
      "cell_type": "code",
      "metadata": {
        "id": "C35jiVBl_w9x",
        "colab_type": "code",
        "colab": {}
      },
      "source": [
        "X = df.drop('Outcome', axis = 1)\n",
        "y = df['Outcome']"
      ],
      "execution_count": 0,
      "outputs": []
    },
    {
      "cell_type": "code",
      "metadata": {
        "id": "a4oC7ef8DDXC",
        "colab_type": "code",
        "colab": {}
      },
      "source": [
        "from sklearn.neighbors import KNeighborsClassifier\n",
        "from sklearn.model_selection import train_test_split"
      ],
      "execution_count": 0,
      "outputs": []
    },
    {
      "cell_type": "code",
      "metadata": {
        "id": "GgkM31TrAVcA",
        "colab_type": "code",
        "colab": {}
      },
      "source": [
        "# Import necessary modules\n",
        "from sklearn.metrics import classification_report\n",
        "from sklearn.metrics import confusion_matrix"
      ],
      "execution_count": 0,
      "outputs": []
    },
    {
      "cell_type": "code",
      "metadata": {
        "id": "sEPDa7KvC1RE",
        "colab_type": "code",
        "colab": {}
      },
      "source": [
        "# Create training and test set\n",
        "X_train, X_test, y_train, y_test = train_test_split(X, y, test_size=0.4, random_state=42)"
      ],
      "execution_count": 0,
      "outputs": []
    },
    {
      "cell_type": "code",
      "metadata": {
        "id": "0YtWdJA7DdCW",
        "colab_type": "code",
        "colab": {}
      },
      "source": [
        "# Instantiate a k-NN classifier: knn\n",
        "knn = KNeighborsClassifier(n_neighbors = 6)\n",
        "\n",
        "# Fit the classifier to the training data\n",
        "knn.fit(X_train, y_train)\n",
        "\n",
        "# Predict the labels of the test data: y_pred\n",
        "y_pred = knn.predict(X_test)"
      ],
      "execution_count": 0,
      "outputs": []
    },
    {
      "cell_type": "code",
      "metadata": {
        "id": "Iqib7pDFDisY",
        "colab_type": "code",
        "outputId": "4eb06902-1d8b-46bf-d960-21128b5fd204",
        "colab": {
          "base_uri": "https://localhost:8080/",
          "height": 51
        }
      },
      "source": [
        "# Generate the confusion matrix\n",
        "print(confusion_matrix(y_test, y_pred))\n"
      ],
      "execution_count": 38,
      "outputs": [
        {
          "output_type": "stream",
          "text": [
            "[[176  30]\n",
            " [ 56  46]]\n"
          ],
          "name": "stdout"
        }
      ]
    },
    {
      "cell_type": "code",
      "metadata": {
        "id": "SZSAtULTegc-",
        "colab_type": "code",
        "colab": {
          "base_uri": "https://localhost:8080/",
          "height": 170
        },
        "outputId": "7c3d895c-6252-46a8-f10d-15725f00a651"
      },
      "source": [
        "# Generate the classification report\n",
        "print(classification_report(y_test, y_pred))"
      ],
      "execution_count": 39,
      "outputs": [
        {
          "output_type": "stream",
          "text": [
            "              precision    recall  f1-score   support\n",
            "\n",
            "           0       0.76      0.85      0.80       206\n",
            "           1       0.61      0.45      0.52       102\n",
            "\n",
            "    accuracy                           0.72       308\n",
            "   macro avg       0.68      0.65      0.66       308\n",
            "weighted avg       0.71      0.72      0.71       308\n",
            "\n"
          ],
          "name": "stdout"
        }
      ]
    }
  ]
}