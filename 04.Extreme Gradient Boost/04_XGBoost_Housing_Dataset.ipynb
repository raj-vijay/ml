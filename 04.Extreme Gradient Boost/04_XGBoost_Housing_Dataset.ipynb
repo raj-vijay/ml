{
  "nbformat": 4,
  "nbformat_minor": 0,
  "metadata": {
    "colab": {
      "name": "04. XGBoost Housing Dataset.ipynb",
      "provenance": [],
      "authorship_tag": "ABX9TyO4VJ6n8IGEF1aBuQ4UmUZS",
      "include_colab_link": true
    },
    "kernelspec": {
      "name": "python3",
      "display_name": "Python 3"
    }
  },
  "cells": [
    {
      "cell_type": "markdown",
      "metadata": {
        "id": "view-in-github",
        "colab_type": "text"
      },
      "source": [
        "<a href=\"https://colab.research.google.com/github/raj-vijay/ml/blob/master/04.Extreme%20Gradient%20Boost/04_XGBoost_Housing_Dataset.ipynb\" target=\"_parent\"><img src=\"https://colab.research.google.com/assets/colab-badge.svg\" alt=\"Open In Colab\"/></a>"
      ]
    },
    {
      "cell_type": "markdown",
      "metadata": {
        "id": "Y4Am04AF52pE"
      },
      "source": [
        "**Objective (loss) functions and base learners**\n",
        "\n",
        "Loss function names in xgboost:\n",
        "- reg:linear - use for regression problems\n",
        "- reg:logistic - use for classification involving a decision and not probability\n",
        "- binary:logistic - use when you want probability rather than just\n",
        "decision"
      ]
    },
    {
      "cell_type": "markdown",
      "metadata": {
        "id": "8SJEUQFH0v1z"
      },
      "source": [
        "https://xgboost.readthedocs.io/en/latest/"
      ]
    },
    {
      "cell_type": "markdown",
      "metadata": {
        "id": "ugX004f25zvD"
      },
      "source": [
        "**Trees as base learners example: Scikit-learn API**"
      ]
    },
    {
      "cell_type": "code",
      "metadata": {
        "id": "KaSXqmUns3Wl"
      },
      "source": [
        "import xgboost as xgb\n",
        "import pandas as pd\n",
        "import numpy as np\n",
        "from sklearn.model_selection import train_test_split"
      ],
      "execution_count": null,
      "outputs": []
    },
    {
      "cell_type": "code",
      "metadata": {
        "id": "HXXPhQOev2Gf"
      },
      "source": [
        "from sklearn.datasets import load_boston\n",
        "X, y = load_boston(return_X_y=True)"
      ],
      "execution_count": null,
      "outputs": []
    },
    {
      "cell_type": "code",
      "metadata": {
        "id": "L9R1PMBsx3B9"
      },
      "source": [
        "#import xgboost\n",
        "import xgboost as xgb\n",
        "from sklearn.model_selection import train_test_split\n",
        "from sklearn.metrics import mean_squared_error"
      ],
      "execution_count": null,
      "outputs": []
    },
    {
      "cell_type": "code",
      "metadata": {
        "id": "a0eWcgpox5Xj"
      },
      "source": [
        "# Create the training and test sets\n",
        "X_train, X_test, y_train, y_test= train_test_split(X, y, test_size=0.2, random_state=123)"
      ],
      "execution_count": null,
      "outputs": []
    },
    {
      "cell_type": "code",
      "metadata": {
        "id": "HcJlRfRs1fdG",
        "colab": {
          "base_uri": "https://localhost:8080/",
          "height": 34
        },
        "outputId": "f04a7e13-b129-4e62-84f8-5ca844561afd"
      },
      "source": [
        "xg_reg = xgb.XGBRegressor(objective='reg:linear', n_estimators=10, seed=123)\n",
        "xg_reg.fit(X_train, y_train)\n",
        "preds = xg_reg.predict(X_test)"
      ],
      "execution_count": null,
      "outputs": [
        {
          "output_type": "stream",
          "text": [
            "[13:34:48] WARNING: /workspace/src/objective/regression_obj.cu:152: reg:linear is now deprecated in favor of reg:squarederror.\n"
          ],
          "name": "stdout"
        }
      ]
    },
    {
      "cell_type": "code",
      "metadata": {
        "id": "O8iiwWVm5jUl",
        "colab": {
          "base_uri": "https://localhost:8080/",
          "height": 34
        },
        "outputId": "83058d35-b63d-4b64-ed85-90b0eff84486"
      },
      "source": [
        "rmse = np.sqrt(mean_squared_error(y_test,preds))\n",
        "print(\"RMSE: %f\" % (rmse))"
      ],
      "execution_count": null,
      "outputs": [
        {
          "output_type": "stream",
          "text": [
            "RMSE: 9.749041\n"
          ],
          "name": "stdout"
        }
      ]
    },
    {
      "cell_type": "markdown",
      "metadata": {
        "id": "h8FCtrtBDc23"
      },
      "source": [
        "**Linear base learners**\n",
        "\n",
        "Here, we use another base model that can be used with XGBoost - a linear learner. This model, although not as commonly used in XGBoost, allows to create a regularized linear regression using XGBoost's powerful learning API. "
      ]
    },
    {
      "cell_type": "code",
      "metadata": {
        "id": "O2tZ9GsXDaxR",
        "colab": {
          "base_uri": "https://localhost:8080/",
          "height": 51
        },
        "outputId": "5af93961-7288-42e9-eaf1-5149dfb7d63c"
      },
      "source": [
        "# Convert the training and testing sets into DMatrixes: DM_train, DM_test\n",
        "DM_train = xgb.DMatrix(data=X_train, label=y_train)\n",
        "DM_test =  xgb.DMatrix(data=X_test, label=y_test)\n",
        "\n",
        "# Create the parameter dictionary: params\n",
        "params = {\"booster\":\"gblinear\", \"objective\":\"reg:linear\"}\n",
        "\n",
        "# Train the model: xg_reg\n",
        "xg_reg = xgb.train(params = params, dtrain=DM_train, num_boost_round=5)\n",
        "\n",
        "# Predict the labels of the test set: preds\n",
        "preds = xg_reg.predict(DM_test)\n",
        "\n",
        "# Compute and print the RMSE\n",
        "rmse = np.sqrt(mean_squared_error(y_test,preds))\n",
        "print(\"RMSE: %f\" % (rmse))"
      ],
      "execution_count": null,
      "outputs": [
        {
          "output_type": "stream",
          "text": [
            "[14:18:10] WARNING: /workspace/src/objective/regression_obj.cu:152: reg:linear is now deprecated in favor of reg:squarederror.\n",
            "RMSE: 6.631172\n"
          ],
          "name": "stdout"
        }
      ]
    },
    {
      "cell_type": "markdown",
      "metadata": {
        "id": "5Z_bA44iEN9v"
      },
      "source": [
        "**Compare the RMSE and MAE of a cross-validated XGBoost model**"
      ]
    },
    {
      "cell_type": "markdown",
      "metadata": {
        "id": "5PqDiNabHXlO"
      },
      "source": [
        "Perform 4-fold cross-validation with 5 boosting rounds and \"rmse\" as the metric."
      ]
    },
    {
      "cell_type": "code",
      "metadata": {
        "id": "jP03c2a3EMfF",
        "colab": {
          "base_uri": "https://localhost:8080/",
          "height": 221
        },
        "outputId": "eb6f7284-3e20-42b4-f21a-ffdad658e846"
      },
      "source": [
        "# Create the DMatrix: housing_dmatrix\n",
        "housing_dmatrix = xgb.DMatrix(data=X,label=y)\n",
        "\n",
        "# Create the parameter dictionary: params\n",
        "params = {\"objective\":\"reg:linear\", \"max_depth\":4}\n",
        "\n",
        "# Perform cross-validation: cv_results\n",
        "cv_results = xgb.cv(dtrain=housing_dmatrix, params=params, nfold=4, num_boost_round=5, metrics=\"rmse\", as_pandas=True, seed=123)\n",
        "\n",
        "# Print cv_results\n",
        "print(cv_results)\n",
        "\n",
        "# Extract and print final round boosting round metric\n",
        "print((cv_results[\"test-rmse-mean\"]).tail(1))"
      ],
      "execution_count": null,
      "outputs": [
        {
          "output_type": "stream",
          "text": [
            "[14:21:34] WARNING: /workspace/src/objective/regression_obj.cu:152: reg:linear is now deprecated in favor of reg:squarederror.\n",
            "[14:21:34] WARNING: /workspace/src/objective/regression_obj.cu:152: reg:linear is now deprecated in favor of reg:squarederror.\n",
            "[14:21:34] WARNING: /workspace/src/objective/regression_obj.cu:152: reg:linear is now deprecated in favor of reg:squarederror.\n",
            "[14:21:34] WARNING: /workspace/src/objective/regression_obj.cu:152: reg:linear is now deprecated in favor of reg:squarederror.\n",
            "   train-rmse-mean  train-rmse-std  test-rmse-mean  test-rmse-std\n",
            "0        17.120438        0.057830       17.151866       0.295723\n",
            "1        12.353698        0.034427       12.510376       0.372386\n",
            "2         9.017977        0.038795        9.245965       0.314345\n",
            "3         6.690101        0.047236        7.060159       0.317659\n",
            "4         5.069411        0.048644        5.571861       0.252100\n",
            "4    5.571861\n",
            "Name: test-rmse-mean, dtype: float64\n"
          ],
          "name": "stdout"
        }
      ]
    },
    {
      "cell_type": "markdown",
      "metadata": {
        "id": "Vw_uTDJWHW63"
      },
      "source": [
        "Compute the \"mae\" instead of the \"rmse\"."
      ]
    },
    {
      "cell_type": "code",
      "metadata": {
        "id": "jPEjYmOtHMqH",
        "colab": {
          "base_uri": "https://localhost:8080/",
          "height": 221
        },
        "outputId": "a8966fd2-3265-4039-cb23-442b1a1cac1f"
      },
      "source": [
        "# Create the DMatrix: housing_dmatrix\n",
        "housing_dmatrix = xgb.DMatrix(data=X,label=y)\n",
        "\n",
        "# Create the parameter dictionary: params\n",
        "params = {\"objective\":\"reg:linear\", \"max_depth\":4}\n",
        "\n",
        "# Perform cross-validation: cv_results\n",
        "cv_results = xgb.cv(dtrain=housing_dmatrix, params=params, nfold=4, num_boost_round=5, metrics=\"mae\", as_pandas=True, seed=123)\n",
        "\n",
        "# Print cv_results\n",
        "print(cv_results)\n",
        "\n",
        "# Extract and print final round boosting round metric\n",
        "print((cv_results[\"test-mae-mean\"]).tail(1))"
      ],
      "execution_count": null,
      "outputs": [
        {
          "output_type": "stream",
          "text": [
            "[14:35:15] WARNING: /workspace/src/objective/regression_obj.cu:152: reg:linear is now deprecated in favor of reg:squarederror.\n",
            "[14:35:15] WARNING: /workspace/src/objective/regression_obj.cu:152: reg:linear is now deprecated in favor of reg:squarederror.\n",
            "[14:35:15] WARNING: /workspace/src/objective/regression_obj.cu:152: reg:linear is now deprecated in favor of reg:squarederror.\n",
            "[14:35:15] WARNING: /workspace/src/objective/regression_obj.cu:152: reg:linear is now deprecated in favor of reg:squarederror.\n",
            "   train-mae-mean  train-mae-std  test-mae-mean  test-mae-std\n",
            "0       15.584812       0.087903      15.567934      0.345122\n",
            "1       11.036514       0.069404      11.044831      0.347553\n",
            "2        7.827224       0.052691       7.886081      0.315104\n",
            "3        5.596108       0.044331       5.718952      0.288004\n",
            "4        4.062843       0.052193       4.285985      0.175467\n",
            "4    4.285985\n",
            "Name: test-mae-mean, dtype: float64\n"
          ],
          "name": "stdout"
        }
      ]
    }
  ]
}