{
  "nbformat": 4,
  "nbformat_minor": 0,
  "metadata": {
    "colab": {
      "name": "05. Regularization XGBoost Housing Dataset.ipynb",
      "provenance": [],
      "authorship_tag": "ABX9TyPgpFnsI0akUnRWAkRm7YXL",
      "include_colab_link": true
    },
    "kernelspec": {
      "name": "python3",
      "display_name": "Python 3"
    }
  },
  "cells": [
    {
      "cell_type": "markdown",
      "metadata": {
        "id": "view-in-github",
        "colab_type": "text"
      },
      "source": [
        "<a href=\"https://colab.research.google.com/github/raj-vijay/ml/blob/master/04.Extreme%20Gradient%20Boost/05_Regularization_XGBoost_Housing_Dataset.ipynb\" target=\"_parent\"><img src=\"https://colab.research.google.com/assets/colab-badge.svg\" alt=\"Open In Colab\"/></a>"
      ]
    },
    {
      "cell_type": "markdown",
      "metadata": {
        "id": "Y4Am04AF52pE"
      },
      "source": [
        "**Regularization in XGBoost**\n",
        "\n",
        "- Regularization is a control on model complexity\n",
        "- Want models that are both accurate and as simple as possible\n",
        "- Regularization parameters in XGBoost:\n",
        "  1. gamma - minimum loss reduction allowed for a split to occur\n",
        "  2. alpha - l1 regularization on leaf weights, larger values mean\n",
        "  more regularization\n",
        "  3. lambda - l2 regularization on leaf weights"
      ]
    },
    {
      "cell_type": "markdown",
      "metadata": {
        "id": "8SJEUQFH0v1z"
      },
      "source": [
        "https://xgboost.readthedocs.io/en/latest/"
      ]
    },
    {
      "cell_type": "markdown",
      "metadata": {
        "id": "ugX004f25zvD"
      },
      "source": [
        "**Trees as base learners example: Scikit-learn API**"
      ]
    },
    {
      "cell_type": "code",
      "metadata": {
        "id": "KaSXqmUns3Wl"
      },
      "source": [
        "import xgboost as xgb\n",
        "import pandas as pd\n",
        "import numpy as np\n",
        "from sklearn.model_selection import train_test_split\n",
        "from sklearn.metrics import mean_squared_error"
      ],
      "execution_count": null,
      "outputs": []
    },
    {
      "cell_type": "code",
      "metadata": {
        "id": "HXXPhQOev2Gf"
      },
      "source": [
        "from sklearn.datasets import load_boston\n",
        "X, y = load_boston(return_X_y=True)"
      ],
      "execution_count": null,
      "outputs": []
    },
    {
      "cell_type": "code",
      "metadata": {
        "id": "a0eWcgpox5Xj"
      },
      "source": [
        "# Create the training and test sets\n",
        "X_train, X_test, y_train, y_test= train_test_split(X, y, test_size=0.2, random_state=123)"
      ],
      "execution_count": null,
      "outputs": []
    },
    {
      "cell_type": "code",
      "metadata": {
        "id": "HcJlRfRs1fdG",
        "colab": {
          "base_uri": "https://localhost:8080/",
          "height": 102
        },
        "outputId": "700e975d-0eb1-43f5-ca56-4896492f387b"
      },
      "source": [
        "boston_dmatrix = xgb.DMatrix(data=X,label=y)\n",
        "params={\"objective\":\"reg:squarederror\",\"max_depth\":4}\n",
        "l1_params = [1,10,100]\n",
        "rmses_l1=[]\n",
        "for reg in l1_params:\n",
        "  params[\"alpha\"] = reg\n",
        "  cv_results = xgb.cv(dtrain=boston_dmatrix, params=params,nfold=4,\n",
        "  num_boost_round=10,metrics=\"rmse\",as_pandas=True,seed=123)\n",
        "  rmses_l1.append(cv_results[\"test-rmse-mean\"].tail(1).values[0])\n",
        "print(\"Best rmse as a function of l1:\")\n",
        "print(pd.DataFrame(list(zip(l1_params,rmses_l1)), columns=[\"l1\",\"rmse\"]))"
      ],
      "execution_count": null,
      "outputs": [
        {
          "output_type": "stream",
          "text": [
            "Best rmse as a function of l1:\n",
            "    l1      rmse\n",
            "0    1  3.461474\n",
            "1   10  3.821152\n",
            "2  100  4.645519\n"
          ],
          "name": "stdout"
        }
      ]
    }
  ]
}