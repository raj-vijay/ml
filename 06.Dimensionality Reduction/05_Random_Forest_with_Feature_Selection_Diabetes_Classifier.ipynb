{
  "nbformat": 4,
  "nbformat_minor": 0,
  "metadata": {
    "colab": {
      "name": "05. Random Forest with Feature Selection - Diabetes Classifier.ipynb",
      "provenance": [],
      "authorship_tag": "ABX9TyPOSalTkxlzFSa2wOpzChvE",
      "include_colab_link": true
    },
    "kernelspec": {
      "name": "python3",
      "display_name": "Python 3"
    }
  },
  "cells": [
    {
      "cell_type": "markdown",
      "metadata": {
        "id": "view-in-github",
        "colab_type": "text"
      },
      "source": [
        "<a href=\"https://colab.research.google.com/github/raj-vijay/ml/blob/master/06.Dimensionality%20Reduction/05_Random_Forest_with_Feature_Selection_Diabetes_Classifier.ipynb\" target=\"_parent\"><img src=\"https://colab.research.google.com/assets/colab-badge.svg\" alt=\"Open In Colab\"/></a>"
      ]
    },
    {
      "cell_type": "code",
      "metadata": {
        "id": "cCKCFl8WdBQR"
      },
      "source": [
        "import pandas as pd"
      ],
      "execution_count": null,
      "outputs": []
    },
    {
      "cell_type": "code",
      "metadata": {
        "id": "8bw-2JLbdQ-b"
      },
      "source": [
        "df = pd.read_csv('PimaIndians.csv')"
      ],
      "execution_count": null,
      "outputs": []
    },
    {
      "cell_type": "code",
      "metadata": {
        "id": "Ib6rnTL7dYH1",
        "colab": {
          "base_uri": "https://localhost:8080/",
          "height": 204
        },
        "outputId": "8fe18fad-ca5f-4c8e-846d-6a54eccf0218"
      },
      "source": [
        "df.head()"
      ],
      "execution_count": null,
      "outputs": [
        {
          "output_type": "execute_result",
          "data": {
            "text/html": [
              "<div>\n",
              "<style scoped>\n",
              "    .dataframe tbody tr th:only-of-type {\n",
              "        vertical-align: middle;\n",
              "    }\n",
              "\n",
              "    .dataframe tbody tr th {\n",
              "        vertical-align: top;\n",
              "    }\n",
              "\n",
              "    .dataframe thead th {\n",
              "        text-align: right;\n",
              "    }\n",
              "</style>\n",
              "<table border=\"1\" class=\"dataframe\">\n",
              "  <thead>\n",
              "    <tr style=\"text-align: right;\">\n",
              "      <th></th>\n",
              "      <th>pregnant</th>\n",
              "      <th>glucose</th>\n",
              "      <th>diastolic</th>\n",
              "      <th>triceps</th>\n",
              "      <th>insulin</th>\n",
              "      <th>bmi</th>\n",
              "      <th>family</th>\n",
              "      <th>age</th>\n",
              "      <th>test</th>\n",
              "    </tr>\n",
              "  </thead>\n",
              "  <tbody>\n",
              "    <tr>\n",
              "      <th>0</th>\n",
              "      <td>1</td>\n",
              "      <td>89</td>\n",
              "      <td>66</td>\n",
              "      <td>23</td>\n",
              "      <td>94</td>\n",
              "      <td>28.1</td>\n",
              "      <td>0.167</td>\n",
              "      <td>21</td>\n",
              "      <td>negative</td>\n",
              "    </tr>\n",
              "    <tr>\n",
              "      <th>1</th>\n",
              "      <td>0</td>\n",
              "      <td>137</td>\n",
              "      <td>40</td>\n",
              "      <td>35</td>\n",
              "      <td>168</td>\n",
              "      <td>43.1</td>\n",
              "      <td>2.288</td>\n",
              "      <td>33</td>\n",
              "      <td>positive</td>\n",
              "    </tr>\n",
              "    <tr>\n",
              "      <th>2</th>\n",
              "      <td>3</td>\n",
              "      <td>78</td>\n",
              "      <td>50</td>\n",
              "      <td>32</td>\n",
              "      <td>88</td>\n",
              "      <td>31.0</td>\n",
              "      <td>0.248</td>\n",
              "      <td>26</td>\n",
              "      <td>positive</td>\n",
              "    </tr>\n",
              "    <tr>\n",
              "      <th>3</th>\n",
              "      <td>2</td>\n",
              "      <td>197</td>\n",
              "      <td>70</td>\n",
              "      <td>45</td>\n",
              "      <td>543</td>\n",
              "      <td>30.5</td>\n",
              "      <td>0.158</td>\n",
              "      <td>53</td>\n",
              "      <td>positive</td>\n",
              "    </tr>\n",
              "    <tr>\n",
              "      <th>4</th>\n",
              "      <td>1</td>\n",
              "      <td>189</td>\n",
              "      <td>60</td>\n",
              "      <td>23</td>\n",
              "      <td>846</td>\n",
              "      <td>30.1</td>\n",
              "      <td>0.398</td>\n",
              "      <td>59</td>\n",
              "      <td>positive</td>\n",
              "    </tr>\n",
              "  </tbody>\n",
              "</table>\n",
              "</div>"
            ],
            "text/plain": [
              "   pregnant  glucose  diastolic  triceps  insulin   bmi  family  age      test\n",
              "0         1       89         66       23       94  28.1   0.167   21  negative\n",
              "1         0      137         40       35      168  43.1   2.288   33  positive\n",
              "2         3       78         50       32       88  31.0   0.248   26  positive\n",
              "3         2      197         70       45      543  30.5   0.158   53  positive\n",
              "4         1      189         60       23      846  30.1   0.398   59  positive"
            ]
          },
          "metadata": {
            "tags": []
          },
          "execution_count": 3
        }
      ]
    },
    {
      "cell_type": "code",
      "metadata": {
        "id": "48MurOajda2t"
      },
      "source": [
        "X = df.drop('test', axis =1)"
      ],
      "execution_count": null,
      "outputs": []
    },
    {
      "cell_type": "code",
      "metadata": {
        "id": "goT3FijsdjF9"
      },
      "source": [
        "y = df['test']"
      ],
      "execution_count": null,
      "outputs": []
    },
    {
      "cell_type": "markdown",
      "metadata": {
        "id": "UIHWk6KJe1O_"
      },
      "source": [
        "**Building a random forest model**\n",
        "\n",
        "A random forest model is built on the Pima Indians dataset to predict whether an individual has diabetes. "
      ]
    },
    {
      "cell_type": "code",
      "metadata": {
        "id": "KFtZE9DSdpNS"
      },
      "source": [
        "from sklearn.linear_model import LogisticRegression\n",
        "from sklearn.preprocessing import StandardScaler\n",
        "from sklearn.model_selection import train_test_split\n",
        "from sklearn.metrics import accuracy_score\n",
        "from sklearn.feature_selection import RFE\n",
        "from sklearn.ensemble import RandomForestClassifier"
      ],
      "execution_count": null,
      "outputs": []
    },
    {
      "cell_type": "code",
      "metadata": {
        "id": "-n4brmjoh3e_",
        "colab": {
          "base_uri": "https://localhost:8080/",
          "height": 71
        },
        "outputId": "575477c1-768f-4c7c-cdbd-7b7b05826dcc"
      },
      "source": [
        "# Perform a 75% training and 25% test data split\n",
        "X_train, X_test, y_train, y_test = train_test_split(X, y, test_size=0.25, random_state=0)\n",
        "\n",
        "# Fit the random forest model to the training data\n",
        "rf = RandomForestClassifier(random_state=0)\n",
        "rf.fit(X_train, y_train)\n",
        "\n",
        "# Calculate the test set accuracy\n",
        "acc = accuracy_score(y_test, rf.predict(X_test))\n",
        "\n",
        "# Print the importances per feature\n",
        "print(dict(zip(X.columns, rf.feature_importances_.round(2))))\n",
        "\n",
        "# Print accuracy\n",
        "print(\"{0:.1%} accuracy on test set.\".format(acc)) "
      ],
      "execution_count": null,
      "outputs": [
        {
          "output_type": "stream",
          "text": [
            "{'pregnant': 0.07, 'glucose': 0.25, 'diastolic': 0.09, 'triceps': 0.09, 'insulin': 0.14, 'bmi': 0.12, 'family': 0.12, 'age': 0.13}\n",
            "79.6% accuracy on test set.\n"
          ],
          "name": "stdout"
        }
      ]
    },
    {
      "cell_type": "markdown",
      "metadata": {
        "id": "KOz18P3IiVk2"
      },
      "source": [
        "**Random forest for feature selection**\n",
        "\n",
        "Here we use the fitted random forest model to select the most important features from the input dataset X."
      ]
    },
    {
      "cell_type": "code",
      "metadata": {
        "id": "oAoiWTrOiRJB",
        "colab": {
          "base_uri": "https://localhost:8080/",
          "height": 34
        },
        "outputId": "03a0e743-d8bb-484c-acbe-b5750b0193d9"
      },
      "source": [
        "# Create a mask for features importances above the threshold\n",
        "mask = rf.feature_importances_ > 0.15\n",
        "\n",
        "# Prints out the mask\n",
        "print(mask)"
      ],
      "execution_count": null,
      "outputs": [
        {
          "output_type": "stream",
          "text": [
            "[False  True False False False False False False]\n"
          ],
          "name": "stdout"
        }
      ]
    },
    {
      "cell_type": "code",
      "metadata": {
        "id": "wrrvaeVbi7AX",
        "colab": {
          "base_uri": "https://localhost:8080/",
          "height": 34
        },
        "outputId": "55e50382-bff9-4f74-bd43-6c61330d8fa6"
      },
      "source": [
        "# Apply the mask to the feature dataset X\n",
        "reduced_X = X.loc[:, mask]\n",
        "\n",
        "# prints out the selected column names\n",
        "print(reduced_X.columns)"
      ],
      "execution_count": null,
      "outputs": [
        {
          "output_type": "stream",
          "text": [
            "Index(['glucose'], dtype='object')\n"
          ],
          "name": "stdout"
        }
      ]
    },
    {
      "cell_type": "markdown",
      "metadata": {
        "id": "75Tb4CKWjBmE"
      },
      "source": [
        "**Recursive Feature Elimination with random forests**"
      ]
    },
    {
      "cell_type": "code",
      "metadata": {
        "id": "0sqXUYVCjXkV",
        "colab": {
          "base_uri": "https://localhost:8080/",
          "height": 85
        },
        "outputId": "e51e9a7c-5206-49ed-b2b2-50b2a7e79ac8"
      },
      "source": [
        "# Set the feature eliminator to remove 2 features on each step\n",
        "rfe = RFE(estimator=RandomForestClassifier(), n_features_to_select=2, step=2, verbose=1)\n",
        "\n",
        "# Fit the model to the training data\n",
        "rfe.fit(X_train, y_train)\n",
        "\n",
        "# Create a mask\n",
        "mask = rfe.support_\n",
        "\n",
        "# Apply the mask to the feature dataset X and print the result\n",
        "reduced_X = X.loc[:, mask]\n",
        "print(reduced_X.columns)"
      ],
      "execution_count": null,
      "outputs": [
        {
          "output_type": "stream",
          "text": [
            "Fitting estimator with 8 features.\n",
            "Fitting estimator with 6 features.\n",
            "Fitting estimator with 4 features.\n",
            "Index(['glucose', 'insulin'], dtype='object')\n"
          ],
          "name": "stdout"
        }
      ]
    }
  ]
}