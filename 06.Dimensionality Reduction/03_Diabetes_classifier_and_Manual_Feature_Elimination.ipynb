{
  "nbformat": 4,
  "nbformat_minor": 0,
  "metadata": {
    "colab": {
      "name": "03. Diabetes classifier and Manual Feature Elimination.ipynb",
      "provenance": [],
      "authorship_tag": "ABX9TyPA4SlN6hTIwuk6IVKFZYGj",
      "include_colab_link": true
    },
    "kernelspec": {
      "name": "python3",
      "display_name": "Python 3"
    }
  },
  "cells": [
    {
      "cell_type": "markdown",
      "metadata": {
        "id": "view-in-github",
        "colab_type": "text"
      },
      "source": [
        "<a href=\"https://colab.research.google.com/github/raj-vijay/ml/blob/master/06.Dimensionality%20Reduction/03_Diabetes_classifier_and_Manual_Feature_Elimination.ipynb\" target=\"_parent\"><img src=\"https://colab.research.google.com/assets/colab-badge.svg\" alt=\"Open In Colab\"/></a>"
      ]
    },
    {
      "cell_type": "code",
      "metadata": {
        "id": "cCKCFl8WdBQR"
      },
      "source": [
        "import pandas as pd"
      ],
      "execution_count": null,
      "outputs": []
    },
    {
      "cell_type": "code",
      "metadata": {
        "id": "8bw-2JLbdQ-b"
      },
      "source": [
        "df = pd.read_csv('PimaIndians.csv')"
      ],
      "execution_count": null,
      "outputs": []
    },
    {
      "cell_type": "code",
      "metadata": {
        "id": "Ib6rnTL7dYH1",
        "colab": {
          "base_uri": "https://localhost:8080/",
          "height": 204
        },
        "outputId": "eecae827-7146-4bbb-e73e-c00d5803a154"
      },
      "source": [
        "df.head()"
      ],
      "execution_count": null,
      "outputs": [
        {
          "output_type": "execute_result",
          "data": {
            "text/html": [
              "<div>\n",
              "<style scoped>\n",
              "    .dataframe tbody tr th:only-of-type {\n",
              "        vertical-align: middle;\n",
              "    }\n",
              "\n",
              "    .dataframe tbody tr th {\n",
              "        vertical-align: top;\n",
              "    }\n",
              "\n",
              "    .dataframe thead th {\n",
              "        text-align: right;\n",
              "    }\n",
              "</style>\n",
              "<table border=\"1\" class=\"dataframe\">\n",
              "  <thead>\n",
              "    <tr style=\"text-align: right;\">\n",
              "      <th></th>\n",
              "      <th>pregnant</th>\n",
              "      <th>glucose</th>\n",
              "      <th>diastolic</th>\n",
              "      <th>triceps</th>\n",
              "      <th>insulin</th>\n",
              "      <th>bmi</th>\n",
              "      <th>family</th>\n",
              "      <th>age</th>\n",
              "      <th>test</th>\n",
              "    </tr>\n",
              "  </thead>\n",
              "  <tbody>\n",
              "    <tr>\n",
              "      <th>0</th>\n",
              "      <td>1</td>\n",
              "      <td>89</td>\n",
              "      <td>66</td>\n",
              "      <td>23</td>\n",
              "      <td>94</td>\n",
              "      <td>28.1</td>\n",
              "      <td>0.167</td>\n",
              "      <td>21</td>\n",
              "      <td>negative</td>\n",
              "    </tr>\n",
              "    <tr>\n",
              "      <th>1</th>\n",
              "      <td>0</td>\n",
              "      <td>137</td>\n",
              "      <td>40</td>\n",
              "      <td>35</td>\n",
              "      <td>168</td>\n",
              "      <td>43.1</td>\n",
              "      <td>2.288</td>\n",
              "      <td>33</td>\n",
              "      <td>positive</td>\n",
              "    </tr>\n",
              "    <tr>\n",
              "      <th>2</th>\n",
              "      <td>3</td>\n",
              "      <td>78</td>\n",
              "      <td>50</td>\n",
              "      <td>32</td>\n",
              "      <td>88</td>\n",
              "      <td>31.0</td>\n",
              "      <td>0.248</td>\n",
              "      <td>26</td>\n",
              "      <td>positive</td>\n",
              "    </tr>\n",
              "    <tr>\n",
              "      <th>3</th>\n",
              "      <td>2</td>\n",
              "      <td>197</td>\n",
              "      <td>70</td>\n",
              "      <td>45</td>\n",
              "      <td>543</td>\n",
              "      <td>30.5</td>\n",
              "      <td>0.158</td>\n",
              "      <td>53</td>\n",
              "      <td>positive</td>\n",
              "    </tr>\n",
              "    <tr>\n",
              "      <th>4</th>\n",
              "      <td>1</td>\n",
              "      <td>189</td>\n",
              "      <td>60</td>\n",
              "      <td>23</td>\n",
              "      <td>846</td>\n",
              "      <td>30.1</td>\n",
              "      <td>0.398</td>\n",
              "      <td>59</td>\n",
              "      <td>positive</td>\n",
              "    </tr>\n",
              "  </tbody>\n",
              "</table>\n",
              "</div>"
            ],
            "text/plain": [
              "   pregnant  glucose  diastolic  triceps  insulin   bmi  family  age      test\n",
              "0         1       89         66       23       94  28.1   0.167   21  negative\n",
              "1         0      137         40       35      168  43.1   2.288   33  positive\n",
              "2         3       78         50       32       88  31.0   0.248   26  positive\n",
              "3         2      197         70       45      543  30.5   0.158   53  positive\n",
              "4         1      189         60       23      846  30.1   0.398   59  positive"
            ]
          },
          "metadata": {
            "tags": []
          },
          "execution_count": 3
        }
      ]
    },
    {
      "cell_type": "code",
      "metadata": {
        "id": "48MurOajda2t"
      },
      "source": [
        "X = df.drop('test', axis =1)"
      ],
      "execution_count": null,
      "outputs": []
    },
    {
      "cell_type": "code",
      "metadata": {
        "id": "goT3FijsdjF9"
      },
      "source": [
        "y = df['test']"
      ],
      "execution_count": null,
      "outputs": []
    },
    {
      "cell_type": "markdown",
      "metadata": {
        "id": "UIHWk6KJe1O_"
      },
      "source": [
        "**Building a diabetes classifier**"
      ]
    },
    {
      "cell_type": "code",
      "metadata": {
        "id": "KFtZE9DSdpNS"
      },
      "source": [
        "from sklearn.linear_model import LogisticRegression\n",
        "from sklearn.preprocessing import StandardScaler\n",
        "from sklearn.model_selection import train_test_split\n",
        "from sklearn.metrics import accuracy_score"
      ],
      "execution_count": null,
      "outputs": []
    },
    {
      "cell_type": "code",
      "metadata": {
        "id": "ThxuzJvId-kQ"
      },
      "source": [
        "scaler = StandardScaler()\n",
        "lr = LogisticRegression()"
      ],
      "execution_count": null,
      "outputs": []
    },
    {
      "cell_type": "code",
      "metadata": {
        "id": "lxU5WEkSeUXY"
      },
      "source": [
        "X_train, X_test, y_train, y_test = train_test_split(X, y)"
      ],
      "execution_count": null,
      "outputs": []
    },
    {
      "cell_type": "code",
      "metadata": {
        "id": "ERd1Z9modnLc",
        "colab": {
          "base_uri": "https://localhost:8080/",
          "height": 34
        },
        "outputId": "fa9a8d09-a06c-4681-a6d6-cc06154b5548"
      },
      "source": [
        "# Fit the scaler on the training features and transform these in one go\n",
        "X_train_std = scaler.fit_transform(X_train)\n",
        "\n",
        "# Fit the logistic regression model on the scaled training data\n",
        "lr.fit(X_train_std, y_train)\n",
        "\n",
        "# Scale the test features\n",
        "X_test_std = scaler.transform(X_test)\n",
        "\n",
        "# Predict diabetes presence on the scaled test set\n",
        "y_pred = lr.predict(X_test_std)\n",
        "\n",
        "# Prints accuracy metrics and feature coefficients\n",
        "print(\"{0:.1%} accuracy on test set.\".format(accuracy_score(y_test, y_pred)))"
      ],
      "execution_count": null,
      "outputs": [
        {
          "output_type": "stream",
          "text": [
            "80.6% accuracy on test set.\n"
          ],
          "name": "stdout"
        }
      ]
    },
    {
      "cell_type": "markdown",
      "metadata": {
        "id": "ddUsDI2_ew7c"
      },
      "source": [
        "**Manual Recursive Feature Elimination**"
      ]
    },
    {
      "cell_type": "markdown",
      "metadata": {
        "id": "Xm4SYxRkfPdA"
      },
      "source": [
        "After creating the diabetes classifier, we reduce the number of features without hurting the model accuracy too much."
      ]
    },
    {
      "cell_type": "code",
      "metadata": {
        "id": "k2Kl6uAcfBeC",
        "colab": {
          "base_uri": "https://localhost:8080/",
          "height": 51
        },
        "outputId": "88ed0349-764a-4f28-a28d-8a9a6e7e0cf6"
      },
      "source": [
        "# Remove the feature with the lowest model coefficient\n",
        "X = df[['pregnant', 'glucose', 'triceps', 'insulin', 'bmi', 'family', 'age']]\n",
        "\n",
        "# Performs a 25-75% train test split\n",
        "X_train, X_test, y_train, y_test = train_test_split(X, y, test_size=0.25, random_state=0)\n",
        "\n",
        "# Scales features and fits the logistic regression model\n",
        "lr.fit(scaler.fit_transform(X_train), y_train)\n",
        "\n",
        "# Calculates the accuracy on the test set and prints coefficients\n",
        "acc = accuracy_score(y_test, lr.predict(scaler.transform(X_test)))\n",
        "print(\"{0:.1%} accuracy on test set.\".format(acc)) \n",
        "print(dict(zip(X.columns, abs(lr.coef_[0]).round(2))))"
      ],
      "execution_count": null,
      "outputs": [
        {
          "output_type": "stream",
          "text": [
            "80.6% accuracy on test set.\n",
            "{'pregnant': 0.05, 'glucose': 1.24, 'triceps': 0.24, 'insulin': 0.2, 'bmi': 0.39, 'family': 0.34, 'age': 0.35}\n"
          ],
          "name": "stdout"
        }
      ]
    },
    {
      "cell_type": "code",
      "metadata": {
        "id": "oSyUFSBVff58",
        "colab": {
          "base_uri": "https://localhost:8080/",
          "height": 51
        },
        "outputId": "52a8ead7-49a6-4789-8175-a24bbdc4123f"
      },
      "source": [
        "# Remove the 2 features with the lowest model coefficients\n",
        "X = df[['glucose', 'triceps', 'bmi', 'family', 'age']]\n",
        "\n",
        "# Performs a 25-75% train test split\n",
        "X_train, X_test, y_train, y_test = train_test_split(X, y, test_size=0.25, random_state=0)\n",
        "\n",
        "# Scales features and fits the logistic regression model\n",
        "lr.fit(scaler.fit_transform(X_train), y_train)\n",
        "\n",
        "# Calculates the accuracy on the test set and prints coefficients\n",
        "acc = accuracy_score(y_test, lr.predict(scaler.transform(X_test)))\n",
        "print(\"{0:.1%} accuracy on test set.\".format(acc)) \n",
        "print(dict(zip(X.columns, abs(lr.coef_[0]).round(2))))"
      ],
      "execution_count": null,
      "outputs": [
        {
          "output_type": "stream",
          "text": [
            "79.6% accuracy on test set.\n",
            "{'glucose': 1.13, 'triceps': 0.25, 'bmi': 0.34, 'family': 0.34, 'age': 0.37}\n"
          ],
          "name": "stdout"
        }
      ]
    },
    {
      "cell_type": "code",
      "metadata": {
        "id": "XE685WS0fiFy",
        "colab": {
          "base_uri": "https://localhost:8080/",
          "height": 51
        },
        "outputId": "9522fa8c-e7fa-4275-f340-548b65afb08c"
      },
      "source": [
        "# Only keep the feature with the highest coefficient\n",
        "X = df[['glucose']]\n",
        "\n",
        "# Performs a 25-75% train test split\n",
        "X_train, X_test, y_train, y_test = train_test_split(X, y, test_size=0.25, random_state=0)\n",
        "\n",
        "# Scales features and fits the logistic regression model to the data\n",
        "lr.fit(scaler.fit_transform(X_train), y_train)\n",
        "\n",
        "# Calculates the accuracy on the test set and prints coefficients\n",
        "acc = accuracy_score(y_test, lr.predict(scaler.transform(X_test)))\n",
        "print(\"{0:.1%} accuracy on test set.\".format(acc)) \n",
        "print(dict(zip(X.columns, abs(lr.coef_[0]).round(2))))"
      ],
      "execution_count": null,
      "outputs": [
        {
          "output_type": "stream",
          "text": [
            "75.5% accuracy on test set.\n",
            "{'glucose': 1.28}\n"
          ],
          "name": "stdout"
        }
      ]
    }
  ]
}