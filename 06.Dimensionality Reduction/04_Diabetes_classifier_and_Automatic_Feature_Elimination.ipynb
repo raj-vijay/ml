{
  "nbformat": 4,
  "nbformat_minor": 0,
  "metadata": {
    "colab": {
      "name": "04. Diabetes classifier and Automatic Feature Elimination.ipynb",
      "provenance": [],
      "collapsed_sections": [],
      "authorship_tag": "ABX9TyOg6vh8fPUN1Q482wXDmDBQ",
      "include_colab_link": true
    },
    "kernelspec": {
      "name": "python3",
      "display_name": "Python 3"
    }
  },
  "cells": [
    {
      "cell_type": "markdown",
      "metadata": {
        "id": "view-in-github",
        "colab_type": "text"
      },
      "source": [
        "<a href=\"https://colab.research.google.com/github/raj-vijay/ml/blob/master/06.Dimensionality%20Reduction/04_Diabetes_classifier_and_Automatic_Feature_Elimination.ipynb\" target=\"_parent\"><img src=\"https://colab.research.google.com/assets/colab-badge.svg\" alt=\"Open In Colab\"/></a>"
      ]
    },
    {
      "cell_type": "code",
      "metadata": {
        "id": "cCKCFl8WdBQR"
      },
      "source": [
        "import pandas as pd"
      ],
      "execution_count": null,
      "outputs": []
    },
    {
      "cell_type": "code",
      "metadata": {
        "id": "8bw-2JLbdQ-b"
      },
      "source": [
        "df = pd.read_csv('PimaIndians.csv')"
      ],
      "execution_count": null,
      "outputs": []
    },
    {
      "cell_type": "code",
      "metadata": {
        "id": "Ib6rnTL7dYH1",
        "colab": {
          "base_uri": "https://localhost:8080/",
          "height": 204
        },
        "outputId": "d151f0b4-c6d3-44ea-aeb2-12ed9115ebd9"
      },
      "source": [
        "df.head()"
      ],
      "execution_count": null,
      "outputs": [
        {
          "output_type": "execute_result",
          "data": {
            "text/html": [
              "<div>\n",
              "<style scoped>\n",
              "    .dataframe tbody tr th:only-of-type {\n",
              "        vertical-align: middle;\n",
              "    }\n",
              "\n",
              "    .dataframe tbody tr th {\n",
              "        vertical-align: top;\n",
              "    }\n",
              "\n",
              "    .dataframe thead th {\n",
              "        text-align: right;\n",
              "    }\n",
              "</style>\n",
              "<table border=\"1\" class=\"dataframe\">\n",
              "  <thead>\n",
              "    <tr style=\"text-align: right;\">\n",
              "      <th></th>\n",
              "      <th>pregnant</th>\n",
              "      <th>glucose</th>\n",
              "      <th>diastolic</th>\n",
              "      <th>triceps</th>\n",
              "      <th>insulin</th>\n",
              "      <th>bmi</th>\n",
              "      <th>family</th>\n",
              "      <th>age</th>\n",
              "      <th>test</th>\n",
              "    </tr>\n",
              "  </thead>\n",
              "  <tbody>\n",
              "    <tr>\n",
              "      <th>0</th>\n",
              "      <td>1</td>\n",
              "      <td>89</td>\n",
              "      <td>66</td>\n",
              "      <td>23</td>\n",
              "      <td>94</td>\n",
              "      <td>28.1</td>\n",
              "      <td>0.167</td>\n",
              "      <td>21</td>\n",
              "      <td>negative</td>\n",
              "    </tr>\n",
              "    <tr>\n",
              "      <th>1</th>\n",
              "      <td>0</td>\n",
              "      <td>137</td>\n",
              "      <td>40</td>\n",
              "      <td>35</td>\n",
              "      <td>168</td>\n",
              "      <td>43.1</td>\n",
              "      <td>2.288</td>\n",
              "      <td>33</td>\n",
              "      <td>positive</td>\n",
              "    </tr>\n",
              "    <tr>\n",
              "      <th>2</th>\n",
              "      <td>3</td>\n",
              "      <td>78</td>\n",
              "      <td>50</td>\n",
              "      <td>32</td>\n",
              "      <td>88</td>\n",
              "      <td>31.0</td>\n",
              "      <td>0.248</td>\n",
              "      <td>26</td>\n",
              "      <td>positive</td>\n",
              "    </tr>\n",
              "    <tr>\n",
              "      <th>3</th>\n",
              "      <td>2</td>\n",
              "      <td>197</td>\n",
              "      <td>70</td>\n",
              "      <td>45</td>\n",
              "      <td>543</td>\n",
              "      <td>30.5</td>\n",
              "      <td>0.158</td>\n",
              "      <td>53</td>\n",
              "      <td>positive</td>\n",
              "    </tr>\n",
              "    <tr>\n",
              "      <th>4</th>\n",
              "      <td>1</td>\n",
              "      <td>189</td>\n",
              "      <td>60</td>\n",
              "      <td>23</td>\n",
              "      <td>846</td>\n",
              "      <td>30.1</td>\n",
              "      <td>0.398</td>\n",
              "      <td>59</td>\n",
              "      <td>positive</td>\n",
              "    </tr>\n",
              "  </tbody>\n",
              "</table>\n",
              "</div>"
            ],
            "text/plain": [
              "   pregnant  glucose  diastolic  triceps  insulin   bmi  family  age      test\n",
              "0         1       89         66       23       94  28.1   0.167   21  negative\n",
              "1         0      137         40       35      168  43.1   2.288   33  positive\n",
              "2         3       78         50       32       88  31.0   0.248   26  positive\n",
              "3         2      197         70       45      543  30.5   0.158   53  positive\n",
              "4         1      189         60       23      846  30.1   0.398   59  positive"
            ]
          },
          "metadata": {
            "tags": []
          },
          "execution_count": 3
        }
      ]
    },
    {
      "cell_type": "code",
      "metadata": {
        "id": "48MurOajda2t"
      },
      "source": [
        "X = df.drop('test', axis =1)"
      ],
      "execution_count": null,
      "outputs": []
    },
    {
      "cell_type": "code",
      "metadata": {
        "id": "goT3FijsdjF9"
      },
      "source": [
        "y = df['test']"
      ],
      "execution_count": null,
      "outputs": []
    },
    {
      "cell_type": "markdown",
      "metadata": {
        "id": "UIHWk6KJe1O_"
      },
      "source": [
        "**Building a diabetes classifier**"
      ]
    },
    {
      "cell_type": "code",
      "metadata": {
        "id": "KFtZE9DSdpNS"
      },
      "source": [
        "from sklearn.linear_model import LogisticRegression\n",
        "from sklearn.preprocessing import StandardScaler\n",
        "from sklearn.model_selection import train_test_split\n",
        "from sklearn.metrics import accuracy_score\n",
        "from sklearn.feature_selection import RFE"
      ],
      "execution_count": null,
      "outputs": []
    },
    {
      "cell_type": "code",
      "metadata": {
        "id": "ThxuzJvId-kQ"
      },
      "source": [
        "scaler = StandardScaler()\n",
        "lr = LogisticRegression()"
      ],
      "execution_count": null,
      "outputs": []
    },
    {
      "cell_type": "code",
      "metadata": {
        "id": "lxU5WEkSeUXY"
      },
      "source": [
        "X_train, X_test, y_train, y_test = train_test_split(X, y)"
      ],
      "execution_count": null,
      "outputs": []
    },
    {
      "cell_type": "code",
      "metadata": {
        "id": "ERd1Z9modnLc",
        "colab": {
          "base_uri": "https://localhost:8080/",
          "height": 34
        },
        "outputId": "db4d2ebb-329c-4218-8fdf-4c4b067b259c"
      },
      "source": [
        "# Fit the scaler on the training features and transform these in one go\n",
        "X_train_std = scaler.fit_transform(X_train)\n",
        "\n",
        "# Fit the logistic regression model on the scaled training data\n",
        "lr.fit(X_train_std, y_train)\n",
        "\n",
        "# Scale the test features\n",
        "X_test_std = scaler.transform(X_test)\n",
        "\n",
        "# Predict diabetes presence on the scaled test set\n",
        "y_pred = lr.predict(X_test_std)\n",
        "\n",
        "# Prints accuracy metrics and feature coefficients\n",
        "print(\"{0:.1%} accuracy on test set.\".format(accuracy_score(y_test, y_pred)))"
      ],
      "execution_count": null,
      "outputs": [
        {
          "output_type": "stream",
          "text": [
            "72.4% accuracy on test set.\n"
          ],
          "name": "stdout"
        }
      ]
    },
    {
      "cell_type": "markdown",
      "metadata": {
        "id": "ddUsDI2_ew7c"
      },
      "source": [
        "**Manual Recursive Feature Elimination**"
      ]
    },
    {
      "cell_type": "code",
      "metadata": {
        "id": "TLQeF2l-gUgW",
        "colab": {
          "base_uri": "https://localhost:8080/",
          "height": 309
        },
        "outputId": "35defbe4-448c-43e0-bb70-7e9b94c985e7"
      },
      "source": [
        "# Create the RFE with a LogisticRegression estimator and 3 features to select\n",
        "rfe = RFE(estimator=LogisticRegression(), n_features_to_select=3, verbose=1)\n",
        "\n",
        "# Fit the eliminator to the data\n",
        "rfe.fit(X_train, y_train)\n",
        "\n",
        "# Print the features and their ranking (high = dropped early on)\n",
        "print(dict(zip(X.columns, rfe.ranking_)))\n",
        "\n",
        "# Print the features that are not eliminated\n",
        "print(X.columns[rfe.support_])\n",
        "\n",
        "# Calculates the test set accuracy\n",
        "acc = accuracy_score(y_test, rfe.predict(X_test))\n",
        "print(\"{0:.1%} accuracy on test set.\".format(acc)) "
      ],
      "execution_count": null,
      "outputs": [
        {
          "output_type": "stream",
          "text": [
            "Fitting estimator with 8 features.\n",
            "Fitting estimator with 7 features.\n",
            "Fitting estimator with 6 features.\n",
            "Fitting estimator with 5 features.\n",
            "Fitting estimator with 4 features.\n",
            "{'pregnant': 2, 'glucose': 3, 'diastolic': 4, 'triceps': 5, 'insulin': 6, 'bmi': 1, 'family': 1, 'age': 1}\n",
            "Index(['bmi', 'family', 'age'], dtype='object')\n",
            "62.2% accuracy on test set.\n"
          ],
          "name": "stdout"
        },
        {
          "output_type": "stream",
          "text": [
            "/usr/local/lib/python3.6/dist-packages/sklearn/linear_model/_logistic.py:940: ConvergenceWarning: lbfgs failed to converge (status=1):\n",
            "STOP: TOTAL NO. of ITERATIONS REACHED LIMIT.\n",
            "\n",
            "Increase the number of iterations (max_iter) or scale the data as shown in:\n",
            "    https://scikit-learn.org/stable/modules/preprocessing.html\n",
            "Please also refer to the documentation for alternative solver options:\n",
            "    https://scikit-learn.org/stable/modules/linear_model.html#logistic-regression\n",
            "  extra_warning_msg=_LOGISTIC_SOLVER_CONVERGENCE_MSG)\n"
          ],
          "name": "stderr"
        }
      ]
    }
  ]
}