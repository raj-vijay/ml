{
  "nbformat": 4,
  "nbformat_minor": 0,
  "metadata": {
    "colab": {
      "name": "11. Intrinsic dimension of the fish measurements.ipynb",
      "provenance": [],
      "collapsed_sections": [],
      "include_colab_link": true
    },
    "kernelspec": {
      "name": "python3",
      "display_name": "Python 3"
    }
  },
  "cells": [
    {
      "cell_type": "markdown",
      "metadata": {
        "id": "view-in-github",
        "colab_type": "text"
      },
      "source": [
        "<a href=\"https://colab.research.google.com/github/raj-vijay/ml/blob/master/11_Intrinsic_dimension_of_the_fish_measurements.ipynb\" target=\"_parent\"><img src=\"https://colab.research.google.com/assets/colab-badge.svg\" alt=\"Open In Colab\"/></a>"
      ]
    },
    {
      "cell_type": "markdown",
      "metadata": {
        "id": "8BHdIKOLY9T2",
        "colab_type": "text"
      },
      "source": [
        "**Dimension reduction and Intrinsic dimension of the fish measurements**"
      ]
    },
    {
      "cell_type": "markdown",
      "metadata": {
        "id": "A0G9udqgW7hy",
        "colab_type": "text"
      },
      "source": [
        "In machine learning, the intrinsic dimension for a data set is the number of variables needed in a minimal representation of the data. It is the number of variables needed to generate a good approximation of the data.\n",
        "\n",
        "For a data set of N variables, its intrinsic dimension M satisfies 0 ≤ M ≤ N."
      ]
    },
    {
      "cell_type": "markdown",
      "metadata": {
        "id": "O_5TvC9AX6Mx",
        "colab_type": "text"
      },
      "source": [
        "The fish measurement dataset was sourced from the Journal of Statistics Education. \n",
        "\n",
        "http://jse.amstat.org/jse_data_archive.htm"
      ]
    },
    {
      "cell_type": "markdown",
      "metadata": {
        "id": "UYJqGxWQYI60",
        "colab_type": "text"
      },
      "source": [
        "**The Fish Dataset**\n",
        "\n",
        "159 fishes of 7 species are caught and measured. Altogether there are\n",
        "8 variables.  All the fishes are caught from the same lake\n",
        "(Laengelmavesi) near Tampere in Finland.\n",
        "\n",
        "\n",
        "\n",
        "**VARIABLE DESCRIPTIONS**\n",
        "\n",
        "1  Obs:       Observation number ranges from 1 to 159\n",
        "\n",
        "2  Species   (Numeric)\n",
        "\n",
        "        Code Finnish  Swedish    English        Latin      \n",
        "         1   Lahna    Braxen     Bream          Abramis brama\n",
        "         2   Siika    Iiden      Whitewish      Leusiscus idus\n",
        "         3   Saerki   Moerten    Roach          Leuciscus rutilus\n",
        "         4   Parkki   Bjoerknan  ?              Abramis bjrkna\n",
        "         5   Norssi   Norssen    Smelt          Osmerus eperlanus\n",
        "         6   Hauki    Jaedda     Pike           Esox lucius\n",
        "         7   Ahven    Abborre    Perch          Perca fluviatilis\n",
        "\n",
        "3  Weight:      Weight of the fish (in grams)\n",
        "\n",
        "4  Length1:     Length from the nose to the beginning of the tail (in cm)\n",
        "\n",
        "5  Length2:     Length from the nose to the notch of the tail (in cm)\n",
        "\n",
        "6  Length3:     Length from the nose to the end of the tail (in cm)\n",
        "\n",
        "7  Height%:     Maximal height as % of Length3\n",
        "\n",
        "8  Width%:      Maximal width as % of Length3\n",
        "\n",
        "9  Sex:         1 = male 0 = female\n",
        "\n",
        "\n",
        "\n",
        "          ___/////___                  _\n",
        "         /           \\    ___          |\n",
        "       /\\             \\_ /  /          H\n",
        "     <   )            __)  \\           |\n",
        "       \\/_\\\\_________/   \\__\\          _\n",
        "\n",
        "     |------- L1 -------|\n",
        "     |------- L2 ----------|\n",
        "     |------- L3 ------------|\n"
      ]
    },
    {
      "cell_type": "markdown",
      "metadata": {
        "id": "mpzuW6-UZF5N",
        "colab_type": "text"
      },
      "source": [
        "The measurements, such as weight in grams, length in centimeters, and the percentage ratio of height to length, have very different scales. In order to cluster this data effectively, we need to standardize these features first. \n",
        "\n",
        "Here, we build a pipeline to standardize and cluster the data."
      ]
    },
    {
      "cell_type": "code",
      "metadata": {
        "id": "4I6QAklhO7VA",
        "colab_type": "code",
        "outputId": "cd086970-2b0e-4100-f769-e87b0a3039db",
        "colab": {
          "base_uri": "https://localhost:8080/",
          "height": 212
        }
      },
      "source": [
        "# Download the seeds data using wget (Linux)\n",
        "!wget http://jse.amstat.org/datasets/fishcatch.dat.txt"
      ],
      "execution_count": 0,
      "outputs": [
        {
          "output_type": "stream",
          "text": [
            "--2020-01-03 16:53:31--  http://jse.amstat.org/datasets/fishcatch.dat.txt\n",
            "Resolving jse.amstat.org (jse.amstat.org)... 107.180.48.28\n",
            "Connecting to jse.amstat.org (jse.amstat.org)|107.180.48.28|:80... connected.\n",
            "HTTP request sent, awaiting response... 200 OK\n",
            "Length: 10740 (10K) [text/plain]\n",
            "Saving to: ‘fishcatch.dat.txt.1’\n",
            "\n",
            "\rfishcatch.dat.txt.1   0%[                    ]       0  --.-KB/s               \rfishcatch.dat.txt.1 100%[===================>]  10.49K  --.-KB/s    in 0s      \n",
            "\n",
            "2020-01-03 16:53:31 (289 MB/s) - ‘fishcatch.dat.txt.1’ saved [10740/10740]\n",
            "\n"
          ],
          "name": "stdout"
        }
      ]
    },
    {
      "cell_type": "markdown",
      "metadata": {
        "id": "bD6WVCu_Xvi_",
        "colab_type": "text"
      },
      "source": [
        "Import NumPy and Pandas"
      ]
    },
    {
      "cell_type": "code",
      "metadata": {
        "id": "45Uj9c-RTKGP",
        "colab_type": "code",
        "colab": {}
      },
      "source": [
        "import numpy as np\n",
        "import pandas as pd"
      ],
      "execution_count": 0,
      "outputs": []
    },
    {
      "cell_type": "markdown",
      "metadata": {
        "id": "4KyBhAJ2YYQu",
        "colab_type": "text"
      },
      "source": [
        "Load the dataset to an array 'samples' containing the measurements (such as area, perimeter, length, and several others) of samples of grain."
      ]
    },
    {
      "cell_type": "code",
      "metadata": {
        "id": "W6Jv5M_OTGH2",
        "colab_type": "code",
        "colab": {}
      },
      "source": [
        "data = np.genfromtxt('fishcatch.dat.txt')"
      ],
      "execution_count": 0,
      "outputs": []
    },
    {
      "cell_type": "code",
      "metadata": {
        "id": "p6RDUSOaTTIv",
        "colab_type": "code",
        "outputId": "73b26ec3-d7a5-4c93-96f7-53e523250b56",
        "colab": {
          "base_uri": "https://localhost:8080/",
          "height": 1000
        }
      },
      "source": [
        "# Test the dataload for the seeds dataset\n",
        "samples = data[:,2:-2][~np.isnan(data).any(axis=1)]\n",
        "samples"
      ],
      "execution_count": 0,
      "outputs": [
        {
          "output_type": "execute_result",
          "data": {
            "text/plain": [
              "array([[ 600. ,   29.4,   32. ,   37.2,   40.2],\n",
              "       [ 700. ,   30.4,   33. ,   38.3,   38.8],\n",
              "       [ 575. ,   31.3,   34. ,   39.5,   38.3],\n",
              "       [ 725. ,   31.8,   35. ,   40.9,   40. ],\n",
              "       [1000. ,   33.5,   37. ,   42.6,   44.5],\n",
              "       [ 920. ,   35. ,   38.5,   44.1,   40.9],\n",
              "       [ 925. ,   36.2,   39.5,   45.3,   41.4],\n",
              "       [ 975. ,   37.4,   41. ,   45.9,   40.6],\n",
              "       [ 800. ,   33.7,   36.4,   39.6,   29.7],\n",
              "       [ 110. ,   19.1,   20.8,   23.1,   26.7],\n",
              "       [ 120. ,   19.4,   21. ,   23.7,   25.8],\n",
              "       [ 150. ,   20.4,   22. ,   24.7,   23.5],\n",
              "       [ 145. ,   20.5,   22. ,   24.3,   27.3],\n",
              "       [ 160. ,   20.5,   22.5,   25.3,   27.8],\n",
              "       [ 160. ,   21.1,   22.5,   25. ,   25.6],\n",
              "       [ 200. ,   22.1,   23.5,   26.8,   27.6],\n",
              "       [ 272. ,   25. ,   27. ,   30.6,   28. ],\n",
              "       [  60. ,   14.3,   15.5,   17.4,   37.8],\n",
              "       [  90. ,   16.3,   17.7,   19.8,   37.4],\n",
              "       [ 120. ,   17.5,   19. ,   21.3,   39.4],\n",
              "       [ 170. ,   19. ,   20.7,   23.2,   40.5],\n",
              "       [ 145. ,   19.8,   21.5,   24.1,   40.4],\n",
              "       [ 273. ,   23. ,   25. ,   28. ,   39.6],\n",
              "       [ 300. ,   24. ,   26. ,   29. ,   39.2],\n",
              "       [   6.7,    9.3,    9.8,   10.8,   16.1],\n",
              "       [   7.5,   10. ,   10.5,   11.6,   17. ],\n",
              "       [   7. ,   10.1,   10.6,   11.6,   14.9],\n",
              "       [   9.7,   10.4,   11. ,   12. ,   18.3],\n",
              "       [   9.8,   10.7,   11.2,   12.4,   16.8],\n",
              "       [   8.7,   10.8,   11.3,   12.6,   15.7],\n",
              "       [  10. ,   11.3,   11.8,   13.1,   16.9],\n",
              "       [   9.9,   11.3,   11.8,   13.1,   16.9],\n",
              "       [   9.8,   11.4,   12. ,   13.2,   16.7],\n",
              "       [  12.2,   11.5,   12.2,   13.4,   15.6],\n",
              "       [  13.4,   11.7,   12.4,   13.5,   18. ],\n",
              "       [  12.2,   12.1,   13. ,   13.8,   16.5],\n",
              "       [  19.7,   13.2,   14.3,   15.2,   18.9],\n",
              "       [  19.9,   13.8,   15. ,   16.2,   18.1],\n",
              "       [ 300. ,   31.7,   34. ,   37.8,   15.1],\n",
              "       [ 345. ,   36. ,   38.5,   41. ,   15.6],\n",
              "       [ 567. ,   43.2,   46. ,   48.7,   16. ],\n",
              "       [ 770. ,   44.8,   48. ,   51.2,   15. ],\n",
              "       [1550. ,   56. ,   60. ,   64. ,   15. ],\n",
              "       [1650. ,   59. ,   63.4,   68. ,   15.9],\n",
              "       [ 125. ,   19. ,   21. ,   22.5,   25.3],\n",
              "       [ 130. ,   19.3,   21.3,   22.8,   28. ],\n",
              "       [ 120. ,   20. ,   22. ,   23.5,   26. ],\n",
              "       [ 110. ,   20. ,   22. ,   23.5,   23.5],\n",
              "       [ 130. ,   20.5,   22.5,   24. ,   24.4],\n",
              "       [ 150. ,   20.5,   22.5,   24. ,   28.3],\n",
              "       [ 180. ,   23. ,   25. ,   26.5,   24.3],\n",
              "       [ 300. ,   25.2,   27.3,   28.7,   29. ],\n",
              "       [ 260. ,   25.4,   27.5,   28.9,   24.8],\n",
              "       [ 250. ,   25.4,   27.5,   28.9,   25.2],\n",
              "       [ 300. ,   26.9,   28.7,   30.1,   25.2],\n",
              "       [ 320. ,   27.8,   30. ,   31.6,   24.1],\n",
              "       [ 840. ,   32.5,   35. ,   37.3,   30.8],\n",
              "       [ 685. ,   34. ,   36.5,   39. ,   27.9],\n",
              "       [ 700. ,   34. ,   36. ,   38.3,   27.7],\n",
              "       [ 700. ,   34.5,   37. ,   39.4,   27.5],\n",
              "       [ 690. ,   34.6,   37. ,   39.3,   26.9],\n",
              "       [ 900. ,   36.5,   39. ,   41.4,   26.9],\n",
              "       [ 850. ,   36.9,   40. ,   42.3,   28.2],\n",
              "       [ 900. ,   37. ,   40. ,   42.5,   27.6],\n",
              "       [1015. ,   37. ,   40. ,   42.4,   29.2],\n",
              "       [ 820. ,   37.1,   40. ,   42.5,   26.2],\n",
              "       [1100. ,   39. ,   42. ,   44.6,   28.7],\n",
              "       [1000. ,   39.8,   43. ,   45.2,   26.4],\n",
              "       [1100. ,   40.1,   43. ,   45.5,   27.5],\n",
              "       [1000. ,   40.2,   43.5,   46. ,   27.4],\n",
              "       [1000. ,   41.1,   44. ,   46.6,   26.8]])"
            ]
          },
          "metadata": {
            "tags": []
          },
          "execution_count": 17
        }
      ]
    },
    {
      "cell_type": "code",
      "metadata": {
        "id": "1taN1JZcVbGn",
        "colab_type": "code",
        "outputId": "430abe9e-b6cd-4b10-cb3a-23495a185566",
        "colab": {
          "base_uri": "https://localhost:8080/",
          "height": 194
        }
      },
      "source": [
        "labels = data[:,1]\n",
        "labels"
      ],
      "execution_count": 0,
      "outputs": [
        {
          "output_type": "execute_result",
          "data": {
            "text/plain": [
              "array([1., 1., 1., 1., 1., 1., 1., 1., 1., 1., 1., 1., 1., 1., 1., 1., 1.,\n",
              "       1., 1., 1., 1., 1., 1., 1., 1., 1., 1., 1., 1., 1., 1., 1., 1., 1.,\n",
              "       1., 2., 2., 2., 2., 2., 2., 3., 3., 3., 3., 3., 3., 3., 3., 3., 3.,\n",
              "       3., 3., 3., 3., 3., 3., 3., 3., 3., 3., 4., 4., 4., 4., 4., 4., 4.,\n",
              "       4., 4., 4., 4., 5., 5., 5., 5., 5., 5., 5., 5., 5., 5., 5., 5., 5.,\n",
              "       5., 6., 6., 6., 6., 6., 6., 6., 6., 6., 6., 6., 6., 6., 6., 6., 6.,\n",
              "       6., 7., 7., 7., 7., 7., 7., 7., 7., 7., 7., 7., 7., 7., 7., 7., 7.,\n",
              "       7., 7., 7., 7., 7., 7., 7., 7., 7., 7., 7., 7., 7., 7., 7., 7., 7.,\n",
              "       7., 7., 7., 7., 7., 7., 7., 7., 7., 7., 7., 7., 7., 7., 7., 7., 7.,\n",
              "       7., 7., 7., 7., 7., 7.])"
            ]
          },
          "metadata": {
            "tags": []
          },
          "execution_count": 18
        }
      ]
    },
    {
      "cell_type": "code",
      "metadata": {
        "id": "-seDMcFhVdbG",
        "colab_type": "code",
        "outputId": "892655ba-9d44-416a-e9c6-950946a19180",
        "colab": {
          "base_uri": "https://localhost:8080/",
          "height": 461
        }
      },
      "source": [
        "np.species = np.where(labels==1, 'Bream', np.where(labels==2, 'Whitewish', np.where(labels==3, 'Roach', \n",
        "                      np.where(labels==4, 'Abramis', np.where(labels==5, 'Smelt', np.where(labels==6, 'Pike', np.where(labels==7, 'Abborre', labels)))))))\n",
        "\n",
        "np.species"
      ],
      "execution_count": 0,
      "outputs": [
        {
          "output_type": "execute_result",
          "data": {
            "text/plain": [
              "array(['Bream', 'Bream', 'Bream', 'Bream', 'Bream', 'Bream', 'Bream',\n",
              "       'Bream', 'Bream', 'Bream', 'Bream', 'Bream', 'Bream', 'Bream',\n",
              "       'Bream', 'Bream', 'Bream', 'Bream', 'Bream', 'Bream', 'Bream',\n",
              "       'Bream', 'Bream', 'Bream', 'Bream', 'Bream', 'Bream', 'Bream',\n",
              "       'Bream', 'Bream', 'Bream', 'Bream', 'Bream', 'Bream', 'Bream',\n",
              "       'Whitewish', 'Whitewish', 'Whitewish', 'Whitewish', 'Whitewish',\n",
              "       'Whitewish', 'Roach', 'Roach', 'Roach', 'Roach', 'Roach', 'Roach',\n",
              "       'Roach', 'Roach', 'Roach', 'Roach', 'Roach', 'Roach', 'Roach',\n",
              "       'Roach', 'Roach', 'Roach', 'Roach', 'Roach', 'Roach', 'Roach',\n",
              "       'Abramis', 'Abramis', 'Abramis', 'Abramis', 'Abramis', 'Abramis',\n",
              "       'Abramis', 'Abramis', 'Abramis', 'Abramis', 'Abramis', 'Smelt',\n",
              "       'Smelt', 'Smelt', 'Smelt', 'Smelt', 'Smelt', 'Smelt', 'Smelt',\n",
              "       'Smelt', 'Smelt', 'Smelt', 'Smelt', 'Smelt', 'Smelt', 'Pike',\n",
              "       'Pike', 'Pike', 'Pike', 'Pike', 'Pike', 'Pike', 'Pike', 'Pike',\n",
              "       'Pike', 'Pike', 'Pike', 'Pike', 'Pike', 'Pike', 'Pike', 'Pike',\n",
              "       'Abborre', 'Abborre', 'Abborre', 'Abborre', 'Abborre', 'Abborre',\n",
              "       'Abborre', 'Abborre', 'Abborre', 'Abborre', 'Abborre', 'Abborre',\n",
              "       'Abborre', 'Abborre', 'Abborre', 'Abborre', 'Abborre', 'Abborre',\n",
              "       'Abborre', 'Abborre', 'Abborre', 'Abborre', 'Abborre', 'Abborre',\n",
              "       'Abborre', 'Abborre', 'Abborre', 'Abborre', 'Abborre', 'Abborre',\n",
              "       'Abborre', 'Abborre', 'Abborre', 'Abborre', 'Abborre', 'Abborre',\n",
              "       'Abborre', 'Abborre', 'Abborre', 'Abborre', 'Abborre', 'Abborre',\n",
              "       'Abborre', 'Abborre', 'Abborre', 'Abborre', 'Abborre', 'Abborre',\n",
              "       'Abborre', 'Abborre', 'Abborre', 'Abborre', 'Abborre', 'Abborre',\n",
              "       'Abborre', 'Abborre'], dtype='<U32')"
            ]
          },
          "metadata": {
            "tags": []
          },
          "execution_count": 19
        }
      ]
    },
    {
      "cell_type": "markdown",
      "metadata": {
        "id": "PTJyiMYuY3s5",
        "colab_type": "text"
      },
      "source": [
        "Import the StandardScaler from sklearn.preprocessing, make_pipeline from sklearn.pipeline and KMeans function from sklearn.cluster"
      ]
    },
    {
      "cell_type": "code",
      "metadata": {
        "id": "12LuNV1RXWXe",
        "colab_type": "code",
        "colab": {}
      },
      "source": [
        "# Perform the necessary imports\n",
        "from sklearn.decomposition import PCA\n",
        "from sklearn.preprocessing import StandardScaler\n",
        "from sklearn.pipeline import make_pipeline\n",
        "import matplotlib.pyplot as plt"
      ],
      "execution_count": 0,
      "outputs": []
    },
    {
      "cell_type": "code",
      "metadata": {
        "id": "DIyr0mlgVGwX",
        "colab_type": "code",
        "colab": {}
      },
      "source": [
        "# Create scaler: scaler\n",
        "scaler = StandardScaler()"
      ],
      "execution_count": 0,
      "outputs": []
    },
    {
      "cell_type": "code",
      "metadata": {
        "id": "ajoK7nyqVK0_",
        "colab_type": "code",
        "colab": {}
      },
      "source": [
        "# Create a PCA instance: pca\n",
        "pca = PCA()"
      ],
      "execution_count": 0,
      "outputs": []
    },
    {
      "cell_type": "code",
      "metadata": {
        "id": "TMaf4eppVNs2",
        "colab_type": "code",
        "colab": {}
      },
      "source": [
        "# Create pipeline: pipeline\n",
        "pipeline = make_pipeline(scaler, pca)\n"
      ],
      "execution_count": 0,
      "outputs": []
    },
    {
      "cell_type": "code",
      "metadata": {
        "id": "g6rjVEVOVQa_",
        "colab_type": "code",
        "outputId": "925cae27-5114-4869-8514-4fe4077243a3",
        "colab": {
          "base_uri": "https://localhost:8080/",
          "height": 158
        }
      },
      "source": [
        "# Fit the pipeline to 'samples'\n",
        "pipeline.fit(samples)"
      ],
      "execution_count": 0,
      "outputs": [
        {
          "output_type": "execute_result",
          "data": {
            "text/plain": [
              "Pipeline(memory=None,\n",
              "         steps=[('standardscaler',\n",
              "                 StandardScaler(copy=True, with_mean=True, with_std=True)),\n",
              "                ('pca',\n",
              "                 PCA(copy=True, iterated_power='auto', n_components=None,\n",
              "                     random_state=None, svd_solver='auto', tol=0.0,\n",
              "                     whiten=False))],\n",
              "         verbose=False)"
            ]
          },
          "metadata": {
            "tags": []
          },
          "execution_count": 31
        }
      ]
    },
    {
      "cell_type": "code",
      "metadata": {
        "id": "vanDDqs4VTFG",
        "colab_type": "code",
        "outputId": "7e85271f-15ee-4753-fdb7-b53f59764c55",
        "colab": {
          "base_uri": "https://localhost:8080/",
          "height": 278
        }
      },
      "source": [
        "# Plot the explained variances\n",
        "features = range(pca.n_components_)\n",
        "plt.bar(features, pca.explained_variance_)\n",
        "plt.xlabel('PCA feature')\n",
        "plt.ylabel('variance')\n",
        "plt.xticks(features)\n",
        "plt.show()"
      ],
      "execution_count": 0,
      "outputs": [
        {
          "output_type": "display_data",
          "data": {
            "image/png": "[encoded data removed]",
            "text/plain": [
              "<Figure size 432x288 with 1 Axes>"
            ]
          },
          "metadata": {
            "tags": []
          }
        }
      ]
    },
    {
      "cell_type": "markdown",
      "metadata": {
        "id": "nA3xmi3hV-zh",
        "colab_type": "text"
      },
      "source": [
        "Now, we use PCA for dimensionality reduction of the fish measurements, retaining only the 2 most important components."
      ]
    },
    {
      "cell_type": "code",
      "metadata": {
        "id": "sPhIj8rMVl86",
        "colab_type": "code",
        "colab": {}
      },
      "source": [
        "# Import PCA\n",
        "from sklearn.decomposition import PCA"
      ],
      "execution_count": 0,
      "outputs": []
    },
    {
      "cell_type": "code",
      "metadata": {
        "id": "g5p0AqV8Vm6T",
        "colab_type": "code",
        "colab": {}
      },
      "source": [
        "# Create a PCA model with 2 components: pca\n",
        "pca = PCA(n_components=2)"
      ],
      "execution_count": 0,
      "outputs": []
    },
    {
      "cell_type": "code",
      "metadata": {
        "id": "f4evWby5VpFO",
        "colab_type": "code",
        "outputId": "04d08fc5-a6d8-4668-a07c-b8ccea158816",
        "colab": {
          "base_uri": "https://localhost:8080/",
          "height": 52
        }
      },
      "source": [
        "# Fit the PCA instance to the samples\n",
        "pca.fit(samples)"
      ],
      "execution_count": 0,
      "outputs": [
        {
          "output_type": "execute_result",
          "data": {
            "text/plain": [
              "PCA(copy=True, iterated_power='auto', n_components=2, random_state=None,\n",
              "    svd_solver='auto', tol=0.0, whiten=False)"
            ]
          },
          "metadata": {
            "tags": []
          },
          "execution_count": 36
        }
      ]
    },
    {
      "cell_type": "code",
      "metadata": {
        "id": "g8Ia9DgmV0TE",
        "colab_type": "code",
        "colab": {}
      },
      "source": [
        "# Transform the scaled samples: pca_features\n",
        "pca_features = pca.transform(samples)"
      ],
      "execution_count": 0,
      "outputs": []
    },
    {
      "cell_type": "code",
      "metadata": {
        "id": "mXv4PtmsV3hu",
        "colab_type": "code",
        "outputId": "851a8593-4d63-490d-a66e-f893e37e580e",
        "colab": {
          "base_uri": "https://localhost:8080/",
          "height": 34
        }
      },
      "source": [
        "# Print the shape of pca_features\n",
        "print(pca_features.shape)"
      ],
      "execution_count": 0,
      "outputs": [
        {
          "output_type": "stream",
          "text": [
            "(71, 2)\n"
          ],
          "name": "stdout"
        }
      ]
    }
  ]
}