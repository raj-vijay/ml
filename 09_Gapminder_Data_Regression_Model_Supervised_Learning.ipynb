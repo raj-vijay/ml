{
  "nbformat": 4,
  "nbformat_minor": 0,
  "metadata": {
    "colab": {
      "name": "09. Gapminder Data Regression Model Supervised Learning.ipynb",
      "provenance": [],
      "collapsed_sections": [],
      "include_colab_link": true
    },
    "kernelspec": {
      "name": "python3",
      "display_name": "Python 3"
    }
  },
  "cells": [
    {
      "cell_type": "markdown",
      "metadata": {
        "id": "view-in-github",
        "colab_type": "text"
      },
      "source": [
        "<a href=\"https://colab.research.google.com/github/raj-vijay/ml/blob/master/09_Gapminder_Data_Regression_Model_Supervised_Learning.ipynb\" target=\"_parent\"><img src=\"https://colab.research.google.com/assets/colab-badge.svg\" alt=\"Open In Colab\"/></a>"
      ]
    },
    {
      "cell_type": "markdown",
      "metadata": {
        "id": "5-uBah4Qn5t8",
        "colab_type": "text"
      },
      "source": [
        "**Gapminder Data: Linear Regression Model - Supervised Machine Learning**"
      ]
    },
    {
      "cell_type": "markdown",
      "metadata": {
        "id": "WLMhUi4FDM5Q",
        "colab_type": "text"
      },
      "source": [
        "The Gapminder Dataset describes life expentency depending on factors like fertility, GDP, Region, population etc.\n",
        "\n",
        "The dataset is imported from Kaggle.\n",
        "\n",
        "https://www.kaggle.com/"
      ]
    },
    {
      "cell_type": "markdown",
      "metadata": {
        "id": "yPCdjYjZkJ3-",
        "colab_type": "text"
      },
      "source": [
        "Installing Kaggle Package to access the Gapminder dataset from Kaggle."
      ]
    },
    {
      "cell_type": "code",
      "metadata": {
        "id": "My0q36n1jKX1",
        "colab_type": "code",
        "outputId": "08b768f5-ed4c-4835-f800-fa86f6e4ebd7",
        "colab": {
          "base_uri": "https://localhost:8080/",
          "height": 212
        }
      },
      "source": [
        "!pip install kaggle"
      ],
      "execution_count": 0,
      "outputs": [
        {
          "output_type": "stream",
          "text": [
            "Requirement already satisfied: kaggle in /usr/local/lib/python3.6/dist-packages (1.5.6)\n",
            "Requirement already satisfied: python-slugify in /usr/local/lib/python3.6/dist-packages (from kaggle) (4.0.0)\n",
            "Requirement already satisfied: certifi in /usr/local/lib/python3.6/dist-packages (from kaggle) (2019.9.11)\n",
            "Requirement already satisfied: python-dateutil in /usr/local/lib/python3.6/dist-packages (from kaggle) (2.6.1)\n",
            "Requirement already satisfied: requests in /usr/local/lib/python3.6/dist-packages (from kaggle) (2.21.0)\n",
            "Requirement already satisfied: urllib3<1.25,>=1.21.1 in /usr/local/lib/python3.6/dist-packages (from kaggle) (1.24.3)\n",
            "Requirement already satisfied: tqdm in /usr/local/lib/python3.6/dist-packages (from kaggle) (4.28.1)\n",
            "Requirement already satisfied: six>=1.10 in /usr/local/lib/python3.6/dist-packages (from kaggle) (1.12.0)\n",
            "Requirement already satisfied: text-unidecode>=1.3 in /usr/local/lib/python3.6/dist-packages (from python-slugify->kaggle) (1.3)\n",
            "Requirement already satisfied: idna<2.9,>=2.5 in /usr/local/lib/python3.6/dist-packages (from requests->kaggle) (2.8)\n",
            "Requirement already satisfied: chardet<3.1.0,>=3.0.2 in /usr/local/lib/python3.6/dist-packages (from requests->kaggle) (3.0.4)\n"
          ],
          "name": "stdout"
        }
      ]
    },
    {
      "cell_type": "markdown",
      "metadata": {
        "id": "9EwkJ2BKkXO-",
        "colab_type": "text"
      },
      "source": [
        "Make .kaggle directory under root to import the Kaggle Authentication JSON."
      ]
    },
    {
      "cell_type": "code",
      "metadata": {
        "id": "rWBE01UBjdk3",
        "colab_type": "code",
        "outputId": "6ad7aea0-fee7-4213-f928-c8d1218ed159",
        "colab": {
          "base_uri": "https://localhost:8080/",
          "height": 34
        }
      },
      "source": [
        "!mkdir ~/.kaggle"
      ],
      "execution_count": 0,
      "outputs": [
        {
          "output_type": "stream",
          "text": [
            "mkdir: cannot create directory ‘/root/.kaggle’: File exists\n"
          ],
          "name": "stdout"
        }
      ]
    },
    {
      "cell_type": "markdown",
      "metadata": {
        "id": "p33pxUc9k6YF",
        "colab_type": "text"
      },
      "source": [
        "Change file path to root/.kaggle/kaggle.json"
      ]
    },
    {
      "cell_type": "code",
      "metadata": {
        "id": "QSxHC0E1jfTl",
        "colab_type": "code",
        "colab": {}
      },
      "source": [
        "!cp /content/kaggle.json ~/.kaggle/kaggle.json"
      ],
      "execution_count": 0,
      "outputs": []
    },
    {
      "cell_type": "markdown",
      "metadata": {
        "id": "YC5_bG3Gkxfl",
        "colab_type": "text"
      },
      "source": [
        "Protect Kaggle JSON file for security reasons\n",
        "\n",
        "Chmod 600 (chmod a+rwx,u-x,g-rwx,o-rwx) sets permissions so that, (U)ser / owner can read, can write and can't execute. (G)roup can't read, can't write and can't execute. (O)thers can't read, can't write and can't execute."
      ]
    },
    {
      "cell_type": "code",
      "metadata": {
        "id": "BqOCtvB3j4Iu",
        "colab_type": "code",
        "colab": {}
      },
      "source": [
        "!chmod 600 /root/.kaggle/kaggle.json"
      ],
      "execution_count": 0,
      "outputs": []
    },
    {
      "cell_type": "markdown",
      "metadata": {
        "id": "Mkokc4SpmVLS",
        "colab_type": "text"
      },
      "source": [
        "Import the Gapminder dataset"
      ]
    },
    {
      "cell_type": "code",
      "metadata": {
        "id": "aKg2TKatjx6W",
        "colab_type": "code",
        "outputId": "7392d909-07c6-4574-b617-64c2c7267640",
        "colab": {
          "base_uri": "https://localhost:8080/",
          "height": 34
        }
      },
      "source": [
        "!kaggle datasets download -d deepakdodi/gapminder"
      ],
      "execution_count": 0,
      "outputs": [
        {
          "output_type": "stream",
          "text": [
            "gapminder.zip: Skipping, found more recently modified local copy (use --force to force download)\n"
          ],
          "name": "stdout"
        }
      ]
    },
    {
      "cell_type": "code",
      "metadata": {
        "id": "gmW3ARwmsEEi",
        "colab_type": "code",
        "outputId": "3b8a1e3a-ff1a-4c3b-88b6-c672034eaa6a",
        "colab": {
          "base_uri": "https://localhost:8080/",
          "height": 265
        }
      },
      "source": [
        "# Import numpy and pandas\n",
        "import numpy as np\n",
        "import pandas as pd\n",
        "\n",
        "# Read the Gapminder file into a DataFrame: df\n",
        "df = pd.read_csv('gapminder.zip', compression='zip', header=0, sep=',', quotechar='\"')\n",
        "print(df)"
      ],
      "execution_count": 0,
      "outputs": [
        {
          "output_type": "stream",
          "text": [
            "     population  fertility  ...  child_mortality                      Region\n",
            "0    34811059.0       2.73  ...             29.5  Middle East & North Africa\n",
            "1    19842251.0       6.43  ...            192.0          Sub-Saharan Africa\n",
            "2    40381860.0       2.24  ...             15.4                     America\n",
            "3     2975029.0       1.40  ...             20.0       Europe & Central Asia\n",
            "4    21370348.0       1.96  ...              5.2         East Asia & Pacific\n",
            "..          ...        ...  ...              ...                         ...\n",
            "134   3350832.0       2.11  ...             13.0                     America\n",
            "135  26952719.0       2.46  ...             49.2       Europe & Central Asia\n",
            "136  86589342.0       1.86  ...             26.2         East Asia & Pacific\n",
            "137  13114579.0       5.88  ...             94.9          Sub-Saharan Africa\n",
            "138  13495462.0       3.85  ...             98.3          Sub-Saharan Africa\n",
            "\n",
            "[139 rows x 10 columns]\n"
          ],
          "name": "stdout"
        }
      ]
    },
    {
      "cell_type": "markdown",
      "metadata": {
        "id": "jugJ5lV5sWPf",
        "colab_type": "text"
      },
      "source": [
        "Create array X for the 'fertility' feature and array y for the 'life' target variable."
      ]
    },
    {
      "cell_type": "code",
      "metadata": {
        "id": "Ud11_PmjscVw",
        "colab_type": "code",
        "colab": {}
      },
      "source": [
        "# Create arrays for features and target variable\n",
        "y = df['life'].values\n",
        "X_fertility = df['fertility'].values"
      ],
      "execution_count": 0,
      "outputs": []
    },
    {
      "cell_type": "code",
      "metadata": {
        "id": "hzQTwlXqsgwQ",
        "colab_type": "code",
        "outputId": "9731eb5f-9e20-4852-f8d8-0a93812d9881",
        "colab": {
          "base_uri": "https://localhost:8080/",
          "height": 52
        }
      },
      "source": [
        "# Print the dimensions of X and y before reshaping\n",
        "print(\"Dimensions of y before reshaping: {}\".format(y.shape))\n",
        "print(\"Dimensions of X before reshaping: {}\".format(X_fertility.shape))"
      ],
      "execution_count": 0,
      "outputs": [
        {
          "output_type": "stream",
          "text": [
            "Dimensions of y before reshaping: (139,)\n",
            "Dimensions of X before reshaping: (139,)\n"
          ],
          "name": "stdout"
        }
      ]
    },
    {
      "cell_type": "code",
      "metadata": {
        "id": "S9P1xxChslN5",
        "colab_type": "code",
        "outputId": "ab0dfb8b-aeb3-4b0b-fe1a-665566ddc9cb",
        "colab": {
          "base_uri": "https://localhost:8080/",
          "height": 52
        }
      },
      "source": [
        "# Reshape X and y\n",
        "y = y.reshape(-1,1)\n",
        "X_fertility = X_fertility.reshape(-1,1)\n",
        "# Print the dimensions of X and y after reshaping\n",
        "print(\"Dimensions of y after reshaping: {}\".format(y.shape))\n",
        "print(\"Dimensions of X after reshaping: {}\".format(X_fertility.shape))"
      ],
      "execution_count": 0,
      "outputs": [
        {
          "output_type": "stream",
          "text": [
            "Dimensions of y after reshaping: (139, 1)\n",
            "Dimensions of X after reshaping: (139, 1)\n"
          ],
          "name": "stdout"
        }
      ]
    },
    {
      "cell_type": "markdown",
      "metadata": {
        "id": "qxPRgMu_-UYs",
        "colab_type": "text"
      },
      "source": [
        "**Import LinearRegression from sklearn.linear_model**"
      ]
    },
    {
      "cell_type": "code",
      "metadata": {
        "id": "aOzu9yHk-Olb",
        "colab_type": "code",
        "colab": {}
      },
      "source": [
        "# Import LinearRegression\n",
        "from sklearn.linear_model import LinearRegression\n",
        "import numpy as np"
      ],
      "execution_count": 0,
      "outputs": []
    },
    {
      "cell_type": "markdown",
      "metadata": {
        "id": "RV98VYk3-cf5",
        "colab_type": "text"
      },
      "source": [
        "Create a LinearRegression regressor called reg."
      ]
    },
    {
      "cell_type": "code",
      "metadata": {
        "id": "MXlR-Wf9-iPQ",
        "colab_type": "code",
        "colab": {}
      },
      "source": [
        "# Create the regressor: reg\n",
        "reg = LinearRegression()"
      ],
      "execution_count": 0,
      "outputs": []
    },
    {
      "cell_type": "code",
      "metadata": {
        "id": "ffw8ztz3-lxi",
        "colab_type": "code",
        "colab": {}
      },
      "source": [
        "# Create the prediction space\n",
        "prediction_space = np.linspace(min(X_fertility), max(X_fertility)).reshape(-1,1)"
      ],
      "execution_count": 0,
      "outputs": []
    },
    {
      "cell_type": "code",
      "metadata": {
        "id": "lixJoRjb_maJ",
        "colab_type": "code",
        "outputId": "1f9041c1-854a-49a8-9503-962683ea83b7",
        "colab": {
          "base_uri": "https://localhost:8080/",
          "height": 34
        }
      },
      "source": [
        "# Fit the model to the data\n",
        "reg.fit(X_fertility, y)"
      ],
      "execution_count": 0,
      "outputs": [
        {
          "output_type": "execute_result",
          "data": {
            "text/plain": [
              "LinearRegression(copy_X=True, fit_intercept=True, n_jobs=None, normalize=False)"
            ]
          },
          "metadata": {
            "tags": []
          },
          "execution_count": 63
        }
      ]
    },
    {
      "cell_type": "code",
      "metadata": {
        "id": "MUBwBVaUB8KZ",
        "colab_type": "code",
        "colab": {}
      },
      "source": [
        "# Compute predictions over the prediction space: y_pred\n",
        "y_pred = reg.predict(prediction_space)"
      ],
      "execution_count": 0,
      "outputs": []
    },
    {
      "cell_type": "code",
      "metadata": {
        "id": "42G-BmYgCELL",
        "colab_type": "code",
        "outputId": "cf3245fc-6c14-4c0e-878f-dde323c992aa",
        "colab": {
          "base_uri": "https://localhost:8080/",
          "height": 34
        }
      },
      "source": [
        "# Print R^2 \n",
        "print(reg.score(X_fertility, y))"
      ],
      "execution_count": 0,
      "outputs": [
        {
          "output_type": "stream",
          "text": [
            "0.6192442167740035\n"
          ],
          "name": "stdout"
        }
      ]
    },
    {
      "cell_type": "code",
      "metadata": {
        "id": "2cfU2wlkCJvk",
        "colab_type": "code",
        "outputId": "9a163411-47b8-42ce-ec41-9d380944170d",
        "colab": {
          "base_uri": "https://localhost:8080/",
          "height": 278
        }
      },
      "source": [
        "# Plot regression line\n",
        "import matplotlib.pyplot as plt\n",
        "plt.scatter(X_fertility, y)\n",
        "plt.ylabel('Life expentency')\n",
        "plt.xlabel('Fertility')\n",
        "plt.plot(prediction_space, y_pred, color='black', linewidth=3)\n",
        "plt.show()"
      ],
      "execution_count": 0,
      "outputs": [
        {
          "output_type": "display_data",
          "data": {
            "image/png": "[encoded data removed]",
            "text/plain": [
              "<Figure size 432x288 with 1 Axes>"
            ]
          },
          "metadata": {
            "tags": []
          }
        }
      ]
    },
    {
      "cell_type": "markdown",
      "metadata": {
        "id": "04fhoYwNFW9Z",
        "colab_type": "text"
      },
      "source": [
        "**Train/test split for regression**"
      ]
    },
    {
      "cell_type": "markdown",
      "metadata": {
        "id": "EOkwMOpjFgGV",
        "colab_type": "text"
      },
      "source": [
        "Here we split the Gapminder dataset into training and testing sets, and then fit and predict a linear regression over all features. \n",
        "\n",
        "In addition to computing the R2 score, we also compute the Root Mean Squared Error (RMSE), which is another commonly used metric to evaluate regression models."
      ]
    },
    {
      "cell_type": "code",
      "metadata": {
        "id": "9ybvrpr1FaCJ",
        "colab_type": "code",
        "colab": {}
      },
      "source": [
        "X = df.drop(['life', 'Region'], axis=1).values"
      ],
      "execution_count": 0,
      "outputs": []
    },
    {
      "cell_type": "code",
      "metadata": {
        "id": "k1FAmhEoGpz5",
        "colab_type": "code",
        "colab": {}
      },
      "source": [
        "from sklearn.metrics import mean_squared_error\n",
        "from sklearn.model_selection import train_test_split"
      ],
      "execution_count": 0,
      "outputs": []
    },
    {
      "cell_type": "code",
      "metadata": {
        "id": "mI47FCHuGulM",
        "colab_type": "code",
        "colab": {}
      },
      "source": [
        "# Create training and test sets\n",
        "X_train, X_test, y_train, y_test = train_test_split(X, y, test_size = 0.3, random_state=42)"
      ],
      "execution_count": 0,
      "outputs": []
    },
    {
      "cell_type": "code",
      "metadata": {
        "id": "IILUCjjIGzhU",
        "colab_type": "code",
        "colab": {}
      },
      "source": [
        "# Create the regressor: reg_all\n",
        "reg_all = LinearRegression()"
      ],
      "execution_count": 0,
      "outputs": []
    },
    {
      "cell_type": "code",
      "metadata": {
        "id": "5jepzUECG22S",
        "colab_type": "code",
        "outputId": "3ca76fd1-2715-42d8-d78d-c3bb6ddc114e",
        "colab": {
          "base_uri": "https://localhost:8080/",
          "height": 34
        }
      },
      "source": [
        "# Fit the regressor to the training data\n",
        "reg_all.fit(X_train, y_train)"
      ],
      "execution_count": 0,
      "outputs": [
        {
          "output_type": "execute_result",
          "data": {
            "text/plain": [
              "LinearRegression(copy_X=True, fit_intercept=True, n_jobs=None, normalize=False)"
            ]
          },
          "metadata": {
            "tags": []
          },
          "execution_count": 71
        }
      ]
    },
    {
      "cell_type": "code",
      "metadata": {
        "id": "Eh4QoH3pJZwS",
        "colab_type": "code",
        "colab": {}
      },
      "source": [
        "# Predict on the test data: y_pred\n",
        "y_pred = reg_all.predict(X_test)"
      ],
      "execution_count": 0,
      "outputs": []
    },
    {
      "cell_type": "code",
      "metadata": {
        "id": "zR5ulCZjJdHS",
        "colab_type": "code",
        "outputId": "f33882d5-72e3-49ec-aa25-3fd26afe5c4e",
        "colab": {
          "base_uri": "https://localhost:8080/",
          "height": 52
        }
      },
      "source": [
        "# Compute and print R^2 and RMSE\n",
        "print(\"R^2: {}\".format(round(reg_all.score(X_test, y_test),2)))\n",
        "rmse = np.sqrt(mean_squared_error(y_test, y_pred))\n",
        "print(\"Root Mean Squared Error: {}\".format(round(rmse,2)))"
      ],
      "execution_count": 0,
      "outputs": [
        {
          "output_type": "stream",
          "text": [
            "R^2: 0.84\n",
            "Root Mean Squared Error: 3.25\n"
          ],
          "name": "stdout"
        }
      ]
    },
    {
      "cell_type": "markdown",
      "metadata": {
        "id": "PJep_Dk8R7JO",
        "colab_type": "text"
      },
      "source": [
        "**Cross-validation**\n",
        "\n",
        "Cross-validation is a technique that helps evaluation of model performance for regression models. \n",
        "\n",
        "The performance of a model is dependent on way the data is split, and is not representative of the model’s ability to generalize.\n",
        "\n",
        "Cross-validation helps to resolve this, by spliting the training and testing data in different folds. "
      ]
    },
    {
      "cell_type": "markdown",
      "metadata": {
        "id": "QXTt61LDUIpf",
        "colab_type": "text"
      },
      "source": [
        "**K-Fold CV comparison**\n",
        "\n",
        "Cross validation is essential but the more folds used, the more computationally expensive cross-validation becomes."
      ]
    },
    {
      "cell_type": "markdown",
      "metadata": {
        "id": "fXSgiiMhSo_O",
        "colab_type": "text"
      },
      "source": [
        "![alt text](https://upload.wikimedia.org/wikipedia/commons/thumb/b/b5/K-fold_cross_validation_EN.svg/1024px-K-fold_cross_validation_EN.svg.png)"
      ]
    },
    {
      "cell_type": "code",
      "metadata": {
        "id": "2D54D15yTWml",
        "colab_type": "code",
        "colab": {}
      },
      "source": [
        "# Import the necessary modules\n",
        "from sklearn.model_selection import cross_val_score "
      ],
      "execution_count": 0,
      "outputs": []
    },
    {
      "cell_type": "code",
      "metadata": {
        "id": "vjOC6gPdTdE5",
        "colab_type": "code",
        "colab": {}
      },
      "source": [
        "# Compute 5-fold cross-validation scores: cv_scores\n",
        "cv_scores = cross_val_score(reg_all, X, y, cv=5)"
      ],
      "execution_count": 0,
      "outputs": []
    },
    {
      "cell_type": "markdown",
      "metadata": {
        "id": "WFlb-Pc6Ug5G",
        "colab_type": "text"
      },
      "source": [
        "**5 Fold Cross-Validation**"
      ]
    },
    {
      "cell_type": "code",
      "metadata": {
        "id": "yZ0AnOtYToNP",
        "colab_type": "code",
        "outputId": "041cfd72-6f63-4a0e-d840-c83272d08b0f",
        "colab": {
          "base_uri": "https://localhost:8080/",
          "height": 52
        }
      },
      "source": [
        "# Print the 5-fold cross-validation scores\n",
        "print(np.round(cv_scores,3))\n",
        "\n",
        "print(\"Average 5-Fold CV Score: {}\".format(np.round(np.mean(cv_scores)),3))"
      ],
      "execution_count": 0,
      "outputs": [
        {
          "output_type": "stream",
          "text": [
            "[0.817 0.829 0.902 0.806 0.945]\n",
            "Average 5-Fold CV Score: 1.0\n"
          ],
          "name": "stdout"
        }
      ]
    },
    {
      "cell_type": "markdown",
      "metadata": {
        "id": "ybf78XUXUlPn",
        "colab_type": "text"
      },
      "source": [
        "**K-Fold CV comparison**"
      ]
    },
    {
      "cell_type": "code",
      "metadata": {
        "id": "l2sVXFD9VmaK",
        "colab_type": "code",
        "outputId": "f343983c-89e5-4a62-9d4f-81a87ba7a450",
        "colab": {
          "base_uri": "https://localhost:8080/",
          "height": 296
        }
      },
      "source": [
        "mean = []\n",
        "k = []\n",
        "\n",
        "for i in range(2,11):\n",
        "  cv_scores = cross_val_score(reg_all, X, y, cv=i)\n",
        "  mean.append(np.round(np.mean(cv_scores),3))\n",
        "  k.append(i)\n",
        "\n",
        "print(mean)\n",
        "\n",
        "plt.xlabel('Value of k')\n",
        "plt.ylabel('C-V Score')\n",
        "plt.plot(k, mean)\n",
        "plt.show()"
      ],
      "execution_count": 0,
      "outputs": [
        {
          "output_type": "stream",
          "text": [
            "[0.846, 0.872, 0.873, 0.86, 0.866, 0.847, 0.85, 0.847, 0.844]\n"
          ],
          "name": "stdout"
        },
        {
          "output_type": "display_data",
          "data": {
            "image/png": "[encoded data removed]",
            "text/plain": [
              "<Figure size 432x288 with 1 Axes>"
            ]
          },
          "metadata": {
            "tags": []
          }
        }
      ]
    }
  ]
}