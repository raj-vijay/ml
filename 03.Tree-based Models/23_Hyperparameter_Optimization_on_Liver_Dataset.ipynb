{
  "nbformat": 4,
  "nbformat_minor": 0,
  "metadata": {
    "colab": {
      "name": "23. Hyperparameter Optimiziation on Liver Dataset.ipynb",
      "provenance": [],
      "collapsed_sections": [],
      "authorship_tag": "ABX9TyMmLvy7HdvS6oFnl3cRcJ4E",
      "include_colab_link": true
    },
    "kernelspec": {
      "name": "python3",
      "display_name": "Python 3"
    }
  },
  "cells": [
    {
      "cell_type": "markdown",
      "metadata": {
        "id": "view-in-github",
        "colab_type": "text"
      },
      "source": [
        "<a href=\"https://colab.research.google.com/github/raj-vijay/ml/blob/master/03.Tree-based%20Models/23_Hyperparameter_Optimization_on_Liver_Dataset.ipynb\" target=\"_parent\"><img src=\"https://colab.research.google.com/assets/colab-badge.svg\" alt=\"Open In Colab\"/></a>"
      ]
    },
    {
      "cell_type": "code",
      "metadata": {
        "id": "wCqgYyDSp80E",
        "colab": {
          "base_uri": "https://localhost:8080/",
          "height": 204
        },
        "outputId": "067199c2-5032-4699-f26d-b5123e5bb1ec"
      },
      "source": [
        "!wget https://assets.datacamp.com/production/repositories/1796/datasets/24126c0cd9d2bd1ca0e72446c2caa40b222193d6/indian_liver_patient.zip"
      ],
      "execution_count": null,
      "outputs": [
        {
          "output_type": "stream",
          "text": [
            "--2020-05-24 01:38:13--  https://assets.datacamp.com/production/repositories/1796/datasets/24126c0cd9d2bd1ca0e72446c2caa40b222193d6/indian_liver_patient.zip\n",
            "Resolving assets.datacamp.com (assets.datacamp.com)... 13.227.223.35, 13.227.223.56, 13.227.223.24, ...\n",
            "Connecting to assets.datacamp.com (assets.datacamp.com)|13.227.223.35|:443... connected.\n",
            "HTTP request sent, awaiting response... 200 OK\n",
            "Length: 31629 (31K)\n",
            "Saving to: ‘indian_liver_patient.zip’\n",
            "\n",
            "\rindian_liver_patien   0%[                    ]       0  --.-KB/s               \rindian_liver_patien 100%[===================>]  30.89K  --.-KB/s    in 0.002s  \n",
            "\n",
            "2020-05-24 01:38:13 (13.8 MB/s) - ‘indian_liver_patient.zip’ saved [31629/31629]\n",
            "\n"
          ],
          "name": "stdout"
        }
      ]
    },
    {
      "cell_type": "code",
      "metadata": {
        "id": "2qnbUXw7uhul",
        "colab": {
          "base_uri": "https://localhost:8080/",
          "height": 119
        },
        "outputId": "425034f5-ac20-44e1-d8c5-476e33d90c30"
      },
      "source": [
        "! unzip indian_liver_patient.zip"
      ],
      "execution_count": null,
      "outputs": [
        {
          "output_type": "stream",
          "text": [
            "Archive:  indian_liver_patient.zip\n",
            "  inflating: indian_liver_patient.csv  \n",
            "   creating: __MACOSX/\n",
            "  inflating: __MACOSX/._indian_liver_patient.csv  \n",
            "  inflating: indian_liver_patient_preprocessed.csv  \n",
            "  inflating: __MACOSX/._indian_liver_patient_preprocessed.csv  \n"
          ],
          "name": "stdout"
        }
      ]
    },
    {
      "cell_type": "code",
      "metadata": {
        "id": "Gol_cFuyp_41"
      },
      "source": [
        "import pandas as pd\n",
        "import numpy as np"
      ],
      "execution_count": null,
      "outputs": []
    },
    {
      "cell_type": "code",
      "metadata": {
        "id": "4W3NdOUvuq3t"
      },
      "source": [
        "df = pd.read_csv('indian_liver_patient_preprocessed.csv')"
      ],
      "execution_count": null,
      "outputs": []
    },
    {
      "cell_type": "code",
      "metadata": {
        "id": "QKzaYC7iqA8L",
        "colab": {
          "base_uri": "https://localhost:8080/",
          "height": 241
        },
        "outputId": "b7da4711-8620-4a30-c0c9-5354dfcdf38f"
      },
      "source": [
        "df.head()"
      ],
      "execution_count": null,
      "outputs": [
        {
          "output_type": "execute_result",
          "data": {
            "text/html": [
              "<div>\n",
              "<style scoped>\n",
              "    .dataframe tbody tr th:only-of-type {\n",
              "        vertical-align: middle;\n",
              "    }\n",
              "\n",
              "    .dataframe tbody tr th {\n",
              "        vertical-align: top;\n",
              "    }\n",
              "\n",
              "    .dataframe thead th {\n",
              "        text-align: right;\n",
              "    }\n",
              "</style>\n",
              "<table border=\"1\" class=\"dataframe\">\n",
              "  <thead>\n",
              "    <tr style=\"text-align: right;\">\n",
              "      <th></th>\n",
              "      <th>Unnamed: 0</th>\n",
              "      <th>Age_std</th>\n",
              "      <th>Total_Bilirubin_std</th>\n",
              "      <th>Direct_Bilirubin_std</th>\n",
              "      <th>Alkaline_Phosphotase_std</th>\n",
              "      <th>Alamine_Aminotransferase_std</th>\n",
              "      <th>Aspartate_Aminotransferase_std</th>\n",
              "      <th>Total_Protiens_std</th>\n",
              "      <th>Albumin_std</th>\n",
              "      <th>Albumin_and_Globulin_Ratio_std</th>\n",
              "      <th>Is_male_std</th>\n",
              "      <th>Liver_disease</th>\n",
              "    </tr>\n",
              "  </thead>\n",
              "  <tbody>\n",
              "    <tr>\n",
              "      <th>0</th>\n",
              "      <td>0</td>\n",
              "      <td>1.247403</td>\n",
              "      <td>-0.420320</td>\n",
              "      <td>-0.495414</td>\n",
              "      <td>-0.428870</td>\n",
              "      <td>-0.355832</td>\n",
              "      <td>-0.319111</td>\n",
              "      <td>0.293722</td>\n",
              "      <td>0.203446</td>\n",
              "      <td>-0.147390</td>\n",
              "      <td>0</td>\n",
              "      <td>1</td>\n",
              "    </tr>\n",
              "    <tr>\n",
              "      <th>1</th>\n",
              "      <td>1</td>\n",
              "      <td>1.062306</td>\n",
              "      <td>1.218936</td>\n",
              "      <td>1.423518</td>\n",
              "      <td>1.675083</td>\n",
              "      <td>-0.093573</td>\n",
              "      <td>-0.035962</td>\n",
              "      <td>0.939655</td>\n",
              "      <td>0.077462</td>\n",
              "      <td>-0.648461</td>\n",
              "      <td>1</td>\n",
              "      <td>1</td>\n",
              "    </tr>\n",
              "    <tr>\n",
              "      <th>2</th>\n",
              "      <td>2</td>\n",
              "      <td>1.062306</td>\n",
              "      <td>0.640375</td>\n",
              "      <td>0.926017</td>\n",
              "      <td>0.816243</td>\n",
              "      <td>-0.115428</td>\n",
              "      <td>-0.146459</td>\n",
              "      <td>0.478274</td>\n",
              "      <td>0.203446</td>\n",
              "      <td>-0.178707</td>\n",
              "      <td>1</td>\n",
              "      <td>1</td>\n",
              "    </tr>\n",
              "    <tr>\n",
              "      <th>3</th>\n",
              "      <td>3</td>\n",
              "      <td>0.815511</td>\n",
              "      <td>-0.372106</td>\n",
              "      <td>-0.388807</td>\n",
              "      <td>-0.449416</td>\n",
              "      <td>-0.366760</td>\n",
              "      <td>-0.312205</td>\n",
              "      <td>0.293722</td>\n",
              "      <td>0.329431</td>\n",
              "      <td>0.165780</td>\n",
              "      <td>1</td>\n",
              "      <td>1</td>\n",
              "    </tr>\n",
              "    <tr>\n",
              "      <th>4</th>\n",
              "      <td>4</td>\n",
              "      <td>1.679294</td>\n",
              "      <td>0.093956</td>\n",
              "      <td>0.179766</td>\n",
              "      <td>-0.395996</td>\n",
              "      <td>-0.295731</td>\n",
              "      <td>-0.177537</td>\n",
              "      <td>0.755102</td>\n",
              "      <td>-0.930414</td>\n",
              "      <td>-1.713237</td>\n",
              "      <td>1</td>\n",
              "      <td>1</td>\n",
              "    </tr>\n",
              "  </tbody>\n",
              "</table>\n",
              "</div>"
            ],
            "text/plain": [
              "   Unnamed: 0   Age_std  ...  Is_male_std  Liver_disease\n",
              "0           0  1.247403  ...            0              1\n",
              "1           1  1.062306  ...            1              1\n",
              "2           2  1.062306  ...            1              1\n",
              "3           3  0.815511  ...            1              1\n",
              "4           4  1.679294  ...            1              1\n",
              "\n",
              "[5 rows x 12 columns]"
            ]
          },
          "metadata": {
            "tags": []
          },
          "execution_count": 5
        }
      ]
    },
    {
      "cell_type": "code",
      "metadata": {
        "id": "_hfEK6hyqEX-"
      },
      "source": [
        "X = df.drop(['Liver_disease', 'Unnamed: 0'], axis = 1)"
      ],
      "execution_count": null,
      "outputs": []
    },
    {
      "cell_type": "code",
      "metadata": {
        "id": "Vm_ZxdXRqJOz"
      },
      "source": [
        "y = df['Liver_disease']"
      ],
      "execution_count": null,
      "outputs": []
    },
    {
      "cell_type": "code",
      "metadata": {
        "id": "70ckMGnwpnDO"
      },
      "source": [
        "# Import models and utility functions\n",
        "from sklearn.ensemble import GradientBoostingRegressor\n",
        "from sklearn.model_selection import train_test_split\n",
        "from sklearn.metrics import mean_squared_error as MSE\n",
        "# Set seed for reproducibility\n",
        "SEED = 1"
      ],
      "execution_count": null,
      "outputs": []
    },
    {
      "cell_type": "code",
      "metadata": {
        "id": "xVNTxEqg7X0N"
      },
      "source": [
        "# Split data into 70% train and 30% test\n",
        "X_train, X_test, y_train, y_test = train_test_split(X, y, test_size= 0.3, stratify= y, random_state=SEED)"
      ],
      "execution_count": null,
      "outputs": []
    },
    {
      "cell_type": "code",
      "metadata": {
        "id": "zG1ZZ-0GWGrA"
      },
      "source": [
        "# Import DecisionTreeClassifier\n",
        "from sklearn.tree import DecisionTreeClassifier\n",
        "# Set seed to 1 for reproducibility\n",
        "SEED = 1\n",
        "# Instantiate a DecisionTreeClassifier 'dt'\n",
        "dt = DecisionTreeClassifier(random_state=SEED)"
      ],
      "execution_count": null,
      "outputs": []
    },
    {
      "cell_type": "code",
      "metadata": {
        "id": "VXCevswoVriL"
      },
      "source": [
        "# Define params_dt\n",
        "params_dt = {\n",
        "             'max_depth': [2, 3, 4],\n",
        "             'min_samples_leaf': [0.12, 0.14, 0.16, 0.18]\n",
        "            }"
      ],
      "execution_count": null,
      "outputs": []
    },
    {
      "cell_type": "code",
      "metadata": {
        "id": "JyKEodaP3L6W"
      },
      "source": [
        "# Import GridSearchCV\n",
        "from sklearn.model_selection import GridSearchCV\n",
        "\n",
        "# Instantiate grid_dt\n",
        "grid_dt = GridSearchCV(estimator=dt,\n",
        "                       param_grid=params_dt,\n",
        "                       scoring='roc_auc',\n",
        "                       cv=5,\n",
        "                       n_jobs=-1)"
      ],
      "execution_count": null,
      "outputs": []
    },
    {
      "cell_type": "code",
      "metadata": {
        "id": "6yJzMECAXG2y",
        "colab": {
          "base_uri": "https://localhost:8080/",
          "height": 306
        },
        "outputId": "c8458c0c-1fb0-429e-fc1c-c8324a1145cf"
      },
      "source": [
        "# Fit 'grid_dt' to the training data\n",
        "grid_dt.fit(X_train, y_train)"
      ],
      "execution_count": null,
      "outputs": [
        {
          "output_type": "execute_result",
          "data": {
            "text/plain": [
              "GridSearchCV(cv=5, error_score=nan,\n",
              "             estimator=DecisionTreeClassifier(ccp_alpha=0.0, class_weight=None,\n",
              "                                              criterion='gini', max_depth=None,\n",
              "                                              max_features=None,\n",
              "                                              max_leaf_nodes=None,\n",
              "                                              min_impurity_decrease=0.0,\n",
              "                                              min_impurity_split=None,\n",
              "                                              min_samples_leaf=1,\n",
              "                                              min_samples_split=2,\n",
              "                                              min_weight_fraction_leaf=0.0,\n",
              "                                              presort='deprecated',\n",
              "                                              random_state=1, splitter='best'),\n",
              "             iid='deprecated', n_jobs=-1,\n",
              "             param_grid={'max_depth': [2, 3, 4],\n",
              "                         'min_samples_leaf': [0.12, 0.14, 0.16, 0.18]},\n",
              "             pre_dispatch='2*n_jobs', refit=True, return_train_score=False,\n",
              "             scoring='roc_auc', verbose=0)"
            ]
          },
          "metadata": {
            "tags": []
          },
          "execution_count": 23
        }
      ]
    },
    {
      "cell_type": "code",
      "metadata": {
        "id": "IBPi1SByWzM6",
        "colab": {
          "base_uri": "https://localhost:8080/",
          "height": 51
        },
        "outputId": "851dcfa9-5514-43f4-cc31-2fec2ea55403"
      },
      "source": [
        "# Extract best hyperparameters from 'grid_dt'\n",
        "best_hyperparams = grid_dt.best_params_\n",
        "print('Best hyerparameters:\\n', best_hyperparams)"
      ],
      "execution_count": null,
      "outputs": [
        {
          "output_type": "stream",
          "text": [
            "Best hyerparameters:\n",
            " {'max_depth': 3, 'min_samples_leaf': 0.18}\n"
          ],
          "name": "stdout"
        }
      ]
    },
    {
      "cell_type": "code",
      "metadata": {
        "id": "Y4O1yoP1Wm6O",
        "colab": {
          "base_uri": "https://localhost:8080/",
          "height": 34
        },
        "outputId": "98c25feb-a9b2-4b5f-a26d-5ad523788523"
      },
      "source": [
        "# Import roc_auc_score from sklearn.metrics \n",
        "from sklearn.metrics import roc_auc_score\n",
        "\n",
        "# Extract the best estimator\n",
        "best_model = grid_dt.best_estimator_\n",
        "\n",
        "# Predict the test set probabilities of the positive class\n",
        "y_pred_proba = best_model.predict_proba(X_test)[:,1]\n",
        "\n",
        "# Compute test_roc_auc\n",
        "test_roc_auc = roc_auc_score(y_test, y_pred_proba)\n",
        "\n",
        "# Print test_roc_auc\n",
        "print('Test set ROC AUC score: {:.3f}'.format(test_roc_auc))"
      ],
      "execution_count": null,
      "outputs": [
        {
          "output_type": "stream",
          "text": [
            "Test set ROC AUC score: 0.682\n"
          ],
          "name": "stdout"
        }
      ]
    }
  ]
}