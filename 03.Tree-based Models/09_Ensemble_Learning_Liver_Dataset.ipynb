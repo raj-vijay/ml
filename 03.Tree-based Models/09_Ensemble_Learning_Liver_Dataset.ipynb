{
  "nbformat": 4,
  "nbformat_minor": 0,
  "metadata": {
    "colab": {
      "name": "09. Ensemble Learning Liver Dataset.ipynb",
      "provenance": [],
      "collapsed_sections": [],
      "authorship_tag": "ABX9TyMFytRnhdPy8c4qwpuFa6fN",
      "include_colab_link": true
    },
    "kernelspec": {
      "name": "python3",
      "display_name": "Python 3"
    }
  },
  "cells": [
    {
      "cell_type": "markdown",
      "metadata": {
        "id": "view-in-github",
        "colab_type": "text"
      },
      "source": [
        "<a href=\"https://colab.research.google.com/github/raj-vijay/ml/blob/master/03.Tree-based%20Models/09_Ensemble_Learning_Liver_Dataset.ipynb\" target=\"_parent\"><img src=\"https://colab.research.google.com/assets/colab-badge.svg\" alt=\"Open In Colab\"/></a>"
      ]
    },
    {
      "cell_type": "markdown",
      "metadata": {
        "id": "SwSGe3jRqw9-",
        "colab_type": "text"
      },
      "source": [
        "**Ensemble Learning**\n",
        "- Train different models on the same dataset.\n",
        "- Let each model make its predictions.\n",
        "- Meta-model: aggregates predictions of individual models.\n",
        "- Final prediction: more robust and less prone to errors.\n",
        "- Best results: models are skillful in different ways."
      ]
    },
    {
      "cell_type": "markdown",
      "metadata": {
        "id": "qRya_KF9tKgo",
        "colab_type": "text"
      },
      "source": [
        "![alt text](https://raw.githubusercontent.com/raj-vijay/ml/master/images/Ensemble%20Prediction.png)"
      ]
    },
    {
      "cell_type": "code",
      "metadata": {
        "id": "wCqgYyDSp80E",
        "colab_type": "code",
        "colab": {
          "base_uri": "https://localhost:8080/",
          "height": 224
        },
        "outputId": "ede5aa05-096c-417e-898e-7ad788673433"
      },
      "source": [
        "!wget https://assets.datacamp.com/production/repositories/1796/datasets/24126c0cd9d2bd1ca0e72446c2caa40b222193d6/indian_liver_patient.zip"
      ],
      "execution_count": null,
      "outputs": [
        {
          "output_type": "stream",
          "text": [
            "--2020-05-23 22:45:25--  https://assets.datacamp.com/production/repositories/1796/datasets/24126c0cd9d2bd1ca0e72446c2caa40b222193d6/indian_liver_patient.zip\n",
            "Resolving assets.datacamp.com (assets.datacamp.com)... 13.224.166.92, 13.224.166.4, 13.224.166.96, ...\n",
            "Connecting to assets.datacamp.com (assets.datacamp.com)|13.224.166.92|:443... connected.\n",
            "HTTP request sent, awaiting response... 200 OK\n",
            "Length: 31629 (31K)\n",
            "Saving to: ‘indian_liver_patient.zip’\n",
            "\n",
            "indian_liver_patien 100%[===================>]  30.89K   140KB/s    in 0.2s    \n",
            "\n",
            "2020-05-23 22:45:26 (140 KB/s) - ‘indian_liver_patient.zip’ saved [31629/31629]\n",
            "\n"
          ],
          "name": "stdout"
        }
      ]
    },
    {
      "cell_type": "code",
      "metadata": {
        "id": "2qnbUXw7uhul",
        "colab_type": "code",
        "colab": {
          "base_uri": "https://localhost:8080/",
          "height": 119
        },
        "outputId": "c69bd700-5d2b-460c-fbda-803b1dae4f2c"
      },
      "source": [
        "! unzip indian_liver_patient.zip"
      ],
      "execution_count": null,
      "outputs": [
        {
          "output_type": "stream",
          "text": [
            "Archive:  indian_liver_patient.zip\n",
            "  inflating: indian_liver_patient.csv  \n",
            "   creating: __MACOSX/\n",
            "  inflating: __MACOSX/._indian_liver_patient.csv  \n",
            "  inflating: indian_liver_patient_preprocessed.csv  \n",
            "  inflating: __MACOSX/._indian_liver_patient_preprocessed.csv  \n"
          ],
          "name": "stdout"
        }
      ]
    },
    {
      "cell_type": "code",
      "metadata": {
        "id": "Gol_cFuyp_41",
        "colab_type": "code",
        "colab": {}
      },
      "source": [
        "import pandas as pd\n",
        "import numpy as np"
      ],
      "execution_count": null,
      "outputs": []
    },
    {
      "cell_type": "code",
      "metadata": {
        "id": "4W3NdOUvuq3t",
        "colab_type": "code",
        "colab": {}
      },
      "source": [
        "df = pd.read_csv('indian_liver_patient_preprocessed.csv')"
      ],
      "execution_count": null,
      "outputs": []
    },
    {
      "cell_type": "code",
      "metadata": {
        "id": "QKzaYC7iqA8L",
        "colab_type": "code",
        "colab": {
          "base_uri": "https://localhost:8080/",
          "height": 241
        },
        "outputId": "c1219f2e-b88b-458d-c2e1-5cefc7394500"
      },
      "source": [
        "df.head()"
      ],
      "execution_count": null,
      "outputs": [
        {
          "output_type": "execute_result",
          "data": {
            "text/html": [
              "<div>\n",
              "<style scoped>\n",
              "    .dataframe tbody tr th:only-of-type {\n",
              "        vertical-align: middle;\n",
              "    }\n",
              "\n",
              "    .dataframe tbody tr th {\n",
              "        vertical-align: top;\n",
              "    }\n",
              "\n",
              "    .dataframe thead th {\n",
              "        text-align: right;\n",
              "    }\n",
              "</style>\n",
              "<table border=\"1\" class=\"dataframe\">\n",
              "  <thead>\n",
              "    <tr style=\"text-align: right;\">\n",
              "      <th></th>\n",
              "      <th>Unnamed: 0</th>\n",
              "      <th>Age_std</th>\n",
              "      <th>Total_Bilirubin_std</th>\n",
              "      <th>Direct_Bilirubin_std</th>\n",
              "      <th>Alkaline_Phosphotase_std</th>\n",
              "      <th>Alamine_Aminotransferase_std</th>\n",
              "      <th>Aspartate_Aminotransferase_std</th>\n",
              "      <th>Total_Protiens_std</th>\n",
              "      <th>Albumin_std</th>\n",
              "      <th>Albumin_and_Globulin_Ratio_std</th>\n",
              "      <th>Is_male_std</th>\n",
              "      <th>Liver_disease</th>\n",
              "    </tr>\n",
              "  </thead>\n",
              "  <tbody>\n",
              "    <tr>\n",
              "      <th>0</th>\n",
              "      <td>0</td>\n",
              "      <td>1.247403</td>\n",
              "      <td>-0.420320</td>\n",
              "      <td>-0.495414</td>\n",
              "      <td>-0.428870</td>\n",
              "      <td>-0.355832</td>\n",
              "      <td>-0.319111</td>\n",
              "      <td>0.293722</td>\n",
              "      <td>0.203446</td>\n",
              "      <td>-0.147390</td>\n",
              "      <td>0</td>\n",
              "      <td>1</td>\n",
              "    </tr>\n",
              "    <tr>\n",
              "      <th>1</th>\n",
              "      <td>1</td>\n",
              "      <td>1.062306</td>\n",
              "      <td>1.218936</td>\n",
              "      <td>1.423518</td>\n",
              "      <td>1.675083</td>\n",
              "      <td>-0.093573</td>\n",
              "      <td>-0.035962</td>\n",
              "      <td>0.939655</td>\n",
              "      <td>0.077462</td>\n",
              "      <td>-0.648461</td>\n",
              "      <td>1</td>\n",
              "      <td>1</td>\n",
              "    </tr>\n",
              "    <tr>\n",
              "      <th>2</th>\n",
              "      <td>2</td>\n",
              "      <td>1.062306</td>\n",
              "      <td>0.640375</td>\n",
              "      <td>0.926017</td>\n",
              "      <td>0.816243</td>\n",
              "      <td>-0.115428</td>\n",
              "      <td>-0.146459</td>\n",
              "      <td>0.478274</td>\n",
              "      <td>0.203446</td>\n",
              "      <td>-0.178707</td>\n",
              "      <td>1</td>\n",
              "      <td>1</td>\n",
              "    </tr>\n",
              "    <tr>\n",
              "      <th>3</th>\n",
              "      <td>3</td>\n",
              "      <td>0.815511</td>\n",
              "      <td>-0.372106</td>\n",
              "      <td>-0.388807</td>\n",
              "      <td>-0.449416</td>\n",
              "      <td>-0.366760</td>\n",
              "      <td>-0.312205</td>\n",
              "      <td>0.293722</td>\n",
              "      <td>0.329431</td>\n",
              "      <td>0.165780</td>\n",
              "      <td>1</td>\n",
              "      <td>1</td>\n",
              "    </tr>\n",
              "    <tr>\n",
              "      <th>4</th>\n",
              "      <td>4</td>\n",
              "      <td>1.679294</td>\n",
              "      <td>0.093956</td>\n",
              "      <td>0.179766</td>\n",
              "      <td>-0.395996</td>\n",
              "      <td>-0.295731</td>\n",
              "      <td>-0.177537</td>\n",
              "      <td>0.755102</td>\n",
              "      <td>-0.930414</td>\n",
              "      <td>-1.713237</td>\n",
              "      <td>1</td>\n",
              "      <td>1</td>\n",
              "    </tr>\n",
              "  </tbody>\n",
              "</table>\n",
              "</div>"
            ],
            "text/plain": [
              "   Unnamed: 0   Age_std  ...  Is_male_std  Liver_disease\n",
              "0           0  1.247403  ...            0              1\n",
              "1           1  1.062306  ...            1              1\n",
              "2           2  1.062306  ...            1              1\n",
              "3           3  0.815511  ...            1              1\n",
              "4           4  1.679294  ...            1              1\n",
              "\n",
              "[5 rows x 12 columns]"
            ]
          },
          "metadata": {
            "tags": []
          },
          "execution_count": 6
        }
      ]
    },
    {
      "cell_type": "code",
      "metadata": {
        "id": "_hfEK6hyqEX-",
        "colab_type": "code",
        "colab": {}
      },
      "source": [
        "X = np.array(df.drop(['Liver_disease', 'Unnamed: 0'], axis = 1))"
      ],
      "execution_count": null,
      "outputs": []
    },
    {
      "cell_type": "code",
      "metadata": {
        "id": "Vm_ZxdXRqJOz",
        "colab_type": "code",
        "colab": {}
      },
      "source": [
        "y = df['Liver_disease']"
      ],
      "execution_count": null,
      "outputs": []
    },
    {
      "cell_type": "code",
      "metadata": {
        "id": "70ckMGnwpnDO",
        "colab_type": "code",
        "colab": {}
      },
      "source": [
        "# Import functions to compute accuracy and split data\n",
        "from sklearn.metrics import accuracy_score\n",
        "from sklearn.model_selection import train_test_split\n",
        "# Import models, including VotingClassifier meta-model\n",
        "from sklearn.linear_model import LogisticRegression\n",
        "from sklearn.tree import DecisionTreeClassifier\n",
        "from sklearn.neighbors import KNeighborsClassifier as KNN\n",
        "from sklearn.ensemble import VotingClassifier\n",
        "# Set seed for reproducibility\n",
        "SEED = 1"
      ],
      "execution_count": null,
      "outputs": []
    },
    {
      "cell_type": "markdown",
      "metadata": {
        "id": "kFeBpWfIvlnw",
        "colab_type": "text"
      },
      "source": [
        "Here, we instantiate three classifiers to predict whether a patient suffers from a liver disease using all the features present in the dataset.\n",
        "\n",
        "The classifiers are: \n",
        "1. LogisticRegression\n",
        "2. DecisionTreeClassifier, and \n",
        "3. KNeighborsClassifier"
      ]
    },
    {
      "cell_type": "code",
      "metadata": {
        "id": "ZYlL8DUtvBay",
        "colab_type": "code",
        "colab": {}
      },
      "source": [
        "# Instantiate lr\n",
        "lr = LogisticRegression(random_state=SEED)\n",
        "\n",
        "# Instantiate knn\n",
        "knn = KNN(n_neighbors=27)\n",
        "\n",
        "# Instantiate dt\n",
        "dt = DecisionTreeClassifier(min_samples_leaf=0.13, random_state=SEED)\n",
        "\n",
        "# Define the list classifiers\n",
        "classifiers = [('Logistic Regression', lr), ('K Nearest Neighbours', knn), ('Classification Tree', dt)]"
      ],
      "execution_count": null,
      "outputs": []
    },
    {
      "cell_type": "code",
      "metadata": {
        "id": "AcTCBbLdqMSh",
        "colab_type": "code",
        "colab": {}
      },
      "source": [
        "# Split dataset into 80% train, 20% test\n",
        "X_train, X_test, y_train, y_test= train_test_split(X, y, test_size=0.2, stratify=y, random_state=1)"
      ],
      "execution_count": null,
      "outputs": []
    },
    {
      "cell_type": "markdown",
      "metadata": {
        "id": "lTJyIZZcv0wW",
        "colab_type": "text"
      },
      "source": [
        "Now we evaluate the performance of the models in the list classifiers."
      ]
    },
    {
      "cell_type": "code",
      "metadata": {
        "id": "NkX-6V6xvb7o",
        "colab_type": "code",
        "colab": {
          "base_uri": "https://localhost:8080/",
          "height": 68
        },
        "outputId": "bd277bf9-2ac4-4144-bf50-692c6cd7bfe0"
      },
      "source": [
        "# Iterate over the pre-defined list of classifiers\n",
        "for clf_name, clf in classifiers:    \n",
        "  \n",
        "    # Fit clf to the training set\n",
        "    clf.fit(X_train, y_train)    \n",
        "  \n",
        "    # Predict y_pred\n",
        "    y_pred = clf.predict(X_test)\n",
        "    \n",
        "    # Calculate accuracy\n",
        "    accuracy = accuracy_score(y_test, y_pred)\n",
        "  \n",
        "    # Evaluate clf's accuracy on the test set\n",
        "    print('{:s} : {:.3f}'.format(clf_name, accuracy))"
      ],
      "execution_count": null,
      "outputs": [
        {
          "output_type": "stream",
          "text": [
            "Logistic Regression : 0.672\n",
            "K Nearest Neighbours : 0.698\n",
            "Classification Tree : 0.664\n"
          ],
          "name": "stdout"
        }
      ]
    },
    {
      "cell_type": "markdown",
      "metadata": {
        "id": "UqNA-QBxwIel",
        "colab_type": "text"
      },
      "source": [
        "**Better performance with a Voting Classifier**\n",
        "\n",
        "Now we evaluate the performance of a voting classifier that takes the outputs of the models defined in the list classifiers and assigns labels by majority voting."
      ]
    },
    {
      "cell_type": "code",
      "metadata": {
        "id": "_dQKehTgwI5q",
        "colab_type": "code",
        "colab": {
          "base_uri": "https://localhost:8080/",
          "height": 34
        },
        "outputId": "ec52f997-1ee0-41a2-eacb-f73b2e5a376d"
      },
      "source": [
        "# Import VotingClassifier from sklearn.ensemble\n",
        "from sklearn.ensemble import VotingClassifier\n",
        "\n",
        "# Instantiate a VotingClassifier vc \n",
        "vc = VotingClassifier(estimators=classifiers)     \n",
        "\n",
        "# Fit vc to the training set\n",
        "vc.fit(X_train, y_train)   \n",
        "\n",
        "# Evaluate the test set predictions\n",
        "y_pred = vc.predict(X_test)\n",
        "\n",
        "# Calculate accuracy score\n",
        "accuracy = accuracy_score(y_test, y_pred)\n",
        "print('Voting Classifier: {:.3f}'.format(accuracy))"
      ],
      "execution_count": null,
      "outputs": [
        {
          "output_type": "stream",
          "text": [
            "Voting Classifier: 0.664\n"
          ],
          "name": "stdout"
        }
      ]
    }
  ]
}