{
  "nbformat": 4,
  "nbformat_minor": 0,
  "metadata": {
    "colab": {
      "name": "15. PCA  on the LED digits dataset.ipynb",
      "provenance": [],
      "include_colab_link": true
    },
    "kernelspec": {
      "name": "python3",
      "display_name": "Python 3"
    }
  },
  "cells": [
    {
      "cell_type": "markdown",
      "metadata": {
        "id": "view-in-github",
        "colab_type": "text"
      },
      "source": [
        "<a href=\"https://colab.research.google.com/github/raj-vijay/ml/blob/master/15_PCA_on_the_LED_digits_dataset.ipynb\" target=\"_parent\"><img src=\"https://colab.research.google.com/assets/colab-badge.svg\" alt=\"Open In Colab\"/></a>"
      ]
    },
    {
      "cell_type": "markdown",
      "metadata": {
        "id": "MOd6tgYkKmDP",
        "colab_type": "text"
      },
      "source": [
        "**Principal Component Analysis (PCA) on the Digits Dataset**"
      ]
    },
    {
      "cell_type": "markdown",
      "metadata": {
        "id": "EZ2Vk-d8-e-7",
        "colab_type": "text"
      },
      "source": [
        "Principal component analysis (PCA) is a statistical procedure that uses an orthogonal transformation to convert a set of observations of possibly correlated variables (entities each of which takes on various numerical values) into a set of values of linearly uncorrelated variables called principal components. \n",
        "\n",
        "This transformation is defined in such a way that the first principal component has the largest possible variance (that is, accounts for as much of the variability in the data as possible), and each succeeding component in turn has the highest variance possible under the constraint that it is orthogonal to the preceding components. The resulting vectors (each being a linear combination of the variables and containing n observations) are an uncorrelated orthogonal basis set. \n",
        "\n",
        "PCA is sensitive to the relative scaling of the original variables."
      ]
    },
    {
      "cell_type": "code",
      "metadata": {
        "id": "zp_MMRBzKh0X",
        "colab_type": "code",
        "colab": {}
      },
      "source": [
        "import numpy as np\n",
        "import pandas as pd"
      ],
      "execution_count": 0,
      "outputs": []
    },
    {
      "cell_type": "code",
      "metadata": {
        "id": "wtH0QfK5K48H",
        "colab_type": "code",
        "outputId": "113de16c-7cd9-4829-a2a4-b702e0805dbd",
        "colab": {
          "base_uri": "https://localhost:8080/",
          "height": 136
        }
      },
      "source": [
        "samples = np.genfromtxt('LCD.csv', delimiter= ',')\n",
        "print(samples)"
      ],
      "execution_count": 0,
      "outputs": [
        {
          "output_type": "stream",
          "text": [
            "[[0. 0. 0. ... 0. 0. 0.]\n",
            " [0. 0. 0. ... 0. 0. 0.]\n",
            " [0. 0. 0. ... 0. 0. 0.]\n",
            " ...\n",
            " [0. 0. 0. ... 0. 0. 0.]\n",
            " [0. 0. 0. ... 0. 0. 0.]\n",
            " [0. 0. 0. ... 0. 0. 0.]]\n"
          ],
          "name": "stdout"
        }
      ]
    },
    {
      "cell_type": "markdown",
      "metadata": {
        "id": "I5fX9RowNW_R",
        "colab_type": "text"
      },
      "source": [
        "Define a function that displays the image encoded by any 1D array"
      ]
    },
    {
      "cell_type": "code",
      "metadata": {
        "id": "FRslLa90L45w",
        "colab_type": "code",
        "colab": {}
      },
      "source": [
        "# Import pyplot\n",
        "from matplotlib import pyplot as plt"
      ],
      "execution_count": 0,
      "outputs": []
    },
    {
      "cell_type": "code",
      "metadata": {
        "id": "7TFNaKxDNZ8G",
        "colab_type": "code",
        "colab": {}
      },
      "source": [
        "def show_as_image(vector):\n",
        "    \"\"\"\n",
        "    Given a 1d vector representing an image, display that image in \n",
        "    black and white.  If there are negative values, then use red for \n",
        "    that pixel.\n",
        "    \"\"\"\n",
        "    bitmap = vector.reshape((13, 8))  # make a square array\n",
        "    bitmap /= np.abs(vector).max()  # normalise\n",
        "    bitmap = bitmap[:,:,np.newaxis]\n",
        "    rgb_layers = [np.abs(bitmap)] + [bitmap.clip(0)] * 2\n",
        "    rgb_bitmap = np.concatenate(rgb_layers, axis=-1)\n",
        "    plt.imshow(rgb_bitmap, interpolation='nearest')\n",
        "    plt.xticks([])\n",
        "    plt.yticks([])\n",
        "    plt.show()\n",
        "\n"
      ],
      "execution_count": 0,
      "outputs": []
    },
    {
      "cell_type": "code",
      "metadata": {
        "id": "PZJzRnjANpBn",
        "colab_type": "code",
        "colab": {}
      },
      "source": [
        "# Import PCA\n",
        "from sklearn.decomposition import PCA"
      ],
      "execution_count": 0,
      "outputs": []
    },
    {
      "cell_type": "code",
      "metadata": {
        "id": "3cmY5nxINrPW",
        "colab_type": "code",
        "colab": {}
      },
      "source": [
        "# Create a PCA instance: model\n",
        "model = PCA(7)"
      ],
      "execution_count": 0,
      "outputs": []
    },
    {
      "cell_type": "code",
      "metadata": {
        "id": "z8AQQLZPNshO",
        "colab_type": "code",
        "colab": {}
      },
      "source": [
        "# Apply fit_transform to samples: features\n",
        "features = model.fit_transform(samples)"
      ],
      "execution_count": 0,
      "outputs": []
    },
    {
      "cell_type": "code",
      "metadata": {
        "id": "Se3rzVzgNu82",
        "colab_type": "code",
        "outputId": "4af88f79-7007-4639-c9a5-3d031e5f80e6",
        "colab": {
          "base_uri": "https://localhost:8080/",
          "height": 1000
        }
      },
      "source": [
        "# Call show_as_image on each component\n",
        "for component in model.components_:\n",
        "    show_as_image(component)"
      ],
      "execution_count": 0,
      "outputs": [
        {
          "output_type": "display_data",
          "data": {
            "image/png": "[encoded data removed]",
            "text/plain": [
              "<Figure size 432x288 with 1 Axes>"
            ]
          },
          "metadata": {
            "tags": []
          }
        },
        {
          "output_type": "display_data",
          "data": {
            "image/png": "[encoded data removed]",
            "text/plain": [
              "<Figure size 432x288 with 1 Axes>"
            ]
          },
          "metadata": {
            "tags": []
          }
        },
        {
          "output_type": "display_data",
          "data": {
            "image/png": "[encoded data removed]",
            "text/plain": [
              "<Figure size 432x288 with 1 Axes>"
            ]
          },
          "metadata": {
            "tags": []
          }
        },
        {
          "output_type": "display_data",
          "data": {
            "image/png": "[encoded data removed]",
            "text/plain": [
              "<Figure size 432x288 with 1 Axes>"
            ]
          },
          "metadata": {
            "tags": []
          }
        },
        {
          "output_type": "display_data",
          "data": {
            "image/png": "[encoded data removed]",
            "text/plain": [
              "<Figure size 432x288 with 1 Axes>"
            ]
          },
          "metadata": {
            "tags": []
          }
        },
        {
          "output_type": "display_data",
          "data": {
            "image/png": "[encoded data removed]",
            "text/plain": [
              "<Figure size 432x288 with 1 Axes>"
            ]
          },
          "metadata": {
            "tags": []
          }
        },
        {
          "output_type": "display_data",
          "data": {
            "image/png": "[encoded data removed]",
            "text/plain": [
              "<Figure size 432x288 with 1 Axes>"
            ]
          },
          "metadata": {
            "tags": []
          }
        }
      ]
    },
    {
      "cell_type": "code",
      "metadata": {
        "id": "_3BKzknfNyTe",
        "colab_type": "code",
        "colab": {}
      },
      "source": [
        "# Assign the 0th row of features: digit_features\n",
        "digit_features = features[0,:]"
      ],
      "execution_count": 0,
      "outputs": []
    },
    {
      "cell_type": "code",
      "metadata": {
        "id": "7DEGNBKdN0on",
        "colab_type": "code",
        "outputId": "90e603ee-27ec-4ed6-e58f-9bb7ced41dbd",
        "colab": {
          "base_uri": "https://localhost:8080/",
          "height": 51
        }
      },
      "source": [
        "# Print digit_features\n",
        "print(digit_features)"
      ],
      "execution_count": 0,
      "outputs": [
        {
          "output_type": "stream",
          "text": [
            "[-1.71866692 -0.07738529  1.49076778 -0.24509808 -0.72234146 -1.13570477\n",
            "  0.19527253]\n"
          ],
          "name": "stdout"
        }
      ]
    }
  ]
}
