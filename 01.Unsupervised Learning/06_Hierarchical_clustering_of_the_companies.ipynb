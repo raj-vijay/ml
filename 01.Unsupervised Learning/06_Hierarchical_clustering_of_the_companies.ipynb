{
  "nbformat": 4,
  "nbformat_minor": 0,
  "metadata": {
    "colab": {
      "name": "06. Hierarchical clustering of the companies.ipynb",
      "provenance": [],
      "collapsed_sections": [],
      "include_colab_link": true
    },
    "kernelspec": {
      "name": "python3",
      "display_name": "Python 3"
    }
  },
  "cells": [
    {
      "cell_type": "markdown",
      "metadata": {
        "id": "view-in-github",
        "colab_type": "text"
      },
      "source": [
        "<a href=\"https://colab.research.google.com/github/raj-vijay/ml/blob/master/06_Hierarchical_clustering_of_the_companies.ipynb\" target=\"_parent\"><img src=\"https://colab.research.google.com/assets/colab-badge.svg\" alt=\"Open In Colab\"/></a>"
      ]
    },
    {
      "cell_type": "markdown",
      "metadata": {
        "id": "Zj0kxCrFUedw",
        "colab_type": "text"
      },
      "source": [
        "**Hierarchical clustering of the companies by stock movements**"
      ]
    },
    {
      "cell_type": "markdown",
      "metadata": {
        "id": "dNViMJGWPfzQ",
        "colab_type": "text"
      },
      "source": [
        "\n",
        "Cluster companies using their daily stock price movements (i.e. the dollar difference between the closing and opening prices for each trading day). \n",
        "\n",
        "The dataset contains daily price movements of stocks from 2010 to 2015 (obtained from Yahoo! Finance), where each row corresponds to a company, and each column corresponds to a trading day.\n",
        "\n",
        "Some stocks are more expensive than others.\n"
      ]
    },
    {
      "cell_type": "code",
      "metadata": {
        "id": "Dfj_AalXOD_2",
        "colab_type": "code",
        "colab": {}
      },
      "source": [
        "import numpy as np\n",
        "import pandas as pd"
      ],
      "execution_count": 0,
      "outputs": []
    },
    {
      "cell_type": "code",
      "metadata": {
        "id": "1Yyy5tpHQc6Y",
        "colab_type": "code",
        "outputId": "1c12d27d-aa03-413f-e0cd-dbbc5b2de040",
        "colab": {
          "base_uri": "https://localhost:8080/",
          "height": 336
        }
      },
      "source": [
        "data = np.genfromtxt('company-stock-movements.csv', delimiter=',', dtype='str')\n",
        "data"
      ],
      "execution_count": 0,
      "outputs": [
        {
          "output_type": "execute_result",
          "data": {
            "text/plain": [
              "array([['', '2010-01-04', '2010-01-05', ..., '2013-10-25', '2013-10-28',\n",
              "        '2013-10-29'],\n",
              "       ['Apple', '0.5799999999999841', '-0.22000499999998624', ...,\n",
              "        '-5.359961999999996', '0.8400189999999839',\n",
              "        '-19.589980999999966'],\n",
              "       ['AIG', '-0.6400020000000026', '-0.6500000000000021', ...,\n",
              "        '-0.04000099999999662', '-0.40000200000000063',\n",
              "        '0.6599999999999966'],\n",
              "       ...,\n",
              "       ['Exxon', '0.4300010000000043', '0.22999599999998566', ...,\n",
              "        '-0.26000200000000007', '0.40000099999998895',\n",
              "        '0.4800030000000106'],\n",
              "       ['Xerox', '0.09000000000000163', '0.009999999999999787', ...,\n",
              "        '-0.02999999999999936', '0.019999999999999574',\n",
              "        '-0.02999999999999936'],\n",
              "       ['Yahoo', '0.15999899999999911', '0.010001000000002591', ...,\n",
              "        '-0.06000099999999975', '0.25999799999999595',\n",
              "        '0.09999799999999937']], dtype='<U34')"
            ]
          },
          "metadata": {
            "tags": []
          },
          "execution_count": 2
        }
      ]
    },
    {
      "cell_type": "code",
      "metadata": {
        "id": "v2XulnQ6SbO3",
        "colab_type": "code",
        "outputId": "23326c67-5c90-4ec7-c077-5f1ddf395004",
        "colab": {
          "base_uri": "https://localhost:8080/",
          "height": 283
        }
      },
      "source": [
        "companies = data[1:,0]\n",
        "companies"
      ],
      "execution_count": 0,
      "outputs": [
        {
          "output_type": "execute_result",
          "data": {
            "text/plain": [
              "array(['Apple', 'AIG', 'Amazon', 'American express', 'Boeing',\n",
              "       'Bank of America', 'British American Tobacco', 'Canon',\n",
              "       'Caterpillar', 'Colgate-Palmolive', 'ConocoPhillips', 'Cisco',\n",
              "       'Chevron', 'DuPont de Nemours', 'Dell', 'Ford',\n",
              "       'General Electrics', 'Google/Alphabet', 'Goldman Sachs',\n",
              "       'GlaxoSmithKline', 'Home Depot', 'Honda', 'HP', 'IBM', 'Intel',\n",
              "       'Johnson & Johnson', 'JPMorgan Chase', 'Kimberly-Clark',\n",
              "       'Coca Cola', 'Lookheed Martin', 'MasterCard', 'McDonalds', '3M',\n",
              "       'Microsoft', 'Mitsubishi', 'Navistar', 'Northrop Grumman',\n",
              "       'Novartis', 'Pepsi', 'Pfizer', 'Procter Gamble', 'Philip Morris',\n",
              "       'Royal Dutch Shell', 'SAP', 'Schlumberger', 'Sony',\n",
              "       'Sanofi-Aventis', 'Symantec', 'Toyota', 'Total',\n",
              "       'Taiwan Semiconductor Manufacturing', 'Texas instruments',\n",
              "       'Unilever', 'Valero Energy', 'Walgreen', 'Wells Fargo', 'Wal-Mart',\n",
              "       'Exxon', 'Xerox', 'Yahoo'], dtype='<U34')"
            ]
          },
          "metadata": {
            "tags": []
          },
          "execution_count": 3
        }
      ]
    },
    {
      "cell_type": "code",
      "metadata": {
        "id": "TZUFyrCQRPYG",
        "colab_type": "code",
        "outputId": "56710a74-eca1-420b-8e67-63bfa15985c3",
        "colab": {
          "base_uri": "https://localhost:8080/",
          "height": 247
        }
      },
      "source": [
        "movements = data[1:, 1:].astype(float)\n",
        "movements"
      ],
      "execution_count": 0,
      "outputs": [
        {
          "output_type": "execute_result",
          "data": {
            "text/plain": [
              "array([[ 5.8000000e-01, -2.2000500e-01, -3.4099980e+00, ...,\n",
              "        -5.3599620e+00,  8.4001900e-01, -1.9589981e+01],\n",
              "       [-6.4000200e-01, -6.5000000e-01, -2.1000100e-01, ...,\n",
              "        -4.0001000e-02, -4.0000200e-01,  6.6000000e-01],\n",
              "       [-2.3500060e+00,  1.2600090e+00, -2.3500060e+00, ...,\n",
              "         4.7900090e+00, -1.7600090e+00,  3.7400210e+00],\n",
              "       ...,\n",
              "       [ 4.3000100e-01,  2.2999600e-01,  5.7000000e-01, ...,\n",
              "        -2.6000200e-01,  4.0000100e-01,  4.8000300e-01],\n",
              "       [ 9.0000000e-02,  1.0000000e-02, -8.0000000e-02, ...,\n",
              "        -3.0000000e-02,  2.0000000e-02, -3.0000000e-02],\n",
              "       [ 1.5999900e-01,  1.0001000e-02,  0.0000000e+00, ...,\n",
              "        -6.0001000e-02,  2.5999800e-01,  9.9998000e-02]])"
            ]
          },
          "metadata": {
            "tags": []
          },
          "execution_count": 4
        }
      ]
    },
    {
      "cell_type": "code",
      "metadata": {
        "id": "PdAE5XJ2Res6",
        "colab_type": "code",
        "colab": {}
      },
      "source": [
        "# Import Modules\n",
        "from scipy.cluster.hierarchy import linkage, dendrogram\n",
        "from sklearn.preprocessing import normalize\n",
        "import matplotlib.pyplot as plt"
      ],
      "execution_count": 0,
      "outputs": []
    },
    {
      "cell_type": "code",
      "metadata": {
        "id": "lXjw8_JuRf0B",
        "colab_type": "code",
        "colab": {}
      },
      "source": [
        "# Normalize the movements: normalized_movements\n",
        "normalized_movements = normalize(movements)"
      ],
      "execution_count": 0,
      "outputs": []
    },
    {
      "cell_type": "code",
      "metadata": {
        "id": "8w-jXkYYRi5v",
        "colab_type": "code",
        "colab": {}
      },
      "source": [
        "# Calculate the linkage: mergings\n",
        "mergings = linkage(normalized_movements, method='complete')"
      ],
      "execution_count": 0,
      "outputs": []
    },
    {
      "cell_type": "code",
      "metadata": {
        "id": "P2ZWLm31R0Jl",
        "colab_type": "code",
        "outputId": "cea08d7f-0969-4eca-91af-94c47d031433",
        "colab": {
          "base_uri": "https://localhost:8080/",
          "height": 368
        }
      },
      "source": [
        "# Plot the dendrogram\n",
        "dendrogram(mergings,\n",
        "           labels=companies,\n",
        "           leaf_rotation=90,\n",
        "           leaf_font_size=6,\n",
        ")\n",
        "plt.show()"
      ],
      "execution_count": 0,
      "outputs": [
        {
          "output_type": "display_data",
          "data": {
            "image/png": "[encoded data removed]",
            "text/plain": [
              "<Figure size 432x288 with 1 Axes>"
            ]
          },
          "metadata": {
            "tags": []
          }
        }
      ]
    }
  ]
}
