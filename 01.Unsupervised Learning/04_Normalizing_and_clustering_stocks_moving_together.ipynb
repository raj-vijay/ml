{
  "nbformat": 4,
  "nbformat_minor": 0,
  "metadata": {
    "colab": {
      "name": "04. Normalizing and clustering stocks moving together.ipynb",
      "provenance": [],
      "collapsed_sections": [],
      "include_colab_link": true
    },
    "kernelspec": {
      "name": "python3",
      "display_name": "Python 3"
    }
  },
  "cells": [
    {
      "cell_type": "markdown",
      "metadata": {
        "id": "view-in-github",
        "colab_type": "text"
      },
      "source": [
        "<a href=\"https://colab.research.google.com/github/raj-vijay/ml/blob/master/04_Normalizing_and_clustering_stocks_moving_together.ipynb\" target=\"_parent\"><img src=\"https://colab.research.google.com/assets/colab-badge.svg\" alt=\"Open In Colab\"/></a>"
      ]
    },
    {
      "cell_type": "markdown",
      "metadata": {
        "id": "Zj0kxCrFUedw",
        "colab_type": "text"
      },
      "source": [
        "**Stocks moving together**"
      ]
    },
    {
      "cell_type": "markdown",
      "metadata": {
        "id": "dNViMJGWPfzQ",
        "colab_type": "text"
      },
      "source": [
        "\n",
        "Cluster companies using their daily stock price movements (i.e. the dollar difference between the closing and opening prices for each trading day). \n",
        "\n",
        "The dataset contains daily price movements of stocks from 2010 to 2015 (obtained from Yahoo! Finance), where each row corresponds to a company, and each column corresponds to a trading day.\n",
        "\n",
        "Some stocks are more expensive than others. \n",
        "\n",
        "And to account for this, a Normalizer is included at the beginning of the pipeline. \n",
        "\n",
        "The Normalizer separately transforms each company's stock price to a relative scale before the clustering begins.\n",
        "\n",
        "A Normalizer() is very different from a StandardScaler(). While a StandardScaler() standardizes features by removing the mean and scaling to unit variance, the Normalizer() rescales each sample - here, each company's stock price - independently of the other."
      ]
    },
    {
      "cell_type": "code",
      "metadata": {
        "id": "Dfj_AalXOD_2",
        "colab_type": "code",
        "colab": {}
      },
      "source": [
        "import numpy as np\n",
        "import pandas as pd"
      ],
      "execution_count": 0,
      "outputs": []
    },
    {
      "cell_type": "code",
      "metadata": {
        "id": "1Yyy5tpHQc6Y",
        "colab_type": "code",
        "colab": {}
      },
      "source": [
        "data = np.genfromtxt('company-stock-movements.csv', delimiter=',', dtype='str')\n",
        "data"
      ],
      "execution_count": 0,
      "outputs": []
    },
    {
      "cell_type": "code",
      "metadata": {
        "id": "v2XulnQ6SbO3",
        "colab_type": "code",
        "outputId": "7a70824d-9db4-4f61-a68b-b77f4376a694",
        "colab": {
          "base_uri": "https://localhost:8080/",
          "height": 283
        }
      },
      "source": [
        "companies = data[1:,0]\n",
        "companies"
      ],
      "execution_count": 0,
      "outputs": [
        {
          "output_type": "execute_result",
          "data": {
            "text/plain": [
              "array(['Apple', 'AIG', 'Amazon', 'American express', 'Boeing',\n",
              "       'Bank of America', 'British American Tobacco', 'Canon',\n",
              "       'Caterpillar', 'Colgate-Palmolive', 'ConocoPhillips', 'Cisco',\n",
              "       'Chevron', 'DuPont de Nemours', 'Dell', 'Ford',\n",
              "       'General Electrics', 'Google/Alphabet', 'Goldman Sachs',\n",
              "       'GlaxoSmithKline', 'Home Depot', 'Honda', 'HP', 'IBM', 'Intel',\n",
              "       'Johnson & Johnson', 'JPMorgan Chase', 'Kimberly-Clark',\n",
              "       'Coca Cola', 'Lookheed Martin', 'MasterCard', 'McDonalds', '3M',\n",
              "       'Microsoft', 'Mitsubishi', 'Navistar', 'Northrop Grumman',\n",
              "       'Novartis', 'Pepsi', 'Pfizer', 'Procter Gamble', 'Philip Morris',\n",
              "       'Royal Dutch Shell', 'SAP', 'Schlumberger', 'Sony',\n",
              "       'Sanofi-Aventis', 'Symantec', 'Toyota', 'Total',\n",
              "       'Taiwan Semiconductor Manufacturing', 'Texas instruments',\n",
              "       'Unilever', 'Valero Energy', 'Walgreen', 'Wells Fargo', 'Wal-Mart',\n",
              "       'Exxon', 'Xerox', 'Yahoo'], dtype='<U34')"
            ]
          },
          "metadata": {
            "tags": []
          },
          "execution_count": 47
        }
      ]
    },
    {
      "cell_type": "code",
      "metadata": {
        "id": "TZUFyrCQRPYG",
        "colab_type": "code",
        "outputId": "bd455349-edd5-46af-ba1f-b727030422c6",
        "colab": {
          "base_uri": "https://localhost:8080/",
          "height": 247
        }
      },
      "source": [
        "movements = data[1:, 1:].astype(float)\n",
        "movements"
      ],
      "execution_count": 0,
      "outputs": [
        {
          "output_type": "execute_result",
          "data": {
            "text/plain": [
              "array([[ 5.8000000e-01, -2.2000500e-01, -3.4099980e+00, ...,\n",
              "        -5.3599620e+00,  8.4001900e-01, -1.9589981e+01],\n",
              "       [-6.4000200e-01, -6.5000000e-01, -2.1000100e-01, ...,\n",
              "        -4.0001000e-02, -4.0000200e-01,  6.6000000e-01],\n",
              "       [-2.3500060e+00,  1.2600090e+00, -2.3500060e+00, ...,\n",
              "         4.7900090e+00, -1.7600090e+00,  3.7400210e+00],\n",
              "       ...,\n",
              "       [ 4.3000100e-01,  2.2999600e-01,  5.7000000e-01, ...,\n",
              "        -2.6000200e-01,  4.0000100e-01,  4.8000300e-01],\n",
              "       [ 9.0000000e-02,  1.0000000e-02, -8.0000000e-02, ...,\n",
              "        -3.0000000e-02,  2.0000000e-02, -3.0000000e-02],\n",
              "       [ 1.5999900e-01,  1.0001000e-02,  0.0000000e+00, ...,\n",
              "        -6.0001000e-02,  2.5999800e-01,  9.9998000e-02]])"
            ]
          },
          "metadata": {
            "tags": []
          },
          "execution_count": 55
        }
      ]
    },
    {
      "cell_type": "code",
      "metadata": {
        "id": "PdAE5XJ2Res6",
        "colab_type": "code",
        "colab": {}
      },
      "source": [
        "# Import Modules\n",
        "from sklearn.preprocessing import Normalizer\n",
        "from sklearn.cluster import KMeans\n",
        "from sklearn.pipeline import make_pipeline"
      ],
      "execution_count": 0,
      "outputs": []
    },
    {
      "cell_type": "code",
      "metadata": {
        "id": "lXjw8_JuRf0B",
        "colab_type": "code",
        "colab": {}
      },
      "source": [
        "# Create a normalizer: normalizer\n",
        "normalizer = Normalizer()"
      ],
      "execution_count": 0,
      "outputs": []
    },
    {
      "cell_type": "code",
      "metadata": {
        "id": "8w-jXkYYRi5v",
        "colab_type": "code",
        "colab": {}
      },
      "source": [
        "# Create a KMeans model with 10 clusters: kmeans\n",
        "kmeans = KMeans(n_clusters = 10)"
      ],
      "execution_count": 0,
      "outputs": []
    },
    {
      "cell_type": "code",
      "metadata": {
        "id": "P2ZWLm31R0Jl",
        "colab_type": "code",
        "colab": {}
      },
      "source": [
        "# Make a pipeline chaining normalizer and kmeans: pipeline\n",
        "pipeline = make_pipeline(normalizer, kmeans)"
      ],
      "execution_count": 0,
      "outputs": []
    },
    {
      "cell_type": "code",
      "metadata": {
        "id": "AYUJ3PEZR_64",
        "colab_type": "code",
        "outputId": "822618b2-15ad-474e-ac1b-81ba5d9a068b",
        "colab": {
          "base_uri": "https://localhost:8080/",
          "height": 158
        }
      },
      "source": [
        "# Fit pipeline to the daily price movements\n",
        "pipeline.fit(movements)"
      ],
      "execution_count": 0,
      "outputs": [
        {
          "output_type": "execute_result",
          "data": {
            "text/plain": [
              "Pipeline(memory=None,\n",
              "         steps=[('normalizer', Normalizer(copy=True, norm='l2')),\n",
              "                ('kmeans',\n",
              "                 KMeans(algorithm='auto', copy_x=True, init='k-means++',\n",
              "                        max_iter=300, n_clusters=10, n_init=10, n_jobs=None,\n",
              "                        precompute_distances='auto', random_state=None,\n",
              "                        tol=0.0001, verbose=0))],\n",
              "         verbose=False)"
            ]
          },
          "metadata": {
            "tags": []
          },
          "execution_count": 60
        }
      ]
    },
    {
      "cell_type": "code",
      "metadata": {
        "id": "of7OCxOtSBNu",
        "colab_type": "code",
        "colab": {}
      },
      "source": [
        "# Predict the cluster labels: labels\n",
        "labels = pipeline.predict(movements)"
      ],
      "execution_count": 0,
      "outputs": []
    },
    {
      "cell_type": "code",
      "metadata": {
        "id": "IGW5eT21SFsa",
        "colab_type": "code",
        "colab": {}
      },
      "source": [
        "# Create a DataFrame aligning labels and companies: df\n",
        "df = pd.DataFrame({'labels': labels, 'companies': companies})"
      ],
      "execution_count": 0,
      "outputs": []
    },
    {
      "cell_type": "code",
      "metadata": {
        "id": "pDweE89nT4QY",
        "colab_type": "code",
        "outputId": "c5ccfd53-efc4-461d-ac8e-b7f6652ec7db",
        "colab": {
          "base_uri": "https://localhost:8080/",
          "height": 1000
        }
      },
      "source": [
        "# Display df sorted by cluster label\n",
        "print(df.sort_values('labels'))"
      ],
      "execution_count": 0,
      "outputs": [
        {
          "output_type": "stream",
          "text": [
            "    labels                           companies\n",
            "29       0                     Lookheed Martin\n",
            "36       0                    Northrop Grumman\n",
            "4        0                              Boeing\n",
            "54       0                            Walgreen\n",
            "45       1                                Sony\n",
            "42       2                   Royal Dutch Shell\n",
            "32       2                                  3M\n",
            "44       2                        Schlumberger\n",
            "39       2                              Pfizer\n",
            "16       2                   General Electrics\n",
            "53       2                       Valero Energy\n",
            "13       2                   DuPont de Nemours\n",
            "49       2                               Total\n",
            "10       2                      ConocoPhillips\n",
            "8        2                         Caterpillar\n",
            "57       2                               Exxon\n",
            "12       2                             Chevron\n",
            "1        3                                 AIG\n",
            "18       3                       Goldman Sachs\n",
            "55       3                         Wells Fargo\n",
            "3        3                    American express\n",
            "5        3                     Bank of America\n",
            "26       3                      JPMorgan Chase\n",
            "40       4                      Procter Gamble\n",
            "28       4                           Coca Cola\n",
            "27       4                      Kimberly-Clark\n",
            "25       4                   Johnson & Johnson\n",
            "56       4                            Wal-Mart\n",
            "9        4                   Colgate-Palmolive\n",
            "38       4                               Pepsi\n",
            "23       5                                 IBM\n",
            "47       5                            Symantec\n",
            "30       5                          MasterCard\n",
            "43       5                                 SAP\n",
            "33       5                           Microsoft\n",
            "50       5  Taiwan Semiconductor Manufacturing\n",
            "51       5                   Texas instruments\n",
            "24       5                               Intel\n",
            "48       6                              Toyota\n",
            "59       6                               Yahoo\n",
            "35       6                            Navistar\n",
            "34       6                          Mitsubishi\n",
            "7        6                               Canon\n",
            "58       6                               Xerox\n",
            "11       6                               Cisco\n",
            "21       6                               Honda\n",
            "20       6                          Home Depot\n",
            "15       6                                Ford\n",
            "6        7            British American Tobacco\n",
            "52       7                            Unilever\n",
            "19       7                     GlaxoSmithKline\n",
            "37       7                            Novartis\n",
            "46       7                      Sanofi-Aventis\n",
            "31       7                           McDonalds\n",
            "41       7                       Philip Morris\n",
            "2        8                              Amazon\n",
            "17       8                     Google/Alphabet\n",
            "0        8                               Apple\n",
            "14       9                                Dell\n",
            "22       9                                  HP\n"
          ],
          "name": "stdout"
        }
      ]
    }
  ]
}
