{
  "nbformat": 4,
  "nbformat_minor": 0,
  "metadata": {
    "colab": {
      "name": "14. NMF Learning on the LED digits dataset.ipynb",
      "provenance": [],
      "include_colab_link": true
    },
    "kernelspec": {
      "name": "python3",
      "display_name": "Python 3"
    }
  },
  "cells": [
    {
      "cell_type": "markdown",
      "metadata": {
        "id": "view-in-github",
        "colab_type": "text"
      },
      "source": [
        "<a href=\"https://colab.research.google.com/github/raj-vijay/ml/blob/master/14_NMF_Learning_on_the_LED_digits_dataset.ipynb\" target=\"_parent\"><img src=\"https://colab.research.google.com/assets/colab-badge.svg\" alt=\"Open In Colab\"/></a>"
      ]
    },
    {
      "cell_type": "markdown",
      "metadata": {
        "id": "MOd6tgYkKmDP",
        "colab_type": "text"
      },
      "source": [
        "**Non-negative matrix factorization (NMF)**"
      ]
    },
    {
      "cell_type": "markdown",
      "metadata": {
        "id": "gsrypN1nAzLe",
        "colab_type": "text"
      },
      "source": [
        "Non-negative matrix factorization (NMF or NNMF), also non-negative matrix approximation, is a group of algorithms in multivariate analysis and linear algebra where a matrix V is factorized into two matrices W and H, such that all three matrices have no negative elements. \n",
        "\n",
        "![alt text](https://raw.githubusercontent.com/raj-vijay/ml/master/images/NMF.jpg)\n",
        "\n",
        "This non-negativity makes the resulting matrices easier to inspect. \n",
        "\n",
        "From a practical application standpoint, such as in applications for processing of audio spectrograms or muscular activity, non-negativity is inherent to the dataset being considered. \n"
      ]
    },
    {
      "cell_type": "markdown",
      "metadata": {
        "id": "BFYzpXpdCCVf",
        "colab_type": "text"
      },
      "source": [
        "Nonnegative matrix factorization (NMF) has become a widely used tool for the analysis of high-dimensional data as it automatically extracts sparse and meaningful features from a set of nonnegative data vectors. \n",
        "\n",
        "This property of NMF is widely used in application such as for image processing and text mining. \n"
      ]
    },
    {
      "cell_type": "markdown",
      "metadata": {
        "id": "uniFLr9uC58X",
        "colab_type": "text"
      },
      "source": [
        "Thus the NMF factorization can be used for example for dimensionality reduction, source separation or topic extraction.\n"
      ]
    },
    {
      "cell_type": "markdown",
      "metadata": {
        "id": "64HAPgczEQI3",
        "colab_type": "text"
      },
      "source": [
        "**Image Processing with NMF**\n",
        "\n",
        "For a gray-level image of a face containing p pixels, we can squash the data into a single vector such that the ith entry represents the value of the ith pixel. \n",
        "\n",
        "The rows of [X] in [R][p x n] represent the p pixels, and the n columns each representing one image.\n",
        "\n",
        "![alt text](https://raw.githubusercontent.com/raj-vijay/ml/master/images/NMF%20Image.png)\n",
        "\n",
        "NMF will produce two matrices W and H. \n",
        "\n",
        "The columns of W can be interpreted as images (the basis images), and H tells us how to sum up the basis images in order to reconstruct an approximation to a given face.\n",
        "\n"
      ]
    },
    {
      "cell_type": "code",
      "metadata": {
        "id": "zp_MMRBzKh0X",
        "colab_type": "code",
        "colab": {}
      },
      "source": [
        "import numpy as np\n",
        "import pandas as pd"
      ],
      "execution_count": 0,
      "outputs": []
    },
    {
      "cell_type": "code",
      "metadata": {
        "id": "wtH0QfK5K48H",
        "colab_type": "code",
        "outputId": "17076154-2e6f-4440-8bd4-56c1315781f1",
        "colab": {
          "base_uri": "https://localhost:8080/",
          "height": 136
        }
      },
      "source": [
        "samples = np.genfromtxt('LCD.csv', delimiter= ',')\n",
        "print(samples)"
      ],
      "execution_count": 0,
      "outputs": [
        {
          "output_type": "stream",
          "text": [
            "[[0. 0. 0. ... 0. 0. 0.]\n",
            " [0. 0. 0. ... 0. 0. 0.]\n",
            " [0. 0. 0. ... 0. 0. 0.]\n",
            " ...\n",
            " [0. 0. 0. ... 0. 0. 0.]\n",
            " [0. 0. 0. ... 0. 0. 0.]\n",
            " [0. 0. 0. ... 0. 0. 0.]]\n"
          ],
          "name": "stdout"
        }
      ]
    },
    {
      "cell_type": "markdown",
      "metadata": {
        "id": "I5fX9RowNW_R",
        "colab_type": "text"
      },
      "source": [
        "Define a function that displays the image encoded by any 1D array"
      ]
    },
    {
      "cell_type": "code",
      "metadata": {
        "id": "FRslLa90L45w",
        "colab_type": "code",
        "colab": {}
      },
      "source": [
        "# Import pyplot\n",
        "from matplotlib import pyplot as plt"
      ],
      "execution_count": 0,
      "outputs": []
    },
    {
      "cell_type": "code",
      "metadata": {
        "id": "7TFNaKxDNZ8G",
        "colab_type": "code",
        "colab": {}
      },
      "source": [
        "def show_as_image(sample):\n",
        "    bitmap = sample.reshape((13, 8))\n",
        "    plt.figure()\n",
        "    plt.imshow(bitmap, cmap='gray', interpolation='nearest')\n",
        "    plt.colorbar()\n",
        "    plt.show()"
      ],
      "execution_count": 0,
      "outputs": []
    },
    {
      "cell_type": "code",
      "metadata": {
        "id": "PZJzRnjANpBn",
        "colab_type": "code",
        "colab": {}
      },
      "source": [
        "# Import NMF\n",
        "from sklearn.decomposition import NMF"
      ],
      "execution_count": 0,
      "outputs": []
    },
    {
      "cell_type": "code",
      "metadata": {
        "id": "3cmY5nxINrPW",
        "colab_type": "code",
        "colab": {}
      },
      "source": [
        "# Create an NMF model: model\n",
        "model = NMF(7)"
      ],
      "execution_count": 0,
      "outputs": []
    },
    {
      "cell_type": "code",
      "metadata": {
        "id": "z8AQQLZPNshO",
        "colab_type": "code",
        "colab": {}
      },
      "source": [
        "# Apply fit_transform to samples: features\n",
        "features = model.fit_transform(samples)\n"
      ],
      "execution_count": 0,
      "outputs": []
    },
    {
      "cell_type": "code",
      "metadata": {
        "id": "Se3rzVzgNu82",
        "colab_type": "code",
        "outputId": "d171c66a-8adc-4ba9-8a5e-563f00503497",
        "colab": {
          "base_uri": "https://localhost:8080/",
          "height": 1000
        }
      },
      "source": [
        "# Call show_as_image on each component\n",
        "for component in model.components_:\n",
        "    show_as_image(component)"
      ],
      "execution_count": 0,
      "outputs": [
        {
          "output_type": "display_data",
          "data": {
            "image/png": "[encoded data removed]",
            "text/plain": [
              "<Figure size 432x288 with 2 Axes>"
            ]
          },
          "metadata": {
            "tags": []
          }
        },
        {
          "output_type": "display_data",
          "data": {
            "image/png": "[encoded data removed]",
            "text/plain": [
              "<Figure size 432x288 with 2 Axes>"
            ]
          },
          "metadata": {
            "tags": []
          }
        },
        {
          "output_type": "display_data",
          "data": {
            "image/png": "[encoded data removed]",
            "text/plain": [
              "<Figure size 432x288 with 2 Axes>"
            ]
          },
          "metadata": {
            "tags": []
          }
        },
        {
          "output_type": "display_data",
          "data": {
            "image/png": "[encoded data removed]",
            "text/plain": [
              "<Figure size 432x288 with 2 Axes>"
            ]
          },
          "metadata": {
            "tags": []
          }
        },
        {
          "output_type": "display_data",
          "data": {
            "image/png": "[encoded data removed]",
            "text/plain": [
              "<Figure size 432x288 with 2 Axes>"
            ]
          },
          "metadata": {
            "tags": []
          }
        },
        {
          "output_type": "display_data",
          "data": {
            "image/png": "[encoded data removed]",
            "text/plain": [
              "<Figure size 432x288 with 2 Axes>"
            ]
          },
          "metadata": {
            "tags": []
          }
        },
        {
          "output_type": "display_data",
          "data": {
            "image/png": "[encoded data removed]",
            "text/plain": [
              "<Figure size 432x288 with 2 Axes>"
            ]
          },
          "metadata": {
            "tags": []
          }
        }
      ]
    },
    {
      "cell_type": "code",
      "metadata": {
        "id": "_3BKzknfNyTe",
        "colab_type": "code",
        "colab": {}
      },
      "source": [
        "# Assign the 0th row of features: digit_features\n",
        "digit_features = features[0,:]"
      ],
      "execution_count": 0,
      "outputs": []
    },
    {
      "cell_type": "code",
      "metadata": {
        "id": "7DEGNBKdN0on",
        "colab_type": "code",
        "outputId": "58c8c3d3-0427-4585-dead-73115d99f044",
        "colab": {
          "base_uri": "https://localhost:8080/",
          "height": 51
        }
      },
      "source": [
        "# Print digit_features\n",
        "print(digit_features)"
      ],
      "execution_count": 0,
      "outputs": [
        {
          "output_type": "stream",
          "text": [
            "[4.76823559e-01 0.00000000e+00 0.00000000e+00 5.90605054e-01\n",
            " 4.81559442e-01 0.00000000e+00 7.37546142e-16]\n"
          ],
          "name": "stdout"
        }
      ]
    }
  ]
}
