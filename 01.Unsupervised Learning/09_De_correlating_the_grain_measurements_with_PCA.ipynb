{
  "nbformat": 4,
  "nbformat_minor": 0,
  "metadata": {
    "colab": {
      "name": "09. De-correlating the grain measurements with PCA.ipynb",
      "provenance": [],
      "collapsed_sections": [],
      "include_colab_link": true
    },
    "kernelspec": {
      "name": "python3",
      "display_name": "Python 3"
    }
  },
  "cells": [
    {
      "cell_type": "markdown",
      "metadata": {
        "id": "view-in-github",
        "colab_type": "text"
      },
      "source": [
        "<a href=\"https://colab.research.google.com/github/raj-vijay/ml/blob/master/09_De_correlating_the_grain_measurements_with_PCA.ipynb\" target=\"_parent\"><img src=\"https://colab.research.google.com/assets/colab-badge.svg\" alt=\"Open In Colab\"/></a>"
      ]
    },
    {
      "cell_type": "markdown",
      "metadata": {
        "id": "M5QIkWvgRc0O",
        "colab_type": "text"
      },
      "source": [
        "**Principal Component Analysis (PCA)**\n",
        "\n",
        "Principal component analysis (PCA) is a statistical procedure that uses an orthogonal transformation to convert a set of observations of possibly correlated variables (entities each of which takes on various numerical values) into a set of values of linearly uncorrelated variables called principal components. \n",
        "\n",
        "This transformation is defined in such a way that the first principal component has the largest possible variance (that is, accounts for as much of the variability in the data as possible), and each succeeding component in turn has the highest variance possible under the constraint that it is orthogonal to the preceding components. The resulting vectors (each being a linear combination of the variables and containing n observations) are an uncorrelated orthogonal basis set. \n",
        "\n",
        "PCA is sensitive to the relative scaling of the original variables. "
      ]
    },
    {
      "cell_type": "markdown",
      "metadata": {
        "id": "Jzyvhc9wR_-y",
        "colab_type": "text"
      },
      "source": [
        "Here, we first check if the width and length of the seeds from the grain data are correlated. This is carried out by visualizing the data using a scatter plot and then pricipal component analysis is done to convert the values into linearly uncorrelated variables."
      ]
    },
    {
      "cell_type": "markdown",
      "metadata": {
        "id": "UYJqGxWQYI60",
        "colab_type": "text"
      },
      "source": [
        "**The Seeds Dataset**\n",
        "\n",
        "The examined group comprised kernels belonging to three different varieties of wheat: Kama, Rosa and Canadian, 70 elements each, randomly selected for\n",
        "the experiment. High quality visualization of the internal kernel structure was detected using a soft X-ray technique. It is non-destructive and considerably cheaper than other more sophisticated imaging techniques like scanning microscopy or laser technology. The images were recorded on 13x18 cm X-ray KODAK plates. Studies were conducted using combine harvested wheat grain originating from experimental fields, explored at the Institute of Agrophysics of the Polish Academy of Sciences in Lublin.\n",
        "\n",
        "The data set can be used for the tasks of classification and cluster analysis.\n",
        "\n",
        "\n",
        "Attribute Information:\n",
        "\n",
        "To construct the data, seven geometric parameters of wheat kernels were measured:\n",
        "1. area A,\n",
        "2. perimeter P,\n",
        "3. compactness C = 4*pi*A/P^2,\n",
        "4. length of kernel,\n",
        "5. width of kernel,\n",
        "6. asymmetry coefficient\n",
        "7. length of kernel groove.\n",
        "\n",
        "All of these parameters were real-valued continuous."
      ]
    },
    {
      "cell_type": "markdown",
      "metadata": {
        "id": "O_5TvC9AX6Mx",
        "colab_type": "text"
      },
      "source": [
        "This dataset was sourced from the UCI Machine Learning Repository.\n",
        "\n",
        "https://archive.ics.uci.edu/ml/datasets/seeds"
      ]
    },
    {
      "cell_type": "code",
      "metadata": {
        "id": "4I6QAklhO7VA",
        "colab_type": "code",
        "outputId": "f4d63b4f-b347-4477-a0ab-e1cd8c3ac8d3",
        "colab": {
          "base_uri": "https://localhost:8080/",
          "height": 212
        }
      },
      "source": [
        "# Download the seeds data using wget (Linux)\n",
        "!wget https://archive.ics.uci.edu/ml/machine-learning-databases/00236/seeds_dataset.txt"
      ],
      "execution_count": 0,
      "outputs": [
        {
          "output_type": "stream",
          "text": [
            "--2020-01-03 16:31:04--  https://archive.ics.uci.edu/ml/machine-learning-databases/00236/seeds_dataset.txt\n",
            "Resolving archive.ics.uci.edu (archive.ics.uci.edu)... 128.195.10.252\n",
            "Connecting to archive.ics.uci.edu (archive.ics.uci.edu)|128.195.10.252|:443... connected.\n",
            "HTTP request sent, awaiting response... 200 OK\n",
            "Length: 9300 (9.1K) [application/x-httpd-php]\n",
            "Saving to: ‘seeds_dataset.txt’\n",
            "\n",
            "seeds_dataset.txt   100%[===================>]   9.08K  --.-KB/s    in 0s      \n",
            "\n",
            "2020-01-03 16:31:04 (114 MB/s) - ‘seeds_dataset.txt’ saved [9300/9300]\n",
            "\n"
          ],
          "name": "stdout"
        }
      ]
    },
    {
      "cell_type": "markdown",
      "metadata": {
        "id": "bD6WVCu_Xvi_",
        "colab_type": "text"
      },
      "source": [
        "Import NumPy and Pandas"
      ]
    },
    {
      "cell_type": "code",
      "metadata": {
        "id": "45Uj9c-RTKGP",
        "colab_type": "code",
        "colab": {}
      },
      "source": [
        "import numpy as np\n",
        "import pandas as pd"
      ],
      "execution_count": 0,
      "outputs": []
    },
    {
      "cell_type": "markdown",
      "metadata": {
        "id": "4KyBhAJ2YYQu",
        "colab_type": "text"
      },
      "source": [
        "Load the dataset to an array 'samples' containing the measurements (such as area, perimeter, length, and several others) of samples of grain."
      ]
    },
    {
      "cell_type": "code",
      "metadata": {
        "id": "W6Jv5M_OTGH2",
        "colab_type": "code",
        "colab": {}
      },
      "source": [
        "samples = np.genfromtxt('seeds_dataset.txt')"
      ],
      "execution_count": 0,
      "outputs": []
    },
    {
      "cell_type": "code",
      "metadata": {
        "id": "p6RDUSOaTTIv",
        "colab_type": "code",
        "outputId": "faf89500-c0b9-483a-e648-48965528c755",
        "colab": {
          "base_uri": "https://localhost:8080/",
          "height": 141
        }
      },
      "source": [
        "# Test the dataload for the seeds dataset\n",
        "samples"
      ],
      "execution_count": 0,
      "outputs": [
        {
          "output_type": "execute_result",
          "data": {
            "text/plain": [
              "array([[15.26  , 14.84  ,  0.871 , ...,  2.221 ,  5.22  ,  1.    ],\n",
              "       [14.88  , 14.57  ,  0.8811, ...,  1.018 ,  4.956 ,  1.    ],\n",
              "       [14.29  , 14.09  ,  0.905 , ...,  2.699 ,  4.825 ,  1.    ],\n",
              "       ...,\n",
              "       [13.2   , 13.66  ,  0.8883, ...,  8.315 ,  5.056 ,  3.    ],\n",
              "       [11.84  , 13.21  ,  0.8521, ...,  3.598 ,  5.044 ,  3.    ],\n",
              "       [12.3   , 13.34  ,  0.8684, ...,  5.637 ,  5.063 ,  3.    ]])"
            ]
          },
          "metadata": {
            "tags": []
          },
          "execution_count": 4
        }
      ]
    },
    {
      "cell_type": "code",
      "metadata": {
        "id": "AWDAnogJP2Zq",
        "colab_type": "code",
        "outputId": "39ea30a4-31e7-4693-803c-738c84196b30",
        "colab": {
          "base_uri": "https://localhost:8080/",
          "height": 1000
        }
      },
      "source": [
        "grains = samples[:,3:5]\n",
        "grains"
      ],
      "execution_count": 0,
      "outputs": [
        {
          "output_type": "execute_result",
          "data": {
            "text/plain": [
              "array([[5.763, 3.312],\n",
              "       [5.554, 3.333],\n",
              "       [5.291, 3.337],\n",
              "       [5.324, 3.379],\n",
              "       [5.658, 3.562],\n",
              "       [5.386, 3.312],\n",
              "       [5.563, 3.259],\n",
              "       [5.42 , 3.302],\n",
              "       [6.053, 3.465],\n",
              "       [5.884, 3.505],\n",
              "       [5.714, 3.242],\n",
              "       [5.438, 3.201],\n",
              "       [5.439, 3.199],\n",
              "       [5.479, 3.156],\n",
              "       [5.482, 3.114],\n",
              "       [5.351, 3.333],\n",
              "       [5.119, 3.383],\n",
              "       [5.527, 3.514],\n",
              "       [5.205, 3.466],\n",
              "       [5.226, 3.049],\n",
              "       [5.658, 3.129],\n",
              "       [5.52 , 3.168],\n",
              "       [5.618, 3.507],\n",
              "       [5.099, 2.936],\n",
              "       [5.789, 3.245],\n",
              "       [5.833, 3.421],\n",
              "       [5.395, 3.026],\n",
              "       [5.395, 2.956],\n",
              "       [5.541, 3.221],\n",
              "       [5.516, 3.065],\n",
              "       [5.454, 2.975],\n",
              "       [5.757, 3.371],\n",
              "       [5.717, 3.186],\n",
              "       [5.585, 3.15 ],\n",
              "       [5.712, 3.328],\n",
              "       [5.709, 3.485],\n",
              "       [5.826, 3.464],\n",
              "       [5.832, 3.683],\n",
              "       [5.656, 3.288],\n",
              "       [5.397, 3.298],\n",
              "       [5.348, 3.156],\n",
              "       [5.351, 3.158],\n",
              "       [5.138, 3.201],\n",
              "       [5.877, 3.396],\n",
              "       [5.579, 3.462],\n",
              "       [5.376, 3.155],\n",
              "       [5.701, 3.393],\n",
              "       [5.57 , 3.377],\n",
              "       [5.545, 3.291],\n",
              "       [5.678, 3.258],\n",
              "       [5.585, 3.272],\n",
              "       [5.674, 3.434],\n",
              "       [5.715, 3.113],\n",
              "       [5.504, 3.199],\n",
              "       [5.741, 3.113],\n",
              "       [5.702, 3.212],\n",
              "       [5.388, 3.377],\n",
              "       [5.384, 3.412],\n",
              "       [5.662, 3.419],\n",
              "       [5.159, 3.032],\n",
              "       [5.008, 2.85 ],\n",
              "       [4.902, 2.879],\n",
              "       [5.076, 3.042],\n",
              "       [5.395, 3.07 ],\n",
              "       [5.262, 3.026],\n",
              "       [5.139, 3.119],\n",
              "       [5.63 , 3.19 ],\n",
              "       [5.609, 3.158],\n",
              "       [5.569, 3.153],\n",
              "       [5.412, 2.882],\n",
              "       [6.191, 3.561],\n",
              "       [5.998, 3.484],\n",
              "       [5.978, 3.594],\n",
              "       [6.154, 3.93 ],\n",
              "       [6.017, 3.486],\n",
              "       [5.927, 3.438],\n",
              "       [6.064, 3.403],\n",
              "       [6.579, 3.814],\n",
              "       [6.445, 3.639],\n",
              "       [5.85 , 3.566],\n",
              "       [5.875, 3.467],\n",
              "       [6.006, 3.857],\n",
              "       [6.285, 3.864],\n",
              "       [6.384, 3.772],\n",
              "       [6.366, 3.801],\n",
              "       [6.173, 3.651],\n",
              "       [6.084, 3.764],\n",
              "       [6.549, 3.67 ],\n",
              "       [6.573, 4.033],\n",
              "       [6.45 , 4.032],\n",
              "       [6.581, 3.785],\n",
              "       [6.172, 3.796],\n",
              "       [6.272, 3.693],\n",
              "       [6.037, 3.86 ],\n",
              "       [6.666, 3.485],\n",
              "       [6.139, 3.463],\n",
              "       [6.341, 3.81 ],\n",
              "       [6.449, 3.552],\n",
              "       [6.271, 3.512],\n",
              "       [6.219, 3.684],\n",
              "       [5.718, 3.525],\n",
              "       [5.89 , 3.694],\n",
              "       [6.113, 3.892],\n",
              "       [6.369, 3.681],\n",
              "       [6.248, 3.755],\n",
              "       [6.037, 3.786],\n",
              "       [6.152, 3.806],\n",
              "       [6.033, 3.573],\n",
              "       [6.675, 3.763],\n",
              "       [6.153, 3.674],\n",
              "       [6.107, 3.769],\n",
              "       [6.303, 3.791],\n",
              "       [6.183, 3.902],\n",
              "       [6.259, 3.737],\n",
              "       [6.563, 3.991],\n",
              "       [6.416, 3.719],\n",
              "       [6.051, 3.897],\n",
              "       [6.245, 3.815],\n",
              "       [6.227, 3.769],\n",
              "       [6.493, 3.857],\n",
              "       [6.315, 3.962],\n",
              "       [6.059, 3.563],\n",
              "       [5.762, 3.387],\n",
              "       [5.98 , 3.771],\n",
              "       [5.363, 3.582],\n",
              "       [6.111, 3.869],\n",
              "       [6.285, 3.594],\n",
              "       [5.979, 3.687],\n",
              "       [6.513, 3.773],\n",
              "       [5.791, 3.69 ],\n",
              "       [5.979, 3.755],\n",
              "       [6.144, 3.825],\n",
              "       [5.884, 3.268],\n",
              "       [5.845, 3.395],\n",
              "       [5.776, 3.408],\n",
              "       [5.477, 3.465],\n",
              "       [6.145, 3.574],\n",
              "       [5.92 , 3.231],\n",
              "       [5.832, 3.286],\n",
              "       [5.872, 3.472],\n",
              "       [5.472, 2.994],\n",
              "       [5.541, 3.073],\n",
              "       [5.389, 3.074],\n",
              "       [5.224, 2.967],\n",
              "       [5.314, 2.777],\n",
              "       [5.279, 2.687],\n",
              "       [5.176, 2.719],\n",
              "       [5.267, 2.967],\n",
              "       [5.386, 2.911],\n",
              "       [5.317, 2.648],\n",
              "       [5.263, 2.84 ],\n",
              "       [5.405, 2.776],\n",
              "       [5.408, 2.833],\n",
              "       [5.22 , 2.693],\n",
              "       [5.175, 2.755],\n",
              "       [5.25 , 2.675],\n",
              "       [5.053, 2.849],\n",
              "       [5.394, 2.745],\n",
              "       [5.444, 2.678],\n",
              "       [5.304, 2.695],\n",
              "       [5.451, 2.879],\n",
              "       [5.35 , 2.81 ],\n",
              "       [5.267, 2.847],\n",
              "       [5.333, 2.968],\n",
              "       [5.011, 2.794],\n",
              "       [5.105, 2.941],\n",
              "       [5.319, 2.897],\n",
              "       [5.417, 2.837],\n",
              "       [5.176, 2.668],\n",
              "       [5.09 , 2.715],\n",
              "       [5.325, 2.701],\n",
              "       [5.167, 2.845],\n",
              "       [5.088, 2.763],\n",
              "       [5.136, 2.763],\n",
              "       [5.278, 2.641],\n",
              "       [4.981, 2.821],\n",
              "       [5.186, 2.71 ],\n",
              "       [5.145, 2.642],\n",
              "       [5.18 , 2.758],\n",
              "       [5.357, 2.893],\n",
              "       [5.09 , 2.775],\n",
              "       [5.236, 3.017],\n",
              "       [5.24 , 2.909],\n",
              "       [5.108, 2.85 ],\n",
              "       [5.495, 3.026],\n",
              "       [5.363, 2.683],\n",
              "       [5.413, 2.716],\n",
              "       [5.088, 2.675],\n",
              "       [5.089, 2.821],\n",
              "       [4.899, 2.787],\n",
              "       [5.046, 2.717],\n",
              "       [5.091, 2.804],\n",
              "       [5.132, 2.953],\n",
              "       [5.18 , 2.63 ],\n",
              "       [5.236, 2.975],\n",
              "       [5.16 , 3.126],\n",
              "       [5.224, 3.054],\n",
              "       [5.32 , 3.128],\n",
              "       [5.41 , 2.911],\n",
              "       [5.073, 3.155],\n",
              "       [5.219, 2.989],\n",
              "       [4.984, 3.135],\n",
              "       [5.009, 2.81 ],\n",
              "       [5.183, 3.091],\n",
              "       [5.204, 2.96 ],\n",
              "       [5.137, 2.981],\n",
              "       [5.14 , 2.795],\n",
              "       [5.236, 3.232],\n",
              "       [5.175, 2.836],\n",
              "       [5.243, 2.974]])"
            ]
          },
          "metadata": {
            "tags": []
          },
          "execution_count": 16
        }
      ]
    },
    {
      "cell_type": "code",
      "metadata": {
        "id": "JgkNPFj0sVL8",
        "colab_type": "code",
        "outputId": "041faccd-d9e0-448c-e411-99462afa801e",
        "colab": {
          "base_uri": "https://localhost:8080/",
          "height": 247
        }
      },
      "source": [
        "labels = samples[:,-1]\n",
        "labels"
      ],
      "execution_count": 0,
      "outputs": [
        {
          "output_type": "execute_result",
          "data": {
            "text/plain": [
              "array([1., 1., 1., 1., 1., 1., 1., 1., 1., 1., 1., 1., 1., 1., 1., 1., 1.,\n",
              "       1., 1., 1., 1., 1., 1., 1., 1., 1., 1., 1., 1., 1., 1., 1., 1., 1.,\n",
              "       1., 1., 1., 1., 1., 1., 1., 1., 1., 1., 1., 1., 1., 1., 1., 1., 1.,\n",
              "       1., 1., 1., 1., 1., 1., 1., 1., 1., 1., 1., 1., 1., 1., 1., 1., 1.,\n",
              "       1., 1., 2., 2., 2., 2., 2., 2., 2., 2., 2., 2., 2., 2., 2., 2., 2.,\n",
              "       2., 2., 2., 2., 2., 2., 2., 2., 2., 2., 2., 2., 2., 2., 2., 2., 2.,\n",
              "       2., 2., 2., 2., 2., 2., 2., 2., 2., 2., 2., 2., 2., 2., 2., 2., 2.,\n",
              "       2., 2., 2., 2., 2., 2., 2., 2., 2., 2., 2., 2., 2., 2., 2., 2., 2.,\n",
              "       2., 2., 2., 2., 3., 3., 3., 3., 3., 3., 3., 3., 3., 3., 3., 3., 3.,\n",
              "       3., 3., 3., 3., 3., 3., 3., 3., 3., 3., 3., 3., 3., 3., 3., 3., 3.,\n",
              "       3., 3., 3., 3., 3., 3., 3., 3., 3., 3., 3., 3., 3., 3., 3., 3., 3.,\n",
              "       3., 3., 3., 3., 3., 3., 3., 3., 3., 3., 3., 3., 3., 3., 3., 3., 3.,\n",
              "       3., 3., 3., 3., 3., 3.])"
            ]
          },
          "metadata": {
            "tags": []
          },
          "execution_count": 5
        }
      ]
    },
    {
      "cell_type": "code",
      "metadata": {
        "id": "pjfI2NvbZBij",
        "colab_type": "code",
        "colab": {}
      },
      "source": [
        "# Perform the necessary imports\n",
        "import matplotlib.pyplot as plt\n",
        "from scipy.stats import pearsonr "
      ],
      "execution_count": 0,
      "outputs": []
    },
    {
      "cell_type": "code",
      "metadata": {
        "id": "r_iai7jSQXQ9",
        "colab_type": "code",
        "colab": {}
      },
      "source": [
        "# Assign the 0th column of grains: width\n",
        "width = grains[:,0]\n"
      ],
      "execution_count": 0,
      "outputs": []
    },
    {
      "cell_type": "code",
      "metadata": {
        "id": "PuhUJ-CuQXND",
        "colab_type": "code",
        "colab": {}
      },
      "source": [
        "# Assign the 1st column of grains: length\n",
        "length = grains[:,1]"
      ],
      "execution_count": 0,
      "outputs": []
    },
    {
      "cell_type": "code",
      "metadata": {
        "id": "0CZOEZFSQb-3",
        "colab_type": "code",
        "outputId": "b515b8ca-9da9-4ae2-f259-240c8d067c95",
        "colab": {
          "base_uri": "https://localhost:8080/",
          "height": 264
        }
      },
      "source": [
        "# Scatter plot width vs length\n",
        "plt.scatter(width, length)\n",
        "plt.axis('equal')\n",
        "plt.show()\n"
      ],
      "execution_count": 0,
      "outputs": [
        {
          "output_type": "display_data",
          "data": {
            "image/png": "[encoded data removed]",
            "text/plain": [
              "<Figure size 432x288 with 1 Axes>"
            ]
          },
          "metadata": {
            "tags": []
          }
        }
      ]
    },
    {
      "cell_type": "markdown",
      "metadata": {
        "id": "F3CjnrE3QuzB",
        "colab_type": "text"
      },
      "source": [
        "It can be observed in from above that the width and length measurements of the grain are correlated. "
      ]
    },
    {
      "cell_type": "markdown",
      "metadata": {
        "id": "8kirSo_nQ0X3",
        "colab_type": "text"
      },
      "source": [
        "Now, we will use Principal Component Analysis (PCA) to decorrelate these measurements, and then plot the decorrelated points and measure their Pearson correlation."
      ]
    },
    {
      "cell_type": "code",
      "metadata": {
        "id": "YVGV6QfVQ_rm",
        "colab_type": "code",
        "colab": {}
      },
      "source": [
        "# Import PCA\n",
        "from sklearn.decomposition import PCA"
      ],
      "execution_count": 0,
      "outputs": []
    },
    {
      "cell_type": "code",
      "metadata": {
        "id": "gHs9GcfeRCYl",
        "colab_type": "code",
        "colab": {}
      },
      "source": [
        "# Create PCA instance: model\n",
        "model = PCA()"
      ],
      "execution_count": 0,
      "outputs": []
    },
    {
      "cell_type": "code",
      "metadata": {
        "id": "ic7PkdFaREmB",
        "colab_type": "code",
        "colab": {}
      },
      "source": [
        "# Apply the fit_transform method of model to grains: pca_features\n",
        "pca_features = model.fit_transform(grains)"
      ],
      "execution_count": 0,
      "outputs": []
    },
    {
      "cell_type": "code",
      "metadata": {
        "id": "7L6A4QG_RG_n",
        "colab_type": "code",
        "colab": {}
      },
      "source": [
        "# Assign 0th column of pca_features: xs\n",
        "xs = pca_features[:,0]"
      ],
      "execution_count": 0,
      "outputs": []
    },
    {
      "cell_type": "code",
      "metadata": {
        "id": "GVbeNMDnRJZ3",
        "colab_type": "code",
        "colab": {}
      },
      "source": [
        "# Assign 1st column of pca_features: ys\n",
        "ys = pca_features[:,1]"
      ],
      "execution_count": 0,
      "outputs": []
    },
    {
      "cell_type": "code",
      "metadata": {
        "id": "PghbvDFbRLvf",
        "colab_type": "code",
        "outputId": "1750fe51-42a5-426d-faa1-f311d651886f",
        "colab": {
          "base_uri": "https://localhost:8080/",
          "height": 264
        }
      },
      "source": [
        "# Scatter plot xs vs ys\n",
        "plt.scatter(xs, ys)\n",
        "plt.axis('equal')\n",
        "plt.show()"
      ],
      "execution_count": 0,
      "outputs": [
        {
          "output_type": "display_data",
          "data": {
            "image/png": "[encoded data removed]",
            "text/plain": [
              "<Figure size 432x288 with 1 Axes>"
            ]
          },
          "metadata": {
            "tags": []
          }
        }
      ]
    },
    {
      "cell_type": "code",
      "metadata": {
        "id": "tdo4jhj5RO1n",
        "colab_type": "code",
        "outputId": "b2cb187e-d170-4593-c907-46d6d779cccc",
        "colab": {
          "base_uri": "https://localhost:8080/",
          "height": 34
        }
      },
      "source": [
        "# Calculate the Pearson correlation of xs and ys\n",
        "correlation, pvalue = pearsonr(xs, ys)\n",
        "# Display the correlation\n",
        "print(correlation)"
      ],
      "execution_count": 0,
      "outputs": [
        {
          "output_type": "stream",
          "text": [
            "-6.25584653524136e-17\n"
          ],
          "name": "stdout"
        }
      ]
    }
  ]
}
