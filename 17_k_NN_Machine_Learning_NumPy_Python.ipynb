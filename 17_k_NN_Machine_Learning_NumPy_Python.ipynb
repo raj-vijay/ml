{
  "nbformat": 4,
  "nbformat_minor": 0,
  "metadata": {
    "colab": {
      "name": "k-NN - Machine Learning.ipynb",
      "provenance": [],
      "collapsed_sections": [],
      "include_colab_link": true
    },
    "kernelspec": {
      "name": "python3",
      "display_name": "Python 3"
    }
  },
  "cells": [
    {
      "cell_type": "markdown",
      "metadata": {
        "id": "view-in-github",
        "colab_type": "text"
      },
      "source": [
        "<a href=\"https://colab.research.google.com/github/raj-vijay/ml/blob/master/17_k_NN_Machine_Learning_NumPy_Python.ipynb\" target=\"_parent\"><img src=\"https://colab.research.google.com/assets/colab-badge.svg\" alt=\"Open In Colab\"/></a>"
      ]
    },
    {
      "cell_type": "markdown",
      "metadata": {
        "id": "wgpPYywnDllx",
        "colab_type": "text"
      },
      "source": [
        "**Part 1 – Development of Basic Nearest Neighbour Algorithm**\n",
        "\n",
        "The training set contains 4000 training instances, while the test set contains 1000 test instances.\n",
        "\n",
        "Each instance is defined by a feature vector containing 10 feature values. The first 10 columns in both the training and test dataset correspond to the 10 features. \n",
        "\n",
        "All features are continuous valued features (there are no categorical features)\n",
        "\n",
        "The 11th column, in the test and training dataset, contains the class. You will notice that this is a multi-class classification problem. There are three classes (1, 2 or 3).\n",
        "\n",
        "The objective of part 1 of this assignment is to build a k-Nearest Neighbour (k-NN) algorithm (you should initially set k=1). Your algorithm should take as input a training and test dataset and will predict the appropriate class (1, 2 or 3).\n",
        "\n",
        "The k-NN algorithm you develop for part 1 should use standard Euclidean distance for calculating the distance between query instances and the instances in the training data. It should report the overall accuracy of the algorithm as the percentage of test (query) instances classified correctly.\n",
        "\n"
      ]
    },
    {
      "cell_type": "code",
      "metadata": {
        "id": "KkUOO7gXEh-I",
        "colab_type": "code",
        "outputId": "2420da1c-188b-48c6-dafd-b4d640e138f0",
        "colab": {
          "base_uri": "https://localhost:8080/",
          "height": 34
        }
      },
      "source": [
        "from google.colab import drive\n",
        "drive.mount('/content/drive')"
      ],
      "execution_count": 0,
      "outputs": [
        {
          "output_type": "stream",
          "text": [
            "Drive already mounted at /content/drive; to attempt to forcibly remount, call drive.mount(\"/content/drive\", force_remount=True).\n"
          ],
          "name": "stdout"
        }
      ]
    },
    {
      "cell_type": "markdown",
      "metadata": {
        "id": "2LBM50LjGEGI",
        "colab_type": "text"
      },
      "source": [
        "Load data files."
      ]
    },
    {
      "cell_type": "code",
      "metadata": {
        "id": "abtFfgulGLfS",
        "colab_type": "code",
        "colab": {}
      },
      "source": [
        "import numpy as np"
      ],
      "execution_count": 0,
      "outputs": []
    },
    {
      "cell_type": "code",
      "metadata": {
        "id": "azB_94o8GN86",
        "colab_type": "code",
        "colab": {}
      },
      "source": [
        "# Load training dataset\n",
        "train_array = np.loadtxt('/content/drive/My Drive/000.Data/classification/trainingData.csv', delimiter = ',')\n",
        "\n",
        "# Load test dataset\n",
        "test_array = np.loadtxt('/content/drive/My Drive/000.Data/classification/testData.csv', delimiter = ',')\n",
        "\n",
        "# Test loading of data\n",
        "\n",
        "# print(\"Training dataset\\n\", train_array)\n",
        "\n",
        "# print(\"\\nTest dataset\\n\", test_array)"
      ],
      "execution_count": 0,
      "outputs": []
    },
    {
      "cell_type": "markdown",
      "metadata": {
        "id": "Hr2Tdw97HhSI",
        "colab_type": "text"
      },
      "source": [
        "**Define function for calculating Euclidean Distance**\n",
        "\n",
        "The function calculateDistances accept as arguments a single NumPy 2D array containing all the feature training data as well as a 1D NumPy array, containing a single query instance. As prescribed by the assignment, the function is developed using numpy without using ‘for loops’.\n",
        "\n",
        "The function returns a NumPy array containing the distance from the query point to each of the individual training data instances. It also returns a second NumPy array containing the indices that would sort the distances array. The method argsort is used to sore the indices."
      ]
    },
    {
      "cell_type": "markdown",
      "metadata": {
        "id": "QLz0EzbTsAWk",
        "colab_type": "text"
      },
      "source": [
        "**calculateDistances**\n",
        "\n",
        "The distance is calculated as the standard Euclidean distance.\n",
        "\n",
        "![image.png](data:image/png;base64,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)\n",
        "\n",
        "However, in order to calculate the distances, the numpy.linalg.norm function is used. \n",
        "\n",
        "The Euclidean distance / norm (also known as the L² norm) is just one of many different norms. The L² norm of a single vector is equivalent to the Euclidean distance from that point to the origin, and the L² norm of the difference between two vectors is equivalent to the Euclidean distance between the two points."
      ]
    },
    {
      "cell_type": "code",
      "metadata": {
        "id": "SP3hiE78HwOL",
        "colab_type": "code",
        "colab": {}
      },
      "source": [
        "def calculateDistances(train, instance):\n",
        "  # Modify order of np.linalg.norm to evaluate the performance of the classifier while using Euclidean distance and Manhattan Distance\n",
        "  # Modify the numpy array slicing to test feature selection. Different features / column vectors can be used for distance determination for modeling\n",
        "  # Assign weights to column vectors for having weigthed features for calculation of distances \n",
        "  distance = np.linalg.norm(train[:, :-1] - instance[:-1],  ord=2, axis=1)\n",
        "  result = np.vstack((train.T, distance)).T\n",
        "  sorted = np.argsort(distance)\n",
        "  return result, sorted"
      ],
      "execution_count": 0,
      "outputs": []
    },
    {
      "cell_type": "code",
      "metadata": {
        "id": "1J9ZhTeBMaci",
        "colab_type": "code",
        "outputId": "dac10110-8d71-48c6-a724-00225143f5f5",
        "colab": {
          "base_uri": "https://localhost:8080/",
          "height": 238
        }
      },
      "source": [
        "# Test calculateDistances Function\n",
        "instance = test_array[1]\n",
        "calculateDistances(train_array, instance)"
      ],
      "execution_count": 0,
      "outputs": [
        {
          "output_type": "execute_result",
          "data": {
            "text/plain": [
              "(array([[0.5301304 , 0.62645837, 0.44524917, ..., 0.61033772, 2.        ,\n",
              "         0.54662896],\n",
              "        [0.43333892, 0.46062429, 0.56937923, ..., 0.35859095, 0.        ,\n",
              "         0.4939321 ],\n",
              "        [0.60879428, 0.72451976, 0.2661216 , ..., 0.57226228, 2.        ,\n",
              "         0.64804863],\n",
              "        ...,\n",
              "        [0.43723375, 0.5618769 , 0.56685036, ..., 0.4908792 , 2.        ,\n",
              "         0.43982632],\n",
              "        [0.62399617, 0.35529236, 0.49406175, ..., 0.46383661, 1.        ,\n",
              "         0.34213352],\n",
              "        [0.37743885, 0.39775421, 0.52465763, ..., 0.40968938, 2.        ,\n",
              "         0.73020761]]), array([3337, 2946, 3417, ..., 2702, 2979, 2068]))"
            ]
          },
          "metadata": {
            "tags": []
          },
          "execution_count": 401
        }
      ]
    },
    {
      "cell_type": "code",
      "metadata": {
        "id": "AX3pDpFeUTlT",
        "colab_type": "code",
        "outputId": "078519ed-4e56-4434-9367-2f32f51634c7",
        "colab": {
          "base_uri": "https://localhost:8080/",
          "height": 248
        }
      },
      "source": [
        "# this section is not really part of the solution, but was an attempt to visualize the first three vectors of a graph.\n",
        "\n",
        "import matplotlib.pyplot as plt\n",
        "X = []\n",
        "for row in test_array:\n",
        "  array, index = calculateDistances(train_array, row)\n",
        "  for category in range(3):\n",
        "      X.append([[], [], []])\n",
        "      for i in index:\n",
        "          if index[i] == category:\n",
        "              X[category][0].append(array[i][0])\n",
        "              X[category][1].append(array[i][1])\n",
        "              X[category][2].append(array[i][2])\n",
        "colours = (\"r\", \"g\", \"y\")\n",
        "fig = plt.figure()\n",
        "axis = fig.add_subplot(111, projection='3d')\n",
        "for category in range(3):\n",
        "    axis.scatter(X[category][0], X[category][1], X[category][2], c=colours[category])\n",
        "plt.show()"
      ],
      "execution_count": 0,
      "outputs": [
        {
          "output_type": "display_data",
          "data": {
            "image/png": "[encoded data removed]",
            "text/plain": [
              "<Figure size 432x288 with 1 Axes>"
            ]
          },
          "metadata": {
            "tags": []
          }
        }
      ]
    },
    {
      "cell_type": "markdown",
      "metadata": {
        "id": "tjW0qxmYh8vY",
        "colab_type": "text"
      },
      "source": [
        "**Making Predictions**\n",
        "\n",
        "The function makes prediction of classes for the test dataset using the training data."
      ]
    },
    {
      "cell_type": "code",
      "metadata": {
        "id": "09eQrLr_iNjW",
        "colab_type": "code",
        "outputId": "daf03fe7-7e42-4902-e4fe-74d2f70ea118",
        "colab": {
          "base_uri": "https://localhost:8080/",
          "height": 34
        }
      },
      "source": [
        "def predict(train, instance, k):\n",
        "  array, index = calculateDistances(train, instance)\n",
        "  knn = array[index[:k]]\n",
        "  predict = np.argmax(np.bincount(knn[:,-2].astype(int)))\n",
        "  return predict\n",
        "\n",
        "# Test predict function\n",
        "predict(train_array, test_array[4], 5)"
      ],
      "execution_count": 0,
      "outputs": [
        {
          "output_type": "execute_result",
          "data": {
            "text/plain": [
              "2"
            ]
          },
          "metadata": {
            "tags": []
          },
          "execution_count": 403
        }
      ]
    },
    {
      "cell_type": "markdown",
      "metadata": {
        "id": "6glArV4gN-I2",
        "colab_type": "text"
      },
      "source": [
        "**Determine accuracy of prediction of k-NN Algorithm**\n",
        "\n"
      ]
    },
    {
      "cell_type": "code",
      "metadata": {
        "id": "SnLuJ8R3N9Hb",
        "colab_type": "code",
        "outputId": "1af52607-5b2c-49a6-e7d3-5e668296184d",
        "colab": {
          "base_uri": "https://localhost:8080/",
          "height": 187
        }
      },
      "source": [
        "for k in range(10):\n",
        "  positive = 0\n",
        "  for row in test_array:\n",
        "    if predict(train_array, row, k+1) == row[-1].astype(int):\n",
        "      positive += 1\n",
        "\n",
        "  print(\"For k = \", k+1, \" Accuracy of prediction: \", round(positive/np.shape(test_array)[0]*100,2))\n"
      ],
      "execution_count": 0,
      "outputs": [
        {
          "output_type": "stream",
          "text": [
            "For k =  1  Accuracy of prediction:  89.5\n",
            "For k =  2  Accuracy of prediction:  89.2\n",
            "For k =  3  Accuracy of prediction:  91.0\n",
            "For k =  4  Accuracy of prediction:  92.0\n",
            "For k =  5  Accuracy of prediction:  92.4\n",
            "For k =  6  Accuracy of prediction:  92.3\n",
            "For k =  7  Accuracy of prediction:  92.2\n",
            "For k =  8  Accuracy of prediction:  91.8\n",
            "For k =  9  Accuracy of prediction:  92.8\n",
            "For k =  10  Accuracy of prediction:  92.2\n"
          ],
          "name": "stdout"
        }
      ]
    },
    {
      "cell_type": "markdown",
      "metadata": {
        "id": "uOTxbTMRpqaw",
        "colab_type": "text"
      },
      "source": [
        "**Part 2 – Investigating k-NN variants and hyper-parameters**"
      ]
    },
    {
      "cell_type": "code",
      "metadata": {
        "id": "fpbO7STnp1aM",
        "colab_type": "code",
        "outputId": "1b64a7af-d5b5-401f-ee95-21056a9b76cf",
        "colab": {
          "base_uri": "https://localhost:8080/",
          "height": 34
        }
      },
      "source": [
        "def dw_predict(train, instance, k):\n",
        "  array, index = calculateDistances(train, instance)\n",
        "  knn = array[index[:k]]\n",
        "  inverse = np.reciprocal(knn[:,-1])\n",
        "  sum = np.sum(inverse)\n",
        "  wknn = np.vstack((knn.T, inverse/sum)).T\n",
        "  cat_score = wknn[:, [-3, -1]]\n",
        "  s0 = s1 = s2 = 0\n",
        "  for i in cat_score:\n",
        "    if i[0] == 2:\n",
        "      s2 += i[1]\n",
        "    elif i[0] == 1:\n",
        "      s1 += i[1]\n",
        "    else:\n",
        "      s0 += i[1]\n",
        "  max_weight = max(s0, s1, s2)\n",
        "  if max_weight == s0:\n",
        "    predict = 0\n",
        "  elif max_weight == s1:\n",
        "    predict = 1\n",
        "  else:\n",
        "    predict = 2\n",
        "  return predict\n",
        "\n",
        "# Test predict function\n",
        "dw_predict(train_array, test_array[5], 20)\n"
      ],
      "execution_count": 0,
      "outputs": [
        {
          "output_type": "execute_result",
          "data": {
            "text/plain": [
              "2"
            ]
          },
          "metadata": {
            "tags": []
          },
          "execution_count": 405
        }
      ]
    },
    {
      "cell_type": "code",
      "metadata": {
        "id": "bSh5C_70Ctyo",
        "colab_type": "code",
        "outputId": "7efd2a53-11bf-4537-c1ee-9d32fa4f631a",
        "colab": {
          "base_uri": "https://localhost:8080/",
          "height": 187
        }
      },
      "source": [
        "for k in range(10):\n",
        "  positive = 0\n",
        "  for row in test_array:\n",
        "    if dw_predict(train_array, row, k+1) == row[-1].astype(int):\n",
        "      positive += 1\n",
        "\n",
        "  print(\"For k = \", k+1, \" Accuracy of prediction: \", round(positive/np.shape(test_array)[0]*100,2))"
      ],
      "execution_count": 0,
      "outputs": [
        {
          "output_type": "stream",
          "text": [
            "For k =  1  Accuracy of prediction:  89.5\n",
            "For k =  2  Accuracy of prediction:  89.5\n",
            "For k =  3  Accuracy of prediction:  91.3\n",
            "For k =  4  Accuracy of prediction:  92.1\n",
            "For k =  5  Accuracy of prediction:  92.4\n",
            "For k =  6  Accuracy of prediction:  92.4\n",
            "For k =  7  Accuracy of prediction:  92.4\n",
            "For k =  8  Accuracy of prediction:  92.6\n",
            "For k =  9  Accuracy of prediction:  93.0\n",
            "For k =  10  Accuracy of prediction:  92.7\n"
          ],
          "name": "stdout"
        }
      ]
    },
    {
      "cell_type": "markdown",
      "metadata": {
        "id": "SeqWxZI3SxA5",
        "colab_type": "text"
      },
      "source": [
        "**Model Evaluation & Confusion Matrix**\n",
        "\n",
        "Though the assigment does not explicitly ask for a confusion matrix, the following function is written to produce a simple output that can be further used for evaluation purposes. \n",
        "\n",
        "The function is crude and has not been optimized for having built-in evaluation of models. Advanced python libraries, such as scikit-learn offers some of these robust functionalities."
      ]
    },
    {
      "cell_type": "code",
      "metadata": {
        "colab_type": "code",
        "id": "6l1JXIStJMFt",
        "outputId": "65662708-bcdb-42eb-e502-930667de387c",
        "colab": {
          "base_uri": "https://localhost:8080/",
          "height": 51
        }
      },
      "source": [
        "def confusionmatrix(test, k):\n",
        "    class_matrix = []\n",
        "    confusion_matrix =[]    \n",
        "    v00 = v01 = v02 = v10 = v11 = v12 = v20 = v21 = v22 = x00 = x01 = x10 = x11 = y00 = y01 = y10 = y11 = z00 = z01 = z10 = z11 = vpredict = actual = 0    \n",
        "    for row in test:\n",
        "    # Use predict for basic k-nn and dw_predict for weighted k-nn classifier  \n",
        "      vpredict = dw_predict(train_array, row, k+1)\n",
        "      actual = row[-1].astype(int)\n",
        "    # Class Matrix  \n",
        "      if ( vpredict == 0) and (actual == 0):\n",
        "        v00 += 1\n",
        "      elif (vpredict == 0) and (actual == 1):\n",
        "        v01 += 1\n",
        "      elif (vpredict == 0) and (actual == 2):\n",
        "        v02 += 1\n",
        "      if (vpredict == 1) and (actual == 0):\n",
        "        v10 += 1\n",
        "      elif (vpredict == 1) and (actual == 1):\n",
        "        v11 += 1\n",
        "      elif (vpredict == 1) and (actual == 2):\n",
        "        v12 += 1\n",
        "      if (vpredict == 2) and (actual == 0):\n",
        "        v20 += 1\n",
        "      elif (vpredict == 2) and (actual == 1):\n",
        "        v21 += 1\n",
        "      elif (vpredict == 2) and (actual == 2):\n",
        "        v22 += 1\n",
        "    \n",
        "    # Confusion Matrix \n",
        "    \n",
        "      if ( vpredict == 0) and (actual == 0):\n",
        "        x00 += 1\n",
        "      elif (vpredict == 0) and (actual != 0):\n",
        "        x01 += 1\n",
        "      elif (vpredict != 0) and (actual == 0):\n",
        "        x10 += 1\n",
        "      if (vpredict != 0) and (actual != 0):\n",
        "        x11 += 1\n",
        "\n",
        "      if ( vpredict == 1) and (actual == 1):\n",
        "        y00 += 1\n",
        "      elif (vpredict == 1) and (actual != 1):\n",
        "        y01 += 1\n",
        "      elif (vpredict != 1) and (actual == 1):\n",
        "        y10 += 1\n",
        "      if (vpredict != 1) and (actual != 1):\n",
        "        y11 += 1\n",
        "\n",
        "      if ( vpredict == 2) and (actual == 2):\n",
        "        z00 += 1\n",
        "      elif (vpredict == 2) and (actual != 2):\n",
        "        z01 += 1\n",
        "      elif (vpredict != 2) and (actual == 2):\n",
        "        z10 += 1\n",
        "      if (vpredict != 2) and (actual != 2):\n",
        "        z11 += 1\n",
        "            \n",
        "    class_matrix.append((v00, v01, v02, v10, v11, v12, v20, v21, v22))\n",
        "    confusion_matrix.append((x00, x01, x10, x11, y00, y01, y10, y11, z00, z01, z10, z11))\n",
        "\n",
        "\n",
        "    return class_matrix, confusion_matrix\n",
        "\n",
        "confusionmatrix(test_array, 10)"
      ],
      "execution_count": 0,
      "outputs": [
        {
          "output_type": "execute_result",
          "data": {
            "text/plain": [
              "([(315, 29, 5, 14, 295, 6, 15, 12, 309)],\n",
              " [(315, 34, 29, 622, 295, 20, 41, 644, 309, 27, 11, 653)])"
            ]
          },
          "metadata": {
            "tags": []
          },
          "execution_count": 407
        }
      ]
    },
    {
      "cell_type": "code",
      "metadata": {
        "id": "DFEl0JrMTt35",
        "colab_type": "code",
        "outputId": "923f442d-11ab-4da5-f264-f811e9d8b50a",
        "colab": {
          "base_uri": "https://localhost:8080/",
          "height": 187
        }
      },
      "source": [
        "for k in range(10):  \n",
        "  print(\"Input for Confusion Matrix for k =\", k+1, confusionmatrix(test_array, k+1))\n"
      ],
      "execution_count": 0,
      "outputs": [
        {
          "output_type": "stream",
          "text": [
            "Input for Confusion Matrix for k = 1 ([(309, 32, 6, 18, 285, 13, 17, 19, 301)], [(309, 38, 35, 618, 285, 31, 51, 633, 301, 36, 19, 644)])\n",
            "Input for Confusion Matrix for k = 2 ([(310, 26, 5, 17, 298, 10, 17, 12, 305)], [(310, 31, 34, 625, 298, 27, 38, 637, 305, 29, 15, 651)])\n",
            "Input for Confusion Matrix for k = 3 ([(317, 24, 5, 14, 300, 11, 13, 12, 304)], [(317, 29, 27, 627, 300, 25, 36, 639, 304, 25, 16, 655)])\n",
            "Input for Confusion Matrix for k = 4 ([(316, 24, 4, 13, 302, 10, 15, 10, 306)], [(316, 28, 28, 628, 302, 23, 34, 641, 306, 25, 14, 655)])\n",
            "Input for Confusion Matrix for k = 5 ([(318, 24, 5, 11, 301, 10, 15, 11, 305)], [(318, 29, 26, 627, 301, 21, 35, 643, 305, 26, 15, 654)])\n",
            "Input for Confusion Matrix for k = 6 ([(315, 25, 4, 13, 301, 8, 16, 10, 308)], [(315, 29, 29, 627, 301, 21, 35, 643, 308, 26, 12, 654)])\n",
            "Input for Confusion Matrix for k = 7 ([(319, 25, 5, 12, 300, 8, 13, 11, 307)], [(319, 30, 25, 626, 300, 20, 36, 644, 307, 24, 13, 656)])\n",
            "Input for Confusion Matrix for k = 8 ([(319, 25, 6, 13, 301, 4, 12, 10, 310)], [(319, 31, 25, 625, 301, 17, 35, 647, 310, 22, 10, 658)])\n",
            "Input for Confusion Matrix for k = 9 ([(316, 26, 4, 13, 299, 4, 15, 11, 312)], [(316, 30, 28, 626, 299, 17, 37, 647, 312, 26, 8, 654)])\n",
            "Input for Confusion Matrix for k = 10 ([(315, 29, 5, 14, 295, 6, 15, 12, 309)], [(315, 34, 29, 622, 295, 20, 41, 644, 309, 27, 11, 653)])\n"
          ],
          "name": "stdout"
        }
      ]
    },
    {
      "cell_type": "markdown",
      "metadata": {
        "id": "eKUyPCW0SO6g",
        "colab_type": "text"
      },
      "source": [
        "**Part 3 – Developing k-NN for Regression Problems**"
      ]
    },
    {
      "cell_type": "code",
      "metadata": {
        "id": "VdzJyoF8STpr",
        "colab_type": "code",
        "colab": {}
      },
      "source": [
        "\n",
        "rtrain_array = np.loadtxt('/content/drive/My Drive/000.Data/regression/trainingData.csv', delimiter = ',')\n",
        "\n",
        "# Load test dataset\n",
        "rtest_array = np.loadtxt('/content/drive/My Drive/000.Data/regression/testData.csv', delimiter = ',')\n",
        "\n",
        "# Test loading of data\n",
        "\n",
        "# print(\"Training dataset\\n\", train_array)\n",
        "\n",
        "# print(\"\\nTest dataset\\n\", test_array)"
      ],
      "execution_count": 0,
      "outputs": []
    },
    {
      "cell_type": "code",
      "metadata": {
        "id": "liEty9RxSvb2",
        "colab_type": "code",
        "outputId": "33a3083d-cd36-40bb-8265-8ad2346b9710",
        "colab": {
          "base_uri": "https://localhost:8080/",
          "height": 34
        }
      },
      "source": [
        "def regression(train, instance, k):\n",
        "  array, index = calculateDistances(train, instance)\n",
        "  knn = array[index[:k]]\n",
        "  predict = np.mean(knn[:,-2])\n",
        "  mean = np.mean(array[:,-2])\n",
        "  return predict, mean\n",
        "\n",
        "# Test predict function\n",
        "regression(rtrain_array, rtest_array[4], 3)"
      ],
      "execution_count": 0,
      "outputs": [
        {
          "output_type": "execute_result",
          "data": {
            "text/plain": [
              "(86.73272418532163, -0.24511267634801212)"
            ]
          },
          "metadata": {
            "tags": []
          },
          "execution_count": 410
        }
      ]
    },
    {
      "cell_type": "code",
      "metadata": {
        "id": "P7kv1OgtWyfX",
        "colab_type": "code",
        "outputId": "03266650-26ea-4af1-983f-8382cd68f3b1",
        "colab": {
          "base_uri": "https://localhost:8080/",
          "height": 187
        }
      },
      "source": [
        "for k in range(10):\n",
        "  residual = r_sum = 0\n",
        "  se = se_sum = 0\n",
        "  for row in rtest_array:\n",
        "    predict, mean = regression(rtrain_array, row, k+1)\n",
        "    residual = (row[-1] - predict)**2\n",
        "    r_sum += residual\n",
        "    se = (row[-1] - mean)**2\n",
        "    se_sum += se\n",
        "\n",
        "  print(\"For k = \", k+1, \" R2: \", round(1 - (r_sum/se_sum),2))"
      ],
      "execution_count": 0,
      "outputs": [
        {
          "output_type": "stream",
          "text": [
            "For k =  1  R2:  0.67\n",
            "For k =  2  R2:  0.79\n",
            "For k =  3  R2:  0.82\n",
            "For k =  4  R2:  0.83\n",
            "For k =  5  R2:  0.84\n",
            "For k =  6  R2:  0.84\n",
            "For k =  7  R2:  0.84\n",
            "For k =  8  R2:  0.84\n",
            "For k =  9  R2:  0.85\n",
            "For k =  10  R2:  0.85\n"
          ],
          "name": "stdout"
        }
      ]
    }
  ]
}