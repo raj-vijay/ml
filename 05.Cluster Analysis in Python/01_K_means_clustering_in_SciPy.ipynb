{
  "nbformat": 4,
  "nbformat_minor": 0,
  "metadata": {
    "colab": {
      "name": "01. K-means clustering in SciPy.ipynb",
      "provenance": [],
      "authorship_tag": "ABX9TyN/2YPNX/JfYesLCvl2w+Vv",
      "include_colab_link": true
    },
    "kernelspec": {
      "name": "python3",
      "display_name": "Python 3"
    }
  },
  "cells": [
    {
      "cell_type": "markdown",
      "metadata": {
        "id": "view-in-github",
        "colab_type": "text"
      },
      "source": [
        "<a href=\"https://colab.research.google.com/github/raj-vijay/ml/blob/master/05.Cluster%20Analysis%20in%20Python/01_K_means_clustering_in_SciPy.ipynb\" target=\"_parent\"><img src=\"https://colab.research.google.com/assets/colab-badge.svg\" alt=\"Open In Colab\"/></a>"
      ]
    },
    {
      "cell_type": "code",
      "metadata": {
        "id": "2ySNS3pVEgkB",
        "colab": {
          "base_uri": "https://localhost:8080/",
          "height": 71
        },
        "outputId": "309304ca-2e24-4c5a-8a3f-81c002b3464d"
      },
      "source": [
        "from scipy.cluster.vq import kmeans, vq\n",
        "from matplotlib import pyplot as plt\n",
        "import seaborn as sns, pandas as pd\n",
        "import random\n",
        "random.seed((1000,2000))"
      ],
      "execution_count": null,
      "outputs": [
        {
          "output_type": "stream",
          "text": [
            "/usr/local/lib/python3.6/dist-packages/statsmodels/tools/_testing.py:19: FutureWarning: pandas.util.testing is deprecated. Use the functions in the public API at pandas.testing instead.\n",
            "  import pandas.util.testing as tm\n"
          ],
          "name": "stderr"
        }
      ]
    },
    {
      "cell_type": "code",
      "metadata": {
        "id": "l8vHyhfmEjKA"
      },
      "source": [
        "x_coordinates = [80.1, 93.1, 86.6, 98.5, 86.4, 9.5, 15.2, 3.4,\n",
        "10.4, 20.3, 44.2, 56.8, 49.2, 62.5, 44.0]\n",
        "y_coordinates = [87.2, 96.1, 95.6, 92.4, 92.4, 57.7, 49.4,\n",
        "47.3, 59.1, 55.5, 25.6, 2.1, 10.9, 24.1, 10.3]\n",
        "df = pd.DataFrame({'x_coordinate': x_coordinates, 'y_coordinate': y_coordinates})"
      ],
      "execution_count": null,
      "outputs": []
    },
    {
      "cell_type": "code",
      "metadata": {
        "id": "0CfFGOWwEl1u"
      },
      "source": [
        "centroids,_ = kmeans(df, 3)\n",
        "df['cluster_labels'], _ = vq(df, centroids)"
      ],
      "execution_count": null,
      "outputs": []
    },
    {
      "cell_type": "code",
      "metadata": {
        "id": "rdM1mNQcEoDP",
        "colab": {
          "base_uri": "https://localhost:8080/",
          "height": 283
        },
        "outputId": "3fb77b19-cbb8-4d77-d511-6785c37039ad"
      },
      "source": [
        "sns.scatterplot(x='x_coordinate', y='y_coordinate',\n",
        "hue='cluster_labels', data = df)\n",
        "plt.show()"
      ],
      "execution_count": null,
      "outputs": [
        {
          "output_type": "display_data",
          "data": {
            "image/png": "[encoded data removed]",
            "text/plain": [
              "<Figure size 432x288 with 1 Axes>"
            ]
          },
          "metadata": {
            "tags": [],
            "needs_background": "light"
          }
        }
      ]
    }
  ]
}