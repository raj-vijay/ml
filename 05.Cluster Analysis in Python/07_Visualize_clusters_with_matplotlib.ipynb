{
  "nbformat": 4,
  "nbformat_minor": 0,
  "metadata": {
    "colab": {
      "name": "07. Visualize clusters with matplotlib.ipynb",
      "provenance": [],
      "collapsed_sections": [],
      "authorship_tag": "ABX9TyPxo8HG22yeQJ5Qj5vr9fty",
      "include_colab_link": true
    },
    "kernelspec": {
      "name": "python3",
      "display_name": "Python 3"
    }
  },
  "cells": [
    {
      "cell_type": "markdown",
      "metadata": {
        "id": "view-in-github",
        "colab_type": "text"
      },
      "source": [
        "<a href=\"https://colab.research.google.com/github/raj-vijay/ml/blob/master/05.Cluster%20Analysis%20in%20Python/07_Visualize_clusters_with_matplotlib.ipynb\" target=\"_parent\"><img src=\"https://colab.research.google.com/assets/colab-badge.svg\" alt=\"Open In Colab\"/></a>"
      ]
    },
    {
      "cell_type": "code",
      "metadata": {
        "id": "2ySNS3pVEgkB",
        "colab": {
          "base_uri": "https://localhost:8080/",
          "height": 71
        },
        "outputId": "5160e2e6-39d8-4c16-b276-c7c89fd99c3f"
      },
      "source": [
        "from scipy.cluster.vq import kmeans, vq\n",
        "from matplotlib import pyplot as plt\n",
        "import seaborn as sns, pandas as pd\n",
        "import random\n",
        "random.seed((1000,2000))"
      ],
      "execution_count": null,
      "outputs": [
        {
          "output_type": "stream",
          "text": [
            "/usr/local/lib/python3.6/dist-packages/statsmodels/tools/_testing.py:19: FutureWarning: pandas.util.testing is deprecated. Use the functions in the public API at pandas.testing instead.\n",
            "  import pandas.util.testing as tm\n"
          ],
          "name": "stderr"
        }
      ]
    },
    {
      "cell_type": "markdown",
      "metadata": {
        "id": "NIx1vu-wWfgF"
      },
      "source": [
        "**Visualize clusters with matplotlib**"
      ]
    },
    {
      "cell_type": "code",
      "metadata": {
        "id": "s2cuEoSLWNGd",
        "colab": {
          "base_uri": "https://localhost:8080/",
          "height": 279
        },
        "outputId": "bbc5f7a5-16ac-43ae-ca2a-d4a5da5d5271"
      },
      "source": [
        "df = pd.DataFrame({'x': [2, 3, 5, 6, 2],\n",
        "'y': [1, 1, 5, 5, 2],\n",
        "'labels': ['A', 'A', 'B', 'B', 'A']})\n",
        "colors = {'A':'red', 'B':'blue'}\n",
        "df.plot.scatter(x='x',\n",
        "y='y',\n",
        "c=df['labels'].apply(lambda x: colors[x]))\n",
        "plt.show()"
      ],
      "execution_count": null,
      "outputs": [
        {
          "output_type": "display_data",
          "data": {
            "image/png": "[encoded data removed]",
            "text/plain": [
              "<Figure size 432x288 with 1 Axes>"
            ]
          },
          "metadata": {
            "tags": [],
            "needs_background": "light"
          }
        }
      ]
    },
    {
      "cell_type": "markdown",
      "metadata": {
        "id": "ybfH3CpBWiWH"
      },
      "source": [
        "**Visualize clusters with seaborn**"
      ]
    },
    {
      "cell_type": "code",
      "metadata": {
        "id": "4SGvPmj2WdcF",
        "colab": {
          "base_uri": "https://localhost:8080/",
          "height": 279
        },
        "outputId": "9daf5d85-dbd6-4909-ee6b-f6f9e7cbc61d"
      },
      "source": [
        "df = pd.DataFrame({'x': [2, 3, 5, 6, 2],\n",
        "'y': [1, 1, 5, 5, 2],\n",
        "'labels': ['A', 'A', 'B', 'B', 'A']})\n",
        "sns.scatterplot(x='x',\n",
        "y='y',\n",
        "hue='labels',\n",
        "data=df)\n",
        "plt.show()"
      ],
      "execution_count": null,
      "outputs": [
        {
          "output_type": "display_data",
          "data": {
            "image/png": "[encoded data removed]",
            "text/plain": [
              "<Figure size 432x288 with 1 Axes>"
            ]
          },
          "metadata": {
            "tags": [],
            "needs_background": "light"
          }
        }
      ]
    }
  ]
}