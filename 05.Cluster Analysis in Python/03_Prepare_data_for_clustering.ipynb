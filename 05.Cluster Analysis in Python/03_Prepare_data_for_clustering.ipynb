{
  "nbformat": 4,
  "nbformat_minor": 0,
  "metadata": {
    "colab": {
      "name": "03. Prepare data for clustering.ipynb",
      "provenance": [],
      "collapsed_sections": [],
      "authorship_tag": "ABX9TyPBdGmGK03r8je9zJ0s/0pt",
      "include_colab_link": true
    },
    "kernelspec": {
      "name": "python3",
      "display_name": "Python 3"
    }
  },
  "cells": [
    {
      "cell_type": "markdown",
      "metadata": {
        "id": "view-in-github",
        "colab_type": "text"
      },
      "source": [
        "<a href=\"https://colab.research.google.com/github/raj-vijay/ml/blob/master/05.Cluster%20Analysis%20in%20Python/03_Prepare_data_for_clustering.ipynb\" target=\"_parent\"><img src=\"https://colab.research.google.com/assets/colab-badge.svg\" alt=\"Open In Colab\"/></a>"
      ]
    },
    {
      "cell_type": "markdown",
      "metadata": {
        "id": "PZufgfWjIYDa"
      },
      "source": [
        "**Prepare data for clustering**\n",
        "- Variables have incomparable units (product dimensions in cm, price in $)\n",
        "- Variables with same units have vastly different scales and variances (expenditures on cereals, travel)\n",
        "- Data in raw form may lead to bias in clustering\n",
        "- Clusters may be heavily dependent on one variable\n",
        "- Solution: normalization of individual variables"
      ]
    },
    {
      "cell_type": "code",
      "metadata": {
        "id": "i40yv70CImbm"
      },
      "source": [
        "from scipy.cluster.vq import whiten"
      ],
      "execution_count": null,
      "outputs": []
    },
    {
      "cell_type": "code",
      "metadata": {
        "id": "qPGPs7YOInKt"
      },
      "source": [
        "data = [5, 1, 3, 3, 2, 3, 3, 8, 1, 2, 2, 3, 5]"
      ],
      "execution_count": null,
      "outputs": []
    },
    {
      "cell_type": "code",
      "metadata": {
        "id": "fgBxl6WQIqkd",
        "colab": {
          "base_uri": "https://localhost:8080/",
          "height": 68
        },
        "outputId": "92115207-9009-4c0b-b8c1-a7b9b82f53f1"
      },
      "source": [
        "scaled_data = whiten(data)\n",
        "print(scaled_data)"
      ],
      "execution_count": null,
      "outputs": [
        {
          "output_type": "stream",
          "text": [
            "[2.72733941 0.54546788 1.63640365 1.63640365 1.09093577 1.63640365\n",
            " 1.63640365 4.36374306 0.54546788 1.09093577 1.09093577 1.63640365\n",
            " 2.72733941]\n"
          ],
          "name": "stdout"
        }
      ]
    },
    {
      "cell_type": "code",
      "metadata": {
        "id": "S_OaOm4sItfm",
        "colab": {
          "base_uri": "https://localhost:8080/",
          "height": 265
        },
        "outputId": "22a40954-d22d-4f6b-c824-26517b9f8e23"
      },
      "source": [
        "# Import plotting library\n",
        "from matplotlib import pyplot as plt\n",
        "# Initialize original, scaled data\n",
        "plt.plot(data,\n",
        "label=\"original\")\n",
        "plt.plot(scaled_data,\n",
        "label=\"scaled\")\n",
        "# Show legend and display plot\n",
        "plt.legend()\n",
        "plt.show()"
      ],
      "execution_count": null,
      "outputs": [
        {
          "output_type": "display_data",
          "data": {
            "image/png": "[encoded data removed]",
            "text/plain": [
              "<Figure size 432x288 with 1 Axes>"
            ]
          },
          "metadata": {
            "tags": [],
            "needs_background": "light"
          }
        }
      ]
    }
  ]
}