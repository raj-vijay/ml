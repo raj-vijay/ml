{
  "nbformat": 4,
  "nbformat_minor": 0,
  "metadata": {
    "colab": {
      "name": "08. Visualize clusters with matplotlib Comic-Con.ipynb",
      "provenance": [],
      "collapsed_sections": [],
      "authorship_tag": "ABX9TyOjpia72CPH4B93haG5FmyT",
      "include_colab_link": true
    },
    "kernelspec": {
      "name": "python3",
      "display_name": "Python 3"
    }
  },
  "cells": [
    {
      "cell_type": "markdown",
      "metadata": {
        "id": "view-in-github",
        "colab_type": "text"
      },
      "source": [
        "<a href=\"https://colab.research.google.com/github/raj-vijay/ml/blob/master/05.Cluster%20Analysis%20in%20Python/08_Visualize_clusters_with_matplotlib_Comic_Con.ipynb\" target=\"_parent\"><img src=\"https://colab.research.google.com/assets/colab-badge.svg\" alt=\"Open In Colab\"/></a>"
      ]
    },
    {
      "cell_type": "code",
      "metadata": {
        "id": "2ySNS3pVEgkB",
        "colab": {
          "base_uri": "https://localhost:8080/",
          "height": 71
        },
        "outputId": "79e16363-58bb-4b7a-bc20-9b4217b57a01"
      },
      "source": [
        "from scipy.cluster.vq import kmeans, vq\n",
        "from matplotlib import pyplot as plt\n",
        "import seaborn as sns, pandas as pd\n",
        "import random\n",
        "random.seed((1000,2000))"
      ],
      "execution_count": null,
      "outputs": [
        {
          "output_type": "stream",
          "text": [
            "/usr/local/lib/python3.6/dist-packages/statsmodels/tools/_testing.py:19: FutureWarning: pandas.util.testing is deprecated. Use the functions in the public API at pandas.testing instead.\n",
            "  import pandas.util.testing as tm\n"
          ],
          "name": "stderr"
        }
      ]
    },
    {
      "cell_type": "markdown",
      "metadata": {
        "id": "Hc9NbNAqX4zN"
      },
      "source": [
        "**Visualize clusters with matplotlib**"
      ]
    },
    {
      "cell_type": "code",
      "metadata": {
        "id": "ibhoHlokKcHl"
      },
      "source": [
        "import pandas as pd"
      ],
      "execution_count": null,
      "outputs": []
    },
    {
      "cell_type": "code",
      "metadata": {
        "id": "SA7Kgv5YU3FN"
      },
      "source": [
        "comic_con = pd.read_csv('Comic-con.csv')"
      ],
      "execution_count": null,
      "outputs": []
    },
    {
      "cell_type": "code",
      "metadata": {
        "id": "cO2CB_X2XZf9",
        "colab": {
          "base_uri": "https://localhost:8080/",
          "height": 280
        },
        "outputId": "3fe63872-95a2-47d8-d7e7-119771e82e96"
      },
      "source": [
        "# Import the pyplot class\n",
        "from matplotlib import pyplot as plt\n",
        "\n",
        "# Define a colors dictionary for clusters\n",
        "colors = {1:'red', 2:'blue'}\n",
        "\n",
        "# Plot a scatter plot\n",
        "comic_con.plot.scatter(x='x_scaled', \n",
        "                \t   y='y_scaled',\n",
        "                       c=comic_con['cluster_labels'].apply(lambda x: colors[x]))\n",
        "plt.show()"
      ],
      "execution_count": null,
      "outputs": [
        {
          "output_type": "display_data",
          "data": {
            "image/png": "[encoded data removed]",
            "text/plain": [
              "<Figure size 432x288 with 1 Axes>"
            ]
          },
          "metadata": {
            "tags": [],
            "needs_background": "light"
          }
        }
      ]
    },
    {
      "cell_type": "markdown",
      "metadata": {
        "id": "CPsWo-Y1Xz7O"
      },
      "source": [
        "**Visualize clusters with seaborn**"
      ]
    },
    {
      "cell_type": "code",
      "metadata": {
        "id": "t3Q463WYX6rr",
        "colab": {
          "base_uri": "https://localhost:8080/",
          "height": 334
        },
        "outputId": "e1ce5d14-4b88-4a1d-e3ce-265afcd58160"
      },
      "source": [
        "# Import the seaborn module\n",
        "import seaborn as sns\n",
        "\n",
        "# Plot a scatter plot using seaborn\n",
        "sns.scatterplot(x='x_scaled', \n",
        "                y='y_scaled', \n",
        "                hue='cluster_labels', \n",
        "                data=comic_con)\n",
        "plt.show()"
      ],
      "execution_count": null,
      "outputs": [
        {
          "output_type": "stream",
          "text": [
            "/usr/local/lib/python3.6/dist-packages/statsmodels/tools/_testing.py:19: FutureWarning: pandas.util.testing is deprecated. Use the functions in the public API at pandas.testing instead.\n",
            "  import pandas.util.testing as tm\n"
          ],
          "name": "stderr"
        },
        {
          "output_type": "display_data",
          "data": {
            "image/png": "[encoded data removed]",
            "text/plain": [
              "<Figure size 432x288 with 1 Axes>"
            ]
          },
          "metadata": {
            "tags": [],
            "needs_background": "light"
          }
        }
      ]
    },
    {
      "cell_type": "code",
      "metadata": {
        "id": "h4jaxsPeVB2F",
        "colab": {
          "base_uri": "https://localhost:8080/",
          "height": 204
        },
        "outputId": "53d9350d-4ac4-4f42-99f7-2b319b15950e"
      },
      "source": [
        "comic_con.head()"
      ],
      "execution_count": null,
      "outputs": [
        {
          "output_type": "execute_result",
          "data": {
            "text/html": [
              "<div>\n",
              "<style scoped>\n",
              "    .dataframe tbody tr th:only-of-type {\n",
              "        vertical-align: middle;\n",
              "    }\n",
              "\n",
              "    .dataframe tbody tr th {\n",
              "        vertical-align: top;\n",
              "    }\n",
              "\n",
              "    .dataframe thead th {\n",
              "        text-align: right;\n",
              "    }\n",
              "</style>\n",
              "<table border=\"1\" class=\"dataframe\">\n",
              "  <thead>\n",
              "    <tr style=\"text-align: right;\">\n",
              "      <th></th>\n",
              "      <th>x_coordinate</th>\n",
              "      <th>y_coordinate</th>\n",
              "      <th>x_scaled</th>\n",
              "      <th>y_scaled</th>\n",
              "      <th>cluster_labels</th>\n",
              "    </tr>\n",
              "  </thead>\n",
              "  <tbody>\n",
              "    <tr>\n",
              "      <th>0</th>\n",
              "      <td>17</td>\n",
              "      <td>4</td>\n",
              "      <td>0.509349</td>\n",
              "      <td>0.090010</td>\n",
              "      <td>2</td>\n",
              "    </tr>\n",
              "    <tr>\n",
              "      <th>1</th>\n",
              "      <td>20</td>\n",
              "      <td>6</td>\n",
              "      <td>0.599234</td>\n",
              "      <td>0.135015</td>\n",
              "      <td>2</td>\n",
              "    </tr>\n",
              "    <tr>\n",
              "      <th>2</th>\n",
              "      <td>35</td>\n",
              "      <td>0</td>\n",
              "      <td>1.048660</td>\n",
              "      <td>0.000000</td>\n",
              "      <td>2</td>\n",
              "    </tr>\n",
              "    <tr>\n",
              "      <th>3</th>\n",
              "      <td>14</td>\n",
              "      <td>0</td>\n",
              "      <td>0.419464</td>\n",
              "      <td>0.000000</td>\n",
              "      <td>2</td>\n",
              "    </tr>\n",
              "    <tr>\n",
              "      <th>4</th>\n",
              "      <td>37</td>\n",
              "      <td>4</td>\n",
              "      <td>1.108583</td>\n",
              "      <td>0.090010</td>\n",
              "      <td>2</td>\n",
              "    </tr>\n",
              "  </tbody>\n",
              "</table>\n",
              "</div>"
            ],
            "text/plain": [
              "   x_coordinate  y_coordinate  x_scaled  y_scaled  cluster_labels\n",
              "0            17             4  0.509349  0.090010               2\n",
              "1            20             6  0.599234  0.135015               2\n",
              "2            35             0  1.048660  0.000000               2\n",
              "3            14             0  0.419464  0.000000               2\n",
              "4            37             4  1.108583  0.090010               2"
            ]
          },
          "metadata": {
            "tags": []
          },
          "execution_count": 4
        }
      ]
    },
    {
      "cell_type": "markdown",
      "metadata": {
        "id": "hdhJtcgfVdOc"
      },
      "source": [
        "**Hierarchical clustering: ward method**"
      ]
    },
    {
      "cell_type": "code",
      "metadata": {
        "id": "Uh5MspFNVE9V",
        "colab": {
          "base_uri": "https://localhost:8080/",
          "height": 280
        },
        "outputId": "4b38b578-9de2-4711-eaab-8027cf75be7e"
      },
      "source": [
        "# Import the fcluster and linkage functions\n",
        "from scipy.cluster.hierarchy import fcluster, linkage\n",
        "\n",
        "# Use the linkage() function\n",
        "distance_matrix = linkage(comic_con[['x_scaled', 'y_scaled']], method = 'ward', metric = 'euclidean')\n",
        "\n",
        "# Assign cluster labels\n",
        "comic_con['cluster_labels'] = fcluster(distance_matrix, 2, criterion='maxclust')\n",
        "\n",
        "# Plot clusters\n",
        "sns.scatterplot(x='x_scaled', y='y_scaled', \n",
        "                hue='cluster_labels', data = comic_con)\n",
        "plt.show()"
      ],
      "execution_count": null,
      "outputs": [
        {
          "output_type": "display_data",
          "data": {
            "image/png": "[encoded data removed]",
            "text/plain": [
              "<Figure size 432x288 with 1 Axes>"
            ]
          },
          "metadata": {
            "tags": [],
            "needs_background": "light"
          }
        }
      ]
    },
    {
      "cell_type": "markdown",
      "metadata": {
        "id": "suf_yaILVjGE"
      },
      "source": [
        "**Hierarchical clustering: single method**"
      ]
    },
    {
      "cell_type": "code",
      "metadata": {
        "id": "zwdFpEeBVVNt",
        "colab": {
          "base_uri": "https://localhost:8080/",
          "height": 280
        },
        "outputId": "4732c53b-5d29-4ae3-b994-17eb3b3dc0f7"
      },
      "source": [
        "# Import the fcluster and linkage functions\n",
        "from scipy.cluster.hierarchy import fcluster, linkage\n",
        "\n",
        "# Use the linkage() function\n",
        "distance_matrix = linkage(comic_con[['x_scaled', 'y_scaled']], method = 'single', metric = 'euclidean')\n",
        "\n",
        "# Assign cluster labels\n",
        "comic_con['cluster_labels'] = fcluster(distance_matrix, 2, criterion='maxclust')\n",
        "\n",
        "# Plot clusters\n",
        "sns.scatterplot(x='x_scaled', y='y_scaled', \n",
        "                hue='cluster_labels', data = comic_con)\n",
        "plt.show()"
      ],
      "execution_count": null,
      "outputs": [
        {
          "output_type": "display_data",
          "data": {
            "image/png": "[encoded data removed]",
            "text/plain": [
              "<Figure size 432x288 with 1 Axes>"
            ]
          },
          "metadata": {
            "tags": [],
            "needs_background": "light"
          }
        }
      ]
    },
    {
      "cell_type": "markdown",
      "metadata": {
        "id": "Y5OD4QrJVnQN"
      },
      "source": [
        "**Hierarchical clustering: complete method**"
      ]
    },
    {
      "cell_type": "code",
      "metadata": {
        "id": "Kr3C5wOAVrfk",
        "colab": {
          "base_uri": "https://localhost:8080/",
          "height": 280
        },
        "outputId": "99c7162d-53c1-4746-d7c3-0d69923a153e"
      },
      "source": [
        "# Import the fcluster and linkage functions\n",
        "from scipy.cluster.hierarchy import fcluster, linkage\n",
        "\n",
        "# Use the linkage() function\n",
        "distance_matrix = linkage(comic_con[['x_scaled', 'y_scaled']], method = 'complete', metric = 'euclidean')\n",
        "\n",
        "# Assign cluster labels\n",
        "comic_con['cluster_labels'] = fcluster(distance_matrix, 2, criterion='maxclust')\n",
        "\n",
        "# Plot clusters\n",
        "sns.scatterplot(x='x_scaled', y='y_scaled', \n",
        "                hue='cluster_labels', data = comic_con)\n",
        "plt.show()"
      ],
      "execution_count": null,
      "outputs": [
        {
          "output_type": "display_data",
          "data": {
            "image/png": "[encoded data removed]",
            "text/plain": [
              "<Figure size 432x288 with 1 Axes>"
            ]
          },
          "metadata": {
            "tags": [],
            "needs_background": "light"
          }
        }
      ]
    },
    {
      "cell_type": "code",
      "metadata": {
        "id": "m0qSuQQhZTjN"
      },
      "source": [
        "distance_matrix = [[0.00000000e+00,9.00000000e+00,0.00000000e+00,2.00000000e+00]\n",
        ",[3.00000000e+00,6.00000000e+00,2.25024613e-02,2.00000000e+00]\n",
        ",[1.60000000e+01,2.10000000e+01,2.99617089e-02,2.00000000e+00]\n",
        ",[2.00000000e+01,2.30000000e+01,2.99617089e-02,2.00000000e+00]\n",
        ",[1.40000000e+01,2.50000000e+01,3.74708522e-02,2.00000000e+00]\n",
        ",[1.50000000e+01,1.70000000e+01,3.74708522e-02,2.00000000e+00]\n",
        ",[1.80000000e+01,2.20000000e+01,3.74708522e-02,2.00000000e+00]\n",
        ",[3.40000000e+01,3.50000000e+01,4.50049227e-02,2.00000000e+00]\n",
        ",[1.10000000e+01,3.00000000e+01,5.99234177e-02,2.00000000e+00]\n",
        ",[4.00000000e+00,8.00000000e+00,6.40091927e-02,2.00000000e+00]\n",
        ",[2.60000000e+01,4.00000000e+01,6.72228214e-02,3.00000000e+00]\n",
        ",[2.40000000e+01,2.70000000e+01,6.75073840e-02,2.00000000e+00]\n",
        ",[1.00000000e+01,1.20000000e+01,7.49417044e-02,2.00000000e+00]\n",
        ",[3.20000000e+01,3.30000000e+01,9.02666211e-02,2.00000000e+00]\n",
        ",[2.00000000e+00,5.00000000e+00,9.02666211e-02,2.00000000e+00]\n",
        ",[2.80000000e+01,3.90000000e+01,9.03106546e-02,3.00000000e+00]\n",
        ",[1.30000000e+01,4.80000000e+01,1.04230916e-01,3.00000000e+00]\n",
        ",[1.00000000e+00,3.60000000e+01,1.16073420e-01,3.00000000e+00]\n",
        ",[4.50000000e+01,5.00000000e+01,1.27656280e-01,4.00000000e+00]\n",
        ",[2.90000000e+01,4.40000000e+01,1.29918021e-01,3.00000000e+00]\n",
        ",[4.20000000e+01,4.70000000e+01,1.42603625e-01,4.00000000e+00]\n",
        ",[7.00000000e+00,4.90000000e+01,1.52874758e-01,3.00000000e+00]\n",
        ",[1.90000000e+01,5.10000000e+01,1.65514851e-01,4.00000000e+00]\n",
        ",[4.10000000e+01,4.60000000e+01,1.67247685e-01,5.00000000e+00]\n",
        ",[3.10000000e+01,5.70000000e+01,2.27981118e-01,4.00000000e+00]\n",
        ",[3.70000000e+01,5.30000000e+01,2.35733321e-01,5.00000000e+00]\n",
        ",[3.80000000e+01,5.60000000e+01,2.71838119e-01,6.00000000e+00]\n",
        ",[4.30000000e+01,5.50000000e+01,2.76915568e-01,5.00000000e+00]\n",
        ",[5.80000000e+01,6.20000000e+01,3.12279897e-01,1.00000000e+01]\n",
        ",[5.20000000e+01,6.10000000e+01,3.65910226e-01,8.00000000e+00]\n",
        ",[5.40000000e+01,6.00000000e+01,5.09624692e-01,8.00000000e+00]\n",
        ",[6.30000000e+01,6.50000000e+01,6.27354058e-01,1.30000000e+01]\n",
        ",[5.90000000e+01,6.40000000e+01,7.04582421e-01,1.50000000e+01]\n",
        ",[6.60000000e+01,6.70000000e+01,1.37098312e+00,2.10000000e+01]\n",
        ",[6.80000000e+01,6.90000000e+01,1.18435294e+01,3.60000000e+01]]"
      ],
      "execution_count": null,
      "outputs": []
    },
    {
      "cell_type": "code",
      "metadata": {
        "id": "2qzI003vZD-V",
        "colab": {
          "base_uri": "https://localhost:8080/",
          "height": 432
        },
        "outputId": "08fc3943-d5dd-4d0f-b00b-06ac5031fe47"
      },
      "source": [
        "# Import the dendrogram function\n",
        "from scipy.cluster.hierarchy import dendrogram\n",
        "# Create the figure and set it's size.\n",
        "fig = plt.figure(figsize=(15,7))\n",
        "# Create a dendrogram\n",
        "dn = dendrogram(distance_matrix)\n",
        "\n",
        "# Display the dendogram\n",
        "plt.show()"
      ],
      "execution_count": null,
      "outputs": [
        {
          "output_type": "display_data",
          "data": {
            "image/png": "[encoded data removed]",
            "text/plain": [
              "<Figure size 1080x504 with 1 Axes>"
            ]
          },
          "metadata": {
            "tags": [],
            "needs_background": "light"
          }
        }
      ]
    }
  ]
}