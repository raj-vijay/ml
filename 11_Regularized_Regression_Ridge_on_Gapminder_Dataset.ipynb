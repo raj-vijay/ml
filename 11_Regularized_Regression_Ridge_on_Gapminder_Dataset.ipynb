{
  "nbformat": 4,
  "nbformat_minor": 0,
  "metadata": {
    "colab": {
      "name": "11. Regularized Regression - Ridge on Gapminder Dataset.ipynb",
      "provenance": [],
      "collapsed_sections": [],
      "include_colab_link": true
    },
    "kernelspec": {
      "name": "python3",
      "display_name": "Python 3"
    }
  },
  "cells": [
    {
      "cell_type": "markdown",
      "metadata": {
        "id": "view-in-github",
        "colab_type": "text"
      },
      "source": [
        "<a href=\"https://colab.research.google.com/github/raj-vijay/ml/blob/master/11_Regularized_Regression_Ridge_on_Gapminder_Dataset.ipynb\" target=\"_parent\"><img src=\"https://colab.research.google.com/assets/colab-badge.svg\" alt=\"Open In Colab\"/></a>"
      ]
    },
    {
      "cell_type": "markdown",
      "metadata": {
        "id": "5-uBah4Qn5t8",
        "colab_type": "text"
      },
      "source": [
        "**Regularized Regression - Ridge: Gapminder Data**"
      ]
    },
    {
      "cell_type": "markdown",
      "metadata": {
        "id": "ZA1pLClZzYH7",
        "colab_type": "text"
      },
      "source": [
        "Lasso is great for feature selection, but when building regression models, Ridge regression is a preferred first choice.\n",
        "\n",
        "Lasso performs regularization by adding to the loss function a penalty term of the absolute value of each coefficient multiplied by some alpha. This is also known as L1 regularization because the regularization term is the L1 norm of the coefficients.\n",
        "\n"
      ]
    },
    {
      "cell_type": "markdown",
      "metadata": {
        "id": "vlMTwLAK04S3",
        "colab_type": "text"
      },
      "source": [
        "![alt text](https://raw.githubusercontent.com/raj-vijay/ml/master/images/Lasso.jpg)"
      ]
    },
    {
      "cell_type": "markdown",
      "metadata": {
        "id": "MmlrVtSW0Fvs",
        "colab_type": "text"
      },
      "source": [
        "\n",
        "However, lasso is not the only way to perform regularization.\n",
        "\n",
        "The sum of the squared values of the coefficients when multiplied by some alpha - like in Ridge regression - results in the computation of the L2 norm. \n"
      ]
    },
    {
      "cell_type": "markdown",
      "metadata": {
        "id": "hX1A9SNl1Eha",
        "colab_type": "text"
      },
      "source": [
        "![alt text](https://raw.githubusercontent.com/raj-vijay/ml/master/images/Ridge.jpg)"
      ]
    },
    {
      "cell_type": "markdown",
      "metadata": {
        "id": "3Imo_W3R1CIL",
        "colab_type": "text"
      },
      "source": [
        "Here, we fit ridge regression models over a range of different alphas, and plot cross-validated R2 scores for each. The R2 scores along with the standard error for each alpha is plotted."
      ]
    },
    {
      "cell_type": "markdown",
      "metadata": {
        "id": "WLMhUi4FDM5Q",
        "colab_type": "text"
      },
      "source": [
        "The Gapminder Dataset describes life expentency depending on factors like fertility, GDP, Region, population etc.\n",
        "\n",
        "The dataset is imported from Kaggle.\n",
        "\n",
        "https://www.kaggle.com/"
      ]
    },
    {
      "cell_type": "markdown",
      "metadata": {
        "id": "yPCdjYjZkJ3-",
        "colab_type": "text"
      },
      "source": [
        "Installing Kaggle Package to access the Gapminder dataset from Kaggle."
      ]
    },
    {
      "cell_type": "code",
      "metadata": {
        "id": "My0q36n1jKX1",
        "colab_type": "code",
        "outputId": "640008a1-b258-46d1-8bde-fbae9cf66a9d",
        "colab": {
          "base_uri": "https://localhost:8080/",
          "height": 212
        }
      },
      "source": [
        "!pip install kaggle"
      ],
      "execution_count": 14,
      "outputs": [
        {
          "output_type": "stream",
          "text": [
            "Requirement already satisfied: kaggle in /usr/local/lib/python3.6/dist-packages (1.5.6)\n",
            "Requirement already satisfied: urllib3<1.25,>=1.21.1 in /usr/local/lib/python3.6/dist-packages (from kaggle) (1.24.3)\n",
            "Requirement already satisfied: six>=1.10 in /usr/local/lib/python3.6/dist-packages (from kaggle) (1.12.0)\n",
            "Requirement already satisfied: tqdm in /usr/local/lib/python3.6/dist-packages (from kaggle) (4.28.1)\n",
            "Requirement already satisfied: certifi in /usr/local/lib/python3.6/dist-packages (from kaggle) (2019.9.11)\n",
            "Requirement already satisfied: requests in /usr/local/lib/python3.6/dist-packages (from kaggle) (2.21.0)\n",
            "Requirement already satisfied: python-dateutil in /usr/local/lib/python3.6/dist-packages (from kaggle) (2.6.1)\n",
            "Requirement already satisfied: python-slugify in /usr/local/lib/python3.6/dist-packages (from kaggle) (4.0.0)\n",
            "Requirement already satisfied: idna<2.9,>=2.5 in /usr/local/lib/python3.6/dist-packages (from requests->kaggle) (2.8)\n",
            "Requirement already satisfied: chardet<3.1.0,>=3.0.2 in /usr/local/lib/python3.6/dist-packages (from requests->kaggle) (3.0.4)\n",
            "Requirement already satisfied: text-unidecode>=1.3 in /usr/local/lib/python3.6/dist-packages (from python-slugify->kaggle) (1.3)\n"
          ],
          "name": "stdout"
        }
      ]
    },
    {
      "cell_type": "markdown",
      "metadata": {
        "id": "9EwkJ2BKkXO-",
        "colab_type": "text"
      },
      "source": [
        "Make .kaggle directory under root to import the Kaggle Authentication JSON."
      ]
    },
    {
      "cell_type": "code",
      "metadata": {
        "id": "rWBE01UBjdk3",
        "colab_type": "code",
        "outputId": "eefab316-4ff9-4d66-d258-bb1e835b767a",
        "colab": {
          "base_uri": "https://localhost:8080/",
          "height": 34
        }
      },
      "source": [
        "!mkdir ~/.kaggle"
      ],
      "execution_count": 15,
      "outputs": [
        {
          "output_type": "stream",
          "text": [
            "mkdir: cannot create directory ‘/root/.kaggle’: File exists\n"
          ],
          "name": "stdout"
        }
      ]
    },
    {
      "cell_type": "markdown",
      "metadata": {
        "id": "p33pxUc9k6YF",
        "colab_type": "text"
      },
      "source": [
        "Change file path to root/.kaggle/kaggle.json"
      ]
    },
    {
      "cell_type": "code",
      "metadata": {
        "id": "QSxHC0E1jfTl",
        "colab_type": "code",
        "colab": {}
      },
      "source": [
        "!cp /content/kaggle.json ~/.kaggle/kaggle.json"
      ],
      "execution_count": 0,
      "outputs": []
    },
    {
      "cell_type": "markdown",
      "metadata": {
        "id": "YC5_bG3Gkxfl",
        "colab_type": "text"
      },
      "source": [
        "Protect Kaggle JSON file for security reasons\n",
        "\n",
        "Chmod 600 (chmod a+rwx,u-x,g-rwx,o-rwx) sets permissions so that, (U)ser / owner can read, can write and can't execute. (G)roup can't read, can't write and can't execute. (O)thers can't read, can't write and can't execute."
      ]
    },
    {
      "cell_type": "code",
      "metadata": {
        "id": "BqOCtvB3j4Iu",
        "colab_type": "code",
        "colab": {}
      },
      "source": [
        "!chmod 600 /root/.kaggle/kaggle.json"
      ],
      "execution_count": 0,
      "outputs": []
    },
    {
      "cell_type": "markdown",
      "metadata": {
        "id": "Mkokc4SpmVLS",
        "colab_type": "text"
      },
      "source": [
        "Import the Gapminder dataset"
      ]
    },
    {
      "cell_type": "code",
      "metadata": {
        "id": "aKg2TKatjx6W",
        "colab_type": "code",
        "outputId": "2572baf9-f6a1-4b54-fdaa-7a20cac923b1",
        "colab": {
          "base_uri": "https://localhost:8080/",
          "height": 70
        }
      },
      "source": [
        "!kaggle datasets download -d deepakdodi/gapminder"
      ],
      "execution_count": 18,
      "outputs": [
        {
          "output_type": "stream",
          "text": [
            "Downloading gapminder.zip to /content\n",
            "\r  0% 0.00/5.43k [00:00<?, ?B/s]\n",
            "\r100% 5.43k/5.43k [00:00<00:00, 9.12MB/s]\n"
          ],
          "name": "stdout"
        }
      ]
    },
    {
      "cell_type": "code",
      "metadata": {
        "id": "gmW3ARwmsEEi",
        "colab_type": "code",
        "outputId": "c6ac596b-e673-408d-d3e2-8377826d0b81",
        "colab": {
          "base_uri": "https://localhost:8080/",
          "height": 265
        }
      },
      "source": [
        "# Import numpy and pandas\n",
        "import numpy as np\n",
        "import pandas as pd\n",
        "\n",
        "# Read the Gapminder file into a DataFrame: df\n",
        "df = pd.read_csv('gapminder.zip', compression='zip', header=0, sep=',', quotechar='\"')\n",
        "print(df)"
      ],
      "execution_count": 19,
      "outputs": [
        {
          "output_type": "stream",
          "text": [
            "     population  fertility  ...  child_mortality                      Region\n",
            "0    34811059.0       2.73  ...             29.5  Middle East & North Africa\n",
            "1    19842251.0       6.43  ...            192.0          Sub-Saharan Africa\n",
            "2    40381860.0       2.24  ...             15.4                     America\n",
            "3     2975029.0       1.40  ...             20.0       Europe & Central Asia\n",
            "4    21370348.0       1.96  ...              5.2         East Asia & Pacific\n",
            "..          ...        ...  ...              ...                         ...\n",
            "134   3350832.0       2.11  ...             13.0                     America\n",
            "135  26952719.0       2.46  ...             49.2       Europe & Central Asia\n",
            "136  86589342.0       1.86  ...             26.2         East Asia & Pacific\n",
            "137  13114579.0       5.88  ...             94.9          Sub-Saharan Africa\n",
            "138  13495462.0       3.85  ...             98.3          Sub-Saharan Africa\n",
            "\n",
            "[139 rows x 10 columns]\n"
          ],
          "name": "stdout"
        }
      ]
    },
    {
      "cell_type": "markdown",
      "metadata": {
        "id": "jugJ5lV5sWPf",
        "colab_type": "text"
      },
      "source": [
        "Create array X for the 'fertility' feature and array y for the 'life' target variable."
      ]
    },
    {
      "cell_type": "code",
      "metadata": {
        "id": "Ud11_PmjscVw",
        "colab_type": "code",
        "colab": {}
      },
      "source": [
        "# Create arrays for features and target variable\n",
        "y = df['life'].values\n",
        "X_fertility = df['fertility'].values"
      ],
      "execution_count": 0,
      "outputs": []
    },
    {
      "cell_type": "code",
      "metadata": {
        "id": "hzQTwlXqsgwQ",
        "colab_type": "code",
        "outputId": "4d6631c0-91e7-4bf4-e0ab-cfd38198713c",
        "colab": {
          "base_uri": "https://localhost:8080/",
          "height": 52
        }
      },
      "source": [
        "# Print the dimensions of X and y before reshaping\n",
        "print(\"Dimensions of y before reshaping: {}\".format(y.shape))\n",
        "print(\"Dimensions of X before reshaping: {}\".format(X_fertility.shape))"
      ],
      "execution_count": 21,
      "outputs": [
        {
          "output_type": "stream",
          "text": [
            "Dimensions of y before reshaping: (139,)\n",
            "Dimensions of X before reshaping: (139,)\n"
          ],
          "name": "stdout"
        }
      ]
    },
    {
      "cell_type": "markdown",
      "metadata": {
        "id": "w-o_q43QiyMD",
        "colab_type": "text"
      },
      "source": [
        "**Lasso Regression on Gapminder Dataset**\n",
        "\n",
        "Lasso regression is able to select features that are the most important for predicting the target values, while shrinking the coefficients of certain other features to 0. Its ability to perform feature selection in this way is very useful in situations with data involving thousands of features.\n",
        "\n",
        "Here, we fit a lasso regression to the Gapminder dataset to plot the coefficients. It can be observed that the coefficients of some features are shrunk to 0, with only the most important ones remaining."
      ]
    },
    {
      "cell_type": "code",
      "metadata": {
        "id": "9ybvrpr1FaCJ",
        "colab_type": "code",
        "colab": {}
      },
      "source": [
        "X = df.drop(['life', 'Region'], axis=1)"
      ],
      "execution_count": 0,
      "outputs": []
    },
    {
      "cell_type": "code",
      "metadata": {
        "id": "0tq8EYaLoVWa",
        "colab_type": "code",
        "colab": {}
      },
      "source": [
        "# Import necessary modules\n",
        "from sklearn.linear_model import Ridge\n",
        "from sklearn.model_selection import cross_val_score\n",
        "import numpy as np\n",
        "import matplotlib.pyplot as plt"
      ],
      "execution_count": 0,
      "outputs": []
    },
    {
      "cell_type": "code",
      "metadata": {
        "id": "jDltpTupojMN",
        "colab_type": "code",
        "colab": {}
      },
      "source": [
        "# Setup the array of alphas and lists to store scores\n",
        "alpha_space = np.logspace(-4, 0, 50)\n",
        "ridge_scores = []\n",
        "ridge_scores_std = []"
      ],
      "execution_count": 0,
      "outputs": []
    },
    {
      "cell_type": "code",
      "metadata": {
        "id": "_hwSmgNMowDa",
        "colab_type": "code",
        "colab": {}
      },
      "source": [
        "# Create a ridge regressor: ridge\n",
        "ridge = Ridge(normalize=True)"
      ],
      "execution_count": 0,
      "outputs": []
    },
    {
      "cell_type": "code",
      "metadata": {
        "id": "V9KrZitwo4Nu",
        "colab_type": "code",
        "colab": {}
      },
      "source": [
        "# Compute scores over range of alphas\n",
        "for alpha in alpha_space:\n",
        "\n",
        "    # Specify the alpha value to use: ridge.alpha\n",
        "    ridge.alpha = alpha\n",
        "    \n",
        "    # Perform 10-fold CV: ridge_cv_scores\n",
        "    ridge_cv_scores = cross_val_score(ridge, X, y, cv = 10)\n",
        "    \n",
        "    # Append the mean of ridge_cv_scores to ridge_scores\n",
        "    ridge_scores.append(np.mean(ridge_cv_scores))\n",
        "    \n",
        "    # Append the std of ridge_cv_scores to ridge_scores_std\n",
        "    ridge_scores_std.append(np.std(ridge_cv_scores))"
      ],
      "execution_count": 0,
      "outputs": []
    },
    {
      "cell_type": "code",
      "metadata": {
        "id": "XMtFBCyYpMtb",
        "colab_type": "code",
        "colab": {}
      },
      "source": [
        "def display_plot(cv_scores, cv_scores_std):\n",
        "    fig = plt.figure()\n",
        "    ax = fig.add_subplot(1,1,1)\n",
        "    ax.plot(alpha_space, cv_scores)\n",
        "\n",
        "    std_error = cv_scores_std / np.sqrt(10)\n",
        "\n",
        "    ax.fill_between(alpha_space, cv_scores + std_error, cv_scores - std_error, alpha=0.2)\n",
        "    ax.set_ylabel('CV Score +/- Std Error')\n",
        "    ax.set_xlabel('Alpha')\n",
        "    ax.axhline(np.max(cv_scores), linestyle='--', color='.5')\n",
        "    ax.set_xlim([alpha_space[0], alpha_space[-1]])\n",
        "    ax.set_xscale('log')\n",
        "    plt.show()"
      ],
      "execution_count": 0,
      "outputs": []
    },
    {
      "cell_type": "code",
      "metadata": {
        "id": "m3D13lj1pTK1",
        "colab_type": "code",
        "colab": {
          "base_uri": "https://localhost:8080/",
          "height": 283
        },
        "outputId": "5b701124-4818-441b-8ad5-282f2ec64737"
      },
      "source": [
        "# Display the plot\n",
        "display_plot(ridge_scores, ridge_scores_std)"
      ],
      "execution_count": 30,
      "outputs": [
        {
          "output_type": "display_data",
          "data": {
            "image/png": "[encoded data removed]",
            "text/plain": [
              "<Figure size 432x288 with 1 Axes>"
            ]
          },
          "metadata": {
            "tags": []
          }
        }
      ]
    }
  ]
}