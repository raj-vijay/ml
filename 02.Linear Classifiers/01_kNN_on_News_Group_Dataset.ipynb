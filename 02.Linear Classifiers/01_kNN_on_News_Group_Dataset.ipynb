{
  "nbformat": 4,
  "nbformat_minor": 0,
  "metadata": {
    "colab": {
      "name": "01. kNN on News Group Dataset.ipynb",
      "provenance": [],
      "collapsed_sections": [],
      "authorship_tag": "ABX9TyP8iPO0UxEaDnupnl/0h4uJ",
      "include_colab_link": true
    },
    "kernelspec": {
      "name": "python3",
      "display_name": "Python 3"
    }
  },
  "cells": [
    {
      "cell_type": "markdown",
      "metadata": {
        "id": "view-in-github",
        "colab_type": "text"
      },
      "source": [
        "<a href=\"https://colab.research.google.com/github/raj-vijay/ml/blob/master/02.Linear%20Classifiers/01_kNN_on_News_Group_Dataset.ipynb\" target=\"_parent\"><img src=\"https://colab.research.google.com/assets/colab-badge.svg\" alt=\"Open In Colab\"/></a>"
      ]
    },
    {
      "cell_type": "markdown",
      "metadata": {
        "id": "bsVvQRlsFOwn",
        "colab_type": "text"
      },
      "source": [
        "**Prediction using kNN on News Groups Data**"
      ]
    },
    {
      "cell_type": "code",
      "metadata": {
        "id": "atFtIta4EGmG",
        "colab_type": "code",
        "colab": {
          "base_uri": "https://localhost:8080/",
          "height": 51
        },
        "outputId": "cf4fd251-7582-4b93-f902-1bbc8397fe37"
      },
      "source": [
        "import sklearn.datasets\n",
        "newsgroups = sklearn.datasets.fetch_20newsgroups_vectorized()\n",
        "X, y = newsgroups.data, newsgroups.target"
      ],
      "execution_count": null,
      "outputs": [
        {
          "output_type": "stream",
          "text": [
            "Downloading 20news dataset. This may take a few minutes.\n",
            "Downloading dataset from https://ndownloader.figshare.com/files/5975967 (14 MB)\n"
          ],
          "name": "stderr"
        }
      ]
    },
    {
      "cell_type": "code",
      "metadata": {
        "id": "IW3LkEvUEKkC",
        "colab_type": "code",
        "colab": {
          "base_uri": "https://localhost:8080/",
          "height": 34
        },
        "outputId": "ea8e3a0f-4ca8-4ff5-a823-6727c9ffafc3"
      },
      "source": [
        "X.shape"
      ],
      "execution_count": null,
      "outputs": [
        {
          "output_type": "execute_result",
          "data": {
            "text/plain": [
              "(11314, 130107)"
            ]
          },
          "metadata": {
            "tags": []
          },
          "execution_count": 2
        }
      ]
    },
    {
      "cell_type": "code",
      "metadata": {
        "id": "tTxs-B8zFc5e",
        "colab_type": "code",
        "colab": {
          "base_uri": "https://localhost:8080/",
          "height": 51
        },
        "outputId": "84eb62a1-c474-4932-881b-3559e900b6ed"
      },
      "source": [
        "print(X.astype)"
      ],
      "execution_count": null,
      "outputs": [
        {
          "output_type": "stream",
          "text": [
            "<bound method _data_matrix.astype of <11314x130107 sparse matrix of type '<class 'numpy.float64'>'\n",
            "\twith 1787565 stored elements in Compressed Sparse Row format>>\n"
          ],
          "name": "stdout"
        }
      ]
    },
    {
      "cell_type": "code",
      "metadata": {
        "id": "B5bXTMNzFm8X",
        "colab_type": "code",
        "colab": {
          "base_uri": "https://localhost:8080/",
          "height": 884
        },
        "outputId": "7a30c1c5-bbc7-4285-aad3-d6756a80dc4b"
      },
      "source": [
        "print(X)"
      ],
      "execution_count": null,
      "outputs": [
        {
          "output_type": "stream",
          "text": [
            "  (0, 5022)\t0.017109647770728872\n",
            "  (0, 5886)\t0.017109647770728872\n",
            "  (0, 6214)\t0.017109647770728872\n",
            "  (0, 6216)\t0.017109647770728872\n",
            "  (0, 6281)\t0.017109647770728872\n",
            "  (0, 6286)\t0.017109647770728872\n",
            "  (0, 6324)\t0.017109647770728872\n",
            "  (0, 6331)\t0.017109647770728872\n",
            "  (0, 6403)\t0.017109647770728872\n",
            "  (0, 11391)\t0.017109647770728872\n",
            "  (0, 13930)\t0.017109647770728872\n",
            "  (0, 15094)\t0.017109647770728872\n",
            "  (0, 15251)\t0.017109647770728872\n",
            "  (0, 15530)\t0.017109647770728872\n",
            "  (0, 16731)\t0.017109647770728872\n",
            "  (0, 20228)\t0.017109647770728872\n",
            "  (0, 26214)\t0.017109647770728872\n",
            "  (0, 26806)\t0.017109647770728872\n",
            "  (0, 27436)\t0.017109647770728872\n",
            "  (0, 27618)\t0.017109647770728872\n",
            "  (0, 27645)\t0.017109647770728872\n",
            "  (0, 27901)\t0.017109647770728872\n",
            "  (0, 28012)\t0.05132894331218662\n",
            "  (0, 28146)\t0.41063154649749295\n",
            "  (0, 28421)\t0.034219295541457743\n",
            "  :\t:\n",
            "  (11313, 115133)\t0.035555906726738896\n",
            "  (11313, 115475)\t0.4266708807208668\n",
            "  (11313, 115816)\t0.035555906726738896\n",
            "  (11313, 118561)\t0.035555906726738896\n",
            "  (11313, 118842)\t0.1066677201802167\n",
            "  (11313, 118983)\t0.07111181345347779\n",
            "  (11313, 119701)\t0.035555906726738896\n",
            "  (11313, 119741)\t0.035555906726738896\n",
            "  (11313, 121278)\t0.1066677201802167\n",
            "  (11313, 121667)\t0.07111181345347779\n",
            "  (11313, 121837)\t0.035555906726738896\n",
            "  (11313, 121999)\t0.035555906726738896\n",
            "  (11313, 123198)\t0.035555906726738896\n",
            "  (11313, 123211)\t0.035555906726738896\n",
            "  (11313, 123759)\t0.035555906726738896\n",
            "  (11313, 123796)\t0.035555906726738896\n",
            "  (11313, 124103)\t0.035555906726738896\n",
            "  (11313, 124198)\t0.035555906726738896\n",
            "  (11313, 124616)\t0.07111181345347779\n",
            "  (11313, 125271)\t0.035555906726738896\n",
            "  (11313, 128026)\t0.035555906726738896\n",
            "  (11313, 128084)\t0.035555906726738896\n",
            "  (11313, 128402)\t0.1066677201802167\n",
            "  (11313, 128420)\t0.035555906726738896\n",
            "  (11313, 128436)\t0.035555906726738896\n"
          ],
          "name": "stdout"
        }
      ]
    },
    {
      "cell_type": "code",
      "metadata": {
        "id": "2o5h0RJzEMmf",
        "colab_type": "code",
        "colab": {
          "base_uri": "https://localhost:8080/",
          "height": 34
        },
        "outputId": "ecd0cfb1-0b18-4740-d301-dbec7e33a862"
      },
      "source": [
        "y.shape"
      ],
      "execution_count": null,
      "outputs": [
        {
          "output_type": "execute_result",
          "data": {
            "text/plain": [
              "(11314,)"
            ]
          },
          "metadata": {
            "tags": []
          },
          "execution_count": 3
        }
      ]
    },
    {
      "cell_type": "code",
      "metadata": {
        "id": "C8ljr1L7Frf3",
        "colab_type": "code",
        "colab": {
          "base_uri": "https://localhost:8080/",
          "height": 34
        },
        "outputId": "f475dd83-14ae-4774-8565-f162e0c7c960"
      },
      "source": [
        "print(y)"
      ],
      "execution_count": null,
      "outputs": [
        {
          "output_type": "stream",
          "text": [
            "[17  7 10 ... 14 12 11]\n"
          ],
          "name": "stdout"
        }
      ]
    },
    {
      "cell_type": "markdown",
      "metadata": {
        "id": "0KGfNIGbFuLY",
        "colab_type": "text"
      },
      "source": [
        "**Implement k-NN model using Scikit Learn**"
      ]
    },
    {
      "cell_type": "code",
      "metadata": {
        "id": "sKdFZk3lEQmn",
        "colab_type": "code",
        "colab": {}
      },
      "source": [
        "from sklearn.neighbors import KNeighborsClassifier\n",
        "knn = KNeighborsClassifier(n_neighbors=1)"
      ],
      "execution_count": null,
      "outputs": []
    },
    {
      "cell_type": "code",
      "metadata": {
        "id": "0au4bdqzETD3",
        "colab_type": "code",
        "colab": {
          "base_uri": "https://localhost:8080/",
          "height": 68
        },
        "outputId": "7379871f-bf69-413f-ff70-254e6086983e"
      },
      "source": [
        "knn.fit(X,y)"
      ],
      "execution_count": null,
      "outputs": [
        {
          "output_type": "execute_result",
          "data": {
            "text/plain": [
              "KNeighborsClassifier(algorithm='auto', leaf_size=30, metric='minkowski',\n",
              "                     metric_params=None, n_jobs=None, n_neighbors=1, p=2,\n",
              "                     weights='uniform')"
            ]
          },
          "metadata": {
            "tags": []
          },
          "execution_count": 5
        }
      ]
    },
    {
      "cell_type": "code",
      "metadata": {
        "id": "Nh5XL5ldEUy3",
        "colab_type": "code",
        "colab": {}
      },
      "source": [
        "y_pred = knn.predict(X)"
      ],
      "execution_count": null,
      "outputs": []
    },
    {
      "cell_type": "code",
      "metadata": {
        "id": "XnESXl0BEZR_",
        "colab_type": "code",
        "colab": {
          "base_uri": "https://localhost:8080/",
          "height": 34
        },
        "outputId": "8a861c3f-6943-4410-ca13-c12e892dba5f"
      },
      "source": [
        "print(\"The accuracy of the model without train-test split is \", round(knn.score(X,y),2))"
      ],
      "execution_count": null,
      "outputs": [
        {
          "output_type": "stream",
          "text": [
            "The accuracy of the model without train-test split is  0.92\n"
          ],
          "name": "stdout"
        }
      ]
    },
    {
      "cell_type": "code",
      "metadata": {
        "id": "-pwRkzO4EbxP",
        "colab_type": "code",
        "colab": {}
      },
      "source": [
        "from sklearn.model_selection import train_test_split\n",
        "X_train, X_test, y_train, y_test = train_test_split(X, y)"
      ],
      "execution_count": null,
      "outputs": []
    },
    {
      "cell_type": "code",
      "metadata": {
        "id": "kZnfxCVOEdsf",
        "colab_type": "code",
        "colab": {
          "base_uri": "https://localhost:8080/",
          "height": 34
        },
        "outputId": "abfdff0f-074b-4543-ed43-87dacb994166"
      },
      "source": [
        "knn.fit(X_train, y_train)"
      ],
      "execution_count": null,
      "outputs": [
        {
          "output_type": "stream",
          "text": [
            "0.67\n"
          ],
          "name": "stdout"
        }
      ]
    },
    {
      "cell_type": "code",
      "metadata": {
        "id": "lolREXiCEwX3",
        "colab_type": "code",
        "colab": {
          "base_uri": "https://localhost:8080/",
          "height": 34
        },
        "outputId": "08660927-5f2f-4760-d9f6-a97fc4b5f212"
      },
      "source": [
        "print(\"The accuracy of the model is\", round(knn.score(X_test, y_test),3))"
      ],
      "execution_count": null,
      "outputs": [
        {
          "output_type": "stream",
          "text": [
            "The accuracy of the model is 0.67\n"
          ],
          "name": "stdout"
        }
      ]
    }
  ]
}