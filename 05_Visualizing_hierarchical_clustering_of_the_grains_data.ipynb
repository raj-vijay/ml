{
  "nbformat": 4,
  "nbformat_minor": 0,
  "metadata": {
    "colab": {
      "name": "05. Visualizing hierarchical clustering of the grains data.ipynb",
      "provenance": [],
      "collapsed_sections": [],
      "include_colab_link": true
    },
    "kernelspec": {
      "name": "python3",
      "display_name": "Python 3"
    }
  },
  "cells": [
    {
      "cell_type": "markdown",
      "metadata": {
        "id": "view-in-github",
        "colab_type": "text"
      },
      "source": [
        "<a href=\"https://colab.research.google.com/github/raj-vijay/ml/blob/master/05_Visualizing_hierarchical_clustering_of_the_grains_data.ipynb\" target=\"_parent\"><img src=\"https://colab.research.google.com/assets/colab-badge.svg\" alt=\"Open In Colab\"/></a>"
      ]
    },
    {
      "cell_type": "markdown",
      "metadata": {
        "id": "4HsXU3saM3qN",
        "colab_type": "text"
      },
      "source": [
        "**Dendrogram**\n",
        "\n",
        "A dendrogram is a diagram representing a tree. This diagrammatic representation is frequently used in different contexts: in hierarchical clustering, it illustrates the arrangement of the clusters produced by the corresponding analyses. "
      ]
    },
    {
      "cell_type": "markdown",
      "metadata": {
        "id": "g0lqu-J7MZTl",
        "colab_type": "text"
      },
      "source": [
        "Visualisations communicate insights and hierarchies are clusters that are contained in one another."
      ]
    },
    {
      "cell_type": "markdown",
      "metadata": {
        "id": "UYJqGxWQYI60",
        "colab_type": "text"
      },
      "source": [
        "**The Seeds Dataset**\n",
        "\n",
        "The examined group comprised kernels belonging to three different varieties of wheat: Kama, Rosa and Canadian, 70 elements each, randomly selected for\n",
        "the experiment. High quality visualization of the internal kernel structure was detected using a soft X-ray technique. It is non-destructive and considerably cheaper than other more sophisticated imaging techniques like scanning microscopy or laser technology. The images were recorded on 13x18 cm X-ray KODAK plates. Studies were conducted using combine harvested wheat grain originating from experimental fields, explored at the Institute of Agrophysics of the Polish Academy of Sciences in Lublin.\n",
        "\n",
        "The data set can be used for the tasks of classification and cluster analysis.\n",
        "\n",
        "\n",
        "Attribute Information:\n",
        "\n",
        "To construct the data, seven geometric parameters of wheat kernels were measured:\n",
        "1. area A,\n",
        "2. perimeter P,\n",
        "3. compactness C = 4*pi*A/P^2,\n",
        "4. length of kernel,\n",
        "5. width of kernel,\n",
        "6. asymmetry coefficient\n",
        "7. length of kernel groove.\n",
        "\n",
        "All of these parameters were real-valued continuous."
      ]
    },
    {
      "cell_type": "markdown",
      "metadata": {
        "id": "O_5TvC9AX6Mx",
        "colab_type": "text"
      },
      "source": [
        "This dataset was sourced from the UCI Machine Learning Repository.\n",
        "\n",
        "https://archive.ics.uci.edu/ml/datasets/seeds"
      ]
    },
    {
      "cell_type": "code",
      "metadata": {
        "id": "4I6QAklhO7VA",
        "colab_type": "code",
        "outputId": "cbcbdfa6-1a57-4f64-e32c-3ae2a48f2ff2",
        "colab": {
          "base_uri": "https://localhost:8080/",
          "height": 212
        }
      },
      "source": [
        "# Download the seeds data using wget (Linux)\n",
        "!wget https://archive.ics.uci.edu/ml/machine-learning-databases/00236/seeds_dataset.txt"
      ],
      "execution_count": 0,
      "outputs": [
        {
          "output_type": "stream",
          "text": [
            "--2020-01-02 16:56:28--  https://archive.ics.uci.edu/ml/machine-learning-databases/00236/seeds_dataset.txt\n",
            "Resolving archive.ics.uci.edu (archive.ics.uci.edu)... 128.195.10.252\n",
            "Connecting to archive.ics.uci.edu (archive.ics.uci.edu)|128.195.10.252|:443... connected.\n",
            "HTTP request sent, awaiting response... 200 OK\n",
            "Length: 9300 (9.1K) [application/x-httpd-php]\n",
            "Saving to: ‘seeds_dataset.txt.2’\n",
            "\n",
            "\rseeds_dataset.txt.2   0%[                    ]       0  --.-KB/s               \rseeds_dataset.txt.2 100%[===================>]   9.08K  --.-KB/s    in 0s      \n",
            "\n",
            "2020-01-02 16:56:28 (81.3 MB/s) - ‘seeds_dataset.txt.2’ saved [9300/9300]\n",
            "\n"
          ],
          "name": "stdout"
        }
      ]
    },
    {
      "cell_type": "markdown",
      "metadata": {
        "id": "bD6WVCu_Xvi_",
        "colab_type": "text"
      },
      "source": [
        "Import NumPy and Pandas"
      ]
    },
    {
      "cell_type": "code",
      "metadata": {
        "id": "45Uj9c-RTKGP",
        "colab_type": "code",
        "colab": {}
      },
      "source": [
        "import numpy as np\n",
        "import pandas as pd"
      ],
      "execution_count": 0,
      "outputs": []
    },
    {
      "cell_type": "markdown",
      "metadata": {
        "id": "4KyBhAJ2YYQu",
        "colab_type": "text"
      },
      "source": [
        "Load the dataset to an array 'samples' containing the measurements (such as area, perimeter, length, and several others) of samples of grain."
      ]
    },
    {
      "cell_type": "code",
      "metadata": {
        "id": "W6Jv5M_OTGH2",
        "colab_type": "code",
        "colab": {}
      },
      "source": [
        "samples = np.genfromtxt('seeds_dataset.txt')"
      ],
      "execution_count": 0,
      "outputs": []
    },
    {
      "cell_type": "code",
      "metadata": {
        "id": "p6RDUSOaTTIv",
        "colab_type": "code",
        "outputId": "565940b4-2c19-498d-cfd2-36fa0d4154bf",
        "colab": {
          "base_uri": "https://localhost:8080/",
          "height": 141
        }
      },
      "source": [
        "# Test the dataload for the seeds dataset\n",
        "samples"
      ],
      "execution_count": 0,
      "outputs": [
        {
          "output_type": "execute_result",
          "data": {
            "text/plain": [
              "array([[15.26  , 14.84  ,  0.871 , ...,  2.221 ,  5.22  ,  1.    ],\n",
              "       [14.88  , 14.57  ,  0.8811, ...,  1.018 ,  4.956 ,  1.    ],\n",
              "       [14.29  , 14.09  ,  0.905 , ...,  2.699 ,  4.825 ,  1.    ],\n",
              "       ...,\n",
              "       [13.2   , 13.66  ,  0.8883, ...,  8.315 ,  5.056 ,  3.    ],\n",
              "       [11.84  , 13.21  ,  0.8521, ...,  3.598 ,  5.044 ,  3.    ],\n",
              "       [12.3   , 13.34  ,  0.8684, ...,  5.637 ,  5.063 ,  3.    ]])"
            ]
          },
          "metadata": {
            "tags": []
          },
          "execution_count": 35
        }
      ]
    },
    {
      "cell_type": "code",
      "metadata": {
        "id": "JgkNPFj0sVL8",
        "colab_type": "code",
        "outputId": "71ffadec-5036-44eb-8687-56d8ef3d14d2",
        "colab": {
          "base_uri": "https://localhost:8080/",
          "height": 247
        }
      },
      "source": [
        "labels = samples[:,-1]\n",
        "labels"
      ],
      "execution_count": 0,
      "outputs": [
        {
          "output_type": "execute_result",
          "data": {
            "text/plain": [
              "array([1., 1., 1., 1., 1., 1., 1., 1., 1., 1., 1., 1., 1., 1., 1., 1., 1.,\n",
              "       1., 1., 1., 1., 1., 1., 1., 1., 1., 1., 1., 1., 1., 1., 1., 1., 1.,\n",
              "       1., 1., 1., 1., 1., 1., 1., 1., 1., 1., 1., 1., 1., 1., 1., 1., 1.,\n",
              "       1., 1., 1., 1., 1., 1., 1., 1., 1., 1., 1., 1., 1., 1., 1., 1., 1.,\n",
              "       1., 1., 2., 2., 2., 2., 2., 2., 2., 2., 2., 2., 2., 2., 2., 2., 2.,\n",
              "       2., 2., 2., 2., 2., 2., 2., 2., 2., 2., 2., 2., 2., 2., 2., 2., 2.,\n",
              "       2., 2., 2., 2., 2., 2., 2., 2., 2., 2., 2., 2., 2., 2., 2., 2., 2.,\n",
              "       2., 2., 2., 2., 2., 2., 2., 2., 2., 2., 2., 2., 2., 2., 2., 2., 2.,\n",
              "       2., 2., 2., 2., 3., 3., 3., 3., 3., 3., 3., 3., 3., 3., 3., 3., 3.,\n",
              "       3., 3., 3., 3., 3., 3., 3., 3., 3., 3., 3., 3., 3., 3., 3., 3., 3.,\n",
              "       3., 3., 3., 3., 3., 3., 3., 3., 3., 3., 3., 3., 3., 3., 3., 3., 3.,\n",
              "       3., 3., 3., 3., 3., 3., 3., 3., 3., 3., 3., 3., 3., 3., 3., 3., 3.,\n",
              "       3., 3., 3., 3., 3., 3.])"
            ]
          },
          "metadata": {
            "tags": []
          },
          "execution_count": 36
        }
      ]
    },
    {
      "cell_type": "code",
      "metadata": {
        "id": "lmxTufrgt3hh",
        "colab_type": "code",
        "outputId": "558a5f6d-6d6b-4e23-8bfc-fb3b536a176a",
        "colab": {
          "base_uri": "https://localhost:8080/",
          "height": 1000
        }
      },
      "source": [
        "varieties = np.where(labels==1, 'Canadian Wheat', np.where(labels==2, 'Kama Wheat', np.where(labels==3, 'Rosa Wheat', labels)))\n",
        "varieties"
      ],
      "execution_count": 0,
      "outputs": [
        {
          "output_type": "execute_result",
          "data": {
            "text/plain": [
              "array(['Canadian Wheat', 'Canadian Wheat', 'Canadian Wheat',\n",
              "       'Canadian Wheat', 'Canadian Wheat', 'Canadian Wheat',\n",
              "       'Canadian Wheat', 'Canadian Wheat', 'Canadian Wheat',\n",
              "       'Canadian Wheat', 'Canadian Wheat', 'Canadian Wheat',\n",
              "       'Canadian Wheat', 'Canadian Wheat', 'Canadian Wheat',\n",
              "       'Canadian Wheat', 'Canadian Wheat', 'Canadian Wheat',\n",
              "       'Canadian Wheat', 'Canadian Wheat', 'Canadian Wheat',\n",
              "       'Canadian Wheat', 'Canadian Wheat', 'Canadian Wheat',\n",
              "       'Canadian Wheat', 'Canadian Wheat', 'Canadian Wheat',\n",
              "       'Canadian Wheat', 'Canadian Wheat', 'Canadian Wheat',\n",
              "       'Canadian Wheat', 'Canadian Wheat', 'Canadian Wheat',\n",
              "       'Canadian Wheat', 'Canadian Wheat', 'Canadian Wheat',\n",
              "       'Canadian Wheat', 'Canadian Wheat', 'Canadian Wheat',\n",
              "       'Canadian Wheat', 'Canadian Wheat', 'Canadian Wheat',\n",
              "       'Canadian Wheat', 'Canadian Wheat', 'Canadian Wheat',\n",
              "       'Canadian Wheat', 'Canadian Wheat', 'Canadian Wheat',\n",
              "       'Canadian Wheat', 'Canadian Wheat', 'Canadian Wheat',\n",
              "       'Canadian Wheat', 'Canadian Wheat', 'Canadian Wheat',\n",
              "       'Canadian Wheat', 'Canadian Wheat', 'Canadian Wheat',\n",
              "       'Canadian Wheat', 'Canadian Wheat', 'Canadian Wheat',\n",
              "       'Canadian Wheat', 'Canadian Wheat', 'Canadian Wheat',\n",
              "       'Canadian Wheat', 'Canadian Wheat', 'Canadian Wheat',\n",
              "       'Canadian Wheat', 'Canadian Wheat', 'Canadian Wheat',\n",
              "       'Canadian Wheat', 'Kama Wheat', 'Kama Wheat', 'Kama Wheat',\n",
              "       'Kama Wheat', 'Kama Wheat', 'Kama Wheat', 'Kama Wheat',\n",
              "       'Kama Wheat', 'Kama Wheat', 'Kama Wheat', 'Kama Wheat',\n",
              "       'Kama Wheat', 'Kama Wheat', 'Kama Wheat', 'Kama Wheat',\n",
              "       'Kama Wheat', 'Kama Wheat', 'Kama Wheat', 'Kama Wheat',\n",
              "       'Kama Wheat', 'Kama Wheat', 'Kama Wheat', 'Kama Wheat',\n",
              "       'Kama Wheat', 'Kama Wheat', 'Kama Wheat', 'Kama Wheat',\n",
              "       'Kama Wheat', 'Kama Wheat', 'Kama Wheat', 'Kama Wheat',\n",
              "       'Kama Wheat', 'Kama Wheat', 'Kama Wheat', 'Kama Wheat',\n",
              "       'Kama Wheat', 'Kama Wheat', 'Kama Wheat', 'Kama Wheat',\n",
              "       'Kama Wheat', 'Kama Wheat', 'Kama Wheat', 'Kama Wheat',\n",
              "       'Kama Wheat', 'Kama Wheat', 'Kama Wheat', 'Kama Wheat',\n",
              "       'Kama Wheat', 'Kama Wheat', 'Kama Wheat', 'Kama Wheat',\n",
              "       'Kama Wheat', 'Kama Wheat', 'Kama Wheat', 'Kama Wheat',\n",
              "       'Kama Wheat', 'Kama Wheat', 'Kama Wheat', 'Kama Wheat',\n",
              "       'Kama Wheat', 'Kama Wheat', 'Kama Wheat', 'Kama Wheat',\n",
              "       'Kama Wheat', 'Kama Wheat', 'Kama Wheat', 'Kama Wheat',\n",
              "       'Kama Wheat', 'Kama Wheat', 'Kama Wheat', 'Rosa Wheat',\n",
              "       'Rosa Wheat', 'Rosa Wheat', 'Rosa Wheat', 'Rosa Wheat',\n",
              "       'Rosa Wheat', 'Rosa Wheat', 'Rosa Wheat', 'Rosa Wheat',\n",
              "       'Rosa Wheat', 'Rosa Wheat', 'Rosa Wheat', 'Rosa Wheat',\n",
              "       'Rosa Wheat', 'Rosa Wheat', 'Rosa Wheat', 'Rosa Wheat',\n",
              "       'Rosa Wheat', 'Rosa Wheat', 'Rosa Wheat', 'Rosa Wheat',\n",
              "       'Rosa Wheat', 'Rosa Wheat', 'Rosa Wheat', 'Rosa Wheat',\n",
              "       'Rosa Wheat', 'Rosa Wheat', 'Rosa Wheat', 'Rosa Wheat',\n",
              "       'Rosa Wheat', 'Rosa Wheat', 'Rosa Wheat', 'Rosa Wheat',\n",
              "       'Rosa Wheat', 'Rosa Wheat', 'Rosa Wheat', 'Rosa Wheat',\n",
              "       'Rosa Wheat', 'Rosa Wheat', 'Rosa Wheat', 'Rosa Wheat',\n",
              "       'Rosa Wheat', 'Rosa Wheat', 'Rosa Wheat', 'Rosa Wheat',\n",
              "       'Rosa Wheat', 'Rosa Wheat', 'Rosa Wheat', 'Rosa Wheat',\n",
              "       'Rosa Wheat', 'Rosa Wheat', 'Rosa Wheat', 'Rosa Wheat',\n",
              "       'Rosa Wheat', 'Rosa Wheat', 'Rosa Wheat', 'Rosa Wheat',\n",
              "       'Rosa Wheat', 'Rosa Wheat', 'Rosa Wheat', 'Rosa Wheat',\n",
              "       'Rosa Wheat', 'Rosa Wheat', 'Rosa Wheat', 'Rosa Wheat',\n",
              "       'Rosa Wheat', 'Rosa Wheat', 'Rosa Wheat', 'Rosa Wheat',\n",
              "       'Rosa Wheat'], dtype='<U32')"
            ]
          },
          "metadata": {
            "tags": []
          },
          "execution_count": 37
        }
      ]
    },
    {
      "cell_type": "code",
      "metadata": {
        "id": "FB0sfYXLKmVv",
        "colab_type": "code",
        "colab": {}
      },
      "source": [
        "# Perform the necessary imports\n",
        "from scipy.cluster.hierarchy import linkage, dendrogram\n",
        "import matplotlib.pyplot as plt"
      ],
      "execution_count": 0,
      "outputs": []
    },
    {
      "cell_type": "code",
      "metadata": {
        "id": "OGPX0TofKp_n",
        "colab_type": "code",
        "colab": {}
      },
      "source": [
        "# Calculate the linkage: mergings\n",
        "mergings = linkage(samples, method='complete')"
      ],
      "execution_count": 0,
      "outputs": []
    },
    {
      "cell_type": "code",
      "metadata": {
        "id": "ZaZoC8H5KszS",
        "colab_type": "code",
        "outputId": "f256c196-9e83-4616-eb41-8cf14f72f97f",
        "colab": {
          "base_uri": "https://localhost:8080/",
          "height": 304
        }
      },
      "source": [
        "# Plot the dendrogram, using varieties as labels\n",
        "dendrogram(mergings,\n",
        "           labels=varieties,\n",
        "           leaf_rotation=90,\n",
        "           leaf_font_size=6,\n",
        ")\n",
        "plt.show()"
      ],
      "execution_count": 0,
      "outputs": [
        {
          "output_type": "display_data",
          "data": {
            "image/png": "[encoded data removed]",
            "text/plain": [
              "<Figure size 432x288 with 1 Axes>"
            ]
          },
          "metadata": {
            "tags": []
          }
        }
      ]
    }
  ]
}