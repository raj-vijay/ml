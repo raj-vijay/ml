{
  "nbformat": 4,
  "nbformat_minor": 0,
  "metadata": {
    "colab": {
      "name": "06. Prediction Model MNIST handwritten digits.ipynb",
      "provenance": [],
      "collapsed_sections": [],
      "include_colab_link": true
    },
    "kernelspec": {
      "name": "python3",
      "display_name": "Python 3"
    }
  },
  "cells": [
    {
      "cell_type": "markdown",
      "metadata": {
        "id": "view-in-github",
        "colab_type": "text"
      },
      "source": [
        "<a href=\"https://colab.research.google.com/github/raj-vijay/ml/blob/master/06_Prediction_Model_MNIST_handwritten_digits.ipynb\" target=\"_parent\"><img src=\"https://colab.research.google.com/assets/colab-badge.svg\" alt=\"Open In Colab\"/></a>"
      ]
    },
    {
      "cell_type": "markdown",
      "metadata": {
        "id": "hozdGTf5zGaj",
        "colab_type": "text"
      },
      "source": [
        "**Measuring model performance**\n",
        "\n",
        "In classification, accuracy is used as the common metric for measuring model performance. Accuracy is defined as the fraction of correct predictions over total predictions made by a model."
      ]
    },
    {
      "cell_type": "markdown",
      "metadata": {
        "id": "pu8ieG6IuXIU",
        "colab_type": "text"
      },
      "source": [
        "**The digits recognition dataset**\n",
        "\n",
        "The MNIST database of handwritten digits, available @ http://yann.lecun.com/exdb/mnist/, has a training set of 60,000 examples, and a test set of 10,000 examples. It is a subset of a larger set available from NIST. \n",
        "\n",
        "The digits have been size-normalized and centered in a fixed-size image.\n",
        "It is a good database to try learning techniques and pattern recognition methods on real-world data while spending minimal efforts on preprocessing and formatting."
      ]
    },
    {
      "cell_type": "markdown",
      "metadata": {
        "id": "jIbpWqZVuwik",
        "colab_type": "text"
      },
      "source": [
        "**scikit-learn MNIST dataset**\n",
        "\n",
        "A reduced version of the MNIST dataset is one of scikit-learn's included datasets. \n",
        "\n",
        "Each sample in this scikit-learn dataset is an 8x8 image representing a handwritten digit. Each pixel is represented by an integer in the range 0 to 16, indicating varying levels of black. \n",
        "\n",
        "The scikit-learn's built-in datasets are of type Bunch, which are dictionary-like objects. \n",
        "\n",
        "Scikit-learn provides an 'images' key in addition to the 'data' and 'target' keys available with the Iris data. Because it is a 2D array of the images corresponding to each sample, this 'images' key is useful for visualizing the images."
      ]
    },
    {
      "cell_type": "code",
      "metadata": {
        "id": "YINWHn_6tvRR",
        "colab_type": "code",
        "colab": {}
      },
      "source": [
        "# Import necessary modules\n",
        "from sklearn import datasets\n",
        "from sklearn.neighbors import KNeighborsClassifier\n",
        "from sklearn.model_selection import train_test_split"
      ],
      "execution_count": 0,
      "outputs": []
    },
    {
      "cell_type": "code",
      "metadata": {
        "id": "yRxdJgAZvnCS",
        "colab_type": "code",
        "outputId": "3963d235-1695-4823-e025-a6db4f05589a",
        "colab": {
          "base_uri": "https://localhost:8080/",
          "height": 852
        }
      },
      "source": [
        "# Load the digits dataset: digits\n",
        "digits = datasets.load_digits()\n",
        "\n",
        "# Print the keys and DESCR of the dataset\n",
        "print(digits.keys())\n",
        "print(digits.DESCR)"
      ],
      "execution_count": 3,
      "outputs": [
        {
          "output_type": "stream",
          "text": [
            "dict_keys(['data', 'target', 'target_names', 'images', 'DESCR'])\n",
            ".. _digits_dataset:\n",
            "\n",
            "Optical recognition of handwritten digits dataset\n",
            "--------------------------------------------------\n",
            "\n",
            "**Data Set Characteristics:**\n",
            "\n",
            "    :Number of Instances: 5620\n",
            "    :Number of Attributes: 64\n",
            "    :Attribute Information: 8x8 image of integer pixels in the range 0..16.\n",
            "    :Missing Attribute Values: None\n",
            "    :Creator: E. Alpaydin (alpaydin '@' boun.edu.tr)\n",
            "    :Date: July; 1998\n",
            "\n",
            "This is a copy of the test set of the UCI ML hand-written digits datasets\n",
            "https://archive.ics.uci.edu/ml/datasets/Optical+Recognition+of+Handwritten+Digits\n",
            "\n",
            "The data set contains images of hand-written digits: 10 classes where\n",
            "each class refers to a digit.\n",
            "\n",
            "Preprocessing programs made available by NIST were used to extract\n",
            "normalized bitmaps of handwritten digits from a preprinted form. From a\n",
            "total of 43 people, 30 contributed to the training set and different 13\n",
            "to the test set. 32x32 bitmaps are divided into nonoverlapping blocks of\n",
            "4x4 and the number of on pixels are counted in each block. This generates\n",
            "an input matrix of 8x8 where each element is an integer in the range\n",
            "0..16. This reduces dimensionality and gives invariance to small\n",
            "distortions.\n",
            "\n",
            "For info on NIST preprocessing routines, see M. D. Garris, J. L. Blue, G.\n",
            "T. Candela, D. L. Dimmick, J. Geist, P. J. Grother, S. A. Janet, and C.\n",
            "L. Wilson, NIST Form-Based Handprint Recognition System, NISTIR 5469,\n",
            "1994.\n",
            "\n",
            ".. topic:: References\n",
            "\n",
            "  - C. Kaynak (1995) Methods of Combining Multiple Classifiers and Their\n",
            "    Applications to Handwritten Digit Recognition, MSc Thesis, Institute of\n",
            "    Graduate Studies in Science and Engineering, Bogazici University.\n",
            "  - E. Alpaydin, C. Kaynak (1998) Cascading Classifiers, Kybernetika.\n",
            "  - Ken Tang and Ponnuthurai N. Suganthan and Xi Yao and A. Kai Qin.\n",
            "    Linear dimensionalityreduction using relevance weighted LDA. School of\n",
            "    Electrical and Electronic Engineering Nanyang Technological University.\n",
            "    2005.\n",
            "  - Claudio Gentile. A New Approximate Maximal Margin Classification\n",
            "    Algorithm. NIPS. 2000.\n"
          ],
          "name": "stdout"
        }
      ]
    },
    {
      "cell_type": "code",
      "metadata": {
        "id": "DuL6SFcY2oAF",
        "colab_type": "code",
        "colab": {
          "base_uri": "https://localhost:8080/",
          "height": 212
        },
        "outputId": "2da9c544-a7fb-4c7d-bd56-e185d0eea91f"
      },
      "source": [
        "# Create feature and target arrays\n",
        "X = digits.data\n",
        "y = digits.target\n",
        "print(\"Feature Array\\n\", X)\n",
        "print(\"\\nTarget Array\\n\", y)"
      ],
      "execution_count": 15,
      "outputs": [
        {
          "output_type": "stream",
          "text": [
            "Feature Array\n",
            " [[ 0.  0.  5. ...  0.  0.  0.]\n",
            " [ 0.  0.  0. ... 10.  0.  0.]\n",
            " [ 0.  0.  0. ... 16.  9.  0.]\n",
            " ...\n",
            " [ 0.  0.  1. ...  6.  0.  0.]\n",
            " [ 0.  0.  2. ... 12.  0.  0.]\n",
            " [ 0.  0. 10. ... 12.  1.  0.]]\n",
            "\n",
            "Target Array\n",
            " [0 1 2 ... 8 9 8]\n"
          ],
          "name": "stdout"
        }
      ]
    },
    {
      "cell_type": "markdown",
      "metadata": {
        "id": "Rl_0HVLF3WtR",
        "colab_type": "text"
      },
      "source": [
        "Split the dataset into training and test sets"
      ]
    },
    {
      "cell_type": "code",
      "metadata": {
        "id": "wSEnbPJ42pcA",
        "colab_type": "code",
        "colab": {
          "base_uri": "https://localhost:8080/",
          "height": 52
        },
        "outputId": "455e5c65-6735-4624-be87-aa171b56ed3f"
      },
      "source": [
        "# Split into training and test set\n",
        "X_train, X_test, y_train, y_test = train_test_split(X, y, test_size = 0.2, random_state=42, stratify=y)\n",
        "print(\"Feature Train vs Test split:\", X_train.shape, X_test.shape)\n",
        "print(\"Prediction Train vs Test split:\", y_train.shape, y_test.shape)"
      ],
      "execution_count": 20,
      "outputs": [
        {
          "output_type": "stream",
          "text": [
            "Feature Train vs Test split: (1437, 64) (360, 64)\n",
            "Prediction Train vs Test split: (1437,) (360,)\n"
          ],
          "name": "stdout"
        }
      ]
    },
    {
      "cell_type": "markdown",
      "metadata": {
        "id": "Yd4tw6Bf4Uh2",
        "colab_type": "text"
      },
      "source": [
        "**k-NN classifier with 7 neighbors: knn**"
      ]
    },
    {
      "cell_type": "code",
      "metadata": {
        "id": "NsGPJETt4OPv",
        "colab_type": "code",
        "colab": {
          "base_uri": "https://localhost:8080/",
          "height": 70
        },
        "outputId": "9fc79cb0-4c49-4b5a-bf97-603bfdd6da7b"
      },
      "source": [
        "# Create a k-NN classifier with 7 neighbors: knn\n",
        "knn = KNeighborsClassifier(n_neighbors=7)\n",
        "\n",
        "# Fit the classifier to the training data\n",
        "knn.fit(X_train, y_train)"
      ],
      "execution_count": 22,
      "outputs": [
        {
          "output_type": "execute_result",
          "data": {
            "text/plain": [
              "KNeighborsClassifier(algorithm='auto', leaf_size=30, metric='minkowski',\n",
              "                     metric_params=None, n_jobs=None, n_neighbors=7, p=2,\n",
              "                     weights='uniform')"
            ]
          },
          "metadata": {
            "tags": []
          },
          "execution_count": 22
        }
      ]
    },
    {
      "cell_type": "markdown",
      "metadata": {
        "id": "osWD3img4hyi",
        "colab_type": "text"
      },
      "source": [
        "Accuracy of the model"
      ]
    },
    {
      "cell_type": "code",
      "metadata": {
        "id": "jlKxZrSe4mAm",
        "colab_type": "code",
        "colab": {
          "base_uri": "https://localhost:8080/",
          "height": 34
        },
        "outputId": "d2745836-fbdd-4cce-d84b-c90b9f6eac57"
      },
      "source": [
        "# Print the accuracy\n",
        "print(round(knn.score(X_test, y_test),2))"
      ],
      "execution_count": 24,
      "outputs": [
        {
          "output_type": "stream",
          "text": [
            "0.98\n"
          ],
          "name": "stdout"
        }
      ]
    },
    {
      "cell_type": "markdown",
      "metadata": {
        "id": "StzsQTgrDSSf",
        "colab_type": "text"
      },
      "source": [
        "**Model complexity**\n",
        "\n",
        "1. Larger k = smoother decision boundary = less complex model\n",
        "2. Smaller k = more complex model = can lead to overfitting"
      ]
    },
    {
      "cell_type": "markdown",
      "metadata": {
        "id": "YaAoMB6ODYTJ",
        "colab_type": "text"
      },
      "source": [
        "![alt text](https://raw.githubusercontent.com/raj-vijay/ml/master/images/kNN_complexity.jpg)"
      ]
    },
    {
      "cell_type": "markdown",
      "metadata": {
        "id": "c4PAFj8ODH0w",
        "colab_type": "text"
      },
      "source": [
        "![alt text](https://raw.githubusercontent.com/raj-vijay/ml/master/images/kNN.jpg)\n",
        "\n",
        "Image Source: Andreas Müller & Sarah Guido, Introduction to Machine Learning with Python"
      ]
    }
  ]
}