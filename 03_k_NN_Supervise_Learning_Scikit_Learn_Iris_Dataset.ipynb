{
  "nbformat": 4,
  "nbformat_minor": 0,
  "metadata": {
    "colab": {
      "name": "03. k-NN Supervise Learning Scikit-Learn Iris Dataset.ipynb",
      "provenance": [],
      "include_colab_link": true
    },
    "kernelspec": {
      "name": "python3",
      "display_name": "Python 3"
    }
  },
  "cells": [
    {
      "cell_type": "markdown",
      "metadata": {
        "id": "view-in-github",
        "colab_type": "text"
      },
      "source": [
        "<a href=\"https://colab.research.google.com/github/raj-vijay/ml/blob/master/03_k_NN_Supervise_Learning_Scikit_Learn_Iris_Dataset.ipynb\" target=\"_parent\"><img src=\"https://colab.research.google.com/assets/colab-badge.svg\" alt=\"Open In Colab\"/></a>"
      ]
    },
    {
      "cell_type": "markdown",
      "metadata": {
        "id": "JOSU24-D--Ee",
        "colab_type": "text"
      },
      "source": [
        "**k-Nearest Neighbours**\n",
        "\n",
        "The k-Nearest Neighbours or k-NN predicts the label of a data point by looking at the ‘k’ closest labeled data points and taking a majority vote."
      ]
    },
    {
      "cell_type": "markdown",
      "metadata": {
        "id": "k68K9BKMACS4",
        "colab_type": "text"
      },
      "source": [
        "![alt text](https://upload.wikimedia.org/wikipedia/commons/e/e7/KnnClassification.svg)\n",
        "\n",
        "An example from wikipedia of k-NN classification. \n",
        "\n",
        "The test sample (green dot) should be classified either to blue squares or to red triangles.\n",
        " \n",
        "If k = 3 (solid line circle) it is assigned to the red triangles because there are 2 triangles and only 1 square inside the inner circle. If k = 5 (dashed line circle) it is assigned to the blue squares (3 squares vs. 2 triangles inside the outer circle)."
      ]
    },
    {
      "cell_type": "markdown",
      "metadata": {
        "id": "KsfoElNhBCoK",
        "colab_type": "text"
      },
      "source": [
        "**Scikit-learn: Fit and Predict** \n",
        "\n",
        "All machine learning models implemented as Python classes. The alorithms are implemented for learning and predicting, and it stores the information learned from the data. \n",
        "\n",
        "Training a model on the data is also referred to as fitting a model to the data. It uses the .fit() method.\n",
        "The .predict() method is used to predict the labels of new data."
      ]
    },
    {
      "cell_type": "markdown",
      "metadata": {
        "id": "8WEZsh25BrR3",
        "colab_type": "text"
      },
      "source": [
        "Import python packages and the Iris Data Set"
      ]
    },
    {
      "cell_type": "code",
      "metadata": {
        "id": "EjENcBmE-s1A",
        "colab_type": "code",
        "colab": {
          "base_uri": "https://localhost:8080/",
          "height": 34
        },
        "outputId": "94b1b0e1-76a7-40e8-ae87-efaa978b364a"
      },
      "source": [
        "from sklearn import datasets\n",
        "iris = datasets.load_iris()\n",
        "type(iris)"
      ],
      "execution_count": 26,
      "outputs": [
        {
          "output_type": "execute_result",
          "data": {
            "text/plain": [
              "sklearn.utils.Bunch"
            ]
          },
          "metadata": {
            "tags": []
          },
          "execution_count": 26
        }
      ]
    },
    {
      "cell_type": "code",
      "metadata": {
        "id": "vbxLfl_XB7B4",
        "colab_type": "code",
        "colab": {
          "base_uri": "https://localhost:8080/",
          "height": 34
        },
        "outputId": "8c39e703-33bf-4fd2-cb8f-cbeadfba8f2a"
      },
      "source": [
        "iris.data.shape"
      ],
      "execution_count": 27,
      "outputs": [
        {
          "output_type": "execute_result",
          "data": {
            "text/plain": [
              "(150, 4)"
            ]
          },
          "metadata": {
            "tags": []
          },
          "execution_count": 27
        }
      ]
    },
    {
      "cell_type": "code",
      "metadata": {
        "id": "zqRbknK-B-vJ",
        "colab_type": "code",
        "colab": {
          "base_uri": "https://localhost:8080/",
          "height": 34
        },
        "outputId": "22faf64d-a7ac-48a5-85c7-aba990ebf563"
      },
      "source": [
        "iris.target_names"
      ],
      "execution_count": 28,
      "outputs": [
        {
          "output_type": "execute_result",
          "data": {
            "text/plain": [
              "array(['setosa', 'versicolor', 'virginica'], dtype='<U10')"
            ]
          },
          "metadata": {
            "tags": []
          },
          "execution_count": 28
        }
      ]
    },
    {
      "cell_type": "markdown",
      "metadata": {
        "id": "niDC1qMICG9Q",
        "colab_type": "text"
      },
      "source": [
        "**Import k-NN Classifier from Scikit-learn**"
      ]
    },
    {
      "cell_type": "code",
      "metadata": {
        "id": "GvHuZqgKCS2I",
        "colab_type": "code",
        "colab": {
          "base_uri": "https://localhost:8080/",
          "height": 70
        },
        "outputId": "c3325ead-ccb5-474c-b82e-3337f229ccdf"
      },
      "source": [
        "from sklearn.neighbors import KNeighborsClassifier\n",
        "knn = KNeighborsClassifier(n_neighbors=6)\n",
        "knn.fit(iris['data'], iris['target'])"
      ],
      "execution_count": 29,
      "outputs": [
        {
          "output_type": "execute_result",
          "data": {
            "text/plain": [
              "KNeighborsClassifier(algorithm='auto', leaf_size=30, metric='minkowski',\n",
              "                     metric_params=None, n_jobs=None, n_neighbors=6, p=2,\n",
              "                     weights='uniform')"
            ]
          },
          "metadata": {
            "tags": []
          },
          "execution_count": 29
        }
      ]
    },
    {
      "cell_type": "code",
      "metadata": {
        "id": "oz0z72zgCV0g",
        "colab_type": "code",
        "colab": {
          "base_uri": "https://localhost:8080/",
          "height": 34
        },
        "outputId": "25321678-8e5d-4e72-b2ae-d4bd6be93867"
      },
      "source": [
        "iris['data'].shape"
      ],
      "execution_count": 30,
      "outputs": [
        {
          "output_type": "execute_result",
          "data": {
            "text/plain": [
              "(150, 4)"
            ]
          },
          "metadata": {
            "tags": []
          },
          "execution_count": 30
        }
      ]
    },
    {
      "cell_type": "code",
      "metadata": {
        "id": "5qkh41RsCZhn",
        "colab_type": "code",
        "colab": {
          "base_uri": "https://localhost:8080/",
          "height": 34
        },
        "outputId": "1b1fa3a7-45a3-401d-b96e-1ab9a5830476"
      },
      "source": [
        "iris['target'].shape"
      ],
      "execution_count": 31,
      "outputs": [
        {
          "output_type": "execute_result",
          "data": {
            "text/plain": [
              "(150,)"
            ]
          },
          "metadata": {
            "tags": []
          },
          "execution_count": 31
        }
      ]
    },
    {
      "cell_type": "markdown",
      "metadata": {
        "id": "Qee8ir4yCgCC",
        "colab_type": "text"
      },
      "source": [
        "Predict class for a new instance"
      ]
    },
    {
      "cell_type": "code",
      "metadata": {
        "id": "7UJV465NDiP2",
        "colab_type": "code",
        "colab": {
          "base_uri": "https://localhost:8080/",
          "height": 70
        },
        "outputId": "c1c18e77-745a-48ad-abec-d9a13be1eae7"
      },
      "source": [
        "X_new = iris['data'][4:7]\n",
        "print(X_new)"
      ],
      "execution_count": 32,
      "outputs": [
        {
          "output_type": "stream",
          "text": [
            "[[5.  3.6 1.4 0.2]\n",
            " [5.4 3.9 1.7 0.4]\n",
            " [4.6 3.4 1.4 0.3]]\n"
          ],
          "name": "stdout"
        }
      ]
    },
    {
      "cell_type": "code",
      "metadata": {
        "id": "hykgzDziCl02",
        "colab_type": "code",
        "colab": {
          "base_uri": "https://localhost:8080/",
          "height": 34
        },
        "outputId": "097c0657-8412-4544-eefc-c96069803837"
      },
      "source": [
        "prediction = knn.predict(X_new)\n",
        "X_new.shape"
      ],
      "execution_count": 33,
      "outputs": [
        {
          "output_type": "execute_result",
          "data": {
            "text/plain": [
              "(3, 4)"
            ]
          },
          "metadata": {
            "tags": []
          },
          "execution_count": 33
        }
      ]
    },
    {
      "cell_type": "code",
      "metadata": {
        "id": "8IKoXLDgD5Sv",
        "colab_type": "code",
        "colab": {
          "base_uri": "https://localhost:8080/",
          "height": 34
        },
        "outputId": "4646ec59-3f2f-4b67-cf05-eb67a470f976"
      },
      "source": [
        "print(\"Prediction: {}\".format(prediction))"
      ],
      "execution_count": 34,
      "outputs": [
        {
          "output_type": "stream",
          "text": [
            "Prediction: [0 0 0]\n"
          ],
          "name": "stdout"
        }
      ]
    }
  ]
}