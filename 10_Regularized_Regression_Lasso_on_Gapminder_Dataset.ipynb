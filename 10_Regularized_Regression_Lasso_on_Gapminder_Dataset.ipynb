{
  "nbformat": 4,
  "nbformat_minor": 0,
  "metadata": {
    "colab": {
      "name": "10. Regularized Regression - Lasso on Gapminder Dataset.ipynb",
      "provenance": [],
      "collapsed_sections": [],
      "include_colab_link": true
    },
    "kernelspec": {
      "name": "python3",
      "display_name": "Python 3"
    }
  },
  "cells": [
    {
      "cell_type": "markdown",
      "metadata": {
        "id": "view-in-github",
        "colab_type": "text"
      },
      "source": [
        "<a href=\"https://colab.research.google.com/github/raj-vijay/ml/blob/master/10_Regularized_Regression_Lasso_on_Gapminder_Dataset.ipynb\" target=\"_parent\"><img src=\"https://colab.research.google.com/assets/colab-badge.svg\" alt=\"Open In Colab\"/></a>"
      ]
    },
    {
      "cell_type": "markdown",
      "metadata": {
        "id": "5-uBah4Qn5t8",
        "colab_type": "text"
      },
      "source": [
        "**Regularized Regression - Lasso: Gapminder Data**"
      ]
    },
    {
      "cell_type": "markdown",
      "metadata": {
        "id": "FxEBgJNhbWA0",
        "colab_type": "text"
      },
      "source": [
        "Linear regression minimizes the loss function. It choses a coefficient for each feature variable, and large coefficients can lead to overfitting. The process of penalizing large coefficients is called regularization. \n",
        "\n",
        "The linear regression model is simple and is commonly used as a prediction model.The linear regression model makes an assumption of normal distribution of error terms, i.e. the OLS (Ordinary Least Squares) estimators of the linear regression model are unbiased (Gauss-Markov Theorem). \n",
        "\n",
        "Linear regression fails under certain circumstances such as when there is a multicollinearity between the variables. \n",
        "\n"
      ]
    },
    {
      "cell_type": "markdown",
      "metadata": {
        "id": "HuL43PC-gB6R",
        "colab_type": "text"
      },
      "source": [
        "\n",
        "\n",
        "**Multicollinearity** \n",
        "\n",
        "Multicollinearity is a phenomenon in which one predictor variable in a multiple regression model can be linearly predicted from the others with a substantial degree of accuracy. \n",
        "\n",
        "In this situation the coefficient estimates of the multiple regression may change erratically in response to small changes in the model or the data. Multicollinearity does not reduce the predictive power or reliability of the model as a whole, at least within the sample data set; it only affects calculations regarding individual predictors. \n",
        "\n",
        "That is, a multivariate regression model with collinear predictors can indicate how well the entire bundle of predictors predicts the outcome variable, but it may not give valid results about any individual predictor, or about which predictors are redundant with respect to others. "
      ]
    },
    {
      "cell_type": "markdown",
      "metadata": {
        "id": "2S6L7Fh5gtAz",
        "colab_type": "text"
      },
      "source": [
        "**Regularization** \n",
        "\n",
        "Regularization is viewed as a technique to improve the generalizability of a learned model. \n",
        "\n",
        "Regularized regression is a type of regression where the coefficient estimates are constrained to zero. The magnitude (size) of coefficients, as well as the magnitude of the error term, are penalized. Complex models are discouraged, primarily to avoid overfitting. \n",
        "\n",
        "Regularization is a technique to assign penalties to certain models, that are overly complex. \n",
        "\n",
        "Ridge regression adds a penalty called an L2 penalty, which is the same as the square of the magnitude of coefficients. All coefficients are shrunk by the same factor, so that all coefficients remain in the model. The strength of the penalty term is controlled by a tuning parameter. When the tuning parameter (λ) is set to zero, ridge regression equals least squares regression. If λ = ∞, all coefficients are shrunk to zero. The ideal penalty is therefore somewhere in between 0 and ∞.\n",
        "\n",
        "The other type of regularization, L1 regularization, limits the size of the coefficients by adding an L1 penalty equal to the absolute value of the magnitude of coefficients. This sometimes results in the elimination of some coefficients altogether leading to sparse models. "
      ]
    },
    {
      "cell_type": "markdown",
      "metadata": {
        "id": "_-XVPilAhJ5l",
        "colab_type": "text"
      },
      "source": [
        "\n",
        "**I. Ridge regression**\n",
        "\n",
        "Ridge regression is a way to create a parsimonious model when the number of predictor variables in a set exceeds the number of observations, or when a data set has multicollinearity (correlations between predictor variables).\n",
        "\n",
        "**II. Lasso regression (Least Absolute Shrinkage and Selection Operator: LASSO)**\n",
        "\n",
        "Lasso regression is a type of linear regression that uses shrinkage. Shrinkage is where data values are shrunk towards a central point, like the mean. This type is very useful in situations with high levels of muticollinearity or to automate certain parts of model selection, such as for variable selection or parameter elimination. \n",
        "\n",
        "\n"
      ]
    },
    {
      "cell_type": "markdown",
      "metadata": {
        "id": "WLMhUi4FDM5Q",
        "colab_type": "text"
      },
      "source": [
        "The Gapminder Dataset describes life expentency depending on factors like fertility, GDP, Region, population etc.\n",
        "\n",
        "The dataset is imported from Kaggle.\n",
        "\n",
        "https://www.kaggle.com/"
      ]
    },
    {
      "cell_type": "markdown",
      "metadata": {
        "id": "yPCdjYjZkJ3-",
        "colab_type": "text"
      },
      "source": [
        "Installing Kaggle Package to access the Gapminder dataset from Kaggle."
      ]
    },
    {
      "cell_type": "code",
      "metadata": {
        "id": "My0q36n1jKX1",
        "colab_type": "code",
        "outputId": "dba9e89c-4bae-4cc3-ad03-f878a310bf63",
        "colab": {
          "base_uri": "https://localhost:8080/",
          "height": 212
        }
      },
      "source": [
        "!pip install kaggle"
      ],
      "execution_count": 0,
      "outputs": [
        {
          "output_type": "stream",
          "text": [
            "Requirement already satisfied: kaggle in /usr/local/lib/python3.6/dist-packages (1.5.6)\n",
            "Requirement already satisfied: python-slugify in /usr/local/lib/python3.6/dist-packages (from kaggle) (4.0.0)\n",
            "Requirement already satisfied: tqdm in /usr/local/lib/python3.6/dist-packages (from kaggle) (4.28.1)\n",
            "Requirement already satisfied: certifi in /usr/local/lib/python3.6/dist-packages (from kaggle) (2019.9.11)\n",
            "Requirement already satisfied: six>=1.10 in /usr/local/lib/python3.6/dist-packages (from kaggle) (1.12.0)\n",
            "Requirement already satisfied: requests in /usr/local/lib/python3.6/dist-packages (from kaggle) (2.21.0)\n",
            "Requirement already satisfied: python-dateutil in /usr/local/lib/python3.6/dist-packages (from kaggle) (2.6.1)\n",
            "Requirement already satisfied: urllib3<1.25,>=1.21.1 in /usr/local/lib/python3.6/dist-packages (from kaggle) (1.24.3)\n",
            "Requirement already satisfied: text-unidecode>=1.3 in /usr/local/lib/python3.6/dist-packages (from python-slugify->kaggle) (1.3)\n",
            "Requirement already satisfied: idna<2.9,>=2.5 in /usr/local/lib/python3.6/dist-packages (from requests->kaggle) (2.8)\n",
            "Requirement already satisfied: chardet<3.1.0,>=3.0.2 in /usr/local/lib/python3.6/dist-packages (from requests->kaggle) (3.0.4)\n"
          ],
          "name": "stdout"
        }
      ]
    },
    {
      "cell_type": "markdown",
      "metadata": {
        "id": "9EwkJ2BKkXO-",
        "colab_type": "text"
      },
      "source": [
        "Make .kaggle directory under root to import the Kaggle Authentication JSON."
      ]
    },
    {
      "cell_type": "code",
      "metadata": {
        "id": "rWBE01UBjdk3",
        "colab_type": "code",
        "outputId": "fb333d34-2aad-48ea-9b2f-9c9360b9bdcd",
        "colab": {
          "base_uri": "https://localhost:8080/",
          "height": 34
        }
      },
      "source": [
        "!mkdir ~/.kaggle"
      ],
      "execution_count": 0,
      "outputs": [
        {
          "output_type": "stream",
          "text": [
            "mkdir: cannot create directory ‘/root/.kaggle’: File exists\n"
          ],
          "name": "stdout"
        }
      ]
    },
    {
      "cell_type": "markdown",
      "metadata": {
        "id": "p33pxUc9k6YF",
        "colab_type": "text"
      },
      "source": [
        "Change file path to root/.kaggle/kaggle.json"
      ]
    },
    {
      "cell_type": "code",
      "metadata": {
        "id": "QSxHC0E1jfTl",
        "colab_type": "code",
        "colab": {}
      },
      "source": [
        "!cp /content/kaggle.json ~/.kaggle/kaggle.json"
      ],
      "execution_count": 0,
      "outputs": []
    },
    {
      "cell_type": "markdown",
      "metadata": {
        "id": "YC5_bG3Gkxfl",
        "colab_type": "text"
      },
      "source": [
        "Protect Kaggle JSON file for security reasons\n",
        "\n",
        "Chmod 600 (chmod a+rwx,u-x,g-rwx,o-rwx) sets permissions so that, (U)ser / owner can read, can write and can't execute. (G)roup can't read, can't write and can't execute. (O)thers can't read, can't write and can't execute."
      ]
    },
    {
      "cell_type": "code",
      "metadata": {
        "id": "BqOCtvB3j4Iu",
        "colab_type": "code",
        "colab": {}
      },
      "source": [
        "!chmod 600 /root/.kaggle/kaggle.json"
      ],
      "execution_count": 0,
      "outputs": []
    },
    {
      "cell_type": "markdown",
      "metadata": {
        "id": "Mkokc4SpmVLS",
        "colab_type": "text"
      },
      "source": [
        "Import the Gapminder dataset"
      ]
    },
    {
      "cell_type": "code",
      "metadata": {
        "id": "aKg2TKatjx6W",
        "colab_type": "code",
        "outputId": "053721f0-3e1c-4294-92e1-54f122366ad5",
        "colab": {
          "base_uri": "https://localhost:8080/",
          "height": 34
        }
      },
      "source": [
        "!kaggle datasets download -d deepakdodi/gapminder"
      ],
      "execution_count": 0,
      "outputs": [
        {
          "output_type": "stream",
          "text": [
            "gapminder.zip: Skipping, found more recently modified local copy (use --force to force download)\n"
          ],
          "name": "stdout"
        }
      ]
    },
    {
      "cell_type": "code",
      "metadata": {
        "id": "gmW3ARwmsEEi",
        "colab_type": "code",
        "outputId": "f0653003-feba-4131-e61c-684c547a8889",
        "colab": {
          "base_uri": "https://localhost:8080/",
          "height": 265
        }
      },
      "source": [
        "# Import numpy and pandas\n",
        "import numpy as np\n",
        "import pandas as pd\n",
        "\n",
        "# Read the Gapminder file into a DataFrame: df\n",
        "df = pd.read_csv('gapminder.zip', compression='zip', header=0, sep=',', quotechar='\"')\n",
        "print(df)"
      ],
      "execution_count": 0,
      "outputs": [
        {
          "output_type": "stream",
          "text": [
            "     population  fertility  ...  child_mortality                      Region\n",
            "0    34811059.0       2.73  ...             29.5  Middle East & North Africa\n",
            "1    19842251.0       6.43  ...            192.0          Sub-Saharan Africa\n",
            "2    40381860.0       2.24  ...             15.4                     America\n",
            "3     2975029.0       1.40  ...             20.0       Europe & Central Asia\n",
            "4    21370348.0       1.96  ...              5.2         East Asia & Pacific\n",
            "..          ...        ...  ...              ...                         ...\n",
            "134   3350832.0       2.11  ...             13.0                     America\n",
            "135  26952719.0       2.46  ...             49.2       Europe & Central Asia\n",
            "136  86589342.0       1.86  ...             26.2         East Asia & Pacific\n",
            "137  13114579.0       5.88  ...             94.9          Sub-Saharan Africa\n",
            "138  13495462.0       3.85  ...             98.3          Sub-Saharan Africa\n",
            "\n",
            "[139 rows x 10 columns]\n"
          ],
          "name": "stdout"
        }
      ]
    },
    {
      "cell_type": "markdown",
      "metadata": {
        "id": "jugJ5lV5sWPf",
        "colab_type": "text"
      },
      "source": [
        "Create array X for the 'fertility' feature and array y for the 'life' target variable."
      ]
    },
    {
      "cell_type": "code",
      "metadata": {
        "id": "Ud11_PmjscVw",
        "colab_type": "code",
        "colab": {}
      },
      "source": [
        "# Create arrays for features and target variable\n",
        "y = df['life'].values\n",
        "X_fertility = df['fertility'].values"
      ],
      "execution_count": 0,
      "outputs": []
    },
    {
      "cell_type": "code",
      "metadata": {
        "id": "hzQTwlXqsgwQ",
        "colab_type": "code",
        "outputId": "f227406f-46e5-4417-e90e-f1998e0446e2",
        "colab": {
          "base_uri": "https://localhost:8080/",
          "height": 52
        }
      },
      "source": [
        "# Print the dimensions of X and y before reshaping\n",
        "print(\"Dimensions of y before reshaping: {}\".format(y.shape))\n",
        "print(\"Dimensions of X before reshaping: {}\".format(X_fertility.shape))"
      ],
      "execution_count": 0,
      "outputs": [
        {
          "output_type": "stream",
          "text": [
            "Dimensions of y before reshaping: (139,)\n",
            "Dimensions of X before reshaping: (139,)\n"
          ],
          "name": "stdout"
        }
      ]
    },
    {
      "cell_type": "markdown",
      "metadata": {
        "id": "w-o_q43QiyMD",
        "colab_type": "text"
      },
      "source": [
        "**Lasso Regression on Gapminder Dataset**\n",
        "\n",
        "Lasso regression is able to select features that are the most important for predicting the target values, while shrinking the coefficients of certain other features to 0. Its ability to perform feature selection in this way is very useful in situations with data involving thousands of features.\n",
        "\n",
        "Here, we fit a lasso regression to the Gapminder dataset to plot the coefficients. It can be observed that the coefficients of some features are shrunk to 0, with only the most important ones remaining."
      ]
    },
    {
      "cell_type": "code",
      "metadata": {
        "id": "9ybvrpr1FaCJ",
        "colab_type": "code",
        "colab": {}
      },
      "source": [
        "X = df.drop(['life', 'Region'], axis=1)"
      ],
      "execution_count": 0,
      "outputs": []
    },
    {
      "cell_type": "markdown",
      "metadata": {
        "id": "7x55d_8Zhqux",
        "colab_type": "text"
      },
      "source": [
        "Import Lasso from sklearn.linear_model"
      ]
    },
    {
      "cell_type": "code",
      "metadata": {
        "id": "kkB7M9KRRlOr",
        "colab_type": "code",
        "colab": {}
      },
      "source": [
        "# Import Lasso\n",
        "from sklearn.linear_model import Lasso"
      ],
      "execution_count": 0,
      "outputs": []
    },
    {
      "cell_type": "markdown",
      "metadata": {
        "id": "nkaCi22_ht6I",
        "colab_type": "text"
      },
      "source": [
        "Instantiate a Lasso regressor with an alpha of 0.4 and specify normalize=True"
      ]
    },
    {
      "cell_type": "code",
      "metadata": {
        "id": "UIvfGyjHRmmP",
        "colab_type": "code",
        "colab": {}
      },
      "source": [
        "# Instantiate a lasso regressor: lasso\n",
        "lasso = Lasso(alpha = 0.4, normalize = True)"
      ],
      "execution_count": 0,
      "outputs": []
    },
    {
      "cell_type": "code",
      "metadata": {
        "id": "dHJRNgNqRo-u",
        "colab_type": "code",
        "colab": {}
      },
      "source": [
        "# Fit the regressor to the data\n",
        "lasso_coef = lasso.fit(X, y).coef_"
      ],
      "execution_count": 0,
      "outputs": []
    },
    {
      "cell_type": "markdown",
      "metadata": {
        "id": "WT8MaEgji6kr",
        "colab_type": "text"
      },
      "source": [
        "**Determining coefficients of various features of the Gapminder Dataset**"
      ]
    },
    {
      "cell_type": "code",
      "metadata": {
        "id": "umP_07rORr8G",
        "colab_type": "code",
        "outputId": "d8c79e10-7b40-4e37-c980-5f760ce32205",
        "colab": {
          "base_uri": "https://localhost:8080/",
          "height": 52
        }
      },
      "source": [
        "# Compute and print the coefficients\n",
        "lasso_coef = lasso.coef_\n",
        "print(lasso_coef)"
      ],
      "execution_count": 0,
      "outputs": [
        {
          "output_type": "stream",
          "text": [
            "[-0.         -0.         -0.          0.          0.          0.\n",
            " -0.         -0.07087587]\n"
          ],
          "name": "stdout"
        }
      ]
    },
    {
      "cell_type": "code",
      "metadata": {
        "id": "Qrjbs4pwR0I3",
        "colab_type": "code",
        "outputId": "46b125fc-dac8-472a-f169-faf93dc8916d",
        "colab": {
          "base_uri": "https://localhost:8080/",
          "height": 324
        }
      },
      "source": [
        "# Plot the coefficients\n",
        "plt.plot(X.columns, lasso_coef)\n",
        "plt.xticks(range(len(X.columns)), X.columns.values, rotation=60)\n",
        "plt.margins(0.02)\n",
        "plt.show()"
      ],
      "execution_count": 0,
      "outputs": [
        {
          "output_type": "display_data",
          "data": {
            "image/png": "[encoded data removed]",
            "text/plain": [
              "<Figure size 432x288 with 1 Axes>"
            ]
          },
          "metadata": {
            "tags": []
          }
        }
      ]
    },
    {
      "cell_type": "markdown",
      "metadata": {
        "id": "h4EzCeBbjL46",
        "colab_type": "text"
      },
      "source": [
        "Now, it turns out that 'child_mortality' is the most important feature when predicting life expectancy. \n",
        "\n",
        "This definitely requires further investigation."
      ]
    }
  ]
}