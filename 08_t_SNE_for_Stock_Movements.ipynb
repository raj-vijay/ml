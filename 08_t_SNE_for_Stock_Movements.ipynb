{
  "nbformat": 4,
  "nbformat_minor": 0,
  "metadata": {
    "colab": {
      "name": "08. t-SNE for Stock Movements.ipynb",
      "provenance": [],
      "collapsed_sections": [],
      "include_colab_link": true
    },
    "kernelspec": {
      "name": "python3",
      "display_name": "Python 3"
    }
  },
  "cells": [
    {
      "cell_type": "markdown",
      "metadata": {
        "id": "view-in-github",
        "colab_type": "text"
      },
      "source": [
        "<a href=\"https://colab.research.google.com/github/raj-vijay/ml/blob/master/08_t_SNE_for_Stock_Movements.ipynb\" target=\"_parent\"><img src=\"https://colab.research.google.com/assets/colab-badge.svg\" alt=\"Open In Colab\"/></a>"
      ]
    },
    {
      "cell_type": "markdown",
      "metadata": {
        "id": "Zj0kxCrFUedw",
        "colab_type": "text"
      },
      "source": [
        "**t-SNE or T-distributed Stochastic Neighbour**"
      ]
    },
    {
      "cell_type": "markdown",
      "metadata": {
        "id": "-K4mr3Wq0wYZ",
        "colab_type": "text"
      },
      "source": [
        "t-SNE or T-distributed Stochastic Neighbour Embedding is a machine learning algorithm for data visualization in machine learning. \n",
        "\n",
        "It is a nonlinear dimensionality reduction technique well-suited for embedding high-dimensional data for visualization in a low-dimensional space of two or three dimensions. \n",
        "\n",
        "The t-SNE models each high-dimensional object by a two- or three-dimensional point in such a way that similar objects are modeled by nearby points and dissimilar objects are modeled by distant points with high probability."
      ]
    },
    {
      "cell_type": "markdown",
      "metadata": {
        "id": "YAoGfElx1RWn",
        "colab_type": "text"
      },
      "source": [
        "The t-SNE algorithm comprises two main stages. \n",
        "\n",
        "**Stage I**\n",
        "\n",
        "The t-SNE constructs a probability distribution over pairs of high-dimensional objects in such a way that similar objects have a high probability of being picked while dissimilar points have an extremely small probability of being picked. \n",
        "\n",
        "**Stage II**\n",
        "\n",
        "t-SNE defines a similar probability distribution over the points in the low-dimensional map, and it minimizes the Kullback–Leibler divergence (KL divergence) between the two distributions with respect to the locations of the points in the map. \n",
        "\n",
        "Note that while the original algorithm uses the Euclidean distance between objects as the base of its similarity metric, this should be changed as appropriate. "
      ]
    },
    {
      "cell_type": "markdown",
      "metadata": {
        "id": "dNViMJGWPfzQ",
        "colab_type": "text"
      },
      "source": [
        "\n",
        "Cluster companies using their daily stock price movements (i.e. the dollar difference between the closing and opening prices for each trading day). \n",
        "\n",
        "The dataset contains daily price movements of stocks from 2010 to 2015 (obtained from Yahoo! Finance), where each row corresponds to a company, and each column corresponds to a trading day.\n",
        "\n",
        "Some stocks are more expensive than others. \n",
        "\n",
        "And to account for this, a Normalizer is included at the beginning of the pipeline. \n",
        "\n",
        "The Normalizer separately transforms each company's stock price to a relative scale before the clustering begins.\n",
        "\n",
        "A Normalizer() is very different from a StandardScaler(). While a StandardScaler() standardizes features by removing the mean and scaling to unit variance, the Normalizer() rescales each sample - here, each company's stock price - independently of the other."
      ]
    },
    {
      "cell_type": "code",
      "metadata": {
        "id": "Dfj_AalXOD_2",
        "colab_type": "code",
        "colab": {}
      },
      "source": [
        "import numpy as np\n",
        "import pandas as pd\n",
        "import matplotlib.pyplot as plt"
      ],
      "execution_count": 0,
      "outputs": []
    },
    {
      "cell_type": "code",
      "metadata": {
        "id": "1Yyy5tpHQc6Y",
        "colab_type": "code",
        "outputId": "253aa8d9-d26e-40df-d10b-caa823e72237",
        "colab": {
          "base_uri": "https://localhost:8080/",
          "height": 336
        }
      },
      "source": [
        "data = np.genfromtxt('company-stock-movements.csv', delimiter=',', dtype='str')\n",
        "data"
      ],
      "execution_count": 0,
      "outputs": [
        {
          "output_type": "execute_result",
          "data": {
            "text/plain": [
              "array([['', '2010-01-04', '2010-01-05', ..., '2013-10-25', '2013-10-28',\n",
              "        '2013-10-29'],\n",
              "       ['Apple', '0.5799999999999841', '-0.22000499999998624', ...,\n",
              "        '-5.359961999999996', '0.8400189999999839',\n",
              "        '-19.589980999999966'],\n",
              "       ['AIG', '-0.6400020000000026', '-0.6500000000000021', ...,\n",
              "        '-0.04000099999999662', '-0.40000200000000063',\n",
              "        '0.6599999999999966'],\n",
              "       ...,\n",
              "       ['Exxon', '0.4300010000000043', '0.22999599999998566', ...,\n",
              "        '-0.26000200000000007', '0.40000099999998895',\n",
              "        '0.4800030000000106'],\n",
              "       ['Xerox', '0.09000000000000163', '0.009999999999999787', ...,\n",
              "        '-0.02999999999999936', '0.019999999999999574',\n",
              "        '-0.02999999999999936'],\n",
              "       ['Yahoo', '0.15999899999999911', '0.010001000000002591', ...,\n",
              "        '-0.06000099999999975', '0.25999799999999595',\n",
              "        '0.09999799999999937']], dtype='<U34')"
            ]
          },
          "metadata": {
            "tags": []
          },
          "execution_count": 23
        }
      ]
    },
    {
      "cell_type": "code",
      "metadata": {
        "id": "v2XulnQ6SbO3",
        "colab_type": "code",
        "outputId": "683efe58-06f5-4ea4-f189-231d6f1f167d",
        "colab": {
          "base_uri": "https://localhost:8080/",
          "height": 283
        }
      },
      "source": [
        "companies = data[1:,0]\n",
        "companies"
      ],
      "execution_count": 0,
      "outputs": [
        {
          "output_type": "execute_result",
          "data": {
            "text/plain": [
              "array(['Apple', 'AIG', 'Amazon', 'American express', 'Boeing',\n",
              "       'Bank of America', 'British American Tobacco', 'Canon',\n",
              "       'Caterpillar', 'Colgate-Palmolive', 'ConocoPhillips', 'Cisco',\n",
              "       'Chevron', 'DuPont de Nemours', 'Dell', 'Ford',\n",
              "       'General Electrics', 'Google/Alphabet', 'Goldman Sachs',\n",
              "       'GlaxoSmithKline', 'Home Depot', 'Honda', 'HP', 'IBM', 'Intel',\n",
              "       'Johnson & Johnson', 'JPMorgan Chase', 'Kimberly-Clark',\n",
              "       'Coca Cola', 'Lookheed Martin', 'MasterCard', 'McDonalds', '3M',\n",
              "       'Microsoft', 'Mitsubishi', 'Navistar', 'Northrop Grumman',\n",
              "       'Novartis', 'Pepsi', 'Pfizer', 'Procter Gamble', 'Philip Morris',\n",
              "       'Royal Dutch Shell', 'SAP', 'Schlumberger', 'Sony',\n",
              "       'Sanofi-Aventis', 'Symantec', 'Toyota', 'Total',\n",
              "       'Taiwan Semiconductor Manufacturing', 'Texas instruments',\n",
              "       'Unilever', 'Valero Energy', 'Walgreen', 'Wells Fargo', 'Wal-Mart',\n",
              "       'Exxon', 'Xerox', 'Yahoo'], dtype='<U34')"
            ]
          },
          "metadata": {
            "tags": []
          },
          "execution_count": 24
        }
      ]
    },
    {
      "cell_type": "code",
      "metadata": {
        "id": "TZUFyrCQRPYG",
        "colab_type": "code",
        "outputId": "af232e74-c180-4103-dbec-8ac56b11fb1f",
        "colab": {
          "base_uri": "https://localhost:8080/",
          "height": 247
        }
      },
      "source": [
        "movements = data[1:, 1:].astype(float)\n",
        "movements"
      ],
      "execution_count": 0,
      "outputs": [
        {
          "output_type": "execute_result",
          "data": {
            "text/plain": [
              "array([[ 5.8000000e-01, -2.2000500e-01, -3.4099980e+00, ...,\n",
              "        -5.3599620e+00,  8.4001900e-01, -1.9589981e+01],\n",
              "       [-6.4000200e-01, -6.5000000e-01, -2.1000100e-01, ...,\n",
              "        -4.0001000e-02, -4.0000200e-01,  6.6000000e-01],\n",
              "       [-2.3500060e+00,  1.2600090e+00, -2.3500060e+00, ...,\n",
              "         4.7900090e+00, -1.7600090e+00,  3.7400210e+00],\n",
              "       ...,\n",
              "       [ 4.3000100e-01,  2.2999600e-01,  5.7000000e-01, ...,\n",
              "        -2.6000200e-01,  4.0000100e-01,  4.8000300e-01],\n",
              "       [ 9.0000000e-02,  1.0000000e-02, -8.0000000e-02, ...,\n",
              "        -3.0000000e-02,  2.0000000e-02, -3.0000000e-02],\n",
              "       [ 1.5999900e-01,  1.0001000e-02,  0.0000000e+00, ...,\n",
              "        -6.0001000e-02,  2.5999800e-01,  9.9998000e-02]])"
            ]
          },
          "metadata": {
            "tags": []
          },
          "execution_count": 25
        }
      ]
    },
    {
      "cell_type": "code",
      "metadata": {
        "id": "PdAE5XJ2Res6",
        "colab_type": "code",
        "colab": {}
      },
      "source": [
        "# Import Modules\n",
        "from sklearn.preprocessing import Normalizer\n",
        "from sklearn.manifold import TSNE"
      ],
      "execution_count": 0,
      "outputs": []
    },
    {
      "cell_type": "code",
      "metadata": {
        "id": "of7OCxOtSBNu",
        "colab_type": "code",
        "colab": {}
      },
      "source": [
        "# Predict the cluster labels: labels\n",
        "labels = pipeline.predict(movements)"
      ],
      "execution_count": 0,
      "outputs": []
    },
    {
      "cell_type": "code",
      "metadata": {
        "id": "IGW5eT21SFsa",
        "colab_type": "code",
        "colab": {}
      },
      "source": [
        "# Create a DataFrame aligning labels and companies: df\n",
        "df = pd.DataFrame({'labels': labels, 'companies': companies})"
      ],
      "execution_count": 0,
      "outputs": []
    },
    {
      "cell_type": "code",
      "metadata": {
        "id": "hZVZV7e7imss",
        "colab_type": "code",
        "colab": {}
      },
      "source": [
        "# Import TSNE\n",
        "from sklearn.manifold import TSNE"
      ],
      "execution_count": 0,
      "outputs": []
    },
    {
      "cell_type": "code",
      "metadata": {
        "id": "XQv-_Jiiiqiz",
        "colab_type": "code",
        "colab": {}
      },
      "source": [
        "# Create a TSNE instance: model\n",
        "model = TSNE(learning_rate=50)"
      ],
      "execution_count": 0,
      "outputs": []
    },
    {
      "cell_type": "code",
      "metadata": {
        "id": "9wkpXBLpirWO",
        "colab_type": "code",
        "colab": {}
      },
      "source": [
        "# Apply fit_transform to normalized_movements: tsne_features\n",
        "tsne_features = model.fit_transform(movements)\n"
      ],
      "execution_count": 0,
      "outputs": []
    },
    {
      "cell_type": "code",
      "metadata": {
        "id": "pW-5kRtNiwvB",
        "colab_type": "code",
        "colab": {}
      },
      "source": [
        "# Select the 0th feature: xs\n",
        "xs = tsne_features[:,0]\n",
        "\n",
        "# Select the 1th feature: ys\n",
        "ys = tsne_features[:,1]\n"
      ],
      "execution_count": 0,
      "outputs": []
    },
    {
      "cell_type": "code",
      "metadata": {
        "id": "bhe8J81Ai1xC",
        "colab_type": "code",
        "outputId": "25dfcbcf-9e14-42da-b5ec-7be6ddd0b6ef",
        "colab": {
          "base_uri": "https://localhost:8080/",
          "height": 264
        }
      },
      "source": [
        "# Scatter plot\n",
        "plt.scatter(xs, ys,alpha=0.5)\n",
        "# Annotate the points\n",
        "for x, y, company in zip(xs, ys, companies):\n",
        "    plt.annotate(company, (x, y), fontsize=5, alpha=0.75)\n",
        "plt.show()"
      ],
      "execution_count": 0,
      "outputs": [
        {
          "output_type": "display_data",
          "data": {
            "image/png": "[encoded data removed]",
            "text/plain": [
              "<Figure size 432x288 with 1 Axes>"
            ]
          },
          "metadata": {
            "tags": []
          }
        }
      ]
    }
  ]
}