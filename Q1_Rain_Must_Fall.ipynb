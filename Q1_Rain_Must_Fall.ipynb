{
  "nbformat": 4,
  "nbformat_minor": 0,
  "metadata": {
    "colab": {
      "name": "Q1. Rain Must Fall.ipynb",
      "provenance": [],
      "collapsed_sections": [],
      "include_colab_link": true
    },
    "kernelspec": {
      "name": "python3",
      "display_name": "Python 3"
    }
  },
  "cells": [
    {
      "cell_type": "markdown",
      "metadata": {
        "id": "view-in-github",
        "colab_type": "text"
      },
      "source": [
        "<a href=\"https://colab.research.google.com/github/raj-vijay/ml/blob/master/Q1_Rain_Must_Fall.ipynb\" target=\"_parent\"><img src=\"https://colab.research.google.com/assets/colab-badge.svg\" alt=\"Open In Colab\"/></a>"
      ]
    },
    {
      "cell_type": "markdown",
      "metadata": {
        "id": "1kEIY95WpmeE",
        "colab_type": "text"
      },
      "source": [
        "**Question 1 - Numerical Analysis Exercises using NumPy – Rainfall Dataset**\n",
        "\n",
        "The objective of the exercises below is to familiarize yourself with the use of NumPy. These excises are mainly based on rainfall data in Cork for each month over the past half century. In the folder you will find a file called CorkRainfall.txt and a file called DublinRainfall.txt. This is a space delimited file.\n",
        "Each line of the file contains the following precipitation information pertaining to a specific month and year:\n",
        "\n",
        "*   Year\n",
        "*   Month (1 = Jan, 2 = Feb, 3 = March, etc. )\n",
        "*   Total Rainfall (Millimetres)\n",
        "*   Most Rainfall in a Day (Millimetres)\n",
        "*   Number of Rain days (A day is classified as a rain day if it has >= 0.2mm rain) (Number)\n"
      ]
    },
    {
      "cell_type": "code",
      "metadata": {
        "id": "yvDaPDktrwWd",
        "colab_type": "code",
        "outputId": "bd934620-88a7-42f6-a77d-a3f8866a4aba",
        "colab": {
          "base_uri": "https://localhost:8080/",
          "height": 34
        }
      },
      "source": [
        "from google.colab import drive\n",
        "drive.mount('/content/drive')"
      ],
      "execution_count": 0,
      "outputs": [
        {
          "output_type": "stream",
          "text": [
            "Drive already mounted at /content/drive; to attempt to forcibly remount, call drive.mount(\"/content/drive\", force_remount=True).\n"
          ],
          "name": "stdout"
        }
      ]
    },
    {
      "cell_type": "code",
      "metadata": {
        "id": "GF2ztdztqPZf",
        "colab_type": "code",
        "colab": {}
      },
      "source": [
        "import numpy as np\n",
        "\n",
        "cork_array = np.loadtxt('/content/drive/My Drive/00.Data/CorkRainfall.txt')\n",
        "# Test load for Cork rainfall data set.\n",
        "# print(cork_array)\n",
        "\n",
        "dublin_array = np.loadtxt('/content/drive/My Drive/00.Data/DublinRainfall.txt')\n",
        "# Test load for Dublin rainfall data set.\n",
        "# (dublin_array)"
      ],
      "execution_count": 0,
      "outputs": []
    },
    {
      "cell_type": "markdown",
      "metadata": {
        "id": "0RCULYnCsYGn",
        "colab_type": "text"
      },
      "source": [
        "Please use NumPy to answer the following questions. The objective of this task is to familiarize yourself with the operation of NumPy (there is no need to incorporate error checking)."
      ]
    },
    {
      "cell_type": "markdown",
      "metadata": {
        "id": "FqMs1RWgsgFu",
        "colab_type": "text"
      },
      "source": [
        "1.   Print out the max ‘Most Rainfall in a Day’ value and the average ‘Most Rainfall in a Day’ value for the Cork data (that is, obtain the maximum value contained in this column of data and the average value in this column of data)."
      ]
    },
    {
      "cell_type": "code",
      "metadata": {
        "id": "kdYIJfVVsyrf",
        "colab_type": "code",
        "outputId": "7afe1865-83fb-4648-fdbb-2c85bbabb428",
        "colab": {
          "base_uri": "https://localhost:8080/",
          "height": 51
        }
      },
      "source": [
        "# Solution to question 1\n",
        "\n",
        "print(\"Maximum Most Rainfall in a Day in Cork: \", np.max(cork_array[:,3]))\n",
        "print(\"Maximum Most Rainfall in a Day in Cork: \", round(np.mean(cork_array[:,3]),2))\n"
      ],
      "execution_count": 0,
      "outputs": [
        {
          "output_type": "stream",
          "text": [
            "Maximum Most Rainfall in a Day in Cork:  86.7\n",
            "Maximum Most Rainfall in a Day in Cork:  22.91\n"
          ],
          "name": "stdout"
        }
      ]
    },
    {
      "cell_type": "markdown",
      "metadata": {
        "id": "18ByWoeWs5b2",
        "colab_type": "text"
      },
      "source": [
        "2.   Display all unique years for which there is data in the dataset (you can use np.unique) Ask the user to select a specific year. You should then output the sum of the Rain Days column for that year (you do this by adding up the \"Number of rain days” for all 12 rows pertaining to the selected year).\n"
      ]
    },
    {
      "cell_type": "code",
      "metadata": {
        "id": "XA3Qgwm2tCmZ",
        "colab_type": "code",
        "outputId": "c7e894ce-3115-48d2-a9b4-2f2b39aba330",
        "colab": {
          "base_uri": "https://localhost:8080/",
          "height": 238
        }
      },
      "source": [
        "# Solution to question 2\n",
        "\n",
        "print(\"\\n\\nAll unique years for which rainfall data is recorded in Cork: \\n\\n\", np.unique(cork_array[:,0].astype(int)))\n",
        "\n",
        "year = int(input(\"\\n\\nEnter the year to display the total Rain Days: \"))\n",
        "\n",
        "if year in cork_array[:,0]:\n",
        "    # Use Boolean Array and a NumPy Array to slice data for the selection.\n",
        "    select = cork_array[:,0]==year\n",
        "    subset = cork_array[select,:][:,:]\n",
        "    print()\n",
        "    print(np.sum(subset[:,4].astype(int)),\"rainy days in\", year)\n",
        "else:\n",
        "    print(\"\\nNo data exists for the year provided.\")\n",
        "    "
      ],
      "execution_count": 0,
      "outputs": [
        {
          "output_type": "stream",
          "text": [
            "\n",
            "\n",
            "All unique years for which rainfall data is recorded in Cork: \n",
            "\n",
            " [1962 1963 1964 1965 1966 1967 1968 1969 1970 1971 1972 1973 1974 1975\n",
            " 1976 1977 1978 1979 1980 1981 1982 1983 1984 1985 1986 1987 1988 1989\n",
            " 1990 1991 1992 1993 1994 1995 1996 1997 1998 1999 2000 2001 2002 2003\n",
            " 2004 2005 2006 2007 2008 2009 2010 2011]\n",
            "\n",
            "\n",
            "Enter the year to display the total Rain Days: 1986\n",
            "\n",
            "231 rainy days in 1986\n"
          ],
          "name": "stdout"
        }
      ]
    },
    {
      "cell_type": "markdown",
      "metadata": {
        "id": "bfQAOCuVtzd4",
        "colab_type": "text"
      },
      "source": [
        "3.   Calculate the wettest month of the year in Cork based using the “Total Rainfall” value. The month that has the highest cumulative “Total Rainfall” value across all years should be classified as the wettest."
      ]
    },
    {
      "cell_type": "code",
      "metadata": {
        "id": "qWJHAfxut9rW",
        "colab_type": "code",
        "outputId": "3dba393f-c06f-4384-ae8c-20fdc439a921",
        "colab": {
          "base_uri": "https://localhost:8080/",
          "height": 51
        }
      },
      "source": [
        "# Solution to question 3\n",
        "\n",
        "max_val = 0\n",
        "max_month = 0\n",
        "for month in np.unique(cork_array[:,1]):\n",
        "    dataset = cork_array[:,1]==month\n",
        "    total = cork_array[dataset,:][:,:]\n",
        "    cummulative = np.sum(total[:,2])\n",
        "    if cummulative > max_val:\n",
        "        max_val = cummulative\n",
        "        max_month = month\n",
        "print(\"\\nMonth =\", max_month,\"is the wettest month of the year in Cork and has recorded\", max_val, \"mm rainfall over the years.\")\n"
      ],
      "execution_count": 0,
      "outputs": [
        {
          "output_type": "stream",
          "text": [
            "\n",
            "Month = 1.0 is the wettest month of the year in Cork and has recorded 6848.1 mm rainfall over the years.\n"
          ],
          "name": "stdout"
        }
      ]
    },
    {
      "cell_type": "markdown",
      "metadata": {
        "id": "WYCgjiaJulA-",
        "colab_type": "text"
      },
      "source": [
        "4.   This question focuses on the Number of Rain days column. The user is asked to enter a maximum threshold value for the number of rain days. Your code should then output the percentage of the time (percentage of rows in the dataset) where the number of rain days is less than or equal to the threshold value."
      ]
    },
    {
      "cell_type": "code",
      "metadata": {
        "id": "fhB54KOCuwye",
        "colab_type": "code",
        "outputId": "f1883101-67f2-4abb-c3c4-114c77997cc7",
        "colab": {
          "base_uri": "https://localhost:8080/",
          "height": 51
        }
      },
      "source": [
        "# Solution to question 4\n",
        "\n",
        "days = int(input(\"Enter a threshold number of days: \"))\n",
        "rain_days = cork_array[:,4] < days\n",
        "print(round(np.sum((cork_array[rain_days,:][:,4]))/np.sum((cork_array[:,4]))*100,2), \"% of the time Cork receives rain less than\", days, \"days in a month.\")\n"
      ],
      "execution_count": 0,
      "outputs": [
        {
          "output_type": "stream",
          "text": [
            "Enter a threshold number of days: 21\n",
            "60.28 % of the time Cork receives rain less than 21 days in a month.\n"
          ],
          "name": "stdout"
        }
      ]
    },
    {
      "cell_type": "markdown",
      "metadata": {
        "id": "c6b-i2XtvcKv",
        "colab_type": "text"
      },
      "source": [
        "5.   Calculate the average ‘total rainfall’ value for the summer months (June, July and August) and the Autumn months (Sept, Oct, Nov)."
      ]
    },
    {
      "cell_type": "code",
      "metadata": {
        "id": "Rsu9uLOrvjqH",
        "colab_type": "code",
        "outputId": "29d6e8ca-0030-477d-9f2c-90cfbf43ad87",
        "colab": {
          "base_uri": "https://localhost:8080/",
          "height": 85
        }
      },
      "source": [
        "# Solution to question 5\n",
        "\n",
        "summer_data = (cork_array[:,1].astype(int) > 5) & (cork_array[:,1].astype(int) < 9)\n",
        "print(\"\\nAverage rainfall in the summer for Cork is\", round(np.mean(cork_array[summer_data, :][:, 2]),2),\"mm.\")\n",
        "\n",
        "fall_data = (cork_array[:,1].astype(int) > 8) & (cork_array[:,1].astype(int) < 12)\n",
        "print(\"\\nAverage rainfall in the fall for Cork is\", round(np.mean(cork_array[fall_data, :][:, 2]),2),\"mm.\")\n"
      ],
      "execution_count": 0,
      "outputs": [
        {
          "output_type": "stream",
          "text": [
            "\n",
            "Average rainfall in the summer for Cork is 80.04 mm.\n",
            "\n",
            "Average rainfall in the fall for Cork is 114.46 mm.\n"
          ],
          "name": "stdout"
        }
      ]
    },
    {
      "cell_type": "markdown",
      "metadata": {
        "id": "PEpiI8_DwEkP",
        "colab_type": "text"
      },
      "source": [
        "6.   Read in the contents of the file DublinRainfall.txt into a NumPy array. Append the all rows from the Dublin array to the Cork NumPy array. Calculate the average number of raindays for the new array and write the new NumPy array to a CSV file."
      ]
    },
    {
      "cell_type": "code",
      "metadata": {
        "id": "3GoWrHwKwLlT",
        "colab_type": "code",
        "outputId": "81985e95-0b82-4562-94ea-95e5bcc7370e",
        "colab": {
          "base_uri": "https://localhost:8080/",
          "height": 51
        }
      },
      "source": [
        "# Solution to question 6\n",
        "\n",
        "full_array = np.vstack((cork_array, dublin_array))\n",
        "print(\"\\nAverage number of rainy days in Cork and Dublin: \", round(np.mean(full_array[:, 4]),2))\n",
        "\n",
        "# np.savetxt(\"/content/drive/My Drive/00.Data/Full_data.txt\", full_array, delimiter= ',')"
      ],
      "execution_count": 0,
      "outputs": [
        {
          "output_type": "stream",
          "text": [
            "\n",
            "Average number of rainy days in Cork and Dublin:  16.7\n"
          ],
          "name": "stdout"
        }
      ]
    }
  ]
}