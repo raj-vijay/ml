{
  "nbformat": 4,
  "nbformat_minor": 0,
  "metadata": {
    "colab": {
      "name": "04. Voting data k-NN Prediction Scikit-Learn.ipynb",
      "provenance": [],
      "include_colab_link": true
    },
    "kernelspec": {
      "name": "python3",
      "display_name": "Python 3"
    }
  },
  "cells": [
    {
      "cell_type": "markdown",
      "metadata": {
        "id": "view-in-github",
        "colab_type": "text"
      },
      "source": [
        "<a href=\"https://colab.research.google.com/github/raj-vijay/ml/blob/master/04_Voting_data_k-NN_Prediction_Scikit_Learn.ipynb\" target=\"_parent\"><img src=\"https://colab.research.google.com/assets/colab-badge.svg\" alt=\"Open In Colab\"/></a>"
      ]
    },
    {
      "cell_type": "markdown",
      "metadata": {
        "id": "M4gJkhkDcQS_",
        "colab_type": "text"
      },
      "source": [
        "**k-Nearest Neighbours on Congressional Voting Dataset**\n",
        "\n",
        "The Congressional Voting dataset is obtained from the UC Irvine (UCI) Machine Learning Repository. It consists of votes made by US House of Representatives Congressmen. The goal here is to predict the party affiliation ('Democrat' or 'Republican') of members based on how they voted on certain key issues using the k-Nearest Neighbours Algorithm.\n",
        "\n",
        "https://archive.ics.uci.edu/ml/datasets/Congressional+Voting+Records"
      ]
    },
    {
      "cell_type": "code",
      "metadata": {
        "id": "xRWxLHMScG5I",
        "colab_type": "code",
        "colab": {}
      },
      "source": [
        "import pandas as pd\n",
        "import numpy as np\n",
        "import seaborn as sns\n",
        "import matplotlib.pyplot as plt"
      ],
      "execution_count": 0,
      "outputs": []
    },
    {
      "cell_type": "markdown",
      "metadata": {
        "id": "UQy2pGOUc9fn",
        "colab_type": "text"
      },
      "source": [
        "**Load dataset**"
      ]
    },
    {
      "cell_type": "code",
      "metadata": {
        "id": "O2GMmd_zc70Y",
        "colab_type": "code",
        "colab": {
          "base_uri": "https://localhost:8080/",
          "height": 265
        },
        "outputId": "ddfe53c1-cefe-4377-8f0e-4ac548a7eb69"
      },
      "source": [
        "df = pd.read_csv('https://archive.ics.uci.edu/ml/machine-learning-databases/voting-records/house-votes-84.data', sep = ',',\n",
        "                 names = ['party',\t'infants', 'water',\t'budget',\t'physician', 'salvador', 'religious', 'satellite', 'aid', 'missile', 'immigration', 'synfuels', 'education', 'superfund', 'crime', 'duty_free_exports', 'eaa_rsa'])\n",
        "\n",
        "print(df)"
      ],
      "execution_count": 2,
      "outputs": [
        {
          "output_type": "stream",
          "text": [
            "          party infants water budget  ... superfund crime duty_free_exports eaa_rsa\n",
            "0    republican       n     y      n  ...         y     y                 n       y\n",
            "1    republican       n     y      n  ...         y     y                 n       ?\n",
            "2      democrat       ?     y      y  ...         y     y                 n       n\n",
            "3      democrat       n     y      y  ...         y     n                 n       y\n",
            "4      democrat       y     y      y  ...         y     y                 y       y\n",
            "..          ...     ...   ...    ...  ...       ...   ...               ...     ...\n",
            "430  republican       n     n      y  ...         y     y                 n       y\n",
            "431    democrat       n     n      y  ...         n     n                 n       y\n",
            "432  republican       n     ?      n  ...         y     y                 n       y\n",
            "433  republican       n     n      n  ...         y     y                 n       y\n",
            "434  republican       n     y      n  ...         y     y                 ?       n\n",
            "\n",
            "[435 rows x 17 columns]\n"
          ],
          "name": "stdout"
        }
      ]
    },
    {
      "cell_type": "markdown",
      "metadata": {
        "id": "lAw1rAJec34r",
        "colab_type": "text"
      },
      "source": [
        "**Pre-process the dataset**"
      ]
    },
    {
      "cell_type": "code",
      "metadata": {
        "id": "FAR_gkzodFh3",
        "colab_type": "code",
        "colab": {
          "base_uri": "https://localhost:8080/",
          "height": 265
        },
        "outputId": "20f483bd-ab94-4d18-d97d-7d6dcde1fb89"
      },
      "source": [
        "# Convert '?' to NaN\n",
        "df[df == '?'] = np.NaN\n",
        "df[df == 'y'] = np.ones(df.shape)\n",
        "df[df == 'n'] = np.zeros(df.shape)\n",
        "print(df)"
      ],
      "execution_count": 3,
      "outputs": [
        {
          "output_type": "stream",
          "text": [
            "          party infants water budget  ... superfund crime duty_free_exports eaa_rsa\n",
            "0    republican       0     1      0  ...         1     1                 0       1\n",
            "1    republican       0     1      0  ...         1     1                 0     NaN\n",
            "2      democrat     NaN     1      1  ...         1     1                 0       0\n",
            "3      democrat       0     1      1  ...         1     0                 0       1\n",
            "4      democrat       1     1      1  ...         1     1                 1       1\n",
            "..          ...     ...   ...    ...  ...       ...   ...               ...     ...\n",
            "430  republican       0     0      1  ...         1     1                 0       1\n",
            "431    democrat       0     0      1  ...         0     0                 0       1\n",
            "432  republican       0   NaN      0  ...         1     1                 0       1\n",
            "433  republican       0     0      0  ...         1     1                 0       1\n",
            "434  republican       0     1      0  ...         1     1               NaN       0\n",
            "\n",
            "[435 rows x 17 columns]\n"
          ],
          "name": "stdout"
        }
      ]
    },
    {
      "cell_type": "code",
      "metadata": {
        "id": "saJpmXtWfXxt",
        "colab_type": "code",
        "colab": {}
      },
      "source": [
        "# Drop missing values\n",
        "df = df.dropna()"
      ],
      "execution_count": 0,
      "outputs": []
    },
    {
      "cell_type": "markdown",
      "metadata": {
        "id": "QEa92jWDdOL_",
        "colab_type": "text"
      },
      "source": [
        "**Import k-NN (k Nearest Neighbours) algorithm**"
      ]
    },
    {
      "cell_type": "code",
      "metadata": {
        "id": "aj4IEzbDdVhJ",
        "colab_type": "code",
        "colab": {}
      },
      "source": [
        "from sklearn.neighbors import KNeighborsClassifier"
      ],
      "execution_count": 0,
      "outputs": []
    },
    {
      "cell_type": "markdown",
      "metadata": {
        "id": "mXoT8fn5eH1T",
        "colab_type": "text"
      },
      "source": [
        "**k-Nearest Neighbors: Fit**\n",
        "\n",
        "The following creates an instance of a k-NN classifier with 6 neighbors (by specifying the n_neighbors parameter) and then fits it to the data. \n",
        "\n",
        "Create arrays X and Y for the features and the target variable. \n",
        "\n",
        "The .drop() method is used to drop the target variable 'party' from the feature array X and the .values attribute is used to ensure X and Y are NumPy arrays. \n",
        "\n",
        "Without using .values, X and Y are a DataFrame and Series respectively. \n",
        "\n",
        "The scikit-learn API will only accept them in this form also as long as they are of the right shape. "
      ]
    },
    {
      "cell_type": "code",
      "metadata": {
        "id": "krkzWUxCfBAF",
        "colab_type": "code",
        "colab": {
          "base_uri": "https://localhost:8080/",
          "height": 70
        },
        "outputId": "4fa67bb8-f93d-4540-e520-ddcba5f0a826"
      },
      "source": [
        "# Create arrays for the features and the response variable\n",
        "Y = df['party'].values\n",
        "X = df.drop('party', axis=1).values\n",
        "\n",
        "# Create a k-NN classifier with 6 neighbors\n",
        "knn = KNeighborsClassifier(n_neighbors = 6)\n",
        "\n",
        "# Fit the classifier to the data\n",
        "knn.fit(X, Y)\n"
      ],
      "execution_count": 7,
      "outputs": [
        {
          "output_type": "execute_result",
          "data": {
            "text/plain": [
              "KNeighborsClassifier(algorithm='auto', leaf_size=30, metric='minkowski',\n",
              "                     metric_params=None, n_jobs=None, n_neighbors=6, p=2,\n",
              "                     weights='uniform')"
            ]
          },
          "metadata": {
            "tags": []
          },
          "execution_count": 7
        }
      ]
    },
    {
      "cell_type": "markdown",
      "metadata": {
        "id": "nJzckUlmfngF",
        "colab_type": "text"
      },
      "source": [
        "**k-Nearest Neighbors: Predict**\n",
        "\n",
        "Having fit the k-NN classifier, we can now use it to predict the label of a new data point. "
      ]
    },
    {
      "cell_type": "code",
      "metadata": {
        "id": "6J-Aan39h9DL",
        "colab_type": "code",
        "colab": {
          "base_uri": "https://localhost:8080/",
          "height": 727
        },
        "outputId": "972a9d57-e804-4f9c-ad78-ff226f1163fe"
      },
      "source": [
        "# Predict the labels for the training data X\n",
        "y_pred = knn.predict(X)\n",
        "print(y_pred)"
      ],
      "execution_count": 38,
      "outputs": [
        {
          "output_type": "stream",
          "text": [
            "['republican' 'republican' 'democrat' 'democrat' 'democrat' 'democrat'\n",
            " 'democrat' 'republican' 'democrat' 'republican' 'democrat' 'republican'\n",
            " 'democrat' 'republican' 'republican' 'republican' 'democrat' 'democrat'\n",
            " 'democrat' 'democrat' 'democrat' 'democrat' 'republican' 'republican'\n",
            " 'republican' 'republican' 'republican' 'republican' 'democrat'\n",
            " 'republican' 'republican' 'republican' 'democrat' 'democrat' 'republican'\n",
            " 'democrat' 'republican' 'republican' 'democrat' 'republican' 'republican'\n",
            " 'republican' 'republican' 'republican' 'republican' 'democrat' 'democrat'\n",
            " 'democrat' 'democrat' 'democrat' 'democrat' 'democrat' 'democrat'\n",
            " 'democrat' 'democrat' 'republican' 'democrat' 'democrat' 'republican'\n",
            " 'democrat' 'republican' 'republican' 'democrat' 'republican' 'republican'\n",
            " 'republican' 'democrat' 'democrat' 'republican' 'republican' 'republican'\n",
            " 'democrat' 'republican' 'democrat' 'republican' 'democrat' 'democrat'\n",
            " 'republican' 'republican' 'republican' 'republican' 'republican'\n",
            " 'democrat' 'republican' 'republican' 'republican' 'democrat' 'republican'\n",
            " 'democrat' 'democrat' 'democrat' 'democrat' 'democrat' 'democrat'\n",
            " 'democrat' 'democrat' 'democrat' 'democrat' 'democrat' 'democrat'\n",
            " 'democrat' 'republican' 'democrat' 'republican' 'democrat' 'democrat'\n",
            " 'republican' 'democrat' 'democrat' 'republican' 'republican' 'democrat'\n",
            " 'republican' 'democrat' 'republican' 'republican' 'republican'\n",
            " 'republican' 'republican' 'democrat' 'democrat' 'republican' 'democrat'\n",
            " 'democrat' 'democrat' 'republican' 'republican' 'democrat' 'republican'\n",
            " 'democrat' 'democrat' 'republican' 'democrat' 'democrat' 'democrat'\n",
            " 'democrat' 'republican' 'democrat' 'democrat' 'democrat' 'republican'\n",
            " 'republican' 'republican' 'republican' 'republican' 'democrat'\n",
            " 'republican' 'democrat' 'democrat' 'democrat' 'democrat' 'republican'\n",
            " 'democrat' 'democrat' 'republican' 'republican' 'republican' 'republican'\n",
            " 'republican' 'republican' 'democrat' 'republican' 'democrat' 'democrat'\n",
            " 'republican' 'republican' 'democrat' 'democrat' 'democrat' 'democrat'\n",
            " 'republican' 'democrat' 'republican' 'democrat' 'republican' 'democrat'\n",
            " 'democrat' 'democrat' 'republican' 'republican' 'republican' 'democrat'\n",
            " 'republican' 'republican' 'republican' 'republican' 'democrat'\n",
            " 'republican' 'republican' 'democrat' 'republican' 'republican' 'democrat'\n",
            " 'democrat' 'republican' 'republican' 'republican' 'democrat' 'republican'\n",
            " 'republican' 'republican' 'republican' 'republican' 'democrat'\n",
            " 'republican' 'republican' 'democrat' 'republican' 'democrat' 'democrat'\n",
            " 'republican' 'republican' 'republican' 'democrat' 'republican'\n",
            " 'republican' 'republican' 'democrat' 'republican' 'democrat' 'republican'\n",
            " 'democrat' 'democrat' 'democrat' 'republican' 'democrat' 'democrat'\n",
            " 'democrat' 'democrat' 'republican' 'republican' 'democrat']\n"
          ],
          "name": "stdout"
        }
      ]
    },
    {
      "cell_type": "markdown",
      "metadata": {
        "id": "tUIxZu4zl_q2",
        "colab_type": "text"
      },
      "source": [
        "To test the models ability to predict unseen data, a new random dataset is generated."
      ]
    },
    {
      "cell_type": "code",
      "metadata": {
        "id": "4fkH2EkSjFfU",
        "colab_type": "code",
        "colab": {
          "base_uri": "https://localhost:8080/",
          "height": 34
        },
        "outputId": "5d75bf6f-054a-47ba-ca2a-917a7a412abc"
      },
      "source": [
        "X_new = np.array([(0.696469, 0.286139, 0.226851, 0.551315, 0.719469, 0.423106, 0.980764, 0.68483, 0.480932, 0.392118, 0.343178, 0.72905, 0.438572, 0.059678, 0.398044, 0.737995)])\n",
        "X_new.shape"
      ],
      "execution_count": 36,
      "outputs": [
        {
          "output_type": "execute_result",
          "data": {
            "text/plain": [
              "(1, 16)"
            ]
          },
          "metadata": {
            "tags": []
          },
          "execution_count": 36
        }
      ]
    },
    {
      "cell_type": "markdown",
      "metadata": {
        "id": "UtvzIvtomTZa",
        "colab_type": "text"
      },
      "source": [
        "The k-NN prediction is now carried out on the new unseen dataset."
      ]
    },
    {
      "cell_type": "code",
      "metadata": {
        "id": "sW9GLp6jkQEi",
        "colab_type": "code",
        "colab": {
          "base_uri": "https://localhost:8080/",
          "height": 34
        },
        "outputId": "076e7857-6bfe-41e9-c1e3-039b7f946266"
      },
      "source": [
        "# Predict and print the label for the new data point X_new\n",
        "new_prediction = knn.predict(X_new)\n",
        "print(\"Prediction: {}\".format(new_prediction))"
      ],
      "execution_count": 35,
      "outputs": [
        {
          "output_type": "stream",
          "text": [
            "Prediction: ['democrat']\n"
          ],
          "name": "stdout"
        }
      ]
    }
  ]
}